{
 "cells": [
  {
   "cell_type": "markdown",
   "metadata": {},
   "source": [
    "This Notebook benchmarks read/write speeds for Arrow and Pandas.\n",
    "It is run on a ```Intel(R) Xeon(R) CPU E5-1650 v3 @ 3.50GHz``` / ```128GB RAM``` server with ```Ubuntu 22.04.1 LTS```.\n",
    "\n",
    "NOTE: Here we aren't accounting for the significantly faster arrow batch reading functions.\n",
    "\n",
    "# **Visualized Results @ end of notebook**"
   ]
  },
  {
   "cell_type": "code",
   "execution_count": 2,
   "metadata": {},
   "outputs": [],
   "source": [
    "import lib.io_ as io\n",
    "import pandas as pd\n",
    "from time import monotonic"
   ]
  },
  {
   "cell_type": "markdown",
   "metadata": {},
   "source": [
    "# READ TIME"
   ]
  },
  {
   "cell_type": "code",
   "execution_count": 9,
   "metadata": {},
   "outputs": [
    {
     "name": "stdout",
     "output_type": "stream",
     "text": [
      "CPU times: user 50.5 ms, sys: 0 ns, total: 50.5 ms\n",
      "Wall time: 49 ms\n"
     ]
    }
   ],
   "source": [
    "%%time\n",
    "start_pandas_read = monotonic()\n",
    "df = io.load_path_pandas('/data/mlhd-zstd/d3/d38db397-d7b6-47fd-b57b-d2ba0001374e.csv.zst')\n",
    "end_pandas_read = monotonic()"
   ]
  },
  {
   "cell_type": "code",
   "execution_count": 10,
   "metadata": {},
   "outputs": [
    {
     "name": "stdout",
     "output_type": "stream",
     "text": [
      "CPU times: user 43.3 ms, sys: 24.1 ms, total: 67.4 ms\n",
      "Wall time: 34.2 ms\n"
     ]
    }
   ],
   "source": [
    "%%time\n",
    "start_arrow_read = monotonic()\n",
    "df_arrow = io.load_path('/data/mlhd-zstd/d3/d38db397-d7b6-47fd-b57b-d2ba0001374e.csv.zst')\n",
    "end_arrow_read = monotonic()"
   ]
  },
  {
   "cell_type": "code",
   "execution_count": 11,
   "metadata": {},
   "outputs": [
    {
     "name": "stdout",
     "output_type": "stream",
     "text": [
      "CPU times: user 3.17 s, sys: 123 ms, total: 3.29 s\n",
      "Wall time: 3.29 s\n"
     ]
    }
   ],
   "source": [
    "%%time\n",
    "start_pandas_batch_read = monotonic()\n",
    "df_load_path_file = io.load_path_file_pandas('/home/snaek/MLHD/warehouse/samples/random_file_paths.txt')\n",
    "end_pandas_batch_read = monotonic()"
   ]
  },
  {
   "cell_type": "code",
   "execution_count": 12,
   "metadata": {},
   "outputs": [
    {
     "name": "stdout",
     "output_type": "stream",
     "text": [
      "CPU times: user 4.18 s, sys: 445 ms, total: 4.62 s\n",
      "Wall time: 2.74 s\n"
     ]
    }
   ],
   "source": [
    "%%time\n",
    "start_arrow_batch_read = monotonic()\n",
    "df_load_path_file_arrow = io.load_path_file('/home/snaek/MLHD/warehouse/samples/random_file_paths.txt')\n",
    "end_arrow_batch_read = monotonic()"
   ]
  },
  {
   "cell_type": "markdown",
   "metadata": {},
   "source": [
    "# WRITE TIME"
   ]
  },
  {
   "cell_type": "code",
   "execution_count": 17,
   "metadata": {},
   "outputs": [
    {
     "data": {
      "text/html": [
       "<div>\n",
       "<style scoped>\n",
       "    .dataframe tbody tr th:only-of-type {\n",
       "        vertical-align: middle;\n",
       "    }\n",
       "\n",
       "    .dataframe tbody tr th {\n",
       "        vertical-align: top;\n",
       "    }\n",
       "\n",
       "    .dataframe thead th {\n",
       "        text-align: right;\n",
       "    }\n",
       "</style>\n",
       "<table border=\"1\" class=\"dataframe\">\n",
       "  <thead>\n",
       "    <tr style=\"text-align: right;\">\n",
       "      <th></th>\n",
       "      <th>timestamp</th>\n",
       "      <th>artist_MBID</th>\n",
       "      <th>release_MBID</th>\n",
       "      <th>recording_MBID</th>\n",
       "    </tr>\n",
       "  </thead>\n",
       "  <tbody>\n",
       "    <tr>\n",
       "      <th>0</th>\n",
       "      <td>1242583679</td>\n",
       "      <td>ba85753c-671a-409e-b813-1e3be41e2a2e</td>\n",
       "      <td>0a2d7193-fc4b-418c-8581-08d2695f884a</td>\n",
       "      <td>0d7960f0-ee33-4868-8e9e-7c705558b6e5</td>\n",
       "    </tr>\n",
       "    <tr>\n",
       "      <th>1</th>\n",
       "      <td>1242583969</td>\n",
       "      <td>f660d7e2-a3bd-4456-a7be-86ec139c1016</td>\n",
       "      <td>6ecac165-0267-3822-b995-cda1282ea5b5</td>\n",
       "      <td>6afc8617-d545-4629-8151-9ee9d71c4742</td>\n",
       "    </tr>\n",
       "    <tr>\n",
       "      <th>2</th>\n",
       "      <td>1242584191</td>\n",
       "      <td>371f152d-1643-4b54-b32b-dd13d4c23442</td>\n",
       "      <td>59c844ca-4c11-452d-8330-c107892319eb</td>\n",
       "      <td>e2477990-d9b1-43b6-b8db-be03e43559c4</td>\n",
       "    </tr>\n",
       "    <tr>\n",
       "      <th>3</th>\n",
       "      <td>1242584530</td>\n",
       "      <td>98fb7792-01fa-4ed1-a15d-20077a47210f</td>\n",
       "      <td>NaN</td>\n",
       "      <td>1fdcf214-b4d5-4490-8626-5afeda04b73d</td>\n",
       "    </tr>\n",
       "    <tr>\n",
       "      <th>4</th>\n",
       "      <td>1242584820</td>\n",
       "      <td>d50a4b89-ff1f-4659-9fde-f76f8d5b3c89</td>\n",
       "      <td>NaN</td>\n",
       "      <td>657cf27c-8f4a-4758-aaaa-bd5686d7e103</td>\n",
       "    </tr>\n",
       "    <tr>\n",
       "      <th>...</th>\n",
       "      <td>...</td>\n",
       "      <td>...</td>\n",
       "      <td>...</td>\n",
       "      <td>...</td>\n",
       "    </tr>\n",
       "    <tr>\n",
       "      <th>105041</th>\n",
       "      <td>1362539926</td>\n",
       "      <td>e61ce7e2-f78d-4fee-ac56-ef1a784c87fa</td>\n",
       "      <td>331c66e6-c230-455b-b84c-3a81d24b55fb</td>\n",
       "      <td>724801b2-8540-4619-8c90-2d3ad30275da</td>\n",
       "    </tr>\n",
       "    <tr>\n",
       "      <th>105042</th>\n",
       "      <td>1362540203</td>\n",
       "      <td>e61ce7e2-f78d-4fee-ac56-ef1a784c87fa</td>\n",
       "      <td>331c66e6-c230-455b-b84c-3a81d24b55fb</td>\n",
       "      <td>94c5fb28-66e1-49cf-8cdd-3d876683eef6</td>\n",
       "    </tr>\n",
       "    <tr>\n",
       "      <th>105043</th>\n",
       "      <td>1362540416</td>\n",
       "      <td>e61ce7e2-f78d-4fee-ac56-ef1a784c87fa</td>\n",
       "      <td>331c66e6-c230-455b-b84c-3a81d24b55fb</td>\n",
       "      <td>2de962ae-b1e0-46d1-80d8-25dfe55f87ff</td>\n",
       "    </tr>\n",
       "    <tr>\n",
       "      <th>105044</th>\n",
       "      <td>1362540609</td>\n",
       "      <td>e61ce7e2-f78d-4fee-ac56-ef1a784c87fa</td>\n",
       "      <td>331c66e6-c230-455b-b84c-3a81d24b55fb</td>\n",
       "      <td>NaN</td>\n",
       "    </tr>\n",
       "    <tr>\n",
       "      <th>105045</th>\n",
       "      <td>1362541410</td>\n",
       "      <td>e61ce7e2-f78d-4fee-ac56-ef1a784c87fa</td>\n",
       "      <td>331c66e6-c230-455b-b84c-3a81d24b55fb</td>\n",
       "      <td>NaN</td>\n",
       "    </tr>\n",
       "  </tbody>\n",
       "</table>\n",
       "<p>105046 rows × 4 columns</p>\n",
       "</div>"
      ],
      "text/plain": [
       "         timestamp                           artist_MBID  \\\n",
       "0       1242583679  ba85753c-671a-409e-b813-1e3be41e2a2e   \n",
       "1       1242583969  f660d7e2-a3bd-4456-a7be-86ec139c1016   \n",
       "2       1242584191  371f152d-1643-4b54-b32b-dd13d4c23442   \n",
       "3       1242584530  98fb7792-01fa-4ed1-a15d-20077a47210f   \n",
       "4       1242584820  d50a4b89-ff1f-4659-9fde-f76f8d5b3c89   \n",
       "...            ...                                   ...   \n",
       "105041  1362539926  e61ce7e2-f78d-4fee-ac56-ef1a784c87fa   \n",
       "105042  1362540203  e61ce7e2-f78d-4fee-ac56-ef1a784c87fa   \n",
       "105043  1362540416  e61ce7e2-f78d-4fee-ac56-ef1a784c87fa   \n",
       "105044  1362540609  e61ce7e2-f78d-4fee-ac56-ef1a784c87fa   \n",
       "105045  1362541410  e61ce7e2-f78d-4fee-ac56-ef1a784c87fa   \n",
       "\n",
       "                                release_MBID  \\\n",
       "0       0a2d7193-fc4b-418c-8581-08d2695f884a   \n",
       "1       6ecac165-0267-3822-b995-cda1282ea5b5   \n",
       "2       59c844ca-4c11-452d-8330-c107892319eb   \n",
       "3                                        NaN   \n",
       "4                                        NaN   \n",
       "...                                      ...   \n",
       "105041  331c66e6-c230-455b-b84c-3a81d24b55fb   \n",
       "105042  331c66e6-c230-455b-b84c-3a81d24b55fb   \n",
       "105043  331c66e6-c230-455b-b84c-3a81d24b55fb   \n",
       "105044  331c66e6-c230-455b-b84c-3a81d24b55fb   \n",
       "105045  331c66e6-c230-455b-b84c-3a81d24b55fb   \n",
       "\n",
       "                              recording_MBID  \n",
       "0       0d7960f0-ee33-4868-8e9e-7c705558b6e5  \n",
       "1       6afc8617-d545-4629-8151-9ee9d71c4742  \n",
       "2       e2477990-d9b1-43b6-b8db-be03e43559c4  \n",
       "3       1fdcf214-b4d5-4490-8626-5afeda04b73d  \n",
       "4       657cf27c-8f4a-4758-aaaa-bd5686d7e103  \n",
       "...                                      ...  \n",
       "105041  724801b2-8540-4619-8c90-2d3ad30275da  \n",
       "105042  94c5fb28-66e1-49cf-8cdd-3d876683eef6  \n",
       "105043  2de962ae-b1e0-46d1-80d8-25dfe55f87ff  \n",
       "105044                                   NaN  \n",
       "105045                                   NaN  \n",
       "\n",
       "[105046 rows x 4 columns]"
      ]
     },
     "execution_count": 17,
     "metadata": {},
     "output_type": "execute_result"
    }
   ],
   "source": [
    "## Setting Up config\n",
    "import config\n",
    "ENV = {name: values for name, values in vars(config).items() if not name.startswith(\"__\")}\n",
    "\n",
    "paths = io.generate_paths(ENV['MLHD_ROOT'])\n",
    "\n",
    "df = io.load_path(paths[50])\n",
    "df"
   ]
  },
  {
   "cell_type": "code",
   "execution_count": 18,
   "metadata": {},
   "outputs": [
    {
     "name": "stdout",
     "output_type": "stream",
     "text": [
      "CPU times: user 585 ms, sys: 0 ns, total: 585 ms\n",
      "Wall time: 583 ms\n"
     ]
    }
   ],
   "source": [
    "%%time\n",
    "start_write_pandas = monotonic()\n",
    "io.write_frame_pandas(df, original_path = paths[50]+'_pandas')\n",
    "end_write_pandas = monotonic()"
   ]
  },
  {
   "cell_type": "code",
   "execution_count": 19,
   "metadata": {},
   "outputs": [
    {
     "name": "stdout",
     "output_type": "stream",
     "text": [
      "CPU times: user 50.4 ms, sys: 20 ms, total: 70.3 ms\n",
      "Wall time: 81.2 ms\n"
     ]
    }
   ],
   "source": [
    "%%time\n",
    "start_write_arrow = monotonic()\n",
    "io.write_frame(df, original_path = paths[50]+'_arrow')\n",
    "end_write_arrow = monotonic() "
   ]
  },
  {
   "cell_type": "markdown",
   "metadata": {},
   "source": [
    "# VISUALIZATIONS"
   ]
  },
  {
   "cell_type": "code",
   "execution_count": 23,
   "metadata": {},
   "outputs": [],
   "source": [
    "import matplotlib.pyplot as plt\n",
    "import numpy as np"
   ]
  },
  {
   "cell_type": "code",
   "execution_count": 30,
   "metadata": {},
   "outputs": [],
   "source": [
    "labels = [\n",
    "    'READ', \n",
    "    'BATCH_READ', \n",
    "    'WRITE']\n",
    "\n",
    "pandas_times = [\n",
    "    round(end_pandas_read - start_pandas_read, 3),\n",
    "    round(end_pandas_batch_read - start_pandas_batch_read, 3),\n",
    "    round(end_write_pandas - start_write_pandas, 3)\n",
    "    ]\n",
    "\n",
    "arrow_times = [\n",
    "    round(end_arrow_read - start_arrow_read, 3),\n",
    "    round(end_arrow_batch_read - start_arrow_batch_read, 3),\n",
    "    round(end_write_arrow - start_write_arrow, 3)\n",
    "    ]"
   ]
  },
  {
   "cell_type": "code",
   "execution_count": 103,
   "metadata": {},
   "outputs": [
    {
     "data": {
      "image/png": "[encoded data removed]",
      "text/plain": [
       "<Figure size 432x288 with 1 Axes>"
      ]
     },
     "metadata": {
      "needs_background": "light"
     },
     "output_type": "display_data"
    }
   ],
   "source": [
    "x = np.arange(len(labels))  # the label locations\n",
    "width = 0.35  # the width of the bars\n",
    "\n",
    "fig, ax = plt.subplots()\n",
    "rects1 = ax.bar(x - width/2, pandas_times, width, label='pandas')\n",
    "rects2 = ax.bar(x + width/2, arrow_times, width, label='arrow')\n",
    "\n",
    "ax.set_ylabel('Time (s) - Lower is Better')\n",
    "ax.set_title('Operation')\n",
    "ax.set_xticks(x, labels)\n",
    "ax.legend()\n",
    "\n",
    "ax.bar_label(rects1, padding=3)\n",
    "ax.bar_label(rects2, padding=3)\n",
    "\n",
    "fig.tight_layout()\n",
    "\n",
    "plt.title('Pandas vs Arrow time comparision')\n",
    "plt.show()"
   ]
  },
  {
   "cell_type": "code",
   "execution_count": 104,
   "metadata": {},
   "outputs": [
    {
     "data": {
      "text/plain": [
       "<Figure size 432x288 with 0 Axes>"
      ]
     },
     "metadata": {},
     "output_type": "display_data"
    },
    {
     "data": {
      "image/png": "[encoded data removed]",
      "text/plain": [
       "<Figure size 432x288 with 1 Axes>"
      ]
     },
     "metadata": {
      "needs_background": "light"
     },
     "output_type": "display_data"
    }
   ],
   "source": [
    "plt.figure()\n",
    "\n",
    "improvement_calculator = lambda x, y: round((x - y) / x * 100, 2)\n",
    "percent_improvements = [(improvement_calculator(x, y)) for x, y in zip(pandas_times, arrow_times)]\n",
    "labels = ['READ', 'BATCH_READ', 'WRITE']\n",
    "\n",
    "fig, ax = plt.subplots()\n",
    "rects = ax.bar(x, percent_improvements, width)\n",
    "\n",
    "ax.set_ylabel('% Improvement - Higher is Better')\n",
    "ax.set_title('Operation')\n",
    "ax.set_xticks(x, labels)\n",
    "\n",
    "ax.bar_label(rects, padding=3)\n",
    "\n",
    "fig.tight_layout()\n",
    "\n",
    "plt.title('Arrow % Improvement over Pandas')\n",
    "plt.show()"
   ]
  }
 ],
 "metadata": {
  "kernelspec": {
   "display_name": "Python 3.8.10 ('env': venv)",
   "language": "python",
   "name": "python3"
  },
  "language_info": {
   "codemirror_mode": {
    "name": "ipython",
    "version": 3
   },
   "file_extension": ".py",
   "mimetype": "text/x-python",
   "name": "python",
   "nbconvert_exporter": "python",
   "pygments_lexer": "ipython3",
   "version": "3.8.10"
  },
  "orig_nbformat": 4,
  "vscode": {
   "interpreter": {
    "hash": "99207027a3abb1e120e2013d5a83e642456faefc5cbc1acefa0d682e37a8f4b0"
   }
  }
 },
 "nbformat": 4,
 "nbformat_minor": 2
}
