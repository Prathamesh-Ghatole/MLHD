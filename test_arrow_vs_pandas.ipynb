{
 "cells": [
  {
   "cell_type": "markdown",
   "metadata": {},
   "source": [
    "This Notebook benchmarks read/write speeds for Arrow and Pandas.\n",
    "It is run on a ```Intel(R) Xeon(R) CPU E5-1650 v3 @ 3.50GHz``` / ```128GB RAM``` server with ```Ubuntu 22.04.1 LTS```.\n",
    "\n",
    "NOTE: Here we aren't accounting for the significantly faster arrow batch reading functions.\n",
    "\n",
    "# **Visualized Results @ end of notebook**"
   ]
  },
  {
   "cell_type": "code",
   "execution_count": 1,
   "metadata": {},
   "outputs": [],
   "source": [
    "import lib.io_ as io\n",
    "import pandas as pd\n",
    "from time import monotonic"
   ]
  },
  {
   "cell_type": "markdown",
   "metadata": {},
   "source": [
    "# READ TIME"
   ]
  },
  {
   "cell_type": "code",
   "execution_count": 2,
   "metadata": {},
   "outputs": [
    {
     "name": "stdout",
     "output_type": "stream",
     "text": [
      "CPU times: user 59.9 ms, sys: 12.2 ms, total: 72.1 ms\n",
      "Wall time: 128 ms\n"
     ]
    }
   ],
   "source": [
    "%%time\n",
    "start_pandas_read = monotonic()\n",
    "df = io.load_path_pandas('/data/mlhd-zstd/d3/d38db397-d7b6-47fd-b57b-d2ba0001374e.csv.zst')\n",
    "end_pandas_read = monotonic()"
   ]
  },
  {
   "cell_type": "code",
   "execution_count": 3,
   "metadata": {},
   "outputs": [
    {
     "name": "stdout",
     "output_type": "stream",
     "text": [
      "CPU times: user 57.4 ms, sys: 21.3 ms, total: 78.7 ms\n",
      "Wall time: 36.5 ms\n"
     ]
    }
   ],
   "source": [
    "%%time\n",
    "start_arrow_read = monotonic()\n",
    "df_arrow = io.load_path('/data/mlhd-zstd/d3/d38db397-d7b6-47fd-b57b-d2ba0001374e.csv.zst')\n",
    "end_arrow_read = monotonic()"
   ]
  },
  {
   "cell_type": "code",
   "execution_count": 4,
   "metadata": {},
   "outputs": [
    {
     "name": "stdout",
     "output_type": "stream",
     "text": [
      "CPU times: user 4.06 s, sys: 457 ms, total: 4.52 s\n",
      "Wall time: 7.31 s\n"
     ]
    }
   ],
   "source": [
    "%%time\n",
    "start_pandas_batch_read = monotonic()\n",
    "df_load_path_file = io.load_path_file_pandas('/home/snaek/MLHD/warehouse/samples/random_file_paths.txt')\n",
    "end_pandas_batch_read = monotonic()"
   ]
  },
  {
   "cell_type": "code",
   "execution_count": 5,
   "metadata": {},
   "outputs": [
    {
     "name": "stdout",
     "output_type": "stream",
     "text": [
      "CPU times: user 4.28 s, sys: 451 ms, total: 4.73 s\n",
      "Wall time: 2.84 s\n"
     ]
    }
   ],
   "source": [
    "%%time\n",
    "start_arrow_batch_read = monotonic()\n",
    "df_load_path_file_arrow = io.load_path_file('/home/snaek/MLHD/warehouse/samples/random_file_paths.txt')\n",
    "end_arrow_batch_read = monotonic()"
   ]
  },
  {
   "cell_type": "markdown",
   "metadata": {},
   "source": [
    "# WRITE TIME"
   ]
  },
  {
   "cell_type": "code",
   "execution_count": 6,
   "metadata": {},
   "outputs": [
    {
     "data": {
      "text/html": [
       "<div>\n",
       "<style scoped>\n",
       "    .dataframe tbody tr th:only-of-type {\n",
       "        vertical-align: middle;\n",
       "    }\n",
       "\n",
       "    .dataframe tbody tr th {\n",
       "        vertical-align: top;\n",
       "    }\n",
       "\n",
       "    .dataframe thead th {\n",
       "        text-align: right;\n",
       "    }\n",
       "</style>\n",
       "<table border=\"1\" class=\"dataframe\">\n",
       "  <thead>\n",
       "    <tr style=\"text-align: right;\">\n",
       "      <th></th>\n",
       "      <th>timestamp</th>\n",
       "      <th>artist_MBID</th>\n",
       "      <th>release_MBID</th>\n",
       "      <th>recording_MBID</th>\n",
       "    </tr>\n",
       "  </thead>\n",
       "  <tbody>\n",
       "    <tr>\n",
       "      <th>0</th>\n",
       "      <td>1252134466</td>\n",
       "      <td>084308bd-1654-436f-ba03-df6697104e19</td>\n",
       "      <td>73073de8-e725-3a49-8e79-35dd5ef29b98</td>\n",
       "      <td>3b251004-2ce3-47be-b238-bd436157b417</td>\n",
       "    </tr>\n",
       "    <tr>\n",
       "      <th>1</th>\n",
       "      <td>1252134833</td>\n",
       "      <td>d02408f2-bf08-4246-8c91-5d5427ee9779</td>\n",
       "      <td>NaN</td>\n",
       "      <td>NaN</td>\n",
       "    </tr>\n",
       "    <tr>\n",
       "      <th>2</th>\n",
       "      <td>1252135049</td>\n",
       "      <td>29a24426-9888-4f8d-8cd8-ccd2c693a2bb</td>\n",
       "      <td>NaN</td>\n",
       "      <td>NaN</td>\n",
       "    </tr>\n",
       "    <tr>\n",
       "      <th>3</th>\n",
       "      <td>1252135298</td>\n",
       "      <td>183e636e-d41c-43fe-a428-8a034eb20c7b</td>\n",
       "      <td>NaN</td>\n",
       "      <td>98fde7e4-dea1-4841-aff5-addf3fac402b</td>\n",
       "    </tr>\n",
       "    <tr>\n",
       "      <th>4</th>\n",
       "      <td>1252135520</td>\n",
       "      <td>9df8afd8-eec6-4bcc-a7e3-ebc0265331ec</td>\n",
       "      <td>NaN</td>\n",
       "      <td>NaN</td>\n",
       "    </tr>\n",
       "    <tr>\n",
       "      <th>...</th>\n",
       "      <td>...</td>\n",
       "      <td>...</td>\n",
       "      <td>...</td>\n",
       "      <td>...</td>\n",
       "    </tr>\n",
       "    <tr>\n",
       "      <th>68432</th>\n",
       "      <td>1362903803</td>\n",
       "      <td>183e636e-d41c-43fe-a428-8a034eb20c7b</td>\n",
       "      <td>239f682c-0c16-3941-b35e-10ac11ba65f9</td>\n",
       "      <td>0025d84d-54b7-458b-aa79-69041449c274</td>\n",
       "    </tr>\n",
       "    <tr>\n",
       "      <th>68433</th>\n",
       "      <td>1362960780</td>\n",
       "      <td>0307edfc-437c-4b48-8700-80680e66a228</td>\n",
       "      <td>NaN</td>\n",
       "      <td>0c25ca58-dc83-4b1d-af9d-6836188cd9ea</td>\n",
       "    </tr>\n",
       "    <tr>\n",
       "      <th>68434</th>\n",
       "      <td>1362961027</td>\n",
       "      <td>d4732838-5baa-4d62-b7ce-8bcee6c68404</td>\n",
       "      <td>bad7b046-02dc-4978-99ac-ba193384791d</td>\n",
       "      <td>698e0cc5-a0d8-48be-ab86-a0a272a19b2f</td>\n",
       "    </tr>\n",
       "    <tr>\n",
       "      <th>68435</th>\n",
       "      <td>1362961475</td>\n",
       "      <td>144ef525-85e9-40c3-8335-02c32d0861f3</td>\n",
       "      <td>44c90aa3-3228-4d14-99e2-1f367e54b0b2</td>\n",
       "      <td>062441be-f803-4ade-8766-c68af8f70455</td>\n",
       "    </tr>\n",
       "    <tr>\n",
       "      <th>68436</th>\n",
       "      <td>1362961676</td>\n",
       "      <td>144ef525-85e9-40c3-8335-02c32d0861f3</td>\n",
       "      <td>3b5f65d8-e4c9-4c0b-b932-529f0b191d5b</td>\n",
       "      <td>8961a43c-bbc4-41ed-9231-4b1dbaa2b287</td>\n",
       "    </tr>\n",
       "  </tbody>\n",
       "</table>\n",
       "<p>68437 rows × 4 columns</p>\n",
       "</div>"
      ],
      "text/plain": [
       "        timestamp                           artist_MBID  \\\n",
       "0      1252134466  084308bd-1654-436f-ba03-df6697104e19   \n",
       "1      1252134833  d02408f2-bf08-4246-8c91-5d5427ee9779   \n",
       "2      1252135049  29a24426-9888-4f8d-8cd8-ccd2c693a2bb   \n",
       "3      1252135298  183e636e-d41c-43fe-a428-8a034eb20c7b   \n",
       "4      1252135520  9df8afd8-eec6-4bcc-a7e3-ebc0265331ec   \n",
       "...           ...                                   ...   \n",
       "68432  1362903803  183e636e-d41c-43fe-a428-8a034eb20c7b   \n",
       "68433  1362960780  0307edfc-437c-4b48-8700-80680e66a228   \n",
       "68434  1362961027  d4732838-5baa-4d62-b7ce-8bcee6c68404   \n",
       "68435  1362961475  144ef525-85e9-40c3-8335-02c32d0861f3   \n",
       "68436  1362961676  144ef525-85e9-40c3-8335-02c32d0861f3   \n",
       "\n",
       "                               release_MBID  \\\n",
       "0      73073de8-e725-3a49-8e79-35dd5ef29b98   \n",
       "1                                       NaN   \n",
       "2                                       NaN   \n",
       "3                                       NaN   \n",
       "4                                       NaN   \n",
       "...                                     ...   \n",
       "68432  239f682c-0c16-3941-b35e-10ac11ba65f9   \n",
       "68433                                   NaN   \n",
       "68434  bad7b046-02dc-4978-99ac-ba193384791d   \n",
       "68435  44c90aa3-3228-4d14-99e2-1f367e54b0b2   \n",
       "68436  3b5f65d8-e4c9-4c0b-b932-529f0b191d5b   \n",
       "\n",
       "                             recording_MBID  \n",
       "0      3b251004-2ce3-47be-b238-bd436157b417  \n",
       "1                                       NaN  \n",
       "2                                       NaN  \n",
       "3      98fde7e4-dea1-4841-aff5-addf3fac402b  \n",
       "4                                       NaN  \n",
       "...                                     ...  \n",
       "68432  0025d84d-54b7-458b-aa79-69041449c274  \n",
       "68433  0c25ca58-dc83-4b1d-af9d-6836188cd9ea  \n",
       "68434  698e0cc5-a0d8-48be-ab86-a0a272a19b2f  \n",
       "68435  062441be-f803-4ade-8766-c68af8f70455  \n",
       "68436  8961a43c-bbc4-41ed-9231-4b1dbaa2b287  \n",
       "\n",
       "[68437 rows x 4 columns]"
      ]
     },
     "execution_count": 6,
     "metadata": {},
     "output_type": "execute_result"
    }
   ],
   "source": [
    "## Setting Up config\n",
    "import config\n",
    "ENV = {name: values for name, values in vars(config).items() if not name.startswith(\"__\")}\n",
    "\n",
    "paths = io.generate_paths(ENV['MLHD_ROOT'])\n",
    "\n",
    "df = io.load_path(paths[50])\n",
    "df"
   ]
  },
  {
   "cell_type": "code",
   "execution_count": 7,
   "metadata": {},
   "outputs": [
    {
     "name": "stdout",
     "output_type": "stream",
     "text": [
      "CPU times: user 415 ms, sys: 12.3 ms, total: 427 ms\n",
      "Wall time: 442 ms\n"
     ]
    }
   ],
   "source": [
    "%%time\n",
    "start_write_pandas = monotonic()\n",
    "io.write_frame_pandas(df, original_path = paths[50]+'_pandas')\n",
    "end_write_pandas = monotonic()"
   ]
  },
  {
   "cell_type": "code",
   "execution_count": 8,
   "metadata": {},
   "outputs": [
    {
     "name": "stdout",
     "output_type": "stream",
     "text": [
      "CPU times: user 47.8 ms, sys: 7.97 ms, total: 55.8 ms\n",
      "Wall time: 52.6 ms\n"
     ]
    }
   ],
   "source": [
    "%%time\n",
    "start_write_arrow = monotonic()\n",
    "io.write_frame(df, original_path = paths[50]+'_arrow')\n",
    "end_write_arrow = monotonic() "
   ]
  },
  {
   "cell_type": "markdown",
   "metadata": {},
   "source": [
    "# VISUALIZATIONS"
   ]
  },
  {
   "cell_type": "code",
   "execution_count": 9,
   "metadata": {},
   "outputs": [],
   "source": [
    "import matplotlib.pyplot as plt\n",
    "import numpy as np"
   ]
  },
  {
   "cell_type": "code",
   "execution_count": 10,
   "metadata": {},
   "outputs": [],
   "source": [
    "labels = [\n",
    "    'READ', \n",
    "    'BATCH_READ', \n",
    "    'WRITE']\n",
    "\n",
    "pandas_times = [\n",
    "    round(end_pandas_read - start_pandas_read, 3),\n",
    "    round(end_pandas_batch_read - start_pandas_batch_read, 3),\n",
    "    round(end_write_pandas - start_write_pandas, 3)\n",
    "    ]\n",
    "\n",
    "arrow_times = [\n",
    "    round(end_arrow_read - start_arrow_read, 3),\n",
    "    round(end_arrow_batch_read - start_arrow_batch_read, 3),\n",
    "    round(end_write_arrow - start_write_arrow, 3)\n",
    "    ]"
   ]
  },
  {
   "cell_type": "code",
   "execution_count": 11,
   "metadata": {},
   "outputs": [
    {
     "data": {
      "image/png": "[encoded data removed]",
      "text/plain": [
       "<Figure size 432x288 with 1 Axes>"
      ]
     },
     "metadata": {
      "needs_background": "light"
     },
     "output_type": "display_data"
    }
   ],
   "source": [
    "x = np.arange(len(labels))  # the label locations\n",
    "width = 0.35  # the width of the bars\n",
    "\n",
    "fig, ax = plt.subplots()\n",
    "rects1 = ax.bar(x - width/2, pandas_times, width, label='pandas')\n",
    "rects2 = ax.bar(x + width/2, arrow_times, width, label='arrow')\n",
    "\n",
    "ax.set_ylabel('Time (s) - Lower is Better')\n",
    "ax.set_title('Operation')\n",
    "ax.set_xticks(x, labels)\n",
    "ax.legend()\n",
    "\n",
    "ax.bar_label(rects1, padding=3)\n",
    "ax.bar_label(rects2, padding=3)\n",
    "\n",
    "fig.tight_layout()\n",
    "\n",
    "plt.title('Pandas vs Arrow time comparision')\n",
    "plt.show()"
   ]
  },
  {
   "cell_type": "code",
   "execution_count": 12,
   "metadata": {},
   "outputs": [
    {
     "data": {
      "text/plain": [
       "<Figure size 432x288 with 0 Axes>"
      ]
     },
     "metadata": {},
     "output_type": "display_data"
    },
    {
     "data": {
      "image/png": "[encoded data removed]",
      "text/plain": [
       "<Figure size 432x288 with 1 Axes>"
      ]
     },
     "metadata": {
      "needs_background": "light"
     },
     "output_type": "display_data"
    }
   ],
   "source": [
    "plt.figure()\n",
    "\n",
    "improvement_calculator = lambda x, y: round((x - y) / x * 100, 2)\n",
    "percent_improvements = [(improvement_calculator(x, y)) for x, y in zip(pandas_times, arrow_times)]\n",
    "labels = ['READ', 'BATCH_READ', 'WRITE']\n",
    "\n",
    "fig, ax = plt.subplots()\n",
    "rects = ax.bar(x, percent_improvements, width)\n",
    "\n",
    "ax.set_ylabel('% Improvement - Higher is Better')\n",
    "ax.set_title('Operation')\n",
    "ax.set_xticks(x, labels)\n",
    "\n",
    "ax.bar_label(rects, padding=3)\n",
    "\n",
    "fig.tight_layout()\n",
    "\n",
    "plt.title('Arrow % Improvement over Pandas')\n",
    "plt.show()"
   ]
  },
  {
   "cell_type": "markdown",
   "metadata": {},
   "source": [
    "# Without Compression"
   ]
  },
  {
   "cell_type": "code",
   "execution_count": 13,
   "metadata": {},
   "outputs": [],
   "source": [
    "import os\n",
    "import pandas as pd\n",
    "import lib.mb as mb\n",
    "import lib.load as load\n",
    "import time\n",
    "import config\n",
    "from pyarrow import parquet as pq, Table as pt\n",
    "from pyarrow import _csv as csv\n",
    "from pyarrow import dataset as dataset\n",
    "from pyarrow import Table as Table\n",
    "from pyarrow import CompressedOutputStream as COS\n",
    "\n",
    "TEST_ROOT = os.path.join(\"/dev/shm/\", \"tests/\")\n",
    "os.makedirs(TEST_ROOT, exist_ok=True)"
   ]
  },
  {
   "cell_type": "code",
   "execution_count": 14,
   "metadata": {},
   "outputs": [],
   "source": [
    "with open(\n",
    "    os.path.join(config.SAMPLE_ROOT, 'random_file_paths.txt'), 'r') as f:\n",
    "    paths = f.readlines()\n",
    "\n",
    "paths = [path.strip() for path in paths]"
   ]
  },
  {
   "cell_type": "code",
   "execution_count": 15,
   "metadata": {},
   "outputs": [
    {
     "name": "stdout",
     "output_type": "stream",
     "text": [
      "CPU times: user 3.28 s, sys: 58.1 ms, total: 3.34 s\n",
      "Wall time: 3.34 s\n"
     ]
    },
    {
     "data": {
      "text/plain": [
       "3.34"
      ]
     },
     "execution_count": 15,
     "metadata": {},
     "output_type": "execute_result"
    }
   ],
   "source": [
    "%%time\n",
    "files_dict = {}\n",
    "\n",
    "start_load = time.monotonic()\n",
    "for i, path in enumerate(paths):\n",
    "    files_dict[i] = pd.read_csv(path, sep='\\t')\n",
    "end_load = time.monotonic()\n",
    "\n",
    "load_time = round(end_load - start_load, 2)\n",
    "load_time"
   ]
  },
  {
   "cell_type": "code",
   "execution_count": 16,
   "metadata": {},
   "outputs": [],
   "source": [
    "### Writing to CSV without compression"
   ]
  },
  {
   "cell_type": "code",
   "execution_count": 17,
   "metadata": {},
   "outputs": [
    {
     "name": "stdout",
     "output_type": "stream",
     "text": [
      "CPU times: user 15.7 s, sys: 257 ms, total: 15.9 s\n",
      "Wall time: 15.9 s\n"
     ]
    },
    {
     "data": {
      "text/plain": [
       "15.93"
      ]
     },
     "execution_count": 17,
     "metadata": {},
     "output_type": "execute_result"
    }
   ],
   "source": [
    "%%time\n",
    "## With pandas\n",
    "# writing files in CSV w/ no compression\n",
    "\n",
    "csv_paths = []\n",
    "os.makedirs(\n",
    "    os.path.join(TEST_ROOT, \"csv/\"),\n",
    "    exist_ok=True)\n",
    "\n",
    "csv_write_start = time.monotonic()\n",
    "for n, file in enumerate(paths):\n",
    "    df = pd.read_csv(file, sep='\\t')\n",
    "    path =  os.path.join(TEST_ROOT, f\"csv/{n}.csv.zst\")\n",
    "    csv_paths.append(path)\n",
    "    \n",
    "    df.to_csv(path, compression=None)\n",
    "\n",
    "csv_write_end = time.monotonic()\n",
    "csv_write_time = round(csv_write_end - csv_write_start, 2)\n",
    "csv_write_time"
   ]
  },
  {
   "cell_type": "code",
   "execution_count": 18,
   "metadata": {},
   "outputs": [
    {
     "name": "stdout",
     "output_type": "stream",
     "text": [
      "CPU times: user 15.5 s, sys: 278 ms, total: 15.8 s\n",
      "Wall time: 15.8 s\n"
     ]
    },
    {
     "data": {
      "text/plain": [
       "15.81"
      ]
     },
     "execution_count": 18,
     "metadata": {},
     "output_type": "execute_result"
    }
   ],
   "source": [
    "%%time\n",
    "## With pandas\n",
    "# writing files in CSV w/ no compression\n",
    "\n",
    "csv_paths = []\n",
    "os.makedirs(\n",
    "    os.path.join(TEST_ROOT, \"csv/\"),\n",
    "    exist_ok=True)\n",
    "\n",
    "csv_write_start = time.monotonic()\n",
    "for n, file in enumerate(paths):\n",
    "    df = pd.read_csv(file, sep='\\t')\n",
    "    path =  os.path.join(TEST_ROOT, f\"csv/{n}.csv.zst\")\n",
    "    csv_paths.append(path)\n",
    "    \n",
    "    df.to_csv(path, compression=None)\n",
    "\n",
    "csv_write_end = time.monotonic()\n",
    "csv_write_time = round(csv_write_end - csv_write_start, 2)\n",
    "csv_write_time"
   ]
  },
  {
   "cell_type": "code",
   "execution_count": 19,
   "metadata": {},
   "outputs": [],
   "source": [
    "write_options  = csv.WriteOptions(\n",
    "    include_header = False,\n",
    "    delimiter = '\\t',\n",
    ")\n",
    "\n",
    "def write_frame(df_input, original_path):\n",
    "    \"\"\"\n",
    "    Function to write a dataframe to a csv file using pyarrow\n",
    "    \"\"\"\n",
    "    # Replace MLHD_ROOT with path to new MLHD folder.\n",
    "    write_path = original_path.replace(ENV[\"MLHD_ROOT\"], ENV[\"WRITE_ROOT\"])\n",
    "    write_path = write_path.replace('txt.gz', 'csv.zst')\n",
    "    \n",
    "    # print(write_path)\n",
    "    # Make directory inside WRITE_ROOT if it doesn't exist\n",
    "    os.makedirs(os.path.dirname(write_path), exist_ok=True)\n",
    "    \n",
    "    df_input = Table.from_pandas(df_input)\n",
    "    # csv.write_csv(df_input, output_file = write_path, write_options = )\n",
    "    with COS(write_path, \"zstd\") as out:\n",
    "        csv.write_csv(df_input, out, write_options = write_options)\n",
    "\n",
    "    df_input"
   ]
  }
 ],
 "metadata": {
  "kernelspec": {
   "display_name": "Python 3.8.10 ('env': venv)",
   "language": "python",
   "name": "python3"
  },
  "language_info": {
   "codemirror_mode": {
    "name": "ipython",
    "version": 3
   },
   "file_extension": ".py",
   "mimetype": "text/x-python",
   "name": "python",
   "nbconvert_exporter": "python",
   "pygments_lexer": "ipython3",
   "version": "3.8.10"
  },
  "orig_nbformat": 4,
  "vscode": {
   "interpreter": {
    "hash": "99207027a3abb1e120e2013d5a83e642456faefc5cbc1acefa0d682e37a8f4b0"
   }
  }
 },
 "nbformat": 4,
 "nbformat_minor": 2
}
