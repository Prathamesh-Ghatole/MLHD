{
 "cells": [
  {
   "cell_type": "code",
   "execution_count": 1,
   "metadata": {},
   "outputs": [],
   "source": [
    "import os\n",
    "import pandas as pd\n",
    "import lib.mb as mb\n",
    "import lib.load as load\n",
    "import time\n",
    "from pyarrow import parquet as pq, Table as pt"
   ]
  },
  {
   "cell_type": "markdown",
   "metadata": {},
   "source": [
    "# Testing Load times"
   ]
  },
  {
   "cell_type": "code",
   "execution_count": 2,
   "metadata": {},
   "outputs": [],
   "source": [
    "with open('random_file_paths.txt', 'r') as f:\n",
    "    paths = f.readlines()\n",
    "\n",
    "paths = [path.strip() for path in paths]"
   ]
  },
  {
   "cell_type": "code",
   "execution_count": 16,
   "metadata": {},
   "outputs": [
    {
     "name": "stdout",
     "output_type": "stream",
     "text": [
      "CPU times: user 7.99 s, sys: 612 ms, total: 8.6 s\n",
      "Wall time: 8.5 s\n"
     ]
    },
    {
     "data": {
      "text/plain": [
       "8.50377750955522"
      ]
     },
     "execution_count": 16,
     "metadata": {},
     "output_type": "execute_result"
    }
   ],
   "source": [
    "%%time\n",
    "snappy_paths = []\n",
    "# Reading + Writing files in parquet w/ snappy\n",
    "\n",
    "snappy_write_start = time.monotonic()\n",
    "\n",
    "for n, file in enumerate(paths):\n",
    "    df = pd.read_csv(file, sep='\\t')\n",
    "    path = f\"unk_ids/snappy_parquet/{n}_snappy.parquet\"\n",
    "    snappy_paths.append(path)\n",
    "    df.to_parquet(path, compression='snappy')\n",
    "\n",
    "snappy_write_end = time.monotonic()\n",
    "snappy_write_time = snappy_write_end - snappy_write_start\n",
    "snappy_write_time"
   ]
  },
  {
   "cell_type": "code",
   "execution_count": 20,
   "metadata": {},
   "outputs": [
    {
     "name": "stdout",
     "output_type": "stream",
     "text": [
      "CPU times: user 7.7 s, sys: 629 ms, total: 8.33 s\n",
      "Wall time: 8.3 s\n"
     ]
    },
    {
     "data": {
      "text/plain": [
       "8.299434312619269"
      ]
     },
     "execution_count": 20,
     "metadata": {},
     "output_type": "execute_result"
    }
   ],
   "source": [
    "%%time\n",
    "zstd_paths = []\n",
    "# Reading + writing files in parquet w/ zstd\n",
    "\n",
    "zst_parquet_write_start = time.monotonic()\n",
    "for n, file in enumerate(paths):\n",
    "    df = pd.read_csv(file, sep='\\t')\n",
    "    path = f\"unk_ids/zst_parquet/{n}_zst.parquet\"\n",
    "    zstd_paths.append(path)\n",
    "    \n",
    "    df = pt.from_pandas(df)\n",
    "    pq.write_table(df, path, compression='zstd')\n",
    "\n",
    "zst_parquet_write_end = time.monotonic()\n",
    "zst_parquet_write_time = zst_parquet_write_end - zst_parquet_write_start\n",
    "zst_parquet_write_time"
   ]
  },
  {
   "cell_type": "code",
   "execution_count": 21,
   "metadata": {},
   "outputs": [
    {
     "name": "stdout",
     "output_type": "stream",
     "text": [
      "CPU times: user 22.4 s, sys: 403 ms, total: 22.8 s\n",
      "Wall time: 23.2 s\n"
     ]
    },
    {
     "data": {
      "text/plain": [
       "23.18522241152823"
      ]
     },
     "execution_count": 21,
     "metadata": {},
     "output_type": "execute_result"
    }
   ],
   "source": [
    "%%time\n",
    "zstd_txt_paths = []\n",
    "\n",
    "zst_txt_write_start = time.monotonic()\n",
    "for n, file in enumerate(paths):\n",
    "    df = pd.read_csv(file, sep='\\t')\n",
    "    path = f\"unk_ids/zst_txt/{n}_zstd.txt.zst\"\n",
    "    zstd_txt_paths.append(path)\n",
    "    \n",
    "    df.to_csv(path, compression='zstd')\n",
    "\n",
    "zst_txt_write_end = time.monotonic()\n",
    "zst_txt_write_time = zst_txt_write_end - zst_txt_write_start\n",
    "zst_txt_write_time"
   ]
  },
  {
   "cell_type": "code",
   "execution_count": 22,
   "metadata": {},
   "outputs": [
    {
     "name": "stdout",
     "output_type": "stream",
     "text": [
      "CPU times: user 2.09 s, sys: 143 ms, total: 2.23 s\n",
      "Wall time: 1.51 s\n"
     ]
    },
    {
     "data": {
      "text/plain": [
       "1.5116015588864684"
      ]
     },
     "execution_count": 22,
     "metadata": {},
     "output_type": "execute_result"
    }
   ],
   "source": [
    "%%time\n",
    "\n",
    "## Loading parquet files\n",
    "snappy_read_start = time.monotonic()\n",
    "\n",
    "for file in snappy_paths:\n",
    "    df = pd.read_parquet(file)\n",
    "\n",
    "snappy_read_end = time.monotonic()\n",
    "snappy_read_time = snappy_read_end - snappy_read_start\n",
    "snappy_read_time"
   ]
  },
  {
   "cell_type": "code",
   "execution_count": 23,
   "metadata": {},
   "outputs": [
    {
     "name": "stdout",
     "output_type": "stream",
     "text": [
      "CPU times: user 2.08 s, sys: 119 ms, total: 2.19 s\n",
      "Wall time: 1.52 s\n"
     ]
    },
    {
     "data": {
      "text/plain": [
       "1.5165609065443277"
      ]
     },
     "execution_count": 23,
     "metadata": {},
     "output_type": "execute_result"
    }
   ],
   "source": [
    "%%time\n",
    "\n",
    "# Loading parquet files w/ zstd\n",
    "zstd_parquet_read_start = time.monotonic()\n",
    "for file in zstd_paths:\n",
    "    df = pd.read_parquet(file)\n",
    "\n",
    "zstd_parquet_read_end = time.monotonic()\n",
    "zstd_parquet_read_time = zstd_parquet_read_end - zstd_parquet_read_start\n",
    "zstd_parquet_read_time"
   ]
  },
  {
   "cell_type": "code",
   "execution_count": 24,
   "metadata": {},
   "outputs": [
    {
     "name": "stdout",
     "output_type": "stream",
     "text": [
      "CPU times: user 4.41 s, sys: 288 ms, total: 4.7 s\n",
      "Wall time: 4.7 s\n"
     ]
    },
    {
     "data": {
      "text/plain": [
       "4.701082368381321"
      ]
     },
     "execution_count": 24,
     "metadata": {},
     "output_type": "execute_result"
    }
   ],
   "source": [
    "%%time\n",
    "\n",
    "zstd_txt_read_start = time.monotonic()\n",
    "\n",
    "for file in zstd_txt_paths:\n",
    "    df = pd.read_csv(file, sep='\\t', compression='zstd')\n",
    "\n",
    "zstd_txt_read_end = time.monotonic()\n",
    "zstd_txt_read_time = zstd_txt_read_end - zstd_txt_read_start\n",
    "zstd_txt_read_time"
   ]
  },
  {
   "cell_type": "code",
   "execution_count": 27,
   "metadata": {},
   "outputs": [
    {
     "name": "stdout",
     "output_type": "stream",
     "text": [
      "CPU times: user 4.84 s, sys: 284 ms, total: 5.13 s\n",
      "Wall time: 5.13 s\n"
     ]
    },
    {
     "data": {
      "text/plain": [
       "5.131617600098252"
      ]
     },
     "execution_count": 27,
     "metadata": {},
     "output_type": "execute_result"
    }
   ],
   "source": [
    "%%time\n",
    "\n",
    "csv_read_start = time.monotonic()\n",
    "for file in paths:\n",
    "    df = pd.read_csv(file, sep='\\t')\n",
    "\n",
    "csv_read_end = time.monotonic()\n",
    "csv_read_time = csv_read_end - csv_read_start\n",
    "csv_read_time"
   ]
  },
  {
   "cell_type": "markdown",
   "metadata": {},
   "source": [
    "## File Sizes"
   ]
  },
  {
   "cell_type": "code",
   "execution_count": 31,
   "metadata": {},
   "outputs": [
    {
     "name": "stdout",
     "output_type": "stream",
     "text": [
      "csv size = 96.00 MB\n"
     ]
    }
   ],
   "source": [
    "# CSV:\n",
    "csv_size = 0\n",
    "for file in paths:\n",
    "    csv_size += os.path.getsize(file)\n",
    "\n",
    "print(f\"csv size = {csv_size/(1024*1024):.2f} MB\")"
   ]
  },
  {
   "cell_type": "code",
   "execution_count": 36,
   "metadata": {},
   "outputs": [
    {
     "name": "stdout",
     "output_type": "stream",
     "text": [
      "zstd text size = 70.09 MB\n"
     ]
    }
   ],
   "source": [
    "# zstd txt:\n",
    "zstd_txt_size = 0\n",
    "for file in zstd_txt_paths:\n",
    "    zstd_txt_size += os.path.getsize(file)\n",
    "\n",
    "print(f\"zstd text size = {zstd_txt_size/(1024*1024):.2f} MB\")"
   ]
  },
  {
   "cell_type": "code",
   "execution_count": 37,
   "metadata": {},
   "outputs": [
    {
     "name": "stdout",
     "output_type": "stream",
     "text": [
      "snappy parquet size = 75.96 MB\n"
     ]
    }
   ],
   "source": [
    "# Snappy Parquet:\n",
    "\n",
    "snappy_parquet_size = 0\n",
    "for file in snappy_paths:\n",
    "    snappy_parquet_size += os.path.getsize(file)\n",
    "\n",
    "print(f\"snappy parquet size = {snappy_parquet_size/(1024*1024):.2f} MB\")"
   ]
  },
  {
   "cell_type": "code",
   "execution_count": 35,
   "metadata": {},
   "outputs": [
    {
     "name": "stdout",
     "output_type": "stream",
     "text": [
      "zstd parquet size = 46.84 MB\n"
     ]
    }
   ],
   "source": [
    "# ZSTD Parquet:\n",
    "zstd_parquet_size = 0\n",
    "for file in zstd_paths:\n",
    "    zstd_parquet_size += os.path.getsize(file)\n",
    "\n",
    "print(f\"zstd parquet size = {zstd_parquet_size/(1024*1024):.2f} MB\")"
   ]
  },
  {
   "cell_type": "markdown",
   "metadata": {},
   "source": [
    "# Visualizations"
   ]
  },
  {
   "cell_type": "code",
   "execution_count": 38,
   "metadata": {},
   "outputs": [],
   "source": [
    "import matplotlib.pyplot as plt"
   ]
  },
  {
   "cell_type": "code",
   "execution_count": 56,
   "metadata": {},
   "outputs": [
    {
     "data": {
      "image/png": "[encoded data removed]",
      "text/plain": [
       "<Figure size 432x288 with 1 Axes>"
      ]
     },
     "metadata": {
      "needs_background": "light"
     },
     "output_type": "display_data"
    }
   ],
   "source": [
    "plt.bar(['csv', 'zstd_txt', 'snappy_parquet', 'zstd_parquet'], [csv_size, zstd_txt_size, snappy_parquet_size, zstd_parquet_size])\n",
    "plt.xlabel('File Type')\n",
    "plt.ylabel('Size (MB)')\n",
    "plt.yticks()\n",
    "\n",
    "plt.show()"
   ]
  },
  {
   "cell_type": "code",
   "execution_count": 43,
   "metadata": {},
   "outputs": [
    {
     "data": {
      "text/plain": [
       "Text(0, 0.5, 'Read Time (s)')"
      ]
     },
     "execution_count": 43,
     "metadata": {},
     "output_type": "execute_result"
    },
    {
     "data": {
      "image/png": "[encoded data removed]",
      "text/plain": [
       "<Figure size 432x288 with 1 Axes>"
      ]
     },
     "metadata": {
      "needs_background": "light"
     },
     "output_type": "display_data"
    }
   ],
   "source": [
    "plt.bar(['csv', 'zstd_txt', 'snappy_parquet', 'zstd_parquet'], [csv_read_time, zstd_txt_read_time, snappy_read_time, zstd_parquet_read_time])\n",
    "plt.xlabel('File Type')\n",
    "plt.ylabel('Read Time (s)')"
   ]
  },
  {
   "cell_type": "code",
   "execution_count": 46,
   "metadata": {},
   "outputs": [
    {
     "data": {
      "text/plain": [
       "Text(0, 0.5, 'Write Time (s)')"
      ]
     },
     "execution_count": 46,
     "metadata": {},
     "output_type": "execute_result"
    },
    {
     "data": {
      "image/png": "[encoded data removed]",
      "text/plain": [
       "<Figure size 432x288 with 1 Axes>"
      ]
     },
     "metadata": {
      "needs_background": "light"
     },
     "output_type": "display_data"
    }
   ],
   "source": [
    "plt.bar(['csv', 'zstd_txt', 'snappy_parquet', 'zstd_parquet'], [0, zst_txt_write_time, snappy_write_time, zst_parquet_write_time])\n",
    "plt.xlabel('File Type')\n",
    "plt.ylabel('Write Time (s)')"
   ]
  }
 ],
 "metadata": {
  "kernelspec": {
   "display_name": "Python 3.8.10 ('env_mlhd': venv)",
   "language": "python",
   "name": "python3"
  },
  "language_info": {
   "codemirror_mode": {
    "name": "ipython",
    "version": 3
   },
   "file_extension": ".py",
   "mimetype": "text/x-python",
   "name": "python",
   "nbconvert_exporter": "python",
   "pygments_lexer": "ipython3",
   "version": "3.8.10"
  },
  "orig_nbformat": 4,
  "vscode": {
   "interpreter": {
    "hash": "a2c0c9fb1c567002394a71a6ae02f73ce4bc53d4b82f846c3c881e337285b81f"
   }
  }
 },
 "nbformat": 4,
 "nbformat_minor": 2
}
