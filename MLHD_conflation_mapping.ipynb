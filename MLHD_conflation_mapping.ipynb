{
 "cells": [
  {
   "cell_type": "code",
   "execution_count": 17,
   "metadata": {},
   "outputs": [],
   "source": [
    "import pandas as pd\n",
    "import numpy as np\n",
    "import requests\n",
    "import requests_cache\n",
    "requests_cache.install_cache('demo_cache', expire_after=86400, allowable_methods=['GET', 'POST'])\n",
    "import matplotlib.pyplot as plt\n",
    "import time"
   ]
  },
  {
   "cell_type": "code",
   "execution_count": 8,
   "metadata": {},
   "outputs": [
    {
     "data": {
      "text/html": [
       "<div>\n",
       "<style scoped>\n",
       "    .dataframe tbody tr th:only-of-type {\n",
       "        vertical-align: middle;\n",
       "    }\n",
       "\n",
       "    .dataframe tbody tr th {\n",
       "        vertical-align: top;\n",
       "    }\n",
       "\n",
       "    .dataframe thead th {\n",
       "        text-align: right;\n",
       "    }\n",
       "</style>\n",
       "<table border=\"1\" class=\"dataframe\">\n",
       "  <thead>\n",
       "    <tr style=\"text-align: right;\">\n",
       "      <th></th>\n",
       "      <th>timestamp</th>\n",
       "      <th>mlhd_artist_mbid</th>\n",
       "      <th>mlhd_recording_mbid</th>\n",
       "      <th>canonical_mbid</th>\n",
       "      <th>MLHD_rec_name</th>\n",
       "      <th>MLHD_artist_name</th>\n",
       "      <th>artist_credit_list</th>\n",
       "    </tr>\n",
       "  </thead>\n",
       "  <tbody>\n",
       "    <tr>\n",
       "      <th>0</th>\n",
       "      <td>1108412731</td>\n",
       "      <td>f4a31f0a-51dd-4fa7-986d-3095c40c5ed9</td>\n",
       "      <td>1deb956c-5439-4fbb-b026-5adb4330a934</td>\n",
       "      <td>1deb956c-5439-4fbb-b026-5adb4330a934</td>\n",
       "      <td>Anywhere</td>\n",
       "      <td>Evanescence</td>\n",
       "      <td>f4a31f0a-51dd-4fa7-986d-3095c40c5ed9</td>\n",
       "    </tr>\n",
       "    <tr>\n",
       "      <th>1</th>\n",
       "      <td>1108422818</td>\n",
       "      <td>db999c3f-f243-4a5f-88d6-0c25243b6661</td>\n",
       "      <td>14e9eb4e-155d-46ff-9a83-a8d5e1936c81</td>\n",
       "      <td>b0e80c50-6bca-415c-9515-1b4983329b80</td>\n",
       "      <td>Lady Lady</td>\n",
       "      <td>Mark Joseph</td>\n",
       "      <td>db999c3f-f243-4a5f-88d6-0c25243b6661</td>\n",
       "    </tr>\n",
       "    <tr>\n",
       "      <th>2</th>\n",
       "      <td>1108423325</td>\n",
       "      <td>ce58d854-7430-4231-aa44-97f0144b3372</td>\n",
       "      <td>eced9a9b-cd59-40f8-a580-f27094bd8a89</td>\n",
       "      <td>6ae8e64a-d208-4f4e-8d88-155ed0568344</td>\n",
       "      <td>Building a Mystery</td>\n",
       "      <td>Sarah McLachlan</td>\n",
       "      <td>ce58d854-7430-4231-aa44-97f0144b3372</td>\n",
       "    </tr>\n",
       "    <tr>\n",
       "      <th>3</th>\n",
       "      <td>1108594566</td>\n",
       "      <td>e6e879c0-3d56-4f12-b3c5-3ce459661a8e</td>\n",
       "      <td>0a8e9fce-b54c-45dd-8081-4aaa654ef4ec</td>\n",
       "      <td>da1308d1-6037-4ba1-b6fc-a643a4201140</td>\n",
       "      <td>Hallelujah</td>\n",
       "      <td>Jeff Buckley</td>\n",
       "      <td>e6e879c0-3d56-4f12-b3c5-3ce459661a8e</td>\n",
       "    </tr>\n",
       "    <tr>\n",
       "      <th>4</th>\n",
       "      <td>1108679759</td>\n",
       "      <td>3c0a0074-4f26-4d3b-b723-a66bf6cc3753</td>\n",
       "      <td>06a5b648-0950-4892-a975-715291a5de6f</td>\n",
       "      <td>a2a800b4-4969-4bc6-88e9-6928b973890c</td>\n",
       "      <td>Penny &amp; Me</td>\n",
       "      <td>Hanson</td>\n",
       "      <td>3c0a0074-4f26-4d3b-b723-a66bf6cc3753</td>\n",
       "    </tr>\n",
       "  </tbody>\n",
       "</table>\n",
       "</div>"
      ],
      "text/plain": [
       "    timestamp                      mlhd_artist_mbid  \\\n",
       "0  1108412731  f4a31f0a-51dd-4fa7-986d-3095c40c5ed9   \n",
       "1  1108422818  db999c3f-f243-4a5f-88d6-0c25243b6661   \n",
       "2  1108423325  ce58d854-7430-4231-aa44-97f0144b3372   \n",
       "3  1108594566  e6e879c0-3d56-4f12-b3c5-3ce459661a8e   \n",
       "4  1108679759  3c0a0074-4f26-4d3b-b723-a66bf6cc3753   \n",
       "\n",
       "                    mlhd_recording_mbid                        canonical_mbid  \\\n",
       "0  1deb956c-5439-4fbb-b026-5adb4330a934  1deb956c-5439-4fbb-b026-5adb4330a934   \n",
       "1  14e9eb4e-155d-46ff-9a83-a8d5e1936c81  b0e80c50-6bca-415c-9515-1b4983329b80   \n",
       "2  eced9a9b-cd59-40f8-a580-f27094bd8a89  6ae8e64a-d208-4f4e-8d88-155ed0568344   \n",
       "3  0a8e9fce-b54c-45dd-8081-4aaa654ef4ec  da1308d1-6037-4ba1-b6fc-a643a4201140   \n",
       "4  06a5b648-0950-4892-a975-715291a5de6f  a2a800b4-4969-4bc6-88e9-6928b973890c   \n",
       "\n",
       "        MLHD_rec_name MLHD_artist_name                    artist_credit_list  \n",
       "0            Anywhere      Evanescence  f4a31f0a-51dd-4fa7-986d-3095c40c5ed9  \n",
       "1           Lady Lady      Mark Joseph  db999c3f-f243-4a5f-88d6-0c25243b6661  \n",
       "2  Building a Mystery  Sarah McLachlan  ce58d854-7430-4231-aa44-97f0144b3372  \n",
       "3          Hallelujah     Jeff Buckley  e6e879c0-3d56-4f12-b3c5-3ce459661a8e  \n",
       "4          Penny & Me           Hanson  3c0a0074-4f26-4d3b-b723-a66bf6cc3753  "
      ]
     },
     "execution_count": 8,
     "metadata": {},
     "output_type": "execute_result"
    }
   ],
   "source": [
    "# Importing data\n",
    "df = pd.read_csv('unk_ids/df2_artist_rec_names_artist_list.txt')\n",
    "\n",
    "# MAKE SURE TO DROP NAN ROWS OR THE CODE WILL CRASH\n",
    "df.dropna(subset = ['MLHD_rec_name', 'MLHD_artist_name'], inplace=True)\n",
    "\n",
    "df.head()"
   ]
  },
  {
   "cell_type": "markdown",
   "metadata": {},
   "source": [
    "# Mapping for first 1000 MBIDs with chunk-size = 10\n",
    "\n",
    "1. Get Chunk of data\n",
    "2. Make Payload\n",
    "3. Get Mapping\n",
    "4. Join with DataFrame on arg_name / recording_name\n",
    "5. Loop over again."
   ]
  },
  {
   "cell_type": "code",
   "execution_count": 9,
   "metadata": {},
   "outputs": [
    {
     "data": {
      "text/html": [
       "<div>\n",
       "<style scoped>\n",
       "    .dataframe tbody tr th:only-of-type {\n",
       "        vertical-align: middle;\n",
       "    }\n",
       "\n",
       "    .dataframe tbody tr th {\n",
       "        vertical-align: top;\n",
       "    }\n",
       "\n",
       "    .dataframe thead th {\n",
       "        text-align: right;\n",
       "    }\n",
       "</style>\n",
       "<table border=\"1\" class=\"dataframe\">\n",
       "  <thead>\n",
       "    <tr style=\"text-align: right;\">\n",
       "      <th></th>\n",
       "      <th>timestamp</th>\n",
       "      <th>mlhd_artist_mbid</th>\n",
       "      <th>mlhd_recording_mbid</th>\n",
       "      <th>canonical_mbid</th>\n",
       "      <th>MLHD_rec_name</th>\n",
       "      <th>MLHD_artist_name</th>\n",
       "      <th>artist_credit_list</th>\n",
       "    </tr>\n",
       "  </thead>\n",
       "  <tbody>\n",
       "    <tr>\n",
       "      <th>0</th>\n",
       "      <td>1108412731</td>\n",
       "      <td>f4a31f0a-51dd-4fa7-986d-3095c40c5ed9</td>\n",
       "      <td>1deb956c-5439-4fbb-b026-5adb4330a934</td>\n",
       "      <td>1deb956c-5439-4fbb-b026-5adb4330a934</td>\n",
       "      <td>Anywhere</td>\n",
       "      <td>Evanescence</td>\n",
       "      <td>f4a31f0a-51dd-4fa7-986d-3095c40c5ed9</td>\n",
       "    </tr>\n",
       "    <tr>\n",
       "      <th>1</th>\n",
       "      <td>1108422818</td>\n",
       "      <td>db999c3f-f243-4a5f-88d6-0c25243b6661</td>\n",
       "      <td>14e9eb4e-155d-46ff-9a83-a8d5e1936c81</td>\n",
       "      <td>b0e80c50-6bca-415c-9515-1b4983329b80</td>\n",
       "      <td>Lady Lady</td>\n",
       "      <td>Mark Joseph</td>\n",
       "      <td>db999c3f-f243-4a5f-88d6-0c25243b6661</td>\n",
       "    </tr>\n",
       "    <tr>\n",
       "      <th>2</th>\n",
       "      <td>1108423325</td>\n",
       "      <td>ce58d854-7430-4231-aa44-97f0144b3372</td>\n",
       "      <td>eced9a9b-cd59-40f8-a580-f27094bd8a89</td>\n",
       "      <td>6ae8e64a-d208-4f4e-8d88-155ed0568344</td>\n",
       "      <td>Building a Mystery</td>\n",
       "      <td>Sarah McLachlan</td>\n",
       "      <td>ce58d854-7430-4231-aa44-97f0144b3372</td>\n",
       "    </tr>\n",
       "    <tr>\n",
       "      <th>3</th>\n",
       "      <td>1108594566</td>\n",
       "      <td>e6e879c0-3d56-4f12-b3c5-3ce459661a8e</td>\n",
       "      <td>0a8e9fce-b54c-45dd-8081-4aaa654ef4ec</td>\n",
       "      <td>da1308d1-6037-4ba1-b6fc-a643a4201140</td>\n",
       "      <td>Hallelujah</td>\n",
       "      <td>Jeff Buckley</td>\n",
       "      <td>e6e879c0-3d56-4f12-b3c5-3ce459661a8e</td>\n",
       "    </tr>\n",
       "    <tr>\n",
       "      <th>4</th>\n",
       "      <td>1108679759</td>\n",
       "      <td>3c0a0074-4f26-4d3b-b723-a66bf6cc3753</td>\n",
       "      <td>06a5b648-0950-4892-a975-715291a5de6f</td>\n",
       "      <td>a2a800b4-4969-4bc6-88e9-6928b973890c</td>\n",
       "      <td>Penny &amp; Me</td>\n",
       "      <td>Hanson</td>\n",
       "      <td>3c0a0074-4f26-4d3b-b723-a66bf6cc3753</td>\n",
       "    </tr>\n",
       "  </tbody>\n",
       "</table>\n",
       "</div>"
      ],
      "text/plain": [
       "    timestamp                      mlhd_artist_mbid  \\\n",
       "0  1108412731  f4a31f0a-51dd-4fa7-986d-3095c40c5ed9   \n",
       "1  1108422818  db999c3f-f243-4a5f-88d6-0c25243b6661   \n",
       "2  1108423325  ce58d854-7430-4231-aa44-97f0144b3372   \n",
       "3  1108594566  e6e879c0-3d56-4f12-b3c5-3ce459661a8e   \n",
       "4  1108679759  3c0a0074-4f26-4d3b-b723-a66bf6cc3753   \n",
       "\n",
       "                    mlhd_recording_mbid                        canonical_mbid  \\\n",
       "0  1deb956c-5439-4fbb-b026-5adb4330a934  1deb956c-5439-4fbb-b026-5adb4330a934   \n",
       "1  14e9eb4e-155d-46ff-9a83-a8d5e1936c81  b0e80c50-6bca-415c-9515-1b4983329b80   \n",
       "2  eced9a9b-cd59-40f8-a580-f27094bd8a89  6ae8e64a-d208-4f4e-8d88-155ed0568344   \n",
       "3  0a8e9fce-b54c-45dd-8081-4aaa654ef4ec  da1308d1-6037-4ba1-b6fc-a643a4201140   \n",
       "4  06a5b648-0950-4892-a975-715291a5de6f  a2a800b4-4969-4bc6-88e9-6928b973890c   \n",
       "\n",
       "        MLHD_rec_name MLHD_artist_name                    artist_credit_list  \n",
       "0            Anywhere      Evanescence  f4a31f0a-51dd-4fa7-986d-3095c40c5ed9  \n",
       "1           Lady Lady      Mark Joseph  db999c3f-f243-4a5f-88d6-0c25243b6661  \n",
       "2  Building a Mystery  Sarah McLachlan  ce58d854-7430-4231-aa44-97f0144b3372  \n",
       "3          Hallelujah     Jeff Buckley  e6e879c0-3d56-4f12-b3c5-3ce459661a8e  \n",
       "4          Penny & Me           Hanson  3c0a0074-4f26-4d3b-b723-a66bf6cc3753  "
      ]
     },
     "execution_count": 9,
     "metadata": {},
     "output_type": "execute_result"
    }
   ],
   "source": [
    "# test_df = df.loc[:50, ['MLHD_artist_name', 'MLHD_rec_name']]\n",
    "test_df = df.loc[:50]\n",
    "test_df.head()"
   ]
  },
  {
   "cell_type": "code",
   "execution_count": 25,
   "metadata": {},
   "outputs": [],
   "source": [
    "def make_payload(series_artist_name, series_rec_name):\n",
    "    payload = []\n",
    "    for artist_name, rec_name in zip(series_artist_name.to_list(), series_rec_name.to_list()):\n",
    "    # for artist_name, rec_name in zip(series_artist_name, series_rec_name):\n",
    "        json_inp = dict()\n",
    "        json_inp[\"[artist_credit_name]\"] = artist_name\n",
    "        json_inp[\"[recording_name]\"] = rec_name\n",
    "        payload.append(json_inp)\n",
    "    return payload\n",
    "\n",
    "# make_payload(df.MLHD_rec_name[:1], df.MLHD_artist_name[:1])"
   ]
  },
  {
   "cell_type": "code",
   "execution_count": 26,
   "metadata": {},
   "outputs": [],
   "source": [
    "def gen_chunk(df, chunksize=15):\n",
    "    for i in range(0, len(df), chunksize):\n",
    "        yield df[i:i+chunksize]"
   ]
  },
  {
   "cell_type": "code",
   "execution_count": 27,
   "metadata": {},
   "outputs": [],
   "source": [
    "def get_mapping(df):\n",
    "    base_url = \"https://labs.api.listenbrainz.org/mbid-mapping/json\"\n",
    "    series_artist, series_rec = df.MLHD_artist_name, df.MLHD_rec_name\n",
    "    payload = make_payload(series_artist, series_rec)\n",
    "\n",
    "    r = requests.post(base_url, json = payload)\n",
    "    try:\n",
    "        return r.json()\n",
    "    except:\n",
    "        return \"[{}]\"\n",
    "\n",
    "# Tests\n",
    "# get_mapping(df[:2])\n",
    "# get_mapping(pd.DataFrame([('audgsf', 'jdshfl')], columns=['MLHD_artist_name', 'MLHD_rec_name']))\n",
    "# get_mapping(pd.DataFrame([('audgsf', 'jdshfl'), ('eminem', 'godzilla')], columns=['MLHD_artist_name', 'MLHD_rec_name']))"
   ]
  },
  {
   "cell_type": "code",
   "execution_count": 28,
   "metadata": {},
   "outputs": [],
   "source": [
    "def get_mapping_rec(json_reply_list):\n",
    "    # json_reply_list = json_reply_list.json()\n",
    "    mapping_rec = []\n",
    "    if json_reply_list is not None:\n",
    "        for json_reply in json_reply_list:\n",
    "            mapping_rec.append([json_reply['artist_credit_arg'], json_reply['recording_arg'], json_reply['recording_mbid']])\n",
    "    \n",
    "    return mapping_rec\n",
    "\n",
    "# #Test\n",
    "\n",
    "# ls = []\n",
    "# for chunk in gen:\n",
    "#     ls.append(get_mapping(chunk))\n",
    "\n",
    "# temp = []\n",
    "# for item in ls:\n",
    "#     temp = [*temp, *item]\n",
    "\n",
    "# temp"
   ]
  },
  {
   "cell_type": "code",
   "execution_count": 52,
   "metadata": {},
   "outputs": [],
   "source": [
    "def result_processor(df, replies):\n",
    "    return df.join(pd.DataFrame(replies).set_index([0,1]).rename(columns={2: 'received_rec_mbid'}), on=['MLHD_artist_name', 'MLHD_rec_name'])\n",
    "\n",
    "def get_replies(df):\n",
    "    replies = []\n",
    "    for chunk in gen_chunk(df, 15):\n",
    "        reply = get_mapping_rec(get_mapping(chunk))\n",
    "        replies = [*replies, *reply]\n",
    "        time.sleep(0.5)\n",
    "    return replies\n",
    "\n",
    "# Testing\n",
    "# x = map_processor(test_df)\n",
    "# x.head()"
   ]
  },
  {
   "cell_type": "code",
   "execution_count": 56,
   "metadata": {},
   "outputs": [
    {
     "name": "stdout",
     "output_type": "stream",
     "text": [
      "CPU times: user 12.5 s, sys: 1.03 s, total: 13.5 s\n",
      "Wall time: 18min 19s\n"
     ]
    }
   ],
   "source": [
    "%%time\n",
    "inp = df[:10000]\n",
    "repl = get_replies(inp)\n",
    "final_mapping = result_processor(inp, repl)\n",
    "final_mapping.to_csv('unk_ids/final_mapping.csv', index=False)"
   ]
  },
  {
   "cell_type": "code",
   "execution_count": 55,
   "metadata": {},
   "outputs": [
    {
     "data": {
      "text/html": [
       "<div>\n",
       "<style scoped>\n",
       "    .dataframe tbody tr th:only-of-type {\n",
       "        vertical-align: middle;\n",
       "    }\n",
       "\n",
       "    .dataframe tbody tr th {\n",
       "        vertical-align: top;\n",
       "    }\n",
       "\n",
       "    .dataframe thead th {\n",
       "        text-align: right;\n",
       "    }\n",
       "</style>\n",
       "<table border=\"1\" class=\"dataframe\">\n",
       "  <thead>\n",
       "    <tr style=\"text-align: right;\">\n",
       "      <th></th>\n",
       "      <th>timestamp</th>\n",
       "      <th>mlhd_artist_mbid</th>\n",
       "      <th>mlhd_recording_mbid</th>\n",
       "      <th>canonical_mbid</th>\n",
       "      <th>MLHD_rec_name</th>\n",
       "      <th>MLHD_artist_name</th>\n",
       "      <th>artist_credit_list</th>\n",
       "      <th>received_rec_mbid</th>\n",
       "    </tr>\n",
       "  </thead>\n",
       "  <tbody>\n",
       "    <tr>\n",
       "      <th>0</th>\n",
       "      <td>1108412731</td>\n",
       "      <td>f4a31f0a-51dd-4fa7-986d-3095c40c5ed9</td>\n",
       "      <td>1deb956c-5439-4fbb-b026-5adb4330a934</td>\n",
       "      <td>1deb956c-5439-4fbb-b026-5adb4330a934</td>\n",
       "      <td>Anywhere</td>\n",
       "      <td>Evanescence</td>\n",
       "      <td>f4a31f0a-51dd-4fa7-986d-3095c40c5ed9</td>\n",
       "      <td>1deb956c-5439-4fbb-b026-5adb4330a934</td>\n",
       "    </tr>\n",
       "    <tr>\n",
       "      <th>1</th>\n",
       "      <td>1108422818</td>\n",
       "      <td>db999c3f-f243-4a5f-88d6-0c25243b6661</td>\n",
       "      <td>14e9eb4e-155d-46ff-9a83-a8d5e1936c81</td>\n",
       "      <td>b0e80c50-6bca-415c-9515-1b4983329b80</td>\n",
       "      <td>Lady Lady</td>\n",
       "      <td>Mark Joseph</td>\n",
       "      <td>db999c3f-f243-4a5f-88d6-0c25243b6661</td>\n",
       "      <td>b0e80c50-6bca-415c-9515-1b4983329b80</td>\n",
       "    </tr>\n",
       "    <tr>\n",
       "      <th>2</th>\n",
       "      <td>1108423325</td>\n",
       "      <td>ce58d854-7430-4231-aa44-97f0144b3372</td>\n",
       "      <td>eced9a9b-cd59-40f8-a580-f27094bd8a89</td>\n",
       "      <td>6ae8e64a-d208-4f4e-8d88-155ed0568344</td>\n",
       "      <td>Building a Mystery</td>\n",
       "      <td>Sarah McLachlan</td>\n",
       "      <td>ce58d854-7430-4231-aa44-97f0144b3372</td>\n",
       "      <td>6ae8e64a-d208-4f4e-8d88-155ed0568344</td>\n",
       "    </tr>\n",
       "    <tr>\n",
       "      <th>3</th>\n",
       "      <td>1108594566</td>\n",
       "      <td>e6e879c0-3d56-4f12-b3c5-3ce459661a8e</td>\n",
       "      <td>0a8e9fce-b54c-45dd-8081-4aaa654ef4ec</td>\n",
       "      <td>da1308d1-6037-4ba1-b6fc-a643a4201140</td>\n",
       "      <td>Hallelujah</td>\n",
       "      <td>Jeff Buckley</td>\n",
       "      <td>e6e879c0-3d56-4f12-b3c5-3ce459661a8e</td>\n",
       "      <td>da1308d1-6037-4ba1-b6fc-a643a4201140</td>\n",
       "    </tr>\n",
       "    <tr>\n",
       "      <th>4</th>\n",
       "      <td>1108679759</td>\n",
       "      <td>3c0a0074-4f26-4d3b-b723-a66bf6cc3753</td>\n",
       "      <td>06a5b648-0950-4892-a975-715291a5de6f</td>\n",
       "      <td>a2a800b4-4969-4bc6-88e9-6928b973890c</td>\n",
       "      <td>Penny &amp; Me</td>\n",
       "      <td>Hanson</td>\n",
       "      <td>3c0a0074-4f26-4d3b-b723-a66bf6cc3753</td>\n",
       "      <td>a2a800b4-4969-4bc6-88e9-6928b973890c</td>\n",
       "    </tr>\n",
       "  </tbody>\n",
       "</table>\n",
       "</div>"
      ],
      "text/plain": [
       "    timestamp                      mlhd_artist_mbid  \\\n",
       "0  1108412731  f4a31f0a-51dd-4fa7-986d-3095c40c5ed9   \n",
       "1  1108422818  db999c3f-f243-4a5f-88d6-0c25243b6661   \n",
       "2  1108423325  ce58d854-7430-4231-aa44-97f0144b3372   \n",
       "3  1108594566  e6e879c0-3d56-4f12-b3c5-3ce459661a8e   \n",
       "4  1108679759  3c0a0074-4f26-4d3b-b723-a66bf6cc3753   \n",
       "\n",
       "                    mlhd_recording_mbid                        canonical_mbid  \\\n",
       "0  1deb956c-5439-4fbb-b026-5adb4330a934  1deb956c-5439-4fbb-b026-5adb4330a934   \n",
       "1  14e9eb4e-155d-46ff-9a83-a8d5e1936c81  b0e80c50-6bca-415c-9515-1b4983329b80   \n",
       "2  eced9a9b-cd59-40f8-a580-f27094bd8a89  6ae8e64a-d208-4f4e-8d88-155ed0568344   \n",
       "3  0a8e9fce-b54c-45dd-8081-4aaa654ef4ec  da1308d1-6037-4ba1-b6fc-a643a4201140   \n",
       "4  06a5b648-0950-4892-a975-715291a5de6f  a2a800b4-4969-4bc6-88e9-6928b973890c   \n",
       "\n",
       "        MLHD_rec_name MLHD_artist_name                    artist_credit_list  \\\n",
       "0            Anywhere      Evanescence  f4a31f0a-51dd-4fa7-986d-3095c40c5ed9   \n",
       "1           Lady Lady      Mark Joseph  db999c3f-f243-4a5f-88d6-0c25243b6661   \n",
       "2  Building a Mystery  Sarah McLachlan  ce58d854-7430-4231-aa44-97f0144b3372   \n",
       "3          Hallelujah     Jeff Buckley  e6e879c0-3d56-4f12-b3c5-3ce459661a8e   \n",
       "4          Penny & Me           Hanson  3c0a0074-4f26-4d3b-b723-a66bf6cc3753   \n",
       "\n",
       "                      received_rec_mbid  \n",
       "0  1deb956c-5439-4fbb-b026-5adb4330a934  \n",
       "1  b0e80c50-6bca-415c-9515-1b4983329b80  \n",
       "2  6ae8e64a-d208-4f4e-8d88-155ed0568344  \n",
       "3  da1308d1-6037-4ba1-b6fc-a643a4201140  \n",
       "4  a2a800b4-4969-4bc6-88e9-6928b973890c  "
      ]
     },
     "execution_count": 55,
     "metadata": {},
     "output_type": "execute_result"
    }
   ],
   "source": [
    "final_mapping.head()"
   ]
  },
  {
   "cell_type": "markdown",
   "metadata": {},
   "source": [
    "# Calculating Optimal Query Size"
   ]
  },
  {
   "cell_type": "code",
   "execution_count": 32,
   "metadata": {},
   "outputs": [
    {
     "name": "stdout",
     "output_type": "stream",
     "text": [
      "2.52 ms ± 0 ns per loop (mean ± std. dev. of 1 run, 5 loops each)\n",
      "2.18 ms ± 0 ns per loop (mean ± std. dev. of 1 run, 5 loops each)\n",
      "2.4 ms ± 0 ns per loop (mean ± std. dev. of 1 run, 5 loops each)\n",
      "2.07 ms ± 0 ns per loop (mean ± std. dev. of 1 run, 5 loops each)\n",
      "2.14 ms ± 0 ns per loop (mean ± std. dev. of 1 run, 5 loops each)\n",
      "2.23 ms ± 0 ns per loop (mean ± std. dev. of 1 run, 5 loops each)\n",
      "2.01 ms ± 0 ns per loop (mean ± std. dev. of 1 run, 5 loops each)\n",
      "2.16 ms ± 0 ns per loop (mean ± std. dev. of 1 run, 5 loops each)\n",
      "2.12 ms ± 0 ns per loop (mean ± std. dev. of 1 run, 5 loops each)\n",
      "2.09 ms ± 0 ns per loop (mean ± std. dev. of 1 run, 5 loops each)\n",
      "2.13 ms ± 0 ns per loop (mean ± std. dev. of 1 run, 5 loops each)\n"
     ]
    },
    {
     "data": {
      "text/plain": [
       "Text(0, 0.5, 'Time in seconds')"
      ]
     },
     "execution_count": 32,
     "metadata": {},
     "output_type": "execute_result"
    },
    {
     "data": {
      "image/png": "[encoded data removed]",
      "text/plain": [
       "<Figure size 432x288 with 1 Axes>"
      ]
     },
     "metadata": {
      "needs_background": "light"
     },
     "output_type": "display_data"
    }
   ],
   "source": [
    "result_dict = {}\n",
    "\n",
    "for i in range(1, 22, 2):\n",
    "    result = %timeit -n5 -r1 -o get_mapping(df[:i])\n",
    "    result_dict[i] = result.average\n",
    "\n",
    "plt.plot(result_dict.keys(), result_dict.values())\n",
    "plt.xlabel('Number of requests in 1 query')\n",
    "plt.ylabel('Time in seconds')"
   ]
  },
  {
   "cell_type": "markdown",
   "metadata": {},
   "source": [
    "## Testing for missing values"
   ]
  },
  {
   "cell_type": "code",
   "execution_count": 81,
   "metadata": {},
   "outputs": [
    {
     "name": "stdout",
     "output_type": "stream",
     "text": [
      "% of canonical_mbids not in received_rec_mbid: 8.520267611176703\n",
      "% of NaN MBIDs in (% of canonical_mbids in received_rec_mbid): 61.54734411085451\n",
      "% of unmatched (not NaN) MBIDs in (% of canonical_mbids in received_rec_mbid): 38.4526558891455\n"
     ]
    }
   ],
   "source": [
    "print(f\"% of canonical_mbids not in received_rec_mbid: {(final_mapping[-final_mapping.canonical_mbid.isin(final_mapping.received_rec_mbid)].shape[0]/final_mapping.shape[0])*100}\")\n",
    "print(f\"% of NaN MBIDs in (% of canonical_mbids in received_rec_mbid): {(final_mapping[-final_mapping.canonical_mbid.isin(final_mapping.received_rec_mbid)].received_rec_mbid.isna().value_counts()[1]/final_mapping[-final_mapping.canonical_mbid.isin(final_mapping.received_rec_mbid)].shape[0])*100}\")\n",
    "print(f\"% of unmatched (not NaN) MBIDs in (% of canonical_mbids in received_rec_mbid): {(final_mapping[-final_mapping.canonical_mbid.isin(final_mapping.received_rec_mbid)].received_rec_mbid.isna().value_counts()[0]/final_mapping[-final_mapping.canonical_mbid.isin(final_mapping.received_rec_mbid)].shape[0])*100}\")\n",
    "\n",
    "# final_mapping[-final_mapping.received_rec_mbid.isin(final_mapping.canonical_mbid)]"
   ]
  },
  {
   "cell_type": "code",
   "execution_count": 84,
   "metadata": {},
   "outputs": [
    {
     "data": {
      "text/plain": [
       "5         True\n",
       "6         True\n",
       "7         True\n",
       "8         True\n",
       "12        True\n",
       "         ...  \n",
       "10004     True\n",
       "10005    False\n",
       "10007     True\n",
       "10028    False\n",
       "10044     True\n",
       "Name: received_rec_mbid, Length: 866, dtype: bool"
      ]
     },
     "execution_count": 84,
     "metadata": {},
     "output_type": "execute_result"
    }
   ],
   "source": [
    "final_mapping[-final_mapping.canonical_mbid.isin(final_mapping.received_rec_mbid)].received_rec_mbid.isna()"
   ]
  }
 ],
 "metadata": {
  "kernelspec": {
   "display_name": "Python 3.8.10 ('env_mlhd': venv)",
   "language": "python",
   "name": "python3"
  },
  "language_info": {
   "codemirror_mode": {
    "name": "ipython",
    "version": 3
   },
   "file_extension": ".py",
   "mimetype": "text/x-python",
   "name": "python",
   "nbconvert_exporter": "python",
   "pygments_lexer": "ipython3",
   "version": "3.8.10"
  },
  "orig_nbformat": 4,
  "vscode": {
   "interpreter": {
    "hash": "a2c0c9fb1c567002394a71a6ae02f73ce4bc53d4b82f846c3c881e337285b81f"
   }
  }
 },
 "nbformat": 4,
 "nbformat_minor": 2
}
