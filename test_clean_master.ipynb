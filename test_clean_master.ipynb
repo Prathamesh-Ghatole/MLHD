{
 "cells": [
  {
   "cell_type": "code",
   "execution_count": 1,
   "metadata": {},
   "outputs": [
    {
     "data": {
      "text/html": [
       "<pre style=\"white-space:pre;overflow-x:auto;line-height:normal;font-family:Menlo,'DejaVu Sans Mono',consolas,'Courier New',monospace\"></pre>\n"
      ],
      "text/plain": []
     },
     "metadata": {},
     "output_type": "display_data"
    }
   ],
   "source": [
    "# Essential Imports\n",
    "from lib import io_ as io\n",
    "from time import monotonic\n",
    "from rich.progress import track\n",
    "from numpy import nan\n",
    "import pandas as pd\n",
    "import config\n",
    "import clean_master_config as cmc\n",
    "\n",
    "# For pretty CLI\n",
    "from rich import print\n",
    "from rich.console import Console\n",
    "console = Console()\n",
    "console.clear()"
   ]
  },
  {
   "cell_type": "markdown",
   "metadata": {},
   "source": [
    "# Getting started"
   ]
  },
  {
   "cell_type": "code",
   "execution_count": 4,
   "metadata": {},
   "outputs": [
    {
     "data": {
      "text/html": [
       "<pre style=\"white-space:pre;overflow-x:auto;line-height:normal;font-family:Menlo,'DejaVu Sans Mono',consolas,'Courier New',monospace\"><span style=\"color: #7fbfbf; text-decoration-color: #7fbfbf\">[14:48:02] </span>Loading ENV variables<span style=\"color: #808000; text-decoration-color: #808000\">...</span>                                                                 <a href=\"file:///tmp/ipykernel_3587095/1151952769.py\" target=\"_blank\"><span style=\"color: #7f7f7f; text-decoration-color: #7f7f7f\">1151952769.py</span></a><span style=\"color: #7f7f7f; text-decoration-color: #7f7f7f\">:</span><a href=\"file:///tmp/ipykernel_3587095/1151952769.py#8\" target=\"_blank\"><span style=\"color: #7f7f7f; text-decoration-color: #7f7f7f\">8</span></a>\n",
       "</pre>\n"
      ],
      "text/plain": [
       "\u001b[2;36m[14:48:02]\u001b[0m\u001b[2;36m \u001b[0mLoading ENV variables\u001b[33m...\u001b[0m                                                                 \u001b]8;id=661670;file:///tmp/ipykernel_3587095/1151952769.py\u001b\\\u001b[2m1151952769.py\u001b[0m\u001b]8;;\u001b\\\u001b[2m:\u001b[0m\u001b]8;id=689898;file:///tmp/ipykernel_3587095/1151952769.py#8\u001b\\\u001b[2m8\u001b[0m\u001b]8;;\u001b\\\n"
      ]
     },
     "metadata": {},
     "output_type": "display_data"
    },
    {
     "data": {
      "text/html": [
       "<pre style=\"white-space:pre;overflow-x:auto;line-height:normal;font-family:Menlo,'DejaVu Sans Mono',consolas,'Courier New',monospace\"><span style=\"color: #7fbfbf; text-decoration-color: #7fbfbf\">           </span>Generating MLHD Paths<span style=\"color: #808000; text-decoration-color: #808000\">...</span>                                                                <a href=\"file:///tmp/ipykernel_3587095/1151952769.py\" target=\"_blank\"><span style=\"color: #7f7f7f; text-decoration-color: #7f7f7f\">1151952769.py</span></a><span style=\"color: #7f7f7f; text-decoration-color: #7f7f7f\">:</span><a href=\"file:///tmp/ipykernel_3587095/1151952769.py#17\" target=\"_blank\"><span style=\"color: #7f7f7f; text-decoration-color: #7f7f7f\">17</span></a>\n",
       "</pre>\n"
      ],
      "text/plain": [
       "\u001b[2;36m          \u001b[0m\u001b[2;36m \u001b[0mGenerating MLHD Paths\u001b[33m...\u001b[0m                                                                \u001b]8;id=251343;file:///tmp/ipykernel_3587095/1151952769.py\u001b\\\u001b[2m1151952769.py\u001b[0m\u001b]8;;\u001b\\\u001b[2m:\u001b[0m\u001b]8;id=713451;file:///tmp/ipykernel_3587095/1151952769.py#17\u001b\\\u001b[2m17\u001b[0m\u001b]8;;\u001b\\\n"
      ]
     },
     "metadata": {},
     "output_type": "display_data"
    }
   ],
   "source": [
    "io.generate_folders()   # Generate folders to write all outputs (as specified in config.py)\n",
    "master_start = monotonic()  # Start a timer\n",
    "\n",
    "OUTPUT_LOG = {} # Log discrepancies\n",
    "TIME_LOGS = {}  # Logs time taken for each step\n",
    "\n",
    "# Loading ENV variables\n",
    "console.log(\"Loading ENV variables...\")\n",
    "# ENV = io.get_config()\n",
    "\n",
    "MLHD_ROOT = config.MLHD_ROOT\n",
    "WRITE_ROOT = config.WRITE_ROOT\n",
    "LOG_WRITE_PATH = config.LOG_WRITE_PATH\n",
    "LOG_EPOCH = config.LOG_EPOCH\n",
    "\n",
    "# 1 Dimensional list of MLHD file paths\n",
    "console.log(\"Generating MLHD Paths...\")\n",
    "MLHD_PATHS = io.generate_paths(MLHD_ROOT)"
   ]
  },
  {
   "cell_type": "code",
   "execution_count": 5,
   "metadata": {},
   "outputs": [
    {
     "data": {
      "text/html": [
       "<pre style=\"white-space:pre;overflow-x:auto;line-height:normal;font-family:Menlo,'DejaVu Sans Mono',consolas,'Courier New',monospace\"><span style=\"color: #7fbfbf; text-decoration-color: #7fbfbf\">[14:48:09] </span>loading recording gids<span style=\"color: #808000; text-decoration-color: #808000\">...</span>                                                                <a href=\"file:///tmp/ipykernel_3587095/1115061480.py\" target=\"_blank\"><span style=\"color: #7f7f7f; text-decoration-color: #7f7f7f\">1115061480.py</span></a><span style=\"color: #7f7f7f; text-decoration-color: #7f7f7f\">:</span><a href=\"file:///tmp/ipykernel_3587095/1115061480.py#6\" target=\"_blank\"><span style=\"color: #7f7f7f; text-decoration-color: #7f7f7f\">6</span></a>\n",
       "</pre>\n"
      ],
      "text/plain": [
       "\u001b[2;36m[14:48:09]\u001b[0m\u001b[2;36m \u001b[0mloading recording gids\u001b[33m...\u001b[0m                                                                \u001b]8;id=443012;file:///tmp/ipykernel_3587095/1115061480.py\u001b\\\u001b[2m1115061480.py\u001b[0m\u001b]8;;\u001b\\\u001b[2m:\u001b[0m\u001b]8;id=100048;file:///tmp/ipykernel_3587095/1115061480.py#6\u001b\\\u001b[2m6\u001b[0m\u001b]8;;\u001b\\\n"
      ]
     },
     "metadata": {},
     "output_type": "display_data"
    },
    {
     "data": {
      "text/html": [
       "<pre style=\"white-space:pre;overflow-x:auto;line-height:normal;font-family:Menlo,'DejaVu Sans Mono',consolas,'Courier New',monospace\"><span style=\"color: #7fbfbf; text-decoration-color: #7fbfbf\">[14:48:21] </span>loading recording redirects<span style=\"color: #808000; text-decoration-color: #808000\">...</span>                                                          <a href=\"file:///tmp/ipykernel_3587095/1115061480.py\" target=\"_blank\"><span style=\"color: #7f7f7f; text-decoration-color: #7f7f7f\">1115061480.py</span></a><span style=\"color: #7f7f7f; text-decoration-color: #7f7f7f\">:</span><a href=\"file:///tmp/ipykernel_3587095/1115061480.py#10\" target=\"_blank\"><span style=\"color: #7f7f7f; text-decoration-color: #7f7f7f\">10</span></a>\n",
       "</pre>\n"
      ],
      "text/plain": [
       "\u001b[2;36m[14:48:21]\u001b[0m\u001b[2;36m \u001b[0mloading recording redirects\u001b[33m...\u001b[0m                                                          \u001b]8;id=834866;file:///tmp/ipykernel_3587095/1115061480.py\u001b\\\u001b[2m1115061480.py\u001b[0m\u001b]8;;\u001b\\\u001b[2m:\u001b[0m\u001b]8;id=910869;file:///tmp/ipykernel_3587095/1115061480.py#10\u001b\\\u001b[2m10\u001b[0m\u001b]8;;\u001b\\\n"
      ]
     },
     "metadata": {},
     "output_type": "display_data"
    },
    {
     "data": {
      "text/html": [
       "<pre style=\"white-space:pre;overflow-x:auto;line-height:normal;font-family:Menlo,'DejaVu Sans Mono',consolas,'Courier New',monospace\"><span style=\"color: #7fbfbf; text-decoration-color: #7fbfbf\">[14:48:24] </span>loading recording canonical MBIDs<span style=\"color: #808000; text-decoration-color: #808000\">...</span>                                                    <a href=\"file:///tmp/ipykernel_3587095/1115061480.py\" target=\"_blank\"><span style=\"color: #7f7f7f; text-decoration-color: #7f7f7f\">1115061480.py</span></a><span style=\"color: #7f7f7f; text-decoration-color: #7f7f7f\">:</span><a href=\"file:///tmp/ipykernel_3587095/1115061480.py#14\" target=\"_blank\"><span style=\"color: #7f7f7f; text-decoration-color: #7f7f7f\">14</span></a>\n",
       "</pre>\n"
      ],
      "text/plain": [
       "\u001b[2;36m[14:48:24]\u001b[0m\u001b[2;36m \u001b[0mloading recording canonical MBIDs\u001b[33m...\u001b[0m                                                    \u001b]8;id=942701;file:///tmp/ipykernel_3587095/1115061480.py\u001b\\\u001b[2m1115061480.py\u001b[0m\u001b]8;;\u001b\\\u001b[2m:\u001b[0m\u001b]8;id=403047;file:///tmp/ipykernel_3587095/1115061480.py#14\u001b\\\u001b[2m14\u001b[0m\u001b]8;;\u001b\\\n"
      ]
     },
     "metadata": {},
     "output_type": "display_data"
    },
    {
     "data": {
      "text/html": [
       "<pre style=\"white-space:pre;overflow-x:auto;line-height:normal;font-family:Menlo,'DejaVu Sans Mono',consolas,'Courier New',monospace\"><span style=\"color: #7fbfbf; text-decoration-color: #7fbfbf\">[14:48:28] </span>loading artist credit gids<span style=\"color: #808000; text-decoration-color: #808000\">...</span>                                                           <a href=\"file:///tmp/ipykernel_3587095/1115061480.py\" target=\"_blank\"><span style=\"color: #7f7f7f; text-decoration-color: #7f7f7f\">1115061480.py</span></a><span style=\"color: #7f7f7f; text-decoration-color: #7f7f7f\">:</span><a href=\"file:///tmp/ipykernel_3587095/1115061480.py#18\" target=\"_blank\"><span style=\"color: #7f7f7f; text-decoration-color: #7f7f7f\">18</span></a>\n",
       "</pre>\n"
      ],
      "text/plain": [
       "\u001b[2;36m[14:48:28]\u001b[0m\u001b[2;36m \u001b[0mloading artist credit gids\u001b[33m...\u001b[0m                                                           \u001b]8;id=795989;file:///tmp/ipykernel_3587095/1115061480.py\u001b\\\u001b[2m1115061480.py\u001b[0m\u001b]8;;\u001b\\\u001b[2m:\u001b[0m\u001b]8;id=507358;file:///tmp/ipykernel_3587095/1115061480.py#18\u001b\\\u001b[2m18\u001b[0m\u001b]8;;\u001b\\\n"
      ]
     },
     "metadata": {},
     "output_type": "display_data"
    },
    {
     "data": {
      "text/html": [
       "<pre style=\"white-space:pre;overflow-x:auto;line-height:normal;font-family:Menlo,'DejaVu Sans Mono',consolas,'Courier New',monospace\"><span style=\"color: #7fbfbf; text-decoration-color: #7fbfbf\">[14:48:53] </span>loaded MB tables. Took <span style=\"color: #008080; text-decoration-color: #008080; font-weight: bold\">44.9</span> seconds                                                     <a href=\"file:///tmp/ipykernel_3587095/1115061480.py\" target=\"_blank\"><span style=\"color: #7f7f7f; text-decoration-color: #7f7f7f\">1115061480.py</span></a><span style=\"color: #7f7f7f; text-decoration-color: #7f7f7f\">:</span><a href=\"file:///tmp/ipykernel_3587095/1115061480.py#27\" target=\"_blank\"><span style=\"color: #7f7f7f; text-decoration-color: #7f7f7f\">27</span></a>\n",
       "</pre>\n"
      ],
      "text/plain": [
       "\u001b[2;36m[14:48:53]\u001b[0m\u001b[2;36m \u001b[0mloaded MB tables. Took \u001b[1;36m44.9\u001b[0m seconds                                                     \u001b]8;id=57783;file:///tmp/ipykernel_3587095/1115061480.py\u001b\\\u001b[2m1115061480.py\u001b[0m\u001b]8;;\u001b\\\u001b[2m:\u001b[0m\u001b]8;id=86366;file:///tmp/ipykernel_3587095/1115061480.py#27\u001b\\\u001b[2m27\u001b[0m\u001b]8;;\u001b\\\n"
      ]
     },
     "metadata": {},
     "output_type": "display_data"
    }
   ],
   "source": [
    "# %%time\n",
    "### LOADING MB TABLES ###\n",
    "\n",
    "TIME_LOGS['MB_start'] = monotonic()\n",
    "\n",
    "console.log('loading recording gids...')\n",
    "MB_rec_gid = pd.read_parquet('warehouse/MB_tables/recording_gid.parquet')\n",
    "MB_rec_gid.set_index('gid', inplace=True)\n",
    "\n",
    "console.log('loading recording redirects...')\n",
    "MB_rec_redirects = pd.read_parquet('warehouse/MB_tables/recording_redirects.parquet')\n",
    "MB_rec_redirects.set_index('old', inplace=True)\n",
    "\n",
    "console.log('loading recording canonical MBIDs...')\n",
    "MB_rec_canonical = pd.read_parquet('warehouse/MB_tables/recording_canonical.parquet')\n",
    "MB_rec_canonical.set_index('old', inplace=True)\n",
    "\n",
    "console.log('loading artist credit gids...')\n",
    "MB_artist_credit_list = pd.read_parquet('warehouse/MB_tables/artist_credit_release_gid.parquet')\n",
    "MB_artist_credit_list.set_index('recording_mbid', inplace=True)\n",
    "MB_artist_credit_list['artist_mbids'] = MB_artist_credit_list.artist_mbids.map(lambda x: x.strip('{}'))\n",
    "\n",
    "# Converting MB_rec_gid to set for faster lookup\n",
    "rec_gid_set = set(MB_rec_gid.index)\n",
    "\n",
    "TIME_LOGS['MB_end'] = monotonic()\n",
    "console.log(\"loaded MB tables. Took {} seconds\".format(round(TIME_LOGS['MB_end'] - TIME_LOGS['MB_start'], 2)))"
   ]
  },
  {
   "cell_type": "markdown",
   "metadata": {},
   "source": [
    "# Testing Functions with Sample Data"
   ]
  },
  {
   "cell_type": "code",
   "execution_count": 7,
   "metadata": {},
   "outputs": [],
   "source": [
    "# %%time\n",
    "df = io.load_path(MLHD_PATHS[50])"
   ]
  },
  {
   "cell_type": "code",
   "execution_count": 8,
   "metadata": {},
   "outputs": [
    {
     "data": {
      "text/html": [
       "<pre style=\"white-space:pre;overflow-x:auto;line-height:normal;font-family:Menlo,'DejaVu Sans Mono',consolas,'Courier New',monospace\"><span style=\"color: #7fbfbf; text-decoration-color: #7fbfbf\">[14:55:39] </span>Processed df. Took <span style=\"color: #008080; text-decoration-color: #008080; font-weight: bold\">18.23</span> s                                                              <a href=\"file:///tmp/ipykernel_3587095/3627551448.py\" target=\"_blank\"><span style=\"color: #7f7f7f; text-decoration-color: #7f7f7f\">3627551448.py</span></a><span style=\"color: #7f7f7f; text-decoration-color: #7f7f7f\">:</span><a href=\"file:///tmp/ipykernel_3587095/3627551448.py#64\" target=\"_blank\"><span style=\"color: #7f7f7f; text-decoration-color: #7f7f7f\">64</span></a>\n",
       "</pre>\n"
      ],
      "text/plain": [
       "\u001b[2;36m[14:55:39]\u001b[0m\u001b[2;36m \u001b[0mProcessed df. Took \u001b[1;36m18.23\u001b[0m s                                                              \u001b]8;id=977719;file:///tmp/ipykernel_3587095/3627551448.py\u001b\\\u001b[2m3627551448.py\u001b[0m\u001b]8;;\u001b\\\u001b[2m:\u001b[0m\u001b]8;id=372026;file:///tmp/ipykernel_3587095/3627551448.py#64\u001b\\\u001b[2m64\u001b[0m\u001b]8;;\u001b\\\n"
      ]
     },
     "metadata": {},
     "output_type": "display_data"
    }
   ],
   "source": [
    "# lower level functions for process_df\n",
    "def check_in_rec(mbid):\n",
    "    if mbid in rec_gid_set:\n",
    "        return mbid\n",
    "    else:\n",
    "        return nan\n",
    "\n",
    "def find_redirect(mbid):\n",
    "    # return io.replace(mbid, MB_rec_redirects, 'new')\n",
    "    try:\n",
    "        return MB_rec_redirects.at[mbid, 'new']\n",
    "    except KeyError:\n",
    "        return nan\n",
    "\n",
    "def find_canonical(mbid):\n",
    "    try:\n",
    "        return MB_rec_canonical.at[mbid, 'new']\n",
    "    except KeyError:\n",
    "        return nan\n",
    "\n",
    "def find_artist_release(mbid, input_df):\n",
    "    try:\n",
    "        return tuple(io.replace(mbid, MB_artist_credit_list, col_name) for col_name in input_df.columns)\n",
    "    except KeyError:\n",
    "        return tuple(None for col_name in input_df.columns)\n",
    "\n",
    "def process_df(df_input, keep_missing = cmc.KEEP_MISSING, turn_blank = cmc.TURN_BLANK):\n",
    "    \"\"\"Take an input df and process it into a cleaned df\n",
    "\n",
    "    Args:\n",
    "        df_input (pandas.DataFrame): input dataframe with columns: <timestamp, artist_MBID, release_MBID, recording_MBID>\n",
    "        keep_missing (bool, optional): If True, keep rows with missing, unknown MBIDs to maintain the structure of the original data.\n",
    "        turn_blank (bool, optional): If True, replace blank MBIDs with None\n",
    "\n",
    "    Returns:\n",
    "        pandas.DataFrame: Cleaned dataframe with columns: <timestamp, artist_MBID, release_MBID, recording_MBID>\n",
    "    \"\"\"\n",
    "\n",
    "    # # 1. Get redirects for MBIDs that aren't present in rec_gid_set using MB_rec_redirects.\n",
    "    # df_input['recording_MBID'] = df_input.recording_MBID.map(\n",
    "    #     lambda x: io.replace(x, MB_rec_redirects, 'new') \n",
    "    #     if x not in rec_gid_set else x)\n",
    "    \n",
    "    # # 2. Find canonical recordings for all cleaned/uncleaned recording_MBIDs\n",
    "    # df_input['recording_MBID'] = df_input['recording_MBID'].map(\n",
    "    #     lambda x: io.replace(x, MB_rec_canonical, 'new')\n",
    "    #     if io.replace(x, MB_rec_canonical, 'new') is not nan else x)\n",
    "\n",
    "    # # 3. Fetch artist, release_MBIDs for all recording_MBIDs\n",
    "    # artist_release_mbids = df_input['recording_MBID'].map(\n",
    "    #     lambda x: io.replace_multi(x, MB_artist_credit_list))\n",
    "    \n",
    "    # df_input[['artist_MBID', 'release_MBID']] = pd.DataFrame(\n",
    "    #     artist_release_mbids.tolist(), \n",
    "    #     columns = ['artist_MBID', 'release_MBID'], \n",
    "    #     index=df_input.index)\n",
    "\n",
    "    \n",
    "\n",
    "    return df_input\n",
    "\n",
    "TIME_LOGS['process_test_start'] = monotonic()\n",
    "processed = process_df(df)\n",
    "TIME_LOGS['process_test_end'] = monotonic()\n",
    "\n",
    "console.log(f\"Processed df. Took {round(TIME_LOGS['process_test_end'] - TIME_LOGS['process_test_start'], 2)} s\")"
   ]
  },
  {
   "cell_type": "code",
   "execution_count": 16,
   "metadata": {},
   "outputs": [
    {
     "data": {
      "text/html": [
       "<div>\n",
       "<style scoped>\n",
       "    .dataframe tbody tr th:only-of-type {\n",
       "        vertical-align: middle;\n",
       "    }\n",
       "\n",
       "    .dataframe tbody tr th {\n",
       "        vertical-align: top;\n",
       "    }\n",
       "\n",
       "    .dataframe thead th {\n",
       "        text-align: right;\n",
       "    }\n",
       "</style>\n",
       "<table border=\"1\" class=\"dataframe\">\n",
       "  <thead>\n",
       "    <tr style=\"text-align: right;\">\n",
       "      <th></th>\n",
       "      <th>timestamp</th>\n",
       "      <th>artist_MBID</th>\n",
       "      <th>release_MBID</th>\n",
       "      <th>recording_MBID</th>\n",
       "    </tr>\n",
       "  </thead>\n",
       "  <tbody>\n",
       "    <tr>\n",
       "      <th>0</th>\n",
       "      <td>1242583679</td>\n",
       "      <td>ba85753c-671a-409e-b813-1e3be41e2a2e</td>\n",
       "      <td>f0b4ab69-d604-4fb6-a667-cb9d5c37fc07</td>\n",
       "      <td>a0456176-7a99-4773-adba-f61d6793785d</td>\n",
       "    </tr>\n",
       "    <tr>\n",
       "      <th>1</th>\n",
       "      <td>1242583969</td>\n",
       "      <td>f660d7e2-a3bd-4456-a7be-86ec139c1016</td>\n",
       "      <td>98628c8e-366e-4f56-8b4b-804383ea0ec1</td>\n",
       "      <td>6afc8617-d545-4629-8151-9ee9d71c4742</td>\n",
       "    </tr>\n",
       "    <tr>\n",
       "      <th>2</th>\n",
       "      <td>1242584191</td>\n",
       "      <td>NaN</td>\n",
       "      <td>NaN</td>\n",
       "      <td>NaN</td>\n",
       "    </tr>\n",
       "    <tr>\n",
       "      <th>3</th>\n",
       "      <td>1242584530</td>\n",
       "      <td>98fb7792-01fa-4ed1-a15d-20077a47210f</td>\n",
       "      <td>9eff9026-18df-4f3c-bccb-a6933109d38e</td>\n",
       "      <td>1fdcf214-b4d5-4490-8626-5afeda04b73d</td>\n",
       "    </tr>\n",
       "    <tr>\n",
       "      <th>4</th>\n",
       "      <td>1242584820</td>\n",
       "      <td>d50a4b89-ff1f-4659-9fde-f76f8d5b3c89</td>\n",
       "      <td>a87d64df-77d5-452e-bb7a-8186a733c302</td>\n",
       "      <td>657cf27c-8f4a-4758-aaaa-bd5686d7e103</td>\n",
       "    </tr>\n",
       "    <tr>\n",
       "      <th>...</th>\n",
       "      <td>...</td>\n",
       "      <td>...</td>\n",
       "      <td>...</td>\n",
       "      <td>...</td>\n",
       "    </tr>\n",
       "    <tr>\n",
       "      <th>105041</th>\n",
       "      <td>1362539926</td>\n",
       "      <td>e61ce7e2-f78d-4fee-ac56-ef1a784c87fa</td>\n",
       "      <td>331c66e6-c230-455b-b84c-3a81d24b55fb</td>\n",
       "      <td>c8bd591d-f2e4-443b-9ecb-cac8cda277ce</td>\n",
       "    </tr>\n",
       "    <tr>\n",
       "      <th>105042</th>\n",
       "      <td>1362540203</td>\n",
       "      <td>e61ce7e2-f78d-4fee-ac56-ef1a784c87fa</td>\n",
       "      <td>331c66e6-c230-455b-b84c-3a81d24b55fb</td>\n",
       "      <td>e38b7e10-a263-49d2-a854-b0f263fad744</td>\n",
       "    </tr>\n",
       "    <tr>\n",
       "      <th>105043</th>\n",
       "      <td>1362540416</td>\n",
       "      <td>e61ce7e2-f78d-4fee-ac56-ef1a784c87fa</td>\n",
       "      <td>331c66e6-c230-455b-b84c-3a81d24b55fb</td>\n",
       "      <td>2de962ae-b1e0-46d1-80d8-25dfe55f87ff</td>\n",
       "    </tr>\n",
       "    <tr>\n",
       "      <th>105044</th>\n",
       "      <td>1362540609</td>\n",
       "      <td>NaN</td>\n",
       "      <td>NaN</td>\n",
       "      <td>NaN</td>\n",
       "    </tr>\n",
       "    <tr>\n",
       "      <th>105045</th>\n",
       "      <td>1362541410</td>\n",
       "      <td>NaN</td>\n",
       "      <td>NaN</td>\n",
       "      <td>NaN</td>\n",
       "    </tr>\n",
       "  </tbody>\n",
       "</table>\n",
       "<p>105046 rows × 4 columns</p>\n",
       "</div>"
      ],
      "text/plain": [
       "         timestamp                           artist_MBID  \\\n",
       "0       1242583679  ba85753c-671a-409e-b813-1e3be41e2a2e   \n",
       "1       1242583969  f660d7e2-a3bd-4456-a7be-86ec139c1016   \n",
       "2       1242584191                                   NaN   \n",
       "3       1242584530  98fb7792-01fa-4ed1-a15d-20077a47210f   \n",
       "4       1242584820  d50a4b89-ff1f-4659-9fde-f76f8d5b3c89   \n",
       "...            ...                                   ...   \n",
       "105041  1362539926  e61ce7e2-f78d-4fee-ac56-ef1a784c87fa   \n",
       "105042  1362540203  e61ce7e2-f78d-4fee-ac56-ef1a784c87fa   \n",
       "105043  1362540416  e61ce7e2-f78d-4fee-ac56-ef1a784c87fa   \n",
       "105044  1362540609                                   NaN   \n",
       "105045  1362541410                                   NaN   \n",
       "\n",
       "                                release_MBID  \\\n",
       "0       f0b4ab69-d604-4fb6-a667-cb9d5c37fc07   \n",
       "1       98628c8e-366e-4f56-8b4b-804383ea0ec1   \n",
       "2                                        NaN   \n",
       "3       9eff9026-18df-4f3c-bccb-a6933109d38e   \n",
       "4       a87d64df-77d5-452e-bb7a-8186a733c302   \n",
       "...                                      ...   \n",
       "105041  331c66e6-c230-455b-b84c-3a81d24b55fb   \n",
       "105042  331c66e6-c230-455b-b84c-3a81d24b55fb   \n",
       "105043  331c66e6-c230-455b-b84c-3a81d24b55fb   \n",
       "105044                                   NaN   \n",
       "105045                                   NaN   \n",
       "\n",
       "                              recording_MBID  \n",
       "0       a0456176-7a99-4773-adba-f61d6793785d  \n",
       "1       6afc8617-d545-4629-8151-9ee9d71c4742  \n",
       "2                                        NaN  \n",
       "3       1fdcf214-b4d5-4490-8626-5afeda04b73d  \n",
       "4       657cf27c-8f4a-4758-aaaa-bd5686d7e103  \n",
       "...                                      ...  \n",
       "105041  c8bd591d-f2e4-443b-9ecb-cac8cda277ce  \n",
       "105042  e38b7e10-a263-49d2-a854-b0f263fad744  \n",
       "105043  2de962ae-b1e0-46d1-80d8-25dfe55f87ff  \n",
       "105044                                   NaN  \n",
       "105045                                   NaN  \n",
       "\n",
       "[105046 rows x 4 columns]"
      ]
     },
     "execution_count": 16,
     "metadata": {},
     "output_type": "execute_result"
    }
   ],
   "source": [
    "processed"
   ]
  },
  {
   "cell_type": "code",
   "execution_count": 6,
   "metadata": {},
   "outputs": [],
   "source": [
    "df = io.load_path(MLHD_PATHS[50]) # Loading the table again, since the previous one was modified by process_df"
   ]
  },
  {
   "cell_type": "code",
   "execution_count": 7,
   "metadata": {},
   "outputs": [
    {
     "data": {
      "text/html": [
       "<pre style=\"white-space:pre;overflow-x:auto;line-height:normal;font-family:Menlo,'DejaVu Sans Mono',consolas,'Courier New',monospace\">% Coverage of artist MBIDs: w/ cleaned recording_MBID: <span style=\"color: #008080; text-decoration-color: #008080; font-weight: bold\">0.87</span> \n",
       "% Coverage of artist MBIDs: <span style=\"color: #008080; text-decoration-color: #008080; font-weight: bold\">0.97</span>\n",
       "</pre>\n"
      ],
      "text/plain": [
       "% Coverage of artist MBIDs: w/ cleaned recording_MBID: \u001b[1;36m0.87\u001b[0m \n",
       "% Coverage of artist MBIDs: \u001b[1;36m0.97\u001b[0m\n"
      ]
     },
     "metadata": {},
     "output_type": "display_data"
    },
    {
     "data": {
      "text/html": [
       "<pre style=\"white-space:pre;overflow-x:auto;line-height:normal;font-family:Menlo,'DejaVu Sans Mono',consolas,'Courier New',monospace\">% Coverage of release MBIDs: cleaned recording_MBID: <span style=\"color: #008080; text-decoration-color: #008080; font-weight: bold\">0.87</span> \n",
       "% Coverage of release MBIDs: <span style=\"color: #008080; text-decoration-color: #008080; font-weight: bold\">0.79</span>\n",
       "</pre>\n"
      ],
      "text/plain": [
       "% Coverage of release MBIDs: cleaned recording_MBID: \u001b[1;36m0.87\u001b[0m \n",
       "% Coverage of release MBIDs: \u001b[1;36m0.79\u001b[0m\n"
      ]
     },
     "metadata": {},
     "output_type": "display_data"
    }
   ],
   "source": [
    "# Some Stats/tests\n",
    "\n",
    "print(\n",
    "    \"% Coverage of artist MBIDs: w/ cleaned recording_MBID:\",\n",
    "    round(processed.artist_MBID.isna().value_counts()[0]/processed.artist_MBID.isna().value_counts().sum(), 2),\n",
    "    \"\\n\"\n",
    "    \"% Coverage of artist MBIDs:\",\n",
    "    round(df.artist_MBID.isna().value_counts()[0]/df.artist_MBID.isna().value_counts().sum(), 2)\n",
    "    )\n",
    "\n",
    "print(\n",
    "    \"% Coverage of release MBIDs: cleaned recording_MBID:\",\n",
    "    round(processed.release_MBID.isna().value_counts()[0]/processed.release_MBID.isna().value_counts().sum(), 2),\n",
    "    \"\\n\"\n",
    "    \"% Coverage of release MBIDs:\",\n",
    "    round(df.release_MBID.isna().value_counts()[0]/df.release_MBID.isna().value_counts().sum(), 2)\n",
    "    )"
   ]
  },
  {
   "cell_type": "code",
   "execution_count": 8,
   "metadata": {},
   "outputs": [
    {
     "data": {
      "text/html": [
       "<pre style=\"white-space:pre;overflow-x:auto;line-height:normal;font-family:Menlo,'DejaVu Sans Mono',consolas,'Courier New',monospace\">% valid artist_MBIDs <span style=\"color: #008080; text-decoration-color: #008080; font-weight: bold\">91493</span>\n",
       "</pre>\n"
      ],
      "text/plain": [
       "% valid artist_MBIDs \u001b[1;36m91493\u001b[0m\n"
      ]
     },
     "metadata": {},
     "output_type": "display_data"
    },
    {
     "data": {
      "text/html": [
       "<pre style=\"white-space:pre;overflow-x:auto;line-height:normal;font-family:Menlo,'DejaVu Sans Mono',consolas,'Courier New',monospace\">% valid release_MBIDs <span style=\"color: #008080; text-decoration-color: #008080; font-weight: bold\">91493</span>\n",
       "</pre>\n"
      ],
      "text/plain": [
       "% valid release_MBIDs \u001b[1;36m91493\u001b[0m\n"
      ]
     },
     "metadata": {},
     "output_type": "display_data"
    },
    {
     "data": {
      "text/html": [
       "<pre style=\"white-space:pre;overflow-x:auto;line-height:normal;font-family:Menlo,'DejaVu Sans Mono',consolas,'Courier New',monospace\">% valid recording_MBIDs <span style=\"color: #008080; text-decoration-color: #008080; font-weight: bold\">91569</span>\n",
       "</pre>\n"
      ],
      "text/plain": [
       "% valid recording_MBIDs \u001b[1;36m91569\u001b[0m\n"
      ]
     },
     "metadata": {},
     "output_type": "display_data"
    }
   ],
   "source": [
    "print(\"% valid artist_MBIDs\", (processed.artist_MBID.isna().value_counts()[0]))\n",
    "print(\"% valid release_MBIDs\", (processed.release_MBID.isna().value_counts()[0]))\n",
    "print(\"% valid recording_MBIDs\", (processed.recording_MBID.isna().value_counts()[0]))"
   ]
  },
  {
   "cell_type": "code",
   "execution_count": 86,
   "metadata": {},
   "outputs": [
    {
     "name": "stderr",
     "output_type": "stream",
     "text": [
      "SettingWithCopyWarning: \n",
      "A value is trying to be set on a copy of a slice from a DataFrame.\n",
      "Try using .loc[row_indexer,col_indexer] = value instead\n",
      "\n",
      "See the caveats in the documentation: https://pandas.pydata.org/pandas-docs/stable/user_guide/indexing.html#returning-a-view-versus-a-copy\n",
      "SettingWithCopyWarning: \n",
      "A value is trying to be set on a copy of a slice from a DataFrame.\n",
      "Try using .loc[row_indexer,col_indexer] = value instead\n",
      "\n",
      "See the caveats in the documentation: https://pandas.pydata.org/pandas-docs/stable/user_guide/indexing.html#returning-a-view-versus-a-copy\n"
     ]
    }
   ],
   "source": [
    "# Processing time for unique rows.\n",
    "\n",
    "TIME_LOGS['process_unique_start'] = monotonic()\n",
    "\n",
    "df_unique = df.drop_duplicates(subset = ['recording_MBID', 'artist_MBID', 'release_MBID'])\n",
    "processed_unique = process_df(df_unique)\n",
    "\n",
    "TIME_LOGS['process_unique_end'] = monotonic()\n",
    "\n",
    "console.log(f\"Processed df. Took {round(TIME_LOGS['process_unique_end'] - TIME_LOGS['process_unique_start'], 2)} s\")\n",
    "processed_unique"
   ]
  },
  {
   "cell_type": "code",
   "execution_count": 12,
   "metadata": {},
   "outputs": [
    {
     "data": {
      "text/html": [
       "<pre style=\"white-space:pre;overflow-x:auto;line-height:normal;font-family:Menlo,'DejaVu Sans Mono',consolas,'Courier New',monospace\">% Coverage of artist MBIDs: w/ UNIQUE cleaned recording_MBID: <span style=\"color: #008080; text-decoration-color: #008080; font-weight: bold\">0.943482</span> \n",
       "% Coverage of artist MBIDs: <span style=\"color: #008080; text-decoration-color: #008080; font-weight: bold\">0.943482</span>\n",
       "</pre>\n"
      ],
      "text/plain": [
       "% Coverage of artist MBIDs: w/ UNIQUE cleaned recording_MBID: \u001b[1;36m0.943482\u001b[0m \n",
       "% Coverage of artist MBIDs: \u001b[1;36m0.943482\u001b[0m\n"
      ]
     },
     "metadata": {},
     "output_type": "display_data"
    },
    {
     "data": {
      "text/html": [
       "<pre style=\"white-space:pre;overflow-x:auto;line-height:normal;font-family:Menlo,'DejaVu Sans Mono',consolas,'Courier New',monospace\">% Coverage of release MBIDs: w/ UNIQUE cleaned recording_MBID: <span style=\"color: #008080; text-decoration-color: #008080; font-weight: bold\">0.943482</span> \n",
       "% Coverage of release MBIDs: <span style=\"color: #008080; text-decoration-color: #008080; font-weight: bold\">0.943482</span>\n",
       "</pre>\n"
      ],
      "text/plain": [
       "% Coverage of release MBIDs: w/ UNIQUE cleaned recording_MBID: \u001b[1;36m0.943482\u001b[0m \n",
       "% Coverage of release MBIDs: \u001b[1;36m0.943482\u001b[0m\n"
      ]
     },
     "metadata": {},
     "output_type": "display_data"
    },
    {
     "data": {
      "text/html": [
       "<pre style=\"white-space:pre;overflow-x:auto;line-height:normal;font-family:Menlo,'DejaVu Sans Mono',consolas,'Courier New',monospace\">% Coverage of recording MBIDs: w/ UNIQUE cleaned recording_MBID: <span style=\"color: #008080; text-decoration-color: #008080; font-weight: bold\">0.944248</span> \n",
       "% Coverage of release MBIDs: <span style=\"color: #008080; text-decoration-color: #008080; font-weight: bold\">0.944248</span>\n",
       "</pre>\n"
      ],
      "text/plain": [
       "% Coverage of recording MBIDs: w/ UNIQUE cleaned recording_MBID: \u001b[1;36m0.944248\u001b[0m \n",
       "% Coverage of release MBIDs: \u001b[1;36m0.944248\u001b[0m\n"
      ]
     },
     "metadata": {},
     "output_type": "display_data"
    }
   ],
   "source": [
    "# Some Stats/tests for UNIQUE recording_MBIDs\n",
    "\n",
    "print(\n",
    "    \"% Coverage of artist MBIDs: w/ UNIQUE cleaned recording_MBID:\",\n",
    "    round(processed_unique.artist_MBID.isna().value_counts()[0]/processed_unique.artist_MBID.isna().value_counts().sum(), 6),\n",
    "    \"\\n\"\n",
    "    \"% Coverage of artist MBIDs:\",\n",
    "    round(df_unique.artist_MBID.isna().value_counts()[0]/df_unique.artist_MBID.isna().value_counts().sum(), 6)\n",
    "    )\n",
    "\n",
    "print(\n",
    "    \"% Coverage of release MBIDs: w/ UNIQUE cleaned recording_MBID:\",\n",
    "    round(processed_unique.release_MBID.isna().value_counts()[0]/processed_unique.release_MBID.isna().value_counts().sum(), 6),\n",
    "    \"\\n\"\n",
    "    \"% Coverage of release MBIDs:\",\n",
    "    round(df_unique.release_MBID.isna().value_counts()[0]/df_unique.release_MBID.isna().value_counts().sum(), 6)\n",
    "    )\n",
    "\n",
    "print(\n",
    "    \"% Coverage of recording MBIDs: w/ UNIQUE cleaned recording_MBID:\",\n",
    "    round(processed_unique.recording_MBID.isna().value_counts()[0]/processed_unique.recording_MBID.isna().value_counts().sum(), 6),\n",
    "    \"\\n\"\n",
    "    \"% Coverage of release MBIDs:\",\n",
    "    round(df_unique.recording_MBID.isna().value_counts()[0]/df_unique.recording_MBID.isna().value_counts().sum(), 6)\n",
    "    )"
   ]
  },
  {
   "cell_type": "markdown",
   "metadata": {},
   "source": [
    "## Vectorization"
   ]
  },
  {
   "cell_type": "code",
   "execution_count": 73,
   "metadata": {},
   "outputs": [],
   "source": [
    "from numba import njit, jit\n",
    "from numba import vectorize as vectorize_numba\n",
    "\n",
    "from numpy import vectorize as vectorize_numpy \n",
    "# From NumPy documentation: The vectorize function is provided primarily for convenience, not for performance. The implementation is essentially a for loop."
   ]
  },
  {
   "cell_type": "code",
   "execution_count": 74,
   "metadata": {},
   "outputs": [],
   "source": [
    "def check_in_rec(mbid):\n",
    "    if mbid in rec_gid_set:\n",
    "        return mbid\n",
    "    else:\n",
    "        return nan\n",
    "\n",
    "check_in_rec_vectorized = vectorize_numpy(check_in_rec, otypes = [str])"
   ]
  },
  {
   "cell_type": "code",
   "execution_count": 59,
   "metadata": {},
   "outputs": [
    {
     "name": "stdout",
     "output_type": "stream",
     "text": [
      "CPU times: user 54.2 ms, sys: 471 µs, total: 54.6 ms\n",
      "Wall time: 52.6 ms\n"
     ]
    },
    {
     "data": {
      "text/plain": [
       "array(['nan', '6afc8617-d545-4629-8151-9ee9d71c4742', 'nan', ...,\n",
       "       '2de962ae-b1e0-46d1-80d8-25dfe55f87ff', 'nan', 'nan'], dtype='<U36')"
      ]
     },
     "execution_count": 59,
     "metadata": {},
     "output_type": "execute_result"
    }
   ],
   "source": [
    "%%time\n",
    "check_in_rec_vectorized(df['recording_MBID'])"
   ]
  },
  {
   "cell_type": "code",
   "execution_count": 60,
   "metadata": {},
   "outputs": [
    {
     "name": "stdout",
     "output_type": "stream",
     "text": [
      "CPU times: user 31.2 ms, sys: 0 ns, total: 31.2 ms\n",
      "Wall time: 29.7 ms\n"
     ]
    },
    {
     "data": {
      "text/plain": [
       "0                                          NaN\n",
       "1         6afc8617-d545-4629-8151-9ee9d71c4742\n",
       "2                                          NaN\n",
       "3         1fdcf214-b4d5-4490-8626-5afeda04b73d\n",
       "4         657cf27c-8f4a-4758-aaaa-bd5686d7e103\n",
       "                          ...                 \n",
       "105041    724801b2-8540-4619-8c90-2d3ad30275da\n",
       "105042    94c5fb28-66e1-49cf-8cdd-3d876683eef6\n",
       "105043    2de962ae-b1e0-46d1-80d8-25dfe55f87ff\n",
       "105044                                     NaN\n",
       "105045                                     NaN\n",
       "Name: recording_MBID, Length: 105046, dtype: object"
      ]
     },
     "execution_count": 60,
     "metadata": {},
     "output_type": "execute_result"
    }
   ],
   "source": [
    "%%time\n",
    "df['recording_MBID'].map(check_in_rec)"
   ]
  },
  {
   "cell_type": "markdown",
   "metadata": {},
   "source": [
    "Apparently numpy.vectorize() function is actually slower in this case. :|\n",
    "\n",
    "Let's try with Numba this time."
   ]
  },
  {
   "cell_type": "code",
   "execution_count": 75,
   "metadata": {},
   "outputs": [],
   "source": [
    "@jit\n",
    "def check_in_rec_vectorized_numba(mbid):\n",
    "    if mbid in rec_gid_set:\n",
    "        return mbid\n",
    "    else:\n",
    "        return nan"
   ]
  },
  {
   "cell_type": "code",
   "execution_count": 82,
   "metadata": {},
   "outputs": [
    {
     "data": {
      "text/html": [
       "<pre style=\"white-space:pre;overflow-x:auto;line-height:normal;font-family:Menlo,'DejaVu Sans Mono',consolas,'Courier New',monospace\">Some damn error that I can't seem to figure out.\n",
       "</pre>\n"
      ],
      "text/plain": [
       "Some damn error that I can't seem to figure out.\n"
      ]
     },
     "metadata": {},
     "output_type": "display_data"
    },
    {
     "name": "stdout",
     "output_type": "stream",
     "text": [
      "CPU times: user 5.18 ms, sys: 272 µs, total: 5.45 ms\n",
      "Wall time: 4.29 ms\n"
     ]
    }
   ],
   "source": [
    "%%time\n",
    "try\n",
    "    check_in_rec_vectorized_numba(df['recording_MBID'].values)\n",
    "except:\n",
    "    print(\"Some damn error that I can't seem to figure out.\")"
   ]
  },
  {
   "cell_type": "markdown",
   "metadata": {},
   "source": [
    "Probably the best option here is to intelligently use faster inbuild pandas methods and avoid the map/apply functions altogether.\n",
    "\n",
    "OR let's try other libraries like Modin or Dask, etc."
   ]
  },
  {
   "cell_type": "code",
   "execution_count": 85,
   "metadata": {},
   "outputs": [],
   "source": [
    "import modin.pandas as mpd"
   ]
  },
  {
   "cell_type": "code",
   "execution_count": null,
   "metadata": {},
   "outputs": [],
   "source": [
    "def check_in_rec(mbid):\n",
    "    if mbid in rec_gid_set:\n",
    "        return mbid\n",
    "    else:\n",
    "        return nan\n",
    "\n",
    "# def get_redir():"
   ]
  },
  {
   "cell_type": "markdown",
   "metadata": {},
   "source": [
    "# Implementation"
   ]
  },
  {
   "cell_type": "code",
   "execution_count": null,
   "metadata": {},
   "outputs": [],
   "source": [
    "def driver(\n",
    "    path_list, \n",
    "    keep_missing = clean_master_config.KEEP_MISSING, \n",
    "    turn_blank = clean_master_config.TURN_BLANK, \n",
    "    write_epochs = clean_master_config.WRITE_EPOCHS):\n",
    "\n",
    "    \"\"\"Driver function to clean all the tables in the path_list\n",
    "\n",
    "    Args:\n",
    "        path_list (list): List of paths to the tables to be cleaned\n",
    "        keep_missing (bool, optional): If True, keep rows with missing, unknown MBIDs to maintain the structure of the original data.\n",
    "        turn_blank (bool, optional): If True, replace blank MBIDs with None\n",
    "\n",
    "    Returns:\n",
    "        list: List of cleaned dataframes\n",
    "    \"\"\"\n",
    "\n",
    "    cleaned_dfs = []\n",
    "    for path in path_list:\n",
    "        df = io.load_path(path)\n",
    "        cleaned_dfs.append(process_df(df, keep_missing, turn_blank))\n",
    "\n",
    "    return cleaned_dfs"
   ]
  }
 ],
 "metadata": {
  "kernelspec": {
   "display_name": "Python 3.8.10 ('env': venv)",
   "language": "python",
   "name": "python3"
  },
  "language_info": {
   "codemirror_mode": {
    "name": "ipython",
    "version": 3
   },
   "file_extension": ".py",
   "mimetype": "text/x-python",
   "name": "python",
   "nbconvert_exporter": "python",
   "pygments_lexer": "ipython3",
   "version": "3.8.10"
  },
  "orig_nbformat": 4,
  "vscode": {
   "interpreter": {
    "hash": "99207027a3abb1e120e2013d5a83e642456faefc5cbc1acefa0d682e37a8f4b0"
   }
  }
 },
 "nbformat": 4,
 "nbformat_minor": 2
}
