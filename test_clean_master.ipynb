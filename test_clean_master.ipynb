{
 "cells": [
  {
   "cell_type": "code",
   "execution_count": 1,
   "metadata": {},
   "outputs": [
    {
     "data": {
      "text/html": [
       "<pre style=\"white-space:pre;overflow-x:auto;line-height:normal;font-family:Menlo,'DejaVu Sans Mono',consolas,'Courier New',monospace\"></pre>\n"
      ],
      "text/plain": []
     },
     "metadata": {},
     "output_type": "display_data"
    }
   ],
   "source": [
    "# Essential Imports\n",
    "from lib import io_ as io\n",
    "from time import monotonic\n",
    "from rich.progress import track\n",
    "from numpy import nan\n",
    "import pandas as pd\n",
    "import config\n",
    "import clean_master_config\n",
    "\n",
    "# For pretty CLI\n",
    "from rich import print\n",
    "from rich.console import Console\n",
    "console = Console()\n",
    "console.clear()"
   ]
  },
  {
   "cell_type": "code",
   "execution_count": 2,
   "metadata": {},
   "outputs": [
    {
     "data": {
      "text/html": [
       "<pre style=\"white-space:pre;overflow-x:auto;line-height:normal;font-family:Menlo,'DejaVu Sans Mono',consolas,'Courier New',monospace\"><span style=\"color: #7fbfbf; text-decoration-color: #7fbfbf\">[19:32:44] </span>Loading ENV variables<span style=\"color: #808000; text-decoration-color: #808000\">...</span>                                                                <a href=\"file:///tmp/ipykernel_2385007/1928009911.py\" target=\"_blank\"><span style=\"color: #7f7f7f; text-decoration-color: #7f7f7f\">1928009911.py</span></a><span style=\"color: #7f7f7f; text-decoration-color: #7f7f7f\">:</span><a href=\"file:///tmp/ipykernel_2385007/1928009911.py#10\" target=\"_blank\"><span style=\"color: #7f7f7f; text-decoration-color: #7f7f7f\">10</span></a>\n",
       "</pre>\n"
      ],
      "text/plain": [
       "\u001b[2;36m[19:32:44]\u001b[0m\u001b[2;36m \u001b[0mLoading ENV variables\u001b[33m...\u001b[0m                                                                \u001b]8;id=767092;file:///tmp/ipykernel_2385007/1928009911.py\u001b\\\u001b[2m1928009911.py\u001b[0m\u001b]8;;\u001b\\\u001b[2m:\u001b[0m\u001b]8;id=460082;file:///tmp/ipykernel_2385007/1928009911.py#10\u001b\\\u001b[2m10\u001b[0m\u001b]8;;\u001b\\\n"
      ]
     },
     "metadata": {},
     "output_type": "display_data"
    },
    {
     "data": {
      "text/html": [
       "<pre style=\"white-space:pre;overflow-x:auto;line-height:normal;font-family:Menlo,'DejaVu Sans Mono',consolas,'Courier New',monospace\"><span style=\"color: #7fbfbf; text-decoration-color: #7fbfbf\">           </span>Generating MLHD Paths<span style=\"color: #808000; text-decoration-color: #808000\">...</span>                                                                <a href=\"file:///tmp/ipykernel_2385007/1928009911.py\" target=\"_blank\"><span style=\"color: #7f7f7f; text-decoration-color: #7f7f7f\">1928009911.py</span></a><span style=\"color: #7f7f7f; text-decoration-color: #7f7f7f\">:</span><a href=\"file:///tmp/ipykernel_2385007/1928009911.py#19\" target=\"_blank\"><span style=\"color: #7f7f7f; text-decoration-color: #7f7f7f\">19</span></a>\n",
       "</pre>\n"
      ],
      "text/plain": [
       "\u001b[2;36m          \u001b[0m\u001b[2;36m \u001b[0mGenerating MLHD Paths\u001b[33m...\u001b[0m                                                                \u001b]8;id=19543;file:///tmp/ipykernel_2385007/1928009911.py\u001b\\\u001b[2m1928009911.py\u001b[0m\u001b]8;;\u001b\\\u001b[2m:\u001b[0m\u001b]8;id=22201;file:///tmp/ipykernel_2385007/1928009911.py#19\u001b\\\u001b[2m19\u001b[0m\u001b]8;;\u001b\\\n"
      ]
     },
     "metadata": {},
     "output_type": "display_data"
    }
   ],
   "source": [
    "### Getting started ###\n",
    "\n",
    "io.generate_folders()   # Generate folders to write all outputs (as specified in config.py)\n",
    "master_start = monotonic()  # Start a timer\n",
    "\n",
    "OUTPUT_LOG = {} # Log discrepancies\n",
    "TIME_LOGS = {}  # Logs time taken for each step\n",
    "\n",
    "# Loading ENV variables\n",
    "console.log(\"Loading ENV variables...\")\n",
    "# ENV = io.get_config()\n",
    "\n",
    "MLHD_ROOT = config.MLHD_ROOT\n",
    "WRITE_ROOT = config.WRITE_ROOT\n",
    "LOG_WRITE_PATH = config.LOG_WRITE_PATH\n",
    "LOG_EPOCH = config.LOG_EPOCH\n",
    "\n",
    "# 1 Dimensional list of MLHD file paths\n",
    "console.log(\"Generating MLHD Paths...\")\n",
    "MLHD_PATHS = io.generate_paths(MLHD_ROOT)"
   ]
  },
  {
   "cell_type": "code",
   "execution_count": 3,
   "metadata": {},
   "outputs": [
    {
     "data": {
      "text/html": [
       "<pre style=\"white-space:pre;overflow-x:auto;line-height:normal;font-family:Menlo,'DejaVu Sans Mono',consolas,'Courier New',monospace\"><span style=\"color: #7fbfbf; text-decoration-color: #7fbfbf\">[19:32:46] </span>loading recording gids<span style=\"color: #808000; text-decoration-color: #808000\">...</span>                                                                <a href=\"file:///tmp/ipykernel_2385007/2043890690.py\" target=\"_blank\"><span style=\"color: #7f7f7f; text-decoration-color: #7f7f7f\">2043890690.py</span></a><span style=\"color: #7f7f7f; text-decoration-color: #7f7f7f\">:</span><a href=\"file:///tmp/ipykernel_2385007/2043890690.py#6\" target=\"_blank\"><span style=\"color: #7f7f7f; text-decoration-color: #7f7f7f\">6</span></a>\n",
       "</pre>\n"
      ],
      "text/plain": [
       "\u001b[2;36m[19:32:46]\u001b[0m\u001b[2;36m \u001b[0mloading recording gids\u001b[33m...\u001b[0m                                                                \u001b]8;id=505032;file:///tmp/ipykernel_2385007/2043890690.py\u001b\\\u001b[2m2043890690.py\u001b[0m\u001b]8;;\u001b\\\u001b[2m:\u001b[0m\u001b]8;id=122133;file:///tmp/ipykernel_2385007/2043890690.py#6\u001b\\\u001b[2m6\u001b[0m\u001b]8;;\u001b\\\n"
      ]
     },
     "metadata": {},
     "output_type": "display_data"
    },
    {
     "data": {
      "text/html": [
       "<pre style=\"white-space:pre;overflow-x:auto;line-height:normal;font-family:Menlo,'DejaVu Sans Mono',consolas,'Courier New',monospace\"><span style=\"color: #7fbfbf; text-decoration-color: #7fbfbf\">[19:32:58] </span>loading recording redirects<span style=\"color: #808000; text-decoration-color: #808000\">...</span>                                                          <a href=\"file:///tmp/ipykernel_2385007/2043890690.py\" target=\"_blank\"><span style=\"color: #7f7f7f; text-decoration-color: #7f7f7f\">2043890690.py</span></a><span style=\"color: #7f7f7f; text-decoration-color: #7f7f7f\">:</span><a href=\"file:///tmp/ipykernel_2385007/2043890690.py#10\" target=\"_blank\"><span style=\"color: #7f7f7f; text-decoration-color: #7f7f7f\">10</span></a>\n",
       "</pre>\n"
      ],
      "text/plain": [
       "\u001b[2;36m[19:32:58]\u001b[0m\u001b[2;36m \u001b[0mloading recording redirects\u001b[33m...\u001b[0m                                                          \u001b]8;id=938891;file:///tmp/ipykernel_2385007/2043890690.py\u001b\\\u001b[2m2043890690.py\u001b[0m\u001b]8;;\u001b\\\u001b[2m:\u001b[0m\u001b]8;id=188198;file:///tmp/ipykernel_2385007/2043890690.py#10\u001b\\\u001b[2m10\u001b[0m\u001b]8;;\u001b\\\n"
      ]
     },
     "metadata": {},
     "output_type": "display_data"
    },
    {
     "data": {
      "text/html": [
       "<pre style=\"white-space:pre;overflow-x:auto;line-height:normal;font-family:Menlo,'DejaVu Sans Mono',consolas,'Courier New',monospace\"><span style=\"color: #7fbfbf; text-decoration-color: #7fbfbf\">[19:33:01] </span>loading recording canonical MBIDs<span style=\"color: #808000; text-decoration-color: #808000\">...</span>                                                    <a href=\"file:///tmp/ipykernel_2385007/2043890690.py\" target=\"_blank\"><span style=\"color: #7f7f7f; text-decoration-color: #7f7f7f\">2043890690.py</span></a><span style=\"color: #7f7f7f; text-decoration-color: #7f7f7f\">:</span><a href=\"file:///tmp/ipykernel_2385007/2043890690.py#14\" target=\"_blank\"><span style=\"color: #7f7f7f; text-decoration-color: #7f7f7f\">14</span></a>\n",
       "</pre>\n"
      ],
      "text/plain": [
       "\u001b[2;36m[19:33:01]\u001b[0m\u001b[2;36m \u001b[0mloading recording canonical MBIDs\u001b[33m...\u001b[0m                                                    \u001b]8;id=134265;file:///tmp/ipykernel_2385007/2043890690.py\u001b\\\u001b[2m2043890690.py\u001b[0m\u001b]8;;\u001b\\\u001b[2m:\u001b[0m\u001b]8;id=396783;file:///tmp/ipykernel_2385007/2043890690.py#14\u001b\\\u001b[2m14\u001b[0m\u001b]8;;\u001b\\\n"
      ]
     },
     "metadata": {},
     "output_type": "display_data"
    },
    {
     "data": {
      "text/html": [
       "<pre style=\"white-space:pre;overflow-x:auto;line-height:normal;font-family:Menlo,'DejaVu Sans Mono',consolas,'Courier New',monospace\"><span style=\"color: #7fbfbf; text-decoration-color: #7fbfbf\">[19:33:05] </span>loading artist credit gids<span style=\"color: #808000; text-decoration-color: #808000\">...</span>                                                           <a href=\"file:///tmp/ipykernel_2385007/2043890690.py\" target=\"_blank\"><span style=\"color: #7f7f7f; text-decoration-color: #7f7f7f\">2043890690.py</span></a><span style=\"color: #7f7f7f; text-decoration-color: #7f7f7f\">:</span><a href=\"file:///tmp/ipykernel_2385007/2043890690.py#18\" target=\"_blank\"><span style=\"color: #7f7f7f; text-decoration-color: #7f7f7f\">18</span></a>\n",
       "</pre>\n"
      ],
      "text/plain": [
       "\u001b[2;36m[19:33:05]\u001b[0m\u001b[2;36m \u001b[0mloading artist credit gids\u001b[33m...\u001b[0m                                                           \u001b]8;id=73541;file:///tmp/ipykernel_2385007/2043890690.py\u001b\\\u001b[2m2043890690.py\u001b[0m\u001b]8;;\u001b\\\u001b[2m:\u001b[0m\u001b]8;id=42200;file:///tmp/ipykernel_2385007/2043890690.py#18\u001b\\\u001b[2m18\u001b[0m\u001b]8;;\u001b\\\n"
      ]
     },
     "metadata": {},
     "output_type": "display_data"
    },
    {
     "data": {
      "text/html": [
       "<pre style=\"white-space:pre;overflow-x:auto;line-height:normal;font-family:Menlo,'DejaVu Sans Mono',consolas,'Courier New',monospace\"><span style=\"color: #7fbfbf; text-decoration-color: #7fbfbf\">[19:33:26] </span>loaded MB tables. Took <span style=\"color: #008080; text-decoration-color: #008080; font-weight: bold\">40.46</span> seconds                                                    <a href=\"file:///tmp/ipykernel_2385007/2043890690.py\" target=\"_blank\"><span style=\"color: #7f7f7f; text-decoration-color: #7f7f7f\">2043890690.py</span></a><span style=\"color: #7f7f7f; text-decoration-color: #7f7f7f\">:</span><a href=\"file:///tmp/ipykernel_2385007/2043890690.py#26\" target=\"_blank\"><span style=\"color: #7f7f7f; text-decoration-color: #7f7f7f\">26</span></a>\n",
       "</pre>\n"
      ],
      "text/plain": [
       "\u001b[2;36m[19:33:26]\u001b[0m\u001b[2;36m \u001b[0mloaded MB tables. Took \u001b[1;36m40.46\u001b[0m seconds                                                    \u001b]8;id=693984;file:///tmp/ipykernel_2385007/2043890690.py\u001b\\\u001b[2m2043890690.py\u001b[0m\u001b]8;;\u001b\\\u001b[2m:\u001b[0m\u001b]8;id=767801;file:///tmp/ipykernel_2385007/2043890690.py#26\u001b\\\u001b[2m26\u001b[0m\u001b]8;;\u001b\\\n"
      ]
     },
     "metadata": {},
     "output_type": "display_data"
    }
   ],
   "source": [
    "# %%time\n",
    "### LOADING MB TABLES ###\n",
    "\n",
    "TIME_LOGS['MB_start'] = monotonic()\n",
    "\n",
    "console.log('loading recording gids...')\n",
    "MB_rec_gid = pd.read_parquet('warehouse/MB_tables/recording_gid.parquet')\n",
    "MB_rec_gid.set_index('gid', inplace=True)\n",
    "\n",
    "console.log('loading recording redirects...')\n",
    "MB_rec_redirects = pd.read_parquet('warehouse/MB_tables/recording_redirects.parquet')\n",
    "MB_rec_redirects.set_index('old', inplace=True)\n",
    "\n",
    "console.log('loading recording canonical MBIDs...')\n",
    "MB_rec_canonical = pd.read_parquet('warehouse/MB_tables/recording_canonical.parquet')\n",
    "MB_rec_canonical.set_index('old', inplace=True)\n",
    "\n",
    "console.log('loading artist credit gids...')\n",
    "MB_artist_credit_list = pd.read_parquet('warehouse/MB_tables/artist_credit_gid.parquet')\n",
    "MB_artist_credit_list.set_index('rec_gid', inplace=True)\n",
    "\n",
    "# Converting MB_rec_gid to set for faster lookup\n",
    "rec_gid_set = set(MB_rec_gid.index)\n",
    "\n",
    "TIME_LOGS['MB_end'] = monotonic()\n",
    "console.log(\"loaded MB tables. Took {} seconds\".format(round(TIME_LOGS['MB_end'] - TIME_LOGS['MB_start'], 2)))"
   ]
  },
  {
   "cell_type": "markdown",
   "metadata": {},
   "source": [
    "# Testing Functions with Sample Data"
   ]
  },
  {
   "cell_type": "code",
   "execution_count": 33,
   "metadata": {},
   "outputs": [
    {
     "data": {
      "text/html": [
       "<div>\n",
       "<style scoped>\n",
       "    .dataframe tbody tr th:only-of-type {\n",
       "        vertical-align: middle;\n",
       "    }\n",
       "\n",
       "    .dataframe tbody tr th {\n",
       "        vertical-align: top;\n",
       "    }\n",
       "\n",
       "    .dataframe thead th {\n",
       "        text-align: right;\n",
       "    }\n",
       "</style>\n",
       "<table border=\"1\" class=\"dataframe\">\n",
       "  <thead>\n",
       "    <tr style=\"text-align: right;\">\n",
       "      <th></th>\n",
       "      <th>timestamp</th>\n",
       "      <th>artist_MBID</th>\n",
       "      <th>release_MBID</th>\n",
       "      <th>recording_MBID</th>\n",
       "    </tr>\n",
       "  </thead>\n",
       "  <tbody>\n",
       "    <tr>\n",
       "      <th>0</th>\n",
       "      <td>1242583679</td>\n",
       "      <td>ba85753c-671a-409e-b813-1e3be41e2a2e</td>\n",
       "      <td>0a2d7193-fc4b-418c-8581-08d2695f884a</td>\n",
       "      <td>0d7960f0-ee33-4868-8e9e-7c705558b6e5</td>\n",
       "    </tr>\n",
       "    <tr>\n",
       "      <th>1</th>\n",
       "      <td>1242583969</td>\n",
       "      <td>f660d7e2-a3bd-4456-a7be-86ec139c1016</td>\n",
       "      <td>6ecac165-0267-3822-b995-cda1282ea5b5</td>\n",
       "      <td>6afc8617-d545-4629-8151-9ee9d71c4742</td>\n",
       "    </tr>\n",
       "    <tr>\n",
       "      <th>2</th>\n",
       "      <td>1242584191</td>\n",
       "      <td>371f152d-1643-4b54-b32b-dd13d4c23442</td>\n",
       "      <td>59c844ca-4c11-452d-8330-c107892319eb</td>\n",
       "      <td>e2477990-d9b1-43b6-b8db-be03e43559c4</td>\n",
       "    </tr>\n",
       "    <tr>\n",
       "      <th>3</th>\n",
       "      <td>1242584530</td>\n",
       "      <td>98fb7792-01fa-4ed1-a15d-20077a47210f</td>\n",
       "      <td>NaN</td>\n",
       "      <td>1fdcf214-b4d5-4490-8626-5afeda04b73d</td>\n",
       "    </tr>\n",
       "    <tr>\n",
       "      <th>4</th>\n",
       "      <td>1242584820</td>\n",
       "      <td>d50a4b89-ff1f-4659-9fde-f76f8d5b3c89</td>\n",
       "      <td>NaN</td>\n",
       "      <td>657cf27c-8f4a-4758-aaaa-bd5686d7e103</td>\n",
       "    </tr>\n",
       "    <tr>\n",
       "      <th>...</th>\n",
       "      <td>...</td>\n",
       "      <td>...</td>\n",
       "      <td>...</td>\n",
       "      <td>...</td>\n",
       "    </tr>\n",
       "    <tr>\n",
       "      <th>105041</th>\n",
       "      <td>1362539926</td>\n",
       "      <td>e61ce7e2-f78d-4fee-ac56-ef1a784c87fa</td>\n",
       "      <td>331c66e6-c230-455b-b84c-3a81d24b55fb</td>\n",
       "      <td>724801b2-8540-4619-8c90-2d3ad30275da</td>\n",
       "    </tr>\n",
       "    <tr>\n",
       "      <th>105042</th>\n",
       "      <td>1362540203</td>\n",
       "      <td>e61ce7e2-f78d-4fee-ac56-ef1a784c87fa</td>\n",
       "      <td>331c66e6-c230-455b-b84c-3a81d24b55fb</td>\n",
       "      <td>94c5fb28-66e1-49cf-8cdd-3d876683eef6</td>\n",
       "    </tr>\n",
       "    <tr>\n",
       "      <th>105043</th>\n",
       "      <td>1362540416</td>\n",
       "      <td>e61ce7e2-f78d-4fee-ac56-ef1a784c87fa</td>\n",
       "      <td>331c66e6-c230-455b-b84c-3a81d24b55fb</td>\n",
       "      <td>2de962ae-b1e0-46d1-80d8-25dfe55f87ff</td>\n",
       "    </tr>\n",
       "    <tr>\n",
       "      <th>105044</th>\n",
       "      <td>1362540609</td>\n",
       "      <td>e61ce7e2-f78d-4fee-ac56-ef1a784c87fa</td>\n",
       "      <td>331c66e6-c230-455b-b84c-3a81d24b55fb</td>\n",
       "      <td>NaN</td>\n",
       "    </tr>\n",
       "    <tr>\n",
       "      <th>105045</th>\n",
       "      <td>1362541410</td>\n",
       "      <td>e61ce7e2-f78d-4fee-ac56-ef1a784c87fa</td>\n",
       "      <td>331c66e6-c230-455b-b84c-3a81d24b55fb</td>\n",
       "      <td>NaN</td>\n",
       "    </tr>\n",
       "  </tbody>\n",
       "</table>\n",
       "<p>105046 rows × 4 columns</p>\n",
       "</div>"
      ],
      "text/plain": [
       "         timestamp                           artist_MBID  \\\n",
       "0       1242583679  ba85753c-671a-409e-b813-1e3be41e2a2e   \n",
       "1       1242583969  f660d7e2-a3bd-4456-a7be-86ec139c1016   \n",
       "2       1242584191  371f152d-1643-4b54-b32b-dd13d4c23442   \n",
       "3       1242584530  98fb7792-01fa-4ed1-a15d-20077a47210f   \n",
       "4       1242584820  d50a4b89-ff1f-4659-9fde-f76f8d5b3c89   \n",
       "...            ...                                   ...   \n",
       "105041  1362539926  e61ce7e2-f78d-4fee-ac56-ef1a784c87fa   \n",
       "105042  1362540203  e61ce7e2-f78d-4fee-ac56-ef1a784c87fa   \n",
       "105043  1362540416  e61ce7e2-f78d-4fee-ac56-ef1a784c87fa   \n",
       "105044  1362540609  e61ce7e2-f78d-4fee-ac56-ef1a784c87fa   \n",
       "105045  1362541410  e61ce7e2-f78d-4fee-ac56-ef1a784c87fa   \n",
       "\n",
       "                                release_MBID  \\\n",
       "0       0a2d7193-fc4b-418c-8581-08d2695f884a   \n",
       "1       6ecac165-0267-3822-b995-cda1282ea5b5   \n",
       "2       59c844ca-4c11-452d-8330-c107892319eb   \n",
       "3                                        NaN   \n",
       "4                                        NaN   \n",
       "...                                      ...   \n",
       "105041  331c66e6-c230-455b-b84c-3a81d24b55fb   \n",
       "105042  331c66e6-c230-455b-b84c-3a81d24b55fb   \n",
       "105043  331c66e6-c230-455b-b84c-3a81d24b55fb   \n",
       "105044  331c66e6-c230-455b-b84c-3a81d24b55fb   \n",
       "105045  331c66e6-c230-455b-b84c-3a81d24b55fb   \n",
       "\n",
       "                              recording_MBID  \n",
       "0       0d7960f0-ee33-4868-8e9e-7c705558b6e5  \n",
       "1       6afc8617-d545-4629-8151-9ee9d71c4742  \n",
       "2       e2477990-d9b1-43b6-b8db-be03e43559c4  \n",
       "3       1fdcf214-b4d5-4490-8626-5afeda04b73d  \n",
       "4       657cf27c-8f4a-4758-aaaa-bd5686d7e103  \n",
       "...                                      ...  \n",
       "105041  724801b2-8540-4619-8c90-2d3ad30275da  \n",
       "105042  94c5fb28-66e1-49cf-8cdd-3d876683eef6  \n",
       "105043  2de962ae-b1e0-46d1-80d8-25dfe55f87ff  \n",
       "105044                                   NaN  \n",
       "105045                                   NaN  \n",
       "\n",
       "[105046 rows x 4 columns]"
      ]
     },
     "execution_count": 33,
     "metadata": {},
     "output_type": "execute_result"
    }
   ],
   "source": [
    "# %%time\n",
    "df = io.load_path(MLHD_PATHS[50])\n",
    "df"
   ]
  },
  {
   "cell_type": "code",
   "execution_count": 40,
   "metadata": {},
   "outputs": [
    {
     "data": {
      "text/plain": [
       "array(['0d7960f0-ee33-4868-8e9e-7c705558b6e5',\n",
       "       'e2477990-d9b1-43b6-b8db-be03e43559c4',\n",
       "       '5d73a81f-51fe-459a-bdcc-398fb8b54df8', ...,\n",
       "       'aa604d7c-48ab-43d7-9d80-3a66f717d393',\n",
       "       '3118dc17-6c96-4bfa-97b9-938402793e2f',\n",
       "       '2c4e4d4b-b610-4434-a239-6f6f40aff3d2'], dtype=object)"
      ]
     },
     "execution_count": 40,
     "metadata": {},
     "output_type": "execute_result"
    }
   ],
   "source": [
    "\n",
    "# df['recording_MBID_cleaned'] = df.recording_MBID.map(\n",
    "#         lambda x: io.replace(x, MB_rec_redirects, 'new') \n",
    "#         if x not in rec_gid_set else x)\n",
    "\n",
    "df['recording_MBID_uncleaned'] = df.recording_MBID.apply(lambda x: True if x in rec_gid_set else False)\n",
    "df[-df['recording_MBID_uncleaned']]\n",
    "# df"
   ]
  },
  {
   "cell_type": "code",
   "execution_count": 32,
   "metadata": {},
   "outputs": [
    {
     "data": {
      "text/html": [
       "<div>\n",
       "<style scoped>\n",
       "    .dataframe tbody tr th:only-of-type {\n",
       "        vertical-align: middle;\n",
       "    }\n",
       "\n",
       "    .dataframe tbody tr th {\n",
       "        vertical-align: top;\n",
       "    }\n",
       "\n",
       "    .dataframe thead th {\n",
       "        text-align: right;\n",
       "    }\n",
       "</style>\n",
       "<table border=\"1\" class=\"dataframe\">\n",
       "  <thead>\n",
       "    <tr style=\"text-align: right;\">\n",
       "      <th></th>\n",
       "      <th>timestamp</th>\n",
       "      <th>artist_MBID</th>\n",
       "      <th>release_MBID</th>\n",
       "      <th>recording_MBID</th>\n",
       "      <th>recording_MBID_cleaned</th>\n",
       "    </tr>\n",
       "  </thead>\n",
       "  <tbody>\n",
       "    <tr>\n",
       "      <th>0</th>\n",
       "      <td>1242583679</td>\n",
       "      <td>ba85753c-671a-409e-b813-1e3be41e2a2e</td>\n",
       "      <td>0a2d7193-fc4b-418c-8581-08d2695f884a</td>\n",
       "      <td>0d7960f0-ee33-4868-8e9e-7c705558b6e5</td>\n",
       "      <td>a0456176-7a99-4773-adba-f61d6793785d</td>\n",
       "    </tr>\n",
       "    <tr>\n",
       "      <th>1</th>\n",
       "      <td>1242583969</td>\n",
       "      <td>f660d7e2-a3bd-4456-a7be-86ec139c1016</td>\n",
       "      <td>6ecac165-0267-3822-b995-cda1282ea5b5</td>\n",
       "      <td>6afc8617-d545-4629-8151-9ee9d71c4742</td>\n",
       "      <td>6afc8617-d545-4629-8151-9ee9d71c4742</td>\n",
       "    </tr>\n",
       "    <tr>\n",
       "      <th>2</th>\n",
       "      <td>1242584191</td>\n",
       "      <td>371f152d-1643-4b54-b32b-dd13d4c23442</td>\n",
       "      <td>59c844ca-4c11-452d-8330-c107892319eb</td>\n",
       "      <td>e2477990-d9b1-43b6-b8db-be03e43559c4</td>\n",
       "      <td>NaN</td>\n",
       "    </tr>\n",
       "    <tr>\n",
       "      <th>3</th>\n",
       "      <td>1242584530</td>\n",
       "      <td>98fb7792-01fa-4ed1-a15d-20077a47210f</td>\n",
       "      <td>NaN</td>\n",
       "      <td>1fdcf214-b4d5-4490-8626-5afeda04b73d</td>\n",
       "      <td>1fdcf214-b4d5-4490-8626-5afeda04b73d</td>\n",
       "    </tr>\n",
       "    <tr>\n",
       "      <th>4</th>\n",
       "      <td>1242584820</td>\n",
       "      <td>d50a4b89-ff1f-4659-9fde-f76f8d5b3c89</td>\n",
       "      <td>NaN</td>\n",
       "      <td>657cf27c-8f4a-4758-aaaa-bd5686d7e103</td>\n",
       "      <td>657cf27c-8f4a-4758-aaaa-bd5686d7e103</td>\n",
       "    </tr>\n",
       "    <tr>\n",
       "      <th>...</th>\n",
       "      <td>...</td>\n",
       "      <td>...</td>\n",
       "      <td>...</td>\n",
       "      <td>...</td>\n",
       "      <td>...</td>\n",
       "    </tr>\n",
       "    <tr>\n",
       "      <th>105041</th>\n",
       "      <td>1362539926</td>\n",
       "      <td>e61ce7e2-f78d-4fee-ac56-ef1a784c87fa</td>\n",
       "      <td>331c66e6-c230-455b-b84c-3a81d24b55fb</td>\n",
       "      <td>724801b2-8540-4619-8c90-2d3ad30275da</td>\n",
       "      <td>724801b2-8540-4619-8c90-2d3ad30275da</td>\n",
       "    </tr>\n",
       "    <tr>\n",
       "      <th>105042</th>\n",
       "      <td>1362540203</td>\n",
       "      <td>e61ce7e2-f78d-4fee-ac56-ef1a784c87fa</td>\n",
       "      <td>331c66e6-c230-455b-b84c-3a81d24b55fb</td>\n",
       "      <td>94c5fb28-66e1-49cf-8cdd-3d876683eef6</td>\n",
       "      <td>94c5fb28-66e1-49cf-8cdd-3d876683eef6</td>\n",
       "    </tr>\n",
       "    <tr>\n",
       "      <th>105043</th>\n",
       "      <td>1362540416</td>\n",
       "      <td>e61ce7e2-f78d-4fee-ac56-ef1a784c87fa</td>\n",
       "      <td>331c66e6-c230-455b-b84c-3a81d24b55fb</td>\n",
       "      <td>2de962ae-b1e0-46d1-80d8-25dfe55f87ff</td>\n",
       "      <td>2de962ae-b1e0-46d1-80d8-25dfe55f87ff</td>\n",
       "    </tr>\n",
       "    <tr>\n",
       "      <th>105044</th>\n",
       "      <td>1362540609</td>\n",
       "      <td>e61ce7e2-f78d-4fee-ac56-ef1a784c87fa</td>\n",
       "      <td>331c66e6-c230-455b-b84c-3a81d24b55fb</td>\n",
       "      <td>NaN</td>\n",
       "      <td>NaN</td>\n",
       "    </tr>\n",
       "    <tr>\n",
       "      <th>105045</th>\n",
       "      <td>1362541410</td>\n",
       "      <td>e61ce7e2-f78d-4fee-ac56-ef1a784c87fa</td>\n",
       "      <td>331c66e6-c230-455b-b84c-3a81d24b55fb</td>\n",
       "      <td>NaN</td>\n",
       "      <td>NaN</td>\n",
       "    </tr>\n",
       "  </tbody>\n",
       "</table>\n",
       "<p>105046 rows × 5 columns</p>\n",
       "</div>"
      ],
      "text/plain": [
       "         timestamp                           artist_MBID  \\\n",
       "0       1242583679  ba85753c-671a-409e-b813-1e3be41e2a2e   \n",
       "1       1242583969  f660d7e2-a3bd-4456-a7be-86ec139c1016   \n",
       "2       1242584191  371f152d-1643-4b54-b32b-dd13d4c23442   \n",
       "3       1242584530  98fb7792-01fa-4ed1-a15d-20077a47210f   \n",
       "4       1242584820  d50a4b89-ff1f-4659-9fde-f76f8d5b3c89   \n",
       "...            ...                                   ...   \n",
       "105041  1362539926  e61ce7e2-f78d-4fee-ac56-ef1a784c87fa   \n",
       "105042  1362540203  e61ce7e2-f78d-4fee-ac56-ef1a784c87fa   \n",
       "105043  1362540416  e61ce7e2-f78d-4fee-ac56-ef1a784c87fa   \n",
       "105044  1362540609  e61ce7e2-f78d-4fee-ac56-ef1a784c87fa   \n",
       "105045  1362541410  e61ce7e2-f78d-4fee-ac56-ef1a784c87fa   \n",
       "\n",
       "                                release_MBID  \\\n",
       "0       0a2d7193-fc4b-418c-8581-08d2695f884a   \n",
       "1       6ecac165-0267-3822-b995-cda1282ea5b5   \n",
       "2       59c844ca-4c11-452d-8330-c107892319eb   \n",
       "3                                        NaN   \n",
       "4                                        NaN   \n",
       "...                                      ...   \n",
       "105041  331c66e6-c230-455b-b84c-3a81d24b55fb   \n",
       "105042  331c66e6-c230-455b-b84c-3a81d24b55fb   \n",
       "105043  331c66e6-c230-455b-b84c-3a81d24b55fb   \n",
       "105044  331c66e6-c230-455b-b84c-3a81d24b55fb   \n",
       "105045  331c66e6-c230-455b-b84c-3a81d24b55fb   \n",
       "\n",
       "                              recording_MBID  \\\n",
       "0       0d7960f0-ee33-4868-8e9e-7c705558b6e5   \n",
       "1       6afc8617-d545-4629-8151-9ee9d71c4742   \n",
       "2       e2477990-d9b1-43b6-b8db-be03e43559c4   \n",
       "3       1fdcf214-b4d5-4490-8626-5afeda04b73d   \n",
       "4       657cf27c-8f4a-4758-aaaa-bd5686d7e103   \n",
       "...                                      ...   \n",
       "105041  724801b2-8540-4619-8c90-2d3ad30275da   \n",
       "105042  94c5fb28-66e1-49cf-8cdd-3d876683eef6   \n",
       "105043  2de962ae-b1e0-46d1-80d8-25dfe55f87ff   \n",
       "105044                                   NaN   \n",
       "105045                                   NaN   \n",
       "\n",
       "                      recording_MBID_cleaned  \n",
       "0       a0456176-7a99-4773-adba-f61d6793785d  \n",
       "1       6afc8617-d545-4629-8151-9ee9d71c4742  \n",
       "2                                        NaN  \n",
       "3       1fdcf214-b4d5-4490-8626-5afeda04b73d  \n",
       "4       657cf27c-8f4a-4758-aaaa-bd5686d7e103  \n",
       "...                                      ...  \n",
       "105041  724801b2-8540-4619-8c90-2d3ad30275da  \n",
       "105042  94c5fb28-66e1-49cf-8cdd-3d876683eef6  \n",
       "105043  2de962ae-b1e0-46d1-80d8-25dfe55f87ff  \n",
       "105044                                   NaN  \n",
       "105045                                   NaN  \n",
       "\n",
       "[105046 rows x 5 columns]"
      ]
     },
     "execution_count": 32,
     "metadata": {},
     "output_type": "execute_result"
    }
   ],
   "source": [
    "df\n"
   ]
  },
  {
   "cell_type": "code",
   "execution_count": 5,
   "metadata": {},
   "outputs": [],
   "source": [
    "def process_df(df_input, keep_missing = clean_master_config.KEEP_MISSING, turn_blank = clean_master_config.TURN_BLANK):\n",
    "    \"\"\"Take an input df and process it into a cleaned df\n",
    "\n",
    "    Args:\n",
    "        df_input (pandas.DataFrame): input dataframe with columns: <timestamp, artist_MBID, release_MBID, recording_MBID>\n",
    "        keep_missing (bool, optional): If True, keep rows with missing, unknown MBIDs to maintain the structure of the original data.\n",
    "        turn_blank (bool, optional): If True, replace blank MBIDs with None\n",
    "\n",
    "    Returns:\n",
    "        pandas.DataFrame: Cleaned dataframe with columns: <timestamp, artist_MBID, release_MBID, recording_MBID>\n",
    "    \"\"\"\n",
    "\n",
    "    # Check \n",
    "\n",
    "    # 1. Check if all rows in recording_MBID column are present in rec_gid_set\n",
    "    \n",
    "    # df_input['recording_MBID_uncleaned'] = df[-df.recording_MBID.apply(lambda x: x in rec_gid_set)]\n",
    "    \n",
    "    # 2. If not, check if they are present in MB_rec_redirects\n",
    "    df_input['recording_MBID_cleaned'] = df_input.recording_MBID.map(\n",
    "        lambda x: io.replace(x, MB_rec_redirects, 'new') \n",
    "        if x not in rec_gid_set else x)\n",
    "\n",
    "    # 3. Find canonical recordings for all cleaned/uncleaned recording_MBIDs\n",
    "    df_input['recording_MBID_cleaned'] = df_input['recording_MBID_cleaned'].map(\n",
    "        lambda x: io.replace(x, MB_rec_canonical, 'new')\n",
    "        if io.replace(x, MB_rec_canonical, 'new') is not nan else x)\n",
    "    \n",
    "    # 4. Find artist MBIDs for all cleaned/uncleaned recording_MBIDs -> (Find Artist MBIDs for all uncleaned mbids for statistics)\n",
    "    df.recording_MBID.map(lambda x: io.replace(x, MB_artist_credit_list, 'artist_credit_gid'))\n",
    "\n",
    "    # 5. Find release MBIDs for respective artist MBIDs\n",
    "\n",
    "    return None"
   ]
  },
  {
   "cell_type": "code",
   "execution_count": 8,
   "metadata": {},
   "outputs": [
    {
     "data": {
      "text/html": [
       "<pre style=\"white-space:pre;overflow-x:auto;line-height:normal;font-family:Menlo,'DejaVu Sans Mono',consolas,'Courier New',monospace\"><span style=\"color: #ff0000; text-decoration-color: #ff0000; font-style: italic\">False</span>    <span style=\"color: #008080; text-decoration-color: #008080; font-weight: bold\">68934</span>\n",
       "<span style=\"color: #00ff00; text-decoration-color: #00ff00; font-style: italic\">True</span>        <span style=\"color: #008080; text-decoration-color: #008080; font-weight: bold\">16</span>\n",
       "Name: recording_MBID, dtype: int64\n",
       "</pre>\n"
      ],
      "text/plain": [
       "\u001b[3;91mFalse\u001b[0m    \u001b[1;36m68934\u001b[0m\n",
       "\u001b[3;92mTrue\u001b[0m        \u001b[1;36m16\u001b[0m\n",
       "Name: recording_MBID, dtype: int64\n"
      ]
     },
     "metadata": {},
     "output_type": "display_data"
    },
    {
     "data": {
      "text/html": [
       "<pre style=\"white-space:pre;overflow-x:auto;line-height:normal;font-family:Menlo,'DejaVu Sans Mono',consolas,'Courier New',monospace\"><span style=\"color: #00ff00; text-decoration-color: #00ff00; font-style: italic\">True</span>    <span style=\"color: #008080; text-decoration-color: #008080; font-weight: bold\">36096</span>\n",
       "Name: recording_MBID, dtype: int64\n",
       "</pre>\n"
      ],
      "text/plain": [
       "\u001b[3;92mTrue\u001b[0m    \u001b[1;36m36096\u001b[0m\n",
       "Name: recording_MBID, dtype: int64\n"
      ]
     },
     "metadata": {},
     "output_type": "display_data"
    },
    {
     "name": "stdout",
     "output_type": "stream",
     "text": [
      "CPU times: user 546 ms, sys: 569 µs, total: 547 ms\n",
      "Wall time: 555 ms\n"
     ]
    }
   ],
   "source": [
    "%%time\n",
    "\n",
    "print(df.recording_MBID[df.recording_MBID.apply(lambda x: x in rec_gid_set)].map(lambda x: io.replace(x, MB_artist_credit_list, 'artist_credit_gid')).isna().value_counts())\n",
    "print(df.recording_MBID[-df.recording_MBID.apply(lambda x: x in rec_gid_set)].map(lambda x: io.replace(x, MB_artist_credit_list, 'artist_credit_gid')).isna().value_counts())"
   ]
  },
  {
   "cell_type": "code",
   "execution_count": 6,
   "metadata": {},
   "outputs": [
    {
     "data": {
      "text/html": [
       "<div>\n",
       "<style scoped>\n",
       "    .dataframe tbody tr th:only-of-type {\n",
       "        vertical-align: middle;\n",
       "    }\n",
       "\n",
       "    .dataframe tbody tr th {\n",
       "        vertical-align: top;\n",
       "    }\n",
       "\n",
       "    .dataframe thead th {\n",
       "        text-align: right;\n",
       "    }\n",
       "</style>\n",
       "<table border=\"1\" class=\"dataframe\">\n",
       "  <thead>\n",
       "    <tr style=\"text-align: right;\">\n",
       "      <th></th>\n",
       "      <th>new</th>\n",
       "    </tr>\n",
       "    <tr>\n",
       "      <th>old</th>\n",
       "      <th></th>\n",
       "    </tr>\n",
       "  </thead>\n",
       "  <tbody>\n",
       "    <tr>\n",
       "      <th>c4793e5b-5825-4221-893d-8b3776289127</th>\n",
       "      <td>dfbefafa-a7dc-4024-8a28-be15537591e9</td>\n",
       "    </tr>\n",
       "    <tr>\n",
       "      <th>74324461-d321-4197-82f8-fdb41471ea8b</th>\n",
       "      <td>69102b65-98cd-46aa-a757-b24890c0e030</td>\n",
       "    </tr>\n",
       "    <tr>\n",
       "      <th>d6f71677-ad41-46a1-87bc-5f00c702eb8a</th>\n",
       "      <td>c876dbfd-159a-4d83-bfbb-fd5438c9db65</td>\n",
       "    </tr>\n",
       "    <tr>\n",
       "      <th>b1b7370c-f7d8-4614-b41e-89d011e0108c</th>\n",
       "      <td>2457840d-75d6-4b2b-87de-ea6a0d02e9cf</td>\n",
       "    </tr>\n",
       "    <tr>\n",
       "      <th>80f99633-339d-4ffd-9668-a81831dda379</th>\n",
       "      <td>ee141eff-5b22-4e8b-b01a-754b4d0e5222</td>\n",
       "    </tr>\n",
       "    <tr>\n",
       "      <th>...</th>\n",
       "      <td>...</td>\n",
       "    </tr>\n",
       "    <tr>\n",
       "      <th>3d532f99-20fd-476c-9f9e-757b9d3153d7</th>\n",
       "      <td>b988fddd-beca-4815-9c86-9207c4e3ab41</td>\n",
       "    </tr>\n",
       "    <tr>\n",
       "      <th>563382da-a6f8-4c78-956a-39bf6b2cd507</th>\n",
       "      <td>a2e7c584-7c59-40c8-99ac-ea684e615f10</td>\n",
       "    </tr>\n",
       "    <tr>\n",
       "      <th>76b0db25-612a-496e-b800-608ff0a8c4de</th>\n",
       "      <td>33e506c2-f79d-493d-a7e0-619d58bff8c0</td>\n",
       "    </tr>\n",
       "    <tr>\n",
       "      <th>0f3a284b-72ef-4dfc-8a9b-6cb926c46efe</th>\n",
       "      <td>f6744c92-5fb2-4b1e-9f3d-07568ffa3514</td>\n",
       "    </tr>\n",
       "    <tr>\n",
       "      <th>c84e87d1-bb5b-4de7-8091-41f76b6d1eb9</th>\n",
       "      <td>f6744c92-5fb2-4b1e-9f3d-07568ffa3514</td>\n",
       "    </tr>\n",
       "  </tbody>\n",
       "</table>\n",
       "<p>3355285 rows × 1 columns</p>\n",
       "</div>"
      ],
      "text/plain": [
       "                                                                       new\n",
       "old                                                                       \n",
       "c4793e5b-5825-4221-893d-8b3776289127  dfbefafa-a7dc-4024-8a28-be15537591e9\n",
       "74324461-d321-4197-82f8-fdb41471ea8b  69102b65-98cd-46aa-a757-b24890c0e030\n",
       "d6f71677-ad41-46a1-87bc-5f00c702eb8a  c876dbfd-159a-4d83-bfbb-fd5438c9db65\n",
       "b1b7370c-f7d8-4614-b41e-89d011e0108c  2457840d-75d6-4b2b-87de-ea6a0d02e9cf\n",
       "80f99633-339d-4ffd-9668-a81831dda379  ee141eff-5b22-4e8b-b01a-754b4d0e5222\n",
       "...                                                                    ...\n",
       "3d532f99-20fd-476c-9f9e-757b9d3153d7  b988fddd-beca-4815-9c86-9207c4e3ab41\n",
       "563382da-a6f8-4c78-956a-39bf6b2cd507  a2e7c584-7c59-40c8-99ac-ea684e615f10\n",
       "76b0db25-612a-496e-b800-608ff0a8c4de  33e506c2-f79d-493d-a7e0-619d58bff8c0\n",
       "0f3a284b-72ef-4dfc-8a9b-6cb926c46efe  f6744c92-5fb2-4b1e-9f3d-07568ffa3514\n",
       "c84e87d1-bb5b-4de7-8091-41f76b6d1eb9  f6744c92-5fb2-4b1e-9f3d-07568ffa3514\n",
       "\n",
       "[3355285 rows x 1 columns]"
      ]
     },
     "execution_count": 6,
     "metadata": {},
     "output_type": "execute_result"
    }
   ],
   "source": [
    "MB_rec_redirects"
   ]
  }
 ],
 "metadata": {
  "kernelspec": {
   "display_name": "Python 3.8.10 ('env': venv)",
   "language": "python",
   "name": "python3"
  },
  "language_info": {
   "codemirror_mode": {
    "name": "ipython",
    "version": 3
   },
   "file_extension": ".py",
   "mimetype": "text/x-python",
   "name": "python",
   "nbconvert_exporter": "python",
   "pygments_lexer": "ipython3",
   "version": "3.8.10"
  },
  "orig_nbformat": 4,
  "vscode": {
   "interpreter": {
    "hash": "99207027a3abb1e120e2013d5a83e642456faefc5cbc1acefa0d682e37a8f4b0"
   }
  }
 },
 "nbformat": 4,
 "nbformat_minor": 2
}
