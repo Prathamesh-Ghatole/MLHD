{
 "cells": [
  {
   "cell_type": "code",
   "execution_count": 1,
   "metadata": {},
   "outputs": [],
   "source": [
    "import lib.io_ as io\n",
    "import lib.mapper_helper as mapper_helper\n",
    "import pandas as pd\n",
    "from time import monotonic\n",
    "\n",
    "from rich import print\n",
    "from rich.console import Console"
   ]
  },
  {
   "cell_type": "code",
   "execution_count": 2,
   "metadata": {},
   "outputs": [],
   "source": [
    "console = Console()\n",
    "\n",
    "time_logs = {}\n",
    "flag_cache = False"
   ]
  },
  {
   "cell_type": "code",
   "execution_count": 3,
   "metadata": {},
   "outputs": [
    {
     "data": {
      "text/html": [
       "<pre style=\"white-space:pre;overflow-x:auto;line-height:normal;font-family:Menlo,'DejaVu Sans Mono',consolas,'Courier New',monospace\"><span style=\"color: #7fbfbf; text-decoration-color: #7fbfbf\">[12:11:40] </span>loading MLHD files<span style=\"color: #808000; text-decoration-color: #808000\">...</span>                                                                    <a href=\"file:///tmp/ipykernel_2116415/1296077320.py\" target=\"_blank\"><span style=\"color: #7f7f7f; text-decoration-color: #7f7f7f\">1296077320.py</span></a><span style=\"color: #7f7f7f; text-decoration-color: #7f7f7f\">:</span><a href=\"file:///tmp/ipykernel_2116415/1296077320.py#2\" target=\"_blank\"><span style=\"color: #7f7f7f; text-decoration-color: #7f7f7f\">2</span></a>\n",
       "</pre>\n"
      ],
      "text/plain": [
       "\u001b[2;36m[12:11:40]\u001b[0m\u001b[2;36m \u001b[0mloading MLHD files\u001b[33m...\u001b[0m                                                                    \u001b]8;id=32800;file:///tmp/ipykernel_2116415/1296077320.py\u001b\\\u001b[2m1296077320.py\u001b[0m\u001b]8;;\u001b\\\u001b[2m:\u001b[0m\u001b]8;id=859738;file:///tmp/ipykernel_2116415/1296077320.py#2\u001b\\\u001b[2m2\u001b[0m\u001b]8;;\u001b\\\n"
      ]
     },
     "metadata": {},
     "output_type": "display_data"
    },
    {
     "data": {
      "text/html": [
       "<pre style=\"white-space:pre;overflow-x:auto;line-height:normal;font-family:Menlo,'DejaVu Sans Mono',consolas,'Courier New',monospace\"><span style=\"color: #7fbfbf; text-decoration-color: #7fbfbf\">           </span>loading recording gids<span style=\"color: #808000; text-decoration-color: #808000\">...</span>                                                                <a href=\"file:///tmp/ipykernel_2116415/1296077320.py\" target=\"_blank\"><span style=\"color: #7f7f7f; text-decoration-color: #7f7f7f\">1296077320.py</span></a><span style=\"color: #7f7f7f; text-decoration-color: #7f7f7f\">:</span><a href=\"file:///tmp/ipykernel_2116415/1296077320.py#8\" target=\"_blank\"><span style=\"color: #7f7f7f; text-decoration-color: #7f7f7f\">8</span></a>\n",
       "</pre>\n"
      ],
      "text/plain": [
       "\u001b[2;36m          \u001b[0m\u001b[2;36m \u001b[0mloading recording gids\u001b[33m...\u001b[0m                                                                \u001b]8;id=887067;file:///tmp/ipykernel_2116415/1296077320.py\u001b\\\u001b[2m1296077320.py\u001b[0m\u001b]8;;\u001b\\\u001b[2m:\u001b[0m\u001b]8;id=638527;file:///tmp/ipykernel_2116415/1296077320.py#8\u001b\\\u001b[2m8\u001b[0m\u001b]8;;\u001b\\\n"
      ]
     },
     "metadata": {},
     "output_type": "display_data"
    },
    {
     "data": {
      "text/html": [
       "<pre style=\"white-space:pre;overflow-x:auto;line-height:normal;font-family:Menlo,'DejaVu Sans Mono',consolas,'Courier New',monospace\"><span style=\"color: #7fbfbf; text-decoration-color: #7fbfbf\">[12:11:53] </span>loading recording redirects<span style=\"color: #808000; text-decoration-color: #808000\">...</span>                                                          <a href=\"file:///tmp/ipykernel_2116415/1296077320.py\" target=\"_blank\"><span style=\"color: #7f7f7f; text-decoration-color: #7f7f7f\">1296077320.py</span></a><span style=\"color: #7f7f7f; text-decoration-color: #7f7f7f\">:</span><a href=\"file:///tmp/ipykernel_2116415/1296077320.py#12\" target=\"_blank\"><span style=\"color: #7f7f7f; text-decoration-color: #7f7f7f\">12</span></a>\n",
       "</pre>\n"
      ],
      "text/plain": [
       "\u001b[2;36m[12:11:53]\u001b[0m\u001b[2;36m \u001b[0mloading recording redirects\u001b[33m...\u001b[0m                                                          \u001b]8;id=491749;file:///tmp/ipykernel_2116415/1296077320.py\u001b\\\u001b[2m1296077320.py\u001b[0m\u001b]8;;\u001b\\\u001b[2m:\u001b[0m\u001b]8;id=240352;file:///tmp/ipykernel_2116415/1296077320.py#12\u001b\\\u001b[2m12\u001b[0m\u001b]8;;\u001b\\\n"
      ]
     },
     "metadata": {},
     "output_type": "display_data"
    },
    {
     "data": {
      "text/html": [
       "<pre style=\"white-space:pre;overflow-x:auto;line-height:normal;font-family:Menlo,'DejaVu Sans Mono',consolas,'Courier New',monospace\"><span style=\"color: #7fbfbf; text-decoration-color: #7fbfbf\">[12:11:55] </span>loading recording canonical MBIDs<span style=\"color: #808000; text-decoration-color: #808000\">...</span>                                                    <a href=\"file:///tmp/ipykernel_2116415/1296077320.py\" target=\"_blank\"><span style=\"color: #7f7f7f; text-decoration-color: #7f7f7f\">1296077320.py</span></a><span style=\"color: #7f7f7f; text-decoration-color: #7f7f7f\">:</span><a href=\"file:///tmp/ipykernel_2116415/1296077320.py#16\" target=\"_blank\"><span style=\"color: #7f7f7f; text-decoration-color: #7f7f7f\">16</span></a>\n",
       "</pre>\n"
      ],
      "text/plain": [
       "\u001b[2;36m[12:11:55]\u001b[0m\u001b[2;36m \u001b[0mloading recording canonical MBIDs\u001b[33m...\u001b[0m                                                    \u001b]8;id=430924;file:///tmp/ipykernel_2116415/1296077320.py\u001b\\\u001b[2m1296077320.py\u001b[0m\u001b]8;;\u001b\\\u001b[2m:\u001b[0m\u001b]8;id=726975;file:///tmp/ipykernel_2116415/1296077320.py#16\u001b\\\u001b[2m16\u001b[0m\u001b]8;;\u001b\\\n"
      ]
     },
     "metadata": {},
     "output_type": "display_data"
    },
    {
     "data": {
      "text/html": [
       "<pre style=\"white-space:pre;overflow-x:auto;line-height:normal;font-family:Menlo,'DejaVu Sans Mono',consolas,'Courier New',monospace\"><span style=\"color: #7fbfbf; text-decoration-color: #7fbfbf\">[12:11:59] </span>loading artist credit list<span style=\"color: #808000; text-decoration-color: #808000\">...</span>                                                           <a href=\"file:///tmp/ipykernel_2116415/1296077320.py\" target=\"_blank\"><span style=\"color: #7f7f7f; text-decoration-color: #7f7f7f\">1296077320.py</span></a><span style=\"color: #7f7f7f; text-decoration-color: #7f7f7f\">:</span><a href=\"file:///tmp/ipykernel_2116415/1296077320.py#20\" target=\"_blank\"><span style=\"color: #7f7f7f; text-decoration-color: #7f7f7f\">20</span></a>\n",
       "</pre>\n"
      ],
      "text/plain": [
       "\u001b[2;36m[12:11:59]\u001b[0m\u001b[2;36m \u001b[0mloading artist credit list\u001b[33m...\u001b[0m                                                           \u001b]8;id=217985;file:///tmp/ipykernel_2116415/1296077320.py\u001b\\\u001b[2m1296077320.py\u001b[0m\u001b]8;;\u001b\\\u001b[2m:\u001b[0m\u001b]8;id=630963;file:///tmp/ipykernel_2116415/1296077320.py#20\u001b\\\u001b[2m20\u001b[0m\u001b]8;;\u001b\\\n"
      ]
     },
     "metadata": {},
     "output_type": "display_data"
    },
    {
     "data": {
      "text/html": [
       "<pre style=\"white-space:pre;overflow-x:auto;line-height:normal;font-family:Menlo,'DejaVu Sans Mono',consolas,'Courier New',monospace\"><span style=\"color: #7fbfbf; text-decoration-color: #7fbfbf\">[12:12:28] </span>loaded MB tables. Took <span style=\"color: #008080; text-decoration-color: #008080; font-weight: bold\">47.86</span> seconds                                                    <a href=\"file:///tmp/ipykernel_2116415/1296077320.py\" target=\"_blank\"><span style=\"color: #7f7f7f; text-decoration-color: #7f7f7f\">1296077320.py</span></a><span style=\"color: #7f7f7f; text-decoration-color: #7f7f7f\">:</span><a href=\"file:///tmp/ipykernel_2116415/1296077320.py#28\" target=\"_blank\"><span style=\"color: #7f7f7f; text-decoration-color: #7f7f7f\">28</span></a>\n",
       "</pre>\n"
      ],
      "text/plain": [
       "\u001b[2;36m[12:12:28]\u001b[0m\u001b[2;36m \u001b[0mloaded MB tables. Took \u001b[1;36m47.86\u001b[0m seconds                                                    \u001b]8;id=57016;file:///tmp/ipykernel_2116415/1296077320.py\u001b\\\u001b[2m1296077320.py\u001b[0m\u001b]8;;\u001b\\\u001b[2m:\u001b[0m\u001b]8;id=942466;file:///tmp/ipykernel_2116415/1296077320.py#28\u001b\\\u001b[2m28\u001b[0m\u001b]8;;\u001b\\\n"
      ]
     },
     "metadata": {},
     "output_type": "display_data"
    }
   ],
   "source": [
    "time_logs['load_start'] = monotonic()\n",
    "console.log('loading MLHD files...')\n",
    "\n",
    "### LOADING MB TABLES ###\n",
    "\n",
    "time_logs['MB_start'] = monotonic()\n",
    "\n",
    "console.log('loading recording gids...')\n",
    "MB_rec_gid = pd.read_parquet('warehouse/MB_tables/recording_gid.parquet')\n",
    "MB_rec_gid.set_index('gid', inplace=True)\n",
    "\n",
    "console.log('loading recording redirects...')\n",
    "MB_rec_redirects = pd.read_parquet('warehouse/MB_tables/recording_redirects.parquet')\n",
    "MB_rec_redirects.set_index('old', inplace=True)\n",
    "\n",
    "console.log('loading recording canonical MBIDs...')\n",
    "MB_rec_canonical = pd.read_parquet('warehouse/MB_tables/recording_canonical.parquet')\n",
    "MB_rec_canonical.set_index('old', inplace=True)\n",
    "\n",
    "console.log('loading artist credit list...')\n",
    "MB_artist_credit_list = pd.read_parquet('warehouse/MB_tables/artist_credit.parquet')\n",
    "MB_artist_credit_list.set_index('rec_gid', inplace=True)\n",
    "\n",
    "# Converting MB_rec_gid to set for faster lookup\n",
    "rec_gid_set = set(MB_rec_gid.index)\n",
    "\n",
    "time_logs['MB_end'] = monotonic()\n",
    "console.log(\"loaded MB tables. Took {} seconds\".format(round(time_logs['MB_end'] - time_logs['MB_start'], 2)))"
   ]
  },
  {
   "cell_type": "code",
   "execution_count": 4,
   "metadata": {},
   "outputs": [
    {
     "data": {
      "text/html": [
       "<pre style=\"white-space:pre;overflow-x:auto;line-height:normal;font-family:Menlo,'DejaVu Sans Mono',consolas,'Courier New',monospace\"><span style=\"color: #7fbfbf; text-decoration-color: #7fbfbf\">[12:12:37] </span>loaded MLHD files with <span style=\"color: #008080; text-decoration-color: #008080; font-weight: bold\">376037</span> rows. Took <span style=\"color: #008080; text-decoration-color: #008080; font-weight: bold\">8.87</span> seconds                                   <a href=\"file:///tmp/ipykernel_2116415/3421642480.py\" target=\"_blank\"><span style=\"color: #7f7f7f; text-decoration-color: #7f7f7f\">3421642480.py</span></a><span style=\"color: #7f7f7f; text-decoration-color: #7f7f7f\">:</span><a href=\"file:///tmp/ipykernel_2116415/3421642480.py#11\" target=\"_blank\"><span style=\"color: #7f7f7f; text-decoration-color: #7f7f7f\">11</span></a>\n",
       "</pre>\n"
      ],
      "text/plain": [
       "\u001b[2;36m[12:12:37]\u001b[0m\u001b[2;36m \u001b[0mloaded MLHD files with \u001b[1;36m376037\u001b[0m rows. Took \u001b[1;36m8.87\u001b[0m seconds                                   \u001b]8;id=145738;file:///tmp/ipykernel_2116415/3421642480.py\u001b\\\u001b[2m3421642480.py\u001b[0m\u001b]8;;\u001b\\\u001b[2m:\u001b[0m\u001b]8;id=920757;file:///tmp/ipykernel_2116415/3421642480.py#11\u001b\\\u001b[2m11\u001b[0m\u001b]8;;\u001b\\\n"
      ]
     },
     "metadata": {},
     "output_type": "display_data"
    },
    {
     "data": {
      "text/html": [
       "<pre style=\"white-space:pre;overflow-x:auto;line-height:normal;font-family:Menlo,'DejaVu Sans Mono',consolas,'Courier New',monospace\"><span style=\"color: #7fbfbf; text-decoration-color: #7fbfbf\">           </span>Starting Cleanup<span style=\"color: #808000; text-decoration-color: #808000\">...</span>                                                                     <a href=\"file:///tmp/ipykernel_2116415/3421642480.py\" target=\"_blank\"><span style=\"color: #7f7f7f; text-decoration-color: #7f7f7f\">3421642480.py</span></a><span style=\"color: #7f7f7f; text-decoration-color: #7f7f7f\">:</span><a href=\"file:///tmp/ipykernel_2116415/3421642480.py#14\" target=\"_blank\"><span style=\"color: #7f7f7f; text-decoration-color: #7f7f7f\">14</span></a>\n",
       "</pre>\n"
      ],
      "text/plain": [
       "\u001b[2;36m          \u001b[0m\u001b[2;36m \u001b[0mStarting Cleanup\u001b[33m...\u001b[0m                                                                     \u001b]8;id=122861;file:///tmp/ipykernel_2116415/3421642480.py\u001b\\\u001b[2m3421642480.py\u001b[0m\u001b]8;;\u001b\\\u001b[2m:\u001b[0m\u001b]8;id=151478;file:///tmp/ipykernel_2116415/3421642480.py#14\u001b\\\u001b[2m14\u001b[0m\u001b]8;;\u001b\\\n"
      ]
     },
     "metadata": {},
     "output_type": "display_data"
    },
    {
     "data": {
      "text/html": [
       "<pre style=\"white-space:pre;overflow-x:auto;line-height:normal;font-family:Menlo,'DejaVu Sans Mono',consolas,'Courier New',monospace\"><span style=\"color: #7fbfbf; text-decoration-color: #7fbfbf\">[12:13:15] </span>Dropped <span style=\"color: #008080; text-decoration-color: #008080; font-weight: bold\">1139</span> rows                                                                       <a href=\"file:///tmp/ipykernel_2116415/3421642480.py\" target=\"_blank\"><span style=\"color: #7f7f7f; text-decoration-color: #7f7f7f\">3421642480.py</span></a><span style=\"color: #7f7f7f; text-decoration-color: #7f7f7f\">:</span><a href=\"file:///tmp/ipykernel_2116415/3421642480.py#23\" target=\"_blank\"><span style=\"color: #7f7f7f; text-decoration-color: #7f7f7f\">23</span></a>\n",
       "</pre>\n"
      ],
      "text/plain": [
       "\u001b[2;36m[12:13:15]\u001b[0m\u001b[2;36m \u001b[0mDropped \u001b[1;36m1139\u001b[0m rows                                                                       \u001b]8;id=728482;file:///tmp/ipykernel_2116415/3421642480.py\u001b\\\u001b[2m3421642480.py\u001b[0m\u001b]8;;\u001b\\\u001b[2m:\u001b[0m\u001b]8;id=840196;file:///tmp/ipykernel_2116415/3421642480.py#23\u001b\\\u001b[2m23\u001b[0m\u001b]8;;\u001b\\\n"
      ]
     },
     "metadata": {},
     "output_type": "display_data"
    },
    {
     "data": {
      "text/html": [
       "<pre style=\"white-space:pre;overflow-x:auto;line-height:normal;font-family:Menlo,'DejaVu Sans Mono',consolas,'Courier New',monospace\"><span style=\"color: #7fbfbf; text-decoration-color: #7fbfbf\">           </span>Cleaned <span style=\"color: #008080; text-decoration-color: #008080; font-weight: bold\">374898</span> rows. Took <span style=\"color: #008080; text-decoration-color: #008080; font-weight: bold\">38.24</span> seconds                                                 <a href=\"file:///tmp/ipykernel_2116415/3421642480.py\" target=\"_blank\"><span style=\"color: #7f7f7f; text-decoration-color: #7f7f7f\">3421642480.py</span></a><span style=\"color: #7f7f7f; text-decoration-color: #7f7f7f\">:</span><a href=\"file:///tmp/ipykernel_2116415/3421642480.py#28\" target=\"_blank\"><span style=\"color: #7f7f7f; text-decoration-color: #7f7f7f\">28</span></a>\n",
       "</pre>\n"
      ],
      "text/plain": [
       "\u001b[2;36m          \u001b[0m\u001b[2;36m \u001b[0mCleaned \u001b[1;36m374898\u001b[0m rows. Took \u001b[1;36m38.24\u001b[0m seconds                                                 \u001b]8;id=836182;file:///tmp/ipykernel_2116415/3421642480.py\u001b\\\u001b[2m3421642480.py\u001b[0m\u001b]8;;\u001b\\\u001b[2m:\u001b[0m\u001b]8;id=334160;file:///tmp/ipykernel_2116415/3421642480.py#28\u001b\\\u001b[2m28\u001b[0m\u001b]8;;\u001b\\\n"
      ]
     },
     "metadata": {},
     "output_type": "display_data"
    }
   ],
   "source": [
    "### Loading MLHD ###\n",
    "time_logs['load_start'] = monotonic()\n",
    "\n",
    "df = io.load_path_file('warehouse/samples/random_file_paths.txt', drop_subset = ['recording_MBID', 'artist_MBID'])\n",
    "df.drop(['release_MBID'], axis = 1, inplace = True)\n",
    "df.drop_duplicates(['artist_MBID', 'recording_MBID'], inplace = True)\n",
    "df.rename({'artist_MBID': 'mlhd_artist_mbid', 'recording_MBID': 'mlhd_recording_mbid'}, inplace=True, axis=1)\n",
    "df.reset_index(inplace=True, drop=True)\n",
    "\n",
    "time_logs['load_end'] = monotonic()\n",
    "console.log(\"loaded MLHD files with {} rows. Took {} seconds\".format(df.shape[0], round(time_logs['load_end'] - time_logs['load_start'], 2)))\n",
    "\n",
    "### Clean Up ###\n",
    "console.log('Starting Cleanup...')\n",
    "time_logs['clean_start'] = monotonic()\n",
    "\n",
    "shape_before = df.shape[0]\n",
    "df1 = mapper_helper.clean_rec(df, rec_gid_set, MB_rec_redirects, MB_rec_canonical, MB_artist_credit_list)\n",
    "shape_after = df.shape[0]\n",
    "\n",
    "\n",
    "df.to_csv('warehouse/mapper_outputs/mlhd_artist_credits.csv', index=False)\n",
    "console.log(f\"Dropped {shape_before - shape_after} rows\")\n",
    "\n",
    "\n",
    "time_logs['clean_end'] = monotonic()\n",
    "\n",
    "console.log(\"Cleaned {} rows. Took {} seconds\".format(\n",
    "    df.shape[0], \n",
    "    round(time_logs['clean_end'] - time_logs['clean_start'], 2))\n",
    ")"
   ]
  },
  {
   "cell_type": "code",
   "execution_count": 5,
   "metadata": {},
   "outputs": [
    {
     "data": {
      "text/html": [
       "<pre style=\"white-space:pre;overflow-x:auto;line-height:normal;font-family:Menlo,'DejaVu Sans Mono',consolas,'Courier New',monospace\"><span style=\"color: #7fbfbf; text-decoration-color: #7fbfbf\">[12:13:16] </span>Mapping MBIDs<span style=\"color: #808000; text-decoration-color: #808000\">...</span>                                                                          <a href=\"file:///tmp/ipykernel_2116415/816973558.py\" target=\"_blank\"><span style=\"color: #7f7f7f; text-decoration-color: #7f7f7f\">816973558.py</span></a><span style=\"color: #7f7f7f; text-decoration-color: #7f7f7f\">:</span><a href=\"file:///tmp/ipykernel_2116415/816973558.py#4\" target=\"_blank\"><span style=\"color: #7f7f7f; text-decoration-color: #7f7f7f\">4</span></a>\n",
       "</pre>\n"
      ],
      "text/plain": [
       "\u001b[2;36m[12:13:16]\u001b[0m\u001b[2;36m \u001b[0mMapping MBIDs\u001b[33m...\u001b[0m                                                                          \u001b]8;id=533717;file:///tmp/ipykernel_2116415/816973558.py\u001b\\\u001b[2m816973558.py\u001b[0m\u001b]8;;\u001b\\\u001b[2m:\u001b[0m\u001b]8;id=931040;file:///tmp/ipykernel_2116415/816973558.py#4\u001b\\\u001b[2m4\u001b[0m\u001b]8;;\u001b\\\n"
      ]
     },
     "metadata": {},
     "output_type": "display_data"
    },
    {
     "data": {
      "text/html": [
       "<pre style=\"white-space:pre;overflow-x:auto;line-height:normal;font-family:Menlo,'DejaVu Sans Mono',consolas,'Courier New',monospace\"><span style=\"color: #7fbfbf; text-decoration-color: #7fbfbf\">           </span>loading mbc_table<span style=\"color: #808000; text-decoration-color: #808000\">...</span>                                                                      <a href=\"file:///tmp/ipykernel_2116415/816973558.py\" target=\"_blank\"><span style=\"color: #7f7f7f; text-decoration-color: #7f7f7f\">816973558.py</span></a><span style=\"color: #7f7f7f; text-decoration-color: #7f7f7f\">:</span><a href=\"file:///tmp/ipykernel_2116415/816973558.py#6\" target=\"_blank\"><span style=\"color: #7f7f7f; text-decoration-color: #7f7f7f\">6</span></a>\n",
       "</pre>\n"
      ],
      "text/plain": [
       "\u001b[2;36m          \u001b[0m\u001b[2;36m \u001b[0mloading mbc_table\u001b[33m...\u001b[0m                                                                      \u001b]8;id=168043;file:///tmp/ipykernel_2116415/816973558.py\u001b\\\u001b[2m816973558.py\u001b[0m\u001b]8;;\u001b\\\u001b[2m:\u001b[0m\u001b]8;id=884735;file:///tmp/ipykernel_2116415/816973558.py#6\u001b\\\u001b[2m6\u001b[0m\u001b]8;;\u001b\\\n"
      ]
     },
     "metadata": {},
     "output_type": "display_data"
    },
    {
     "name": "stderr",
     "output_type": "stream",
     "text": [
      "/home/snaek/MLHD_repo_test/MLHD/lib/mapper_helper.py:108: SettingWithCopyWarning: \n",
      "A value is trying to be set on a copy of a slice from a DataFrame.\n",
      "Try using .loc[row_indexer,col_indexer] = value instead\n",
      "\n",
      "See the caveats in the documentation: https://pandas.pydata.org/pandas-docs/stable/user_guide/indexing.html#returning-a-view-versus-a-copy\n",
      "  df_input['received_rec_mbid'] = cleaned.map(lambda value: io.replace(value, mbc_table, 'recording_mbid'))\n"
     ]
    }
   ],
   "source": [
    "time_logs['mapper_start'] = monotonic()\n",
    "num_rows = df.shape[0]\n",
    "\n",
    "console.log(\"Mapping MBIDs...\")\n",
    "\n",
    "console.log('loading mbc_table...')\n",
    "mbc_table = pd.read_parquet('warehouse/MB_tables/mbc_combined.parquet')\n",
    "mbc_table.set_index('combined_lookup', inplace=True)\n",
    "\n",
    "mapped_output = mapper_helper.mapper_mbc(df.iloc[:num_rows, :], mbc_table)"
   ]
  },
  {
   "cell_type": "code",
   "execution_count": 6,
   "metadata": {},
   "outputs": [
    {
     "data": {
      "text/html": [
       "<pre style=\"white-space:pre;overflow-x:auto;line-height:normal;font-family:Menlo,'DejaVu Sans Mono',consolas,'Courier New',monospace\">\n",
       "Rows with different mlhd_canonical_mbids and received_recording_mbids:\n",
       "</pre>\n"
      ],
      "text/plain": [
       "\n",
       "Rows with different mlhd_canonical_mbids and received_recording_mbids:\n"
      ]
     },
     "metadata": {},
     "output_type": "display_data"
    },
    {
     "data": {
      "text/html": [
       "<pre style=\"white-space:pre;overflow-x:auto;line-height:normal;font-family:Menlo,'DejaVu Sans Mono',consolas,'Courier New',monospace\">                                        self  \\\n",
       "<span style=\"color: #008080; text-decoration-color: #008080; font-weight: bold\">644</span>     <span style=\"color: #ffff00; text-decoration-color: #ffff00\">1c6410c1-00ee-41f5-b6a9-644c7a575d8e</span>   \n",
       "<span style=\"color: #008080; text-decoration-color: #008080; font-weight: bold\">645</span>     <span style=\"color: #ffff00; text-decoration-color: #ffff00\">a0c41057-9710-4250-9c89-0b814a83a61d</span>   \n",
       "<span style=\"color: #008080; text-decoration-color: #008080; font-weight: bold\">646</span>     <span style=\"color: #ffff00; text-decoration-color: #ffff00\">d743bf98-60c8-4236-892e-0fb9a476e78b</span>   \n",
       "<span style=\"color: #008080; text-decoration-color: #008080; font-weight: bold\">647</span>     <span style=\"color: #ffff00; text-decoration-color: #ffff00\">7c0d9b3f-bfc7-46a8-b3f0-fd557aff15a7</span>   \n",
       "<span style=\"color: #008080; text-decoration-color: #008080; font-weight: bold\">648</span>     <span style=\"color: #ffff00; text-decoration-color: #ffff00\">9a6dc2a4-f3d5-46b1-90ec-2bfefcda115e</span>   \n",
       "<span style=\"color: #808000; text-decoration-color: #808000\">...</span>                                      <span style=\"color: #808000; text-decoration-color: #808000\">...</span>   \n",
       "<span style=\"color: #008080; text-decoration-color: #008080; font-weight: bold\">376032</span>                                   NaN   \n",
       "<span style=\"color: #008080; text-decoration-color: #008080; font-weight: bold\">376033</span>                                   NaN   \n",
       "<span style=\"color: #008080; text-decoration-color: #008080; font-weight: bold\">376034</span>                                   NaN   \n",
       "<span style=\"color: #008080; text-decoration-color: #008080; font-weight: bold\">376035</span>                                   NaN   \n",
       "<span style=\"color: #008080; text-decoration-color: #008080; font-weight: bold\">376036</span>                                   NaN   \n",
       "\n",
       "                                       other  \n",
       "<span style=\"color: #008080; text-decoration-color: #008080; font-weight: bold\">644</span>     <span style=\"color: #ffff00; text-decoration-color: #ffff00\">ac31f69d-e435-40dd-b3fc-69b75bb5907c</span>  \n",
       "<span style=\"color: #008080; text-decoration-color: #008080; font-weight: bold\">645</span>     <span style=\"color: #ffff00; text-decoration-color: #ffff00\">1c6410c1-00ee-41f5-b6a9-644c7a575d8e</span>  \n",
       "<span style=\"color: #008080; text-decoration-color: #008080; font-weight: bold\">646</span>     <span style=\"color: #ffff00; text-decoration-color: #ffff00\">a0c41057-9710-4250-9c89-0b814a83a61d</span>  \n",
       "<span style=\"color: #008080; text-decoration-color: #008080; font-weight: bold\">647</span>     <span style=\"color: #ffff00; text-decoration-color: #ffff00\">d743bf98-60c8-4236-892e-0fb9a476e78b</span>  \n",
       "<span style=\"color: #008080; text-decoration-color: #008080; font-weight: bold\">648</span>     <span style=\"color: #ffff00; text-decoration-color: #ffff00\">7c0d9b3f-bfc7-46a8-b3f0-fd557aff15a7</span>  \n",
       "<span style=\"color: #808000; text-decoration-color: #808000\">...</span>                                      <span style=\"color: #808000; text-decoration-color: #808000\">...</span>  \n",
       "<span style=\"color: #008080; text-decoration-color: #008080; font-weight: bold\">376032</span>  <span style=\"color: #ffff00; text-decoration-color: #ffff00\">4c52692f-eebc-4d00-9d5a-bc69c4eafbfe</span>  \n",
       "<span style=\"color: #008080; text-decoration-color: #008080; font-weight: bold\">376033</span>  <span style=\"color: #ffff00; text-decoration-color: #ffff00\">59b1aade-c2d4-45c5-97ee-2dc34718872b</span>  \n",
       "<span style=\"color: #008080; text-decoration-color: #008080; font-weight: bold\">376034</span>  <span style=\"color: #ffff00; text-decoration-color: #ffff00\">f9f2601a-298a-4cfd-9b8a-b9e1c8118d5f</span>  \n",
       "<span style=\"color: #008080; text-decoration-color: #008080; font-weight: bold\">376035</span>  <span style=\"color: #ffff00; text-decoration-color: #ffff00\">b1600489-05c3-4d71-80b8-b5558563df10</span>  \n",
       "<span style=\"color: #008080; text-decoration-color: #008080; font-weight: bold\">376036</span>  <span style=\"color: #ffff00; text-decoration-color: #ffff00\">bc0e9d24-8b23-41ca-a389-3196e071c56e</span>  \n",
       "\n",
       "<span style=\"font-weight: bold\">[</span><span style=\"color: #008080; text-decoration-color: #008080; font-weight: bold\">374254</span> rows x <span style=\"color: #008080; text-decoration-color: #008080; font-weight: bold\">2</span> columns<span style=\"font-weight: bold\">]</span>\n",
       "</pre>\n"
      ],
      "text/plain": [
       "                                        self  \\\n",
       "\u001b[1;36m644\u001b[0m     \u001b[93m1c6410c1-00ee-41f5-b6a9-644c7a575d8e\u001b[0m   \n",
       "\u001b[1;36m645\u001b[0m     \u001b[93ma0c41057-9710-4250-9c89-0b814a83a61d\u001b[0m   \n",
       "\u001b[1;36m646\u001b[0m     \u001b[93md743bf98-60c8-4236-892e-0fb9a476e78b\u001b[0m   \n",
       "\u001b[1;36m647\u001b[0m     \u001b[93m7c0d9b3f-bfc7-46a8-b3f0-fd557aff15a7\u001b[0m   \n",
       "\u001b[1;36m648\u001b[0m     \u001b[93m9a6dc2a4-f3d5-46b1-90ec-2bfefcda115e\u001b[0m   \n",
       "\u001b[33m...\u001b[0m                                      \u001b[33m...\u001b[0m   \n",
       "\u001b[1;36m376032\u001b[0m                                   NaN   \n",
       "\u001b[1;36m376033\u001b[0m                                   NaN   \n",
       "\u001b[1;36m376034\u001b[0m                                   NaN   \n",
       "\u001b[1;36m376035\u001b[0m                                   NaN   \n",
       "\u001b[1;36m376036\u001b[0m                                   NaN   \n",
       "\n",
       "                                       other  \n",
       "\u001b[1;36m644\u001b[0m     \u001b[93mac31f69d-e435-40dd-b3fc-69b75bb5907c\u001b[0m  \n",
       "\u001b[1;36m645\u001b[0m     \u001b[93m1c6410c1-00ee-41f5-b6a9-644c7a575d8e\u001b[0m  \n",
       "\u001b[1;36m646\u001b[0m     \u001b[93ma0c41057-9710-4250-9c89-0b814a83a61d\u001b[0m  \n",
       "\u001b[1;36m647\u001b[0m     \u001b[93md743bf98-60c8-4236-892e-0fb9a476e78b\u001b[0m  \n",
       "\u001b[1;36m648\u001b[0m     \u001b[93m7c0d9b3f-bfc7-46a8-b3f0-fd557aff15a7\u001b[0m  \n",
       "\u001b[33m...\u001b[0m                                      \u001b[33m...\u001b[0m  \n",
       "\u001b[1;36m376032\u001b[0m  \u001b[93m4c52692f-eebc-4d00-9d5a-bc69c4eafbfe\u001b[0m  \n",
       "\u001b[1;36m376033\u001b[0m  \u001b[93m59b1aade-c2d4-45c5-97ee-2dc34718872b\u001b[0m  \n",
       "\u001b[1;36m376034\u001b[0m  \u001b[93mf9f2601a-298a-4cfd-9b8a-b9e1c8118d5f\u001b[0m  \n",
       "\u001b[1;36m376035\u001b[0m  \u001b[93mb1600489-05c3-4d71-80b8-b5558563df10\u001b[0m  \n",
       "\u001b[1;36m376036\u001b[0m  \u001b[93mbc0e9d24-8b23-41ca-a389-3196e071c56e\u001b[0m  \n",
       "\n",
       "\u001b[1m[\u001b[0m\u001b[1;36m374254\u001b[0m rows x \u001b[1;36m2\u001b[0m columns\u001b[1m]\u001b[0m\n"
      ]
     },
     "metadata": {},
     "output_type": "display_data"
    }
   ],
   "source": [
    "console.print(\"\\nRows with different mlhd_canonical_mbids and received_recording_mbids:\")\n",
    "console.print(mapped_output.received_rec_mbid.compare(mapped_output.mlhd_canonical_mbid))"
   ]
  },
  {
   "cell_type": "code",
   "execution_count": 7,
   "metadata": {},
   "outputs": [],
   "source": [
    "subset = df.iloc[:num_rows, :]"
   ]
  },
  {
   "cell_type": "code",
   "execution_count": 8,
   "metadata": {},
   "outputs": [],
   "source": [
    "from unidecode import unidecode\n",
    "import re\n",
    "def lookup(row):\n",
    "    return unidecode(re.sub(r'[^\\w]+', '', row[\"artist_credit\"] + row[\"rec_name\"]).lower())\n",
    "\n",
    "df['combined_lookup'] = df.apply(lookup, axis=1)"
   ]
  },
  {
   "cell_type": "code",
   "execution_count": 9,
   "metadata": {},
   "outputs": [
    {
     "data": {
      "text/html": [
       "<div>\n",
       "<style scoped>\n",
       "    .dataframe tbody tr th:only-of-type {\n",
       "        vertical-align: middle;\n",
       "    }\n",
       "\n",
       "    .dataframe tbody tr th {\n",
       "        vertical-align: top;\n",
       "    }\n",
       "\n",
       "    .dataframe thead th {\n",
       "        text-align: right;\n",
       "    }\n",
       "</style>\n",
       "<table border=\"1\" class=\"dataframe\">\n",
       "  <thead>\n",
       "    <tr style=\"text-align: right;\">\n",
       "      <th></th>\n",
       "      <th>timestamp</th>\n",
       "      <th>mlhd_artist_mbid</th>\n",
       "      <th>mlhd_recording_mbid</th>\n",
       "      <th>mlhd_canonical_mbid</th>\n",
       "      <th>rec_name</th>\n",
       "      <th>artist_credit</th>\n",
       "    </tr>\n",
       "  </thead>\n",
       "  <tbody>\n",
       "    <tr>\n",
       "      <th>0</th>\n",
       "      <td>1108412731</td>\n",
       "      <td>f4a31f0a-51dd-4fa7-986d-3095c40c5ed9</td>\n",
       "      <td>1deb956c-5439-4fbb-b026-5adb4330a934</td>\n",
       "      <td>1deb956c-5439-4fbb-b026-5adb4330a934</td>\n",
       "      <td>Anywhere</td>\n",
       "      <td>Evanescence</td>\n",
       "    </tr>\n",
       "    <tr>\n",
       "      <th>1</th>\n",
       "      <td>1108422818</td>\n",
       "      <td>db999c3f-f243-4a5f-88d6-0c25243b6661</td>\n",
       "      <td>14e9eb4e-155d-46ff-9a83-a8d5e1936c81</td>\n",
       "      <td>b0e80c50-6bca-415c-9515-1b4983329b80</td>\n",
       "      <td>Lady Lady</td>\n",
       "      <td>Mark Joseph</td>\n",
       "    </tr>\n",
       "    <tr>\n",
       "      <th>2</th>\n",
       "      <td>1108423325</td>\n",
       "      <td>ce58d854-7430-4231-aa44-97f0144b3372</td>\n",
       "      <td>eced9a9b-cd59-40f8-a580-f27094bd8a89</td>\n",
       "      <td>6ae8e64a-d208-4f4e-8d88-155ed0568344</td>\n",
       "      <td>Building a Mystery</td>\n",
       "      <td>Sarah McLachlan</td>\n",
       "    </tr>\n",
       "    <tr>\n",
       "      <th>3</th>\n",
       "      <td>1108594566</td>\n",
       "      <td>e6e879c0-3d56-4f12-b3c5-3ce459661a8e</td>\n",
       "      <td>0a8e9fce-b54c-45dd-8081-4aaa654ef4ec</td>\n",
       "      <td>da1308d1-6037-4ba1-b6fc-a643a4201140</td>\n",
       "      <td>Hallelujah</td>\n",
       "      <td>Jeff Buckley</td>\n",
       "    </tr>\n",
       "    <tr>\n",
       "      <th>4</th>\n",
       "      <td>1108679759</td>\n",
       "      <td>3c0a0074-4f26-4d3b-b723-a66bf6cc3753</td>\n",
       "      <td>06a5b648-0950-4892-a975-715291a5de6f</td>\n",
       "      <td>a2a800b4-4969-4bc6-88e9-6928b973890c</td>\n",
       "      <td>Penny &amp; Me</td>\n",
       "      <td>Hanson</td>\n",
       "    </tr>\n",
       "    <tr>\n",
       "      <th>...</th>\n",
       "      <td>...</td>\n",
       "      <td>...</td>\n",
       "      <td>...</td>\n",
       "      <td>...</td>\n",
       "      <td>...</td>\n",
       "      <td>...</td>\n",
       "    </tr>\n",
       "    <tr>\n",
       "      <th>376032</th>\n",
       "      <td>1346409472</td>\n",
       "      <td>32f59126-2a1c-47c5-9076-64826c83a393</td>\n",
       "      <td>11c72720-977a-4cdb-ae6f-16d921023289</td>\n",
       "      <td>4c52692f-eebc-4d00-9d5a-bc69c4eafbfe</td>\n",
       "      <td>The Waves Crashing Silently Through the Domina...</td>\n",
       "      <td>Calexico</td>\n",
       "    </tr>\n",
       "    <tr>\n",
       "      <th>376033</th>\n",
       "      <td>1346409883</td>\n",
       "      <td>32f59126-2a1c-47c5-9076-64826c83a393</td>\n",
       "      <td>065212d3-88db-480c-bee2-05dc2653928c</td>\n",
       "      <td>59b1aade-c2d4-45c5-97ee-2dc34718872b</td>\n",
       "      <td>Fine Patina</td>\n",
       "      <td>Calexico</td>\n",
       "    </tr>\n",
       "    <tr>\n",
       "      <th>376034</th>\n",
       "      <td>1346500026</td>\n",
       "      <td>f7e7acc2-b61c-4e8c-80fd-ab354bf856e8</td>\n",
       "      <td>35092b28-1349-4c9a-9539-26d82e58f57d</td>\n",
       "      <td>f9f2601a-298a-4cfd-9b8a-b9e1c8118d5f</td>\n",
       "      <td>Somebody to Love</td>\n",
       "      <td>Jim Carrey</td>\n",
       "    </tr>\n",
       "    <tr>\n",
       "      <th>376035</th>\n",
       "      <td>1350727034</td>\n",
       "      <td>11ae9fbb-f3d7-4a47-936f-4c0a04d3b3b5</td>\n",
       "      <td>9e952c1c-7748-4899-bf1a-8ebe7b9f97b0</td>\n",
       "      <td>b1600489-05c3-4d71-80b8-b5558563df10</td>\n",
       "      <td>You’re Pretty Good Looking</td>\n",
       "      <td>The White Stripes</td>\n",
       "    </tr>\n",
       "    <tr>\n",
       "      <th>376036</th>\n",
       "      <td>1353423330</td>\n",
       "      <td>2944824d-4c26-476f-a981-be849081942f</td>\n",
       "      <td>a6eb7554-5255-4221-8223-69ff4763b9dd</td>\n",
       "      <td>bc0e9d24-8b23-41ca-a389-3196e071c56e</td>\n",
       "      <td>Sinnerman</td>\n",
       "      <td>Nina Simone</td>\n",
       "    </tr>\n",
       "  </tbody>\n",
       "</table>\n",
       "<p>374898 rows × 6 columns</p>\n",
       "</div>"
      ],
      "text/plain": [
       "         timestamp                      mlhd_artist_mbid  \\\n",
       "0       1108412731  f4a31f0a-51dd-4fa7-986d-3095c40c5ed9   \n",
       "1       1108422818  db999c3f-f243-4a5f-88d6-0c25243b6661   \n",
       "2       1108423325  ce58d854-7430-4231-aa44-97f0144b3372   \n",
       "3       1108594566  e6e879c0-3d56-4f12-b3c5-3ce459661a8e   \n",
       "4       1108679759  3c0a0074-4f26-4d3b-b723-a66bf6cc3753   \n",
       "...            ...                                   ...   \n",
       "376032  1346409472  32f59126-2a1c-47c5-9076-64826c83a393   \n",
       "376033  1346409883  32f59126-2a1c-47c5-9076-64826c83a393   \n",
       "376034  1346500026  f7e7acc2-b61c-4e8c-80fd-ab354bf856e8   \n",
       "376035  1350727034  11ae9fbb-f3d7-4a47-936f-4c0a04d3b3b5   \n",
       "376036  1353423330  2944824d-4c26-476f-a981-be849081942f   \n",
       "\n",
       "                         mlhd_recording_mbid  \\\n",
       "0       1deb956c-5439-4fbb-b026-5adb4330a934   \n",
       "1       14e9eb4e-155d-46ff-9a83-a8d5e1936c81   \n",
       "2       eced9a9b-cd59-40f8-a580-f27094bd8a89   \n",
       "3       0a8e9fce-b54c-45dd-8081-4aaa654ef4ec   \n",
       "4       06a5b648-0950-4892-a975-715291a5de6f   \n",
       "...                                      ...   \n",
       "376032  11c72720-977a-4cdb-ae6f-16d921023289   \n",
       "376033  065212d3-88db-480c-bee2-05dc2653928c   \n",
       "376034  35092b28-1349-4c9a-9539-26d82e58f57d   \n",
       "376035  9e952c1c-7748-4899-bf1a-8ebe7b9f97b0   \n",
       "376036  a6eb7554-5255-4221-8223-69ff4763b9dd   \n",
       "\n",
       "                         mlhd_canonical_mbid  \\\n",
       "0       1deb956c-5439-4fbb-b026-5adb4330a934   \n",
       "1       b0e80c50-6bca-415c-9515-1b4983329b80   \n",
       "2       6ae8e64a-d208-4f4e-8d88-155ed0568344   \n",
       "3       da1308d1-6037-4ba1-b6fc-a643a4201140   \n",
       "4       a2a800b4-4969-4bc6-88e9-6928b973890c   \n",
       "...                                      ...   \n",
       "376032  4c52692f-eebc-4d00-9d5a-bc69c4eafbfe   \n",
       "376033  59b1aade-c2d4-45c5-97ee-2dc34718872b   \n",
       "376034  f9f2601a-298a-4cfd-9b8a-b9e1c8118d5f   \n",
       "376035  b1600489-05c3-4d71-80b8-b5558563df10   \n",
       "376036  bc0e9d24-8b23-41ca-a389-3196e071c56e   \n",
       "\n",
       "                                                 rec_name      artist_credit  \n",
       "0                                                Anywhere        Evanescence  \n",
       "1                                               Lady Lady        Mark Joseph  \n",
       "2                                      Building a Mystery    Sarah McLachlan  \n",
       "3                                              Hallelujah       Jeff Buckley  \n",
       "4                                              Penny & Me             Hanson  \n",
       "...                                                   ...                ...  \n",
       "376032  The Waves Crashing Silently Through the Domina...           Calexico  \n",
       "376033                                        Fine Patina           Calexico  \n",
       "376034                                   Somebody to Love         Jim Carrey  \n",
       "376035                         You’re Pretty Good Looking  The White Stripes  \n",
       "376036                                          Sinnerman        Nina Simone  \n",
       "\n",
       "[374898 rows x 6 columns]"
      ]
     },
     "execution_count": 9,
     "metadata": {},
     "output_type": "execute_result"
    }
   ],
   "source": [
    "subset"
   ]
  },
  {
   "cell_type": "code",
   "execution_count": 10,
   "metadata": {},
   "outputs": [
    {
     "data": {
      "text/html": [
       "<div>\n",
       "<style scoped>\n",
       "    .dataframe tbody tr th:only-of-type {\n",
       "        vertical-align: middle;\n",
       "    }\n",
       "\n",
       "    .dataframe tbody tr th {\n",
       "        vertical-align: top;\n",
       "    }\n",
       "\n",
       "    .dataframe thead th {\n",
       "        text-align: right;\n",
       "    }\n",
       "</style>\n",
       "<table border=\"1\" class=\"dataframe\">\n",
       "  <thead>\n",
       "    <tr style=\"text-align: right;\">\n",
       "      <th></th>\n",
       "      <th>recording_mbid</th>\n",
       "    </tr>\n",
       "    <tr>\n",
       "      <th>combined_lookup</th>\n",
       "      <th></th>\n",
       "    </tr>\n",
       "  </thead>\n",
       "  <tbody>\n",
       "    <tr>\n",
       "      <th>variousartistsimpersonations</th>\n",
       "      <td>1f104e8a-16b4-4e0d-bce0-16c869d6e739</td>\n",
       "    </tr>\n",
       "    <tr>\n",
       "      <th>variousartistspotpourrisega</th>\n",
       "      <td>7b1f193b-c9ba-48d6-bd6f-8afd02d489a2</td>\n",
       "    </tr>\n",
       "    <tr>\n",
       "      <th>variousartistspannoniadicserete</th>\n",
       "      <td>5b717dfc-365b-431b-83b2-97c31220c69e</td>\n",
       "    </tr>\n",
       "    <tr>\n",
       "      <th>variousartiststhemetimeradiohourfriendsneighbors</th>\n",
       "      <td>fc0b75c2-0e15-4348-8be6-94892d291031</td>\n",
       "    </tr>\n",
       "    <tr>\n",
       "      <th>variousartistseintollertagplaybackversion</th>\n",
       "      <td>e9fc070c-9c20-4ce6-adae-f23530c1487f</td>\n",
       "    </tr>\n",
       "    <tr>\n",
       "      <th>...</th>\n",
       "      <td>...</td>\n",
       "    </tr>\n",
       "    <tr>\n",
       "      <th>mermaidchunkyfriends</th>\n",
       "      <td>a67d8682-c957-43e8-8fd3-01280971ad3b</td>\n",
       "    </tr>\n",
       "    <tr>\n",
       "      <th>mermaidchunkythesegirls</th>\n",
       "      <td>bf9897b0-eeea-493e-a32e-47c6bb8799d7</td>\n",
       "    </tr>\n",
       "    <tr>\n",
       "      <th>mermaidchunkykingoftheherbs</th>\n",
       "      <td>e85e82cf-69e9-45fc-be84-86b940b91e14</td>\n",
       "    </tr>\n",
       "    <tr>\n",
       "      <th>psikedeliahbrainjamsiliconfield</th>\n",
       "      <td>ddb60b5b-4aeb-47fa-8032-63adac1d6926</td>\n",
       "    </tr>\n",
       "    <tr>\n",
       "      <th>kusabikytheravirtualgenetics</th>\n",
       "      <td>5cad7b0c-6918-456f-b354-4e936890211c</td>\n",
       "    </tr>\n",
       "  </tbody>\n",
       "</table>\n",
       "<p>21533073 rows × 1 columns</p>\n",
       "</div>"
      ],
      "text/plain": [
       "                                                                        recording_mbid\n",
       "combined_lookup                                                                       \n",
       "variousartistsimpersonations                      1f104e8a-16b4-4e0d-bce0-16c869d6e739\n",
       "variousartistspotpourrisega                       7b1f193b-c9ba-48d6-bd6f-8afd02d489a2\n",
       "variousartistspannoniadicserete                   5b717dfc-365b-431b-83b2-97c31220c69e\n",
       "variousartiststhemetimeradiohourfriendsneighbors  fc0b75c2-0e15-4348-8be6-94892d291031\n",
       "variousartistseintollertagplaybackversion         e9fc070c-9c20-4ce6-adae-f23530c1487f\n",
       "...                                                                                ...\n",
       "mermaidchunkyfriends                              a67d8682-c957-43e8-8fd3-01280971ad3b\n",
       "mermaidchunkythesegirls                           bf9897b0-eeea-493e-a32e-47c6bb8799d7\n",
       "mermaidchunkykingoftheherbs                       e85e82cf-69e9-45fc-be84-86b940b91e14\n",
       "psikedeliahbrainjamsiliconfield                   ddb60b5b-4aeb-47fa-8032-63adac1d6926\n",
       "kusabikytheravirtualgenetics                      5cad7b0c-6918-456f-b354-4e936890211c\n",
       "\n",
       "[21533073 rows x 1 columns]"
      ]
     },
     "execution_count": 10,
     "metadata": {},
     "output_type": "execute_result"
    }
   ],
   "source": [
    "mbc_table"
   ]
  },
  {
   "cell_type": "code",
   "execution_count": 11,
   "metadata": {},
   "outputs": [],
   "source": [
    "df = df.join(mbc_table, on='combined_lookup')"
   ]
  },
  {
   "cell_type": "code",
   "execution_count": 12,
   "metadata": {},
   "outputs": [],
   "source": [
    "mismatch = df.loc[df.mlhd_canonical_mbid != df.recording_mbid]"
   ]
  },
  {
   "cell_type": "code",
   "execution_count": 13,
   "metadata": {},
   "outputs": [
    {
     "data": {
      "text/html": [
       "<div>\n",
       "<style scoped>\n",
       "    .dataframe tbody tr th:only-of-type {\n",
       "        vertical-align: middle;\n",
       "    }\n",
       "\n",
       "    .dataframe tbody tr th {\n",
       "        vertical-align: top;\n",
       "    }\n",
       "\n",
       "    .dataframe thead th {\n",
       "        text-align: right;\n",
       "    }\n",
       "</style>\n",
       "<table border=\"1\" class=\"dataframe\">\n",
       "  <thead>\n",
       "    <tr style=\"text-align: right;\">\n",
       "      <th></th>\n",
       "      <th>gid</th>\n",
       "    </tr>\n",
       "  </thead>\n",
       "  <tbody>\n",
       "    <tr>\n",
       "      <th>0</th>\n",
       "      <td>e2523c75-df45-46cb-8c6e-a9b546f81fcd</td>\n",
       "    </tr>\n",
       "    <tr>\n",
       "      <th>1</th>\n",
       "      <td>ed1b18cd-94e2-4d49-a182-2ff4a48bc4af</td>\n",
       "    </tr>\n",
       "    <tr>\n",
       "      <th>2</th>\n",
       "      <td>237cc410-5462-45af-aaad-96b65ef3b7bf</td>\n",
       "    </tr>\n",
       "    <tr>\n",
       "      <th>3</th>\n",
       "      <td>1b9361c5-98d0-4f57-8b17-e19da3d63849</td>\n",
       "    </tr>\n",
       "    <tr>\n",
       "      <th>4</th>\n",
       "      <td>8b99d972-8e74-4835-9200-e0ac6b47cbd0</td>\n",
       "    </tr>\n",
       "    <tr>\n",
       "      <th>...</th>\n",
       "      <td>...</td>\n",
       "    </tr>\n",
       "    <tr>\n",
       "      <th>93359</th>\n",
       "      <td>51a1673b-b0e4-49e5-a534-d5a17a7690c0</td>\n",
       "    </tr>\n",
       "    <tr>\n",
       "      <th>93360</th>\n",
       "      <td>d60b7cf4-f33a-4e10-bfc9-2f1d98881835</td>\n",
       "    </tr>\n",
       "    <tr>\n",
       "      <th>93361</th>\n",
       "      <td>489332a3-340e-491f-8d52-d982b5e4823b</td>\n",
       "    </tr>\n",
       "    <tr>\n",
       "      <th>93362</th>\n",
       "      <td>e4d9c463-e17e-4305-ac2b-94857432ecd5</td>\n",
       "    </tr>\n",
       "    <tr>\n",
       "      <th>93363</th>\n",
       "      <td>fc168828-9380-42a7-9841-6bc87d36c2a9</td>\n",
       "    </tr>\n",
       "  </tbody>\n",
       "</table>\n",
       "<p>93364 rows × 1 columns</p>\n",
       "</div>"
      ],
      "text/plain": [
       "                                        gid\n",
       "0      e2523c75-df45-46cb-8c6e-a9b546f81fcd\n",
       "1      ed1b18cd-94e2-4d49-a182-2ff4a48bc4af\n",
       "2      237cc410-5462-45af-aaad-96b65ef3b7bf\n",
       "3      1b9361c5-98d0-4f57-8b17-e19da3d63849\n",
       "4      8b99d972-8e74-4835-9200-e0ac6b47cbd0\n",
       "...                                     ...\n",
       "93359  51a1673b-b0e4-49e5-a534-d5a17a7690c0\n",
       "93360  d60b7cf4-f33a-4e10-bfc9-2f1d98881835\n",
       "93361  489332a3-340e-491f-8d52-d982b5e4823b\n",
       "93362  e4d9c463-e17e-4305-ac2b-94857432ecd5\n",
       "93363  fc168828-9380-42a7-9841-6bc87d36c2a9\n",
       "\n",
       "[93364 rows x 1 columns]"
      ]
     },
     "execution_count": 13,
     "metadata": {},
     "output_type": "execute_result"
    }
   ],
   "source": [
    "from lib.mb import get_table\n",
    "standalone = get_table(\"\"\"\n",
    "select r.gid\n",
    "from recording r\n",
    "left join track t\n",
    "on r.id = t.recording\n",
    "where t.recording IS NULL;\n",
    "\"\"\")\n",
    "standalone"
   ]
  },
  {
   "cell_type": "code",
   "execution_count": 14,
   "metadata": {},
   "outputs": [],
   "source": [
    "filtered = mismatch.merge(standalone, how='left', indicator=True, left_on='mlhd_canonical_mbid', right_on='gid')"
   ]
  },
  {
   "cell_type": "code",
   "execution_count": 15,
   "metadata": {},
   "outputs": [
    {
     "data": {
      "text/html": [
       "<div>\n",
       "<style scoped>\n",
       "    .dataframe tbody tr th:only-of-type {\n",
       "        vertical-align: middle;\n",
       "    }\n",
       "\n",
       "    .dataframe tbody tr th {\n",
       "        vertical-align: top;\n",
       "    }\n",
       "\n",
       "    .dataframe thead th {\n",
       "        text-align: right;\n",
       "    }\n",
       "</style>\n",
       "<table border=\"1\" class=\"dataframe\">\n",
       "  <thead>\n",
       "    <tr style=\"text-align: right;\">\n",
       "      <th></th>\n",
       "      <th>timestamp</th>\n",
       "      <th>mlhd_artist_mbid</th>\n",
       "      <th>mlhd_recording_mbid</th>\n",
       "      <th>mlhd_canonical_mbid</th>\n",
       "      <th>rec_name</th>\n",
       "      <th>artist_credit</th>\n",
       "      <th>combined_lookup</th>\n",
       "      <th>recording_mbid</th>\n",
       "      <th>gid</th>\n",
       "      <th>_merge</th>\n",
       "    </tr>\n",
       "  </thead>\n",
       "  <tbody>\n",
       "    <tr>\n",
       "      <th>1</th>\n",
       "      <td>1177279852</td>\n",
       "      <td>9a04dc8c-82f1-457a-a25a-3ff19e1b471e</td>\n",
       "      <td>3d316228-aeb1-4e13-9d86-104585ce7a15</td>\n",
       "      <td>7de95846-a918-4536-b453-d2ea41cc5ac0</td>\n",
       "      <td>Rose rouge</td>\n",
       "      <td>St. Germain</td>\n",
       "      <td>stgermainroserouge</td>\n",
       "      <td>57072609-4bbc-4d0f-b1f4-64fb54382451</td>\n",
       "      <td>NaN</td>\n",
       "      <td>left_only</td>\n",
       "    </tr>\n",
       "    <tr>\n",
       "      <th>10</th>\n",
       "      <td>1272794676</td>\n",
       "      <td>859d4c71-8baf-4987-91ac-a138c9bba81f</td>\n",
       "      <td>d9bceb2e-773b-4c23-82ed-8b7a9e912207</td>\n",
       "      <td>bce05509-abd0-4ac7-8074-1fa55ed3a872</td>\n",
       "      <td>Higher Than You</td>\n",
       "      <td>Gonzales</td>\n",
       "      <td>gonzaleshigherthanyou</td>\n",
       "      <td>36cda267-8280-48a1-93d6-eaa1ee0cb275</td>\n",
       "      <td>NaN</td>\n",
       "      <td>left_only</td>\n",
       "    </tr>\n",
       "    <tr>\n",
       "      <th>16</th>\n",
       "      <td>1221745477</td>\n",
       "      <td>b9472588-93f3-4922-a1a2-74082cdf9ce8</td>\n",
       "      <td>6c52335a-ca8e-4776-85a8-017143383d2c</td>\n",
       "      <td>dd8acb2a-158e-4e6b-befc-b349e01d3c28</td>\n",
       "      <td>Mad as Rabbits</td>\n",
       "      <td>Panic! at the Disco</td>\n",
       "      <td>panicatthediscomadasrabbits</td>\n",
       "      <td>a5f6645d-65ec-4b6f-ba13-615f6a8c1d21</td>\n",
       "      <td>NaN</td>\n",
       "      <td>left_only</td>\n",
       "    </tr>\n",
       "    <tr>\n",
       "      <th>24</th>\n",
       "      <td>1197725149</td>\n",
       "      <td>b392b9e8-f96b-4b7b-9e02-6dc0e7dff6fc</td>\n",
       "      <td>843ad572-6135-4976-9038-7c331f11a5d8</td>\n",
       "      <td>0390c46e-6af0-41ba-95b4-9ea51778c941</td>\n",
       "      <td>Анти герой</td>\n",
       "      <td>Azis</td>\n",
       "      <td>azisantigeroi</td>\n",
       "      <td>820a0710-f2da-4354-aacf-1241bb59f0c2</td>\n",
       "      <td>NaN</td>\n",
       "      <td>left_only</td>\n",
       "    </tr>\n",
       "    <tr>\n",
       "      <th>25</th>\n",
       "      <td>1199640212</td>\n",
       "      <td>98775867-3fef-4d2c-aea7-115c7e58326a</td>\n",
       "      <td>4a62aeae-cc88-4f2a-87ed-56cc08973479</td>\n",
       "      <td>4bad8718-13f9-4a4c-a97b-c8177a8d3bbc</td>\n",
       "      <td>Malevolent Landscape</td>\n",
       "      <td>Patrick O’Hearn</td>\n",
       "      <td>patrickohearnmalevolentlandscape</td>\n",
       "      <td>44383d44-23bf-44cd-987d-332f0b441bbd</td>\n",
       "      <td>NaN</td>\n",
       "      <td>left_only</td>\n",
       "    </tr>\n",
       "  </tbody>\n",
       "</table>\n",
       "</div>"
      ],
      "text/plain": [
       "     timestamp                      mlhd_artist_mbid  \\\n",
       "1   1177279852  9a04dc8c-82f1-457a-a25a-3ff19e1b471e   \n",
       "10  1272794676  859d4c71-8baf-4987-91ac-a138c9bba81f   \n",
       "16  1221745477  b9472588-93f3-4922-a1a2-74082cdf9ce8   \n",
       "24  1197725149  b392b9e8-f96b-4b7b-9e02-6dc0e7dff6fc   \n",
       "25  1199640212  98775867-3fef-4d2c-aea7-115c7e58326a   \n",
       "\n",
       "                     mlhd_recording_mbid  \\\n",
       "1   3d316228-aeb1-4e13-9d86-104585ce7a15   \n",
       "10  d9bceb2e-773b-4c23-82ed-8b7a9e912207   \n",
       "16  6c52335a-ca8e-4776-85a8-017143383d2c   \n",
       "24  843ad572-6135-4976-9038-7c331f11a5d8   \n",
       "25  4a62aeae-cc88-4f2a-87ed-56cc08973479   \n",
       "\n",
       "                     mlhd_canonical_mbid              rec_name  \\\n",
       "1   7de95846-a918-4536-b453-d2ea41cc5ac0            Rose rouge   \n",
       "10  bce05509-abd0-4ac7-8074-1fa55ed3a872       Higher Than You   \n",
       "16  dd8acb2a-158e-4e6b-befc-b349e01d3c28        Mad as Rabbits   \n",
       "24  0390c46e-6af0-41ba-95b4-9ea51778c941            Анти герой   \n",
       "25  4bad8718-13f9-4a4c-a97b-c8177a8d3bbc  Malevolent Landscape   \n",
       "\n",
       "          artist_credit                   combined_lookup  \\\n",
       "1           St. Germain                stgermainroserouge   \n",
       "10             Gonzales             gonzaleshigherthanyou   \n",
       "16  Panic! at the Disco       panicatthediscomadasrabbits   \n",
       "24                 Azis                     azisantigeroi   \n",
       "25      Patrick O’Hearn  patrickohearnmalevolentlandscape   \n",
       "\n",
       "                          recording_mbid  gid     _merge  \n",
       "1   57072609-4bbc-4d0f-b1f4-64fb54382451  NaN  left_only  \n",
       "10  36cda267-8280-48a1-93d6-eaa1ee0cb275  NaN  left_only  \n",
       "16  a5f6645d-65ec-4b6f-ba13-615f6a8c1d21  NaN  left_only  \n",
       "24  820a0710-f2da-4354-aacf-1241bb59f0c2  NaN  left_only  \n",
       "25  44383d44-23bf-44cd-987d-332f0b441bbd  NaN  left_only  "
      ]
     },
     "execution_count": 15,
     "metadata": {},
     "output_type": "execute_result"
    }
   ],
   "source": [
    "df_test = filtered.loc[filtered._merge != 'both']\n",
    "df_test.head()"
   ]
  },
  {
   "cell_type": "code",
   "execution_count": 16,
   "metadata": {},
   "outputs": [
    {
     "name": "stderr",
     "output_type": "stream",
     "text": [
      "/tmp/ipykernel_2116415/3509004133.py:1: SettingWithCopyWarning: \n",
      "A value is trying to be set on a copy of a slice from a DataFrame.\n",
      "Try using .loc[row_indexer,col_indexer] = value instead\n",
      "\n",
      "See the caveats in the documentation: https://pandas.pydata.org/pandas-docs/stable/user_guide/indexing.html#returning-a-view-versus-a-copy\n",
      "  df_test['received_rec_mbid'] = [() for i in range(df_test.shape[0])]\n"
     ]
    }
   ],
   "source": [
    "df_test['received_rec_mbid'] = [() for i in range(df_test.shape[0])]"
   ]
  },
  {
   "cell_type": "code",
   "execution_count": 17,
   "metadata": {},
   "outputs": [],
   "source": [
    "import lib.mapper_helper as mapper_helper"
   ]
  },
  {
   "cell_type": "code",
   "execution_count": 22,
   "metadata": {},
   "outputs": [
    {
     "data": {
      "text/plain": [
       "'https://wolf.metabrainz.org/~snaek/mlhd-lookup-22-09-17-test.html'"
      ]
     },
     "execution_count": 22,
     "metadata": {},
     "output_type": "execute_result"
    }
   ],
   "source": [
    "mapper_helper.write_html(base_path=\"/home/snaek/public_html\" , df=df_test, suffix = 'test')"
   ]
  },
  {
   "cell_type": "code",
   "execution_count": 20,
   "metadata": {},
   "outputs": [],
   "source": [
    "import config"
   ]
  }
 ],
 "metadata": {
  "kernelspec": {
   "display_name": "Python 3.8.10 ('env': venv)",
   "language": "python",
   "name": "python3"
  },
  "language_info": {
   "codemirror_mode": {
    "name": "ipython",
    "version": 3
   },
   "file_extension": ".py",
   "mimetype": "text/x-python",
   "name": "python",
   "nbconvert_exporter": "python",
   "pygments_lexer": "ipython3",
   "version": "3.8.10"
  },
  "orig_nbformat": 4,
  "vscode": {
   "interpreter": {
    "hash": "99207027a3abb1e120e2013d5a83e642456faefc5cbc1acefa0d682e37a8f4b0"
   }
  }
 },
 "nbformat": 4,
 "nbformat_minor": 2
}
