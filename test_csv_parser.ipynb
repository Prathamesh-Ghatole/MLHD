{
 "cells": [
  {
   "cell_type": "code",
   "execution_count": 1,
   "metadata": {},
   "outputs": [],
   "source": [
    "import lib.load as load\n",
    "import gzip\n",
    "import numpy as np\n",
    "from numba import njit\n",
    "import pandas as pd\n",
    "import matplotlib.pyplot as plt"
   ]
  },
  {
   "cell_type": "markdown",
   "metadata": {},
   "source": [
    "# Testing"
   ]
  },
  {
   "cell_type": "code",
   "execution_count": 2,
   "metadata": {},
   "outputs": [
    {
     "name": "stdout",
     "output_type": "stream",
     "text": [
      "12.6 s ± 0 ns per loop (mean ± std. dev. of 1 run, 1 loop each)\n"
     ]
    },
    {
     "ename": "NameError",
     "evalue": "name 'loaded' is not defined",
     "output_type": "error",
     "traceback": [
      "\u001b[0;31m---------------------------------------------------------------------------\u001b[0m",
      "\u001b[0;31mNameError\u001b[0m                                 Traceback (most recent call last)",
      "\u001b[1;32m/home/snaek/MLHD/csv_parser_tests.ipynb Cell 3'\u001b[0m in \u001b[0;36m<cell line: 2>\u001b[0;34m()\u001b[0m\n\u001b[1;32m      <a href='vscode-notebook-cell://ssh-remote%2Bwolf.metabrainz.org/home/snaek/MLHD/csv_parser_tests.ipynb#ch0000002vscode-remote?line=0'>1</a>\u001b[0m t \u001b[39m=\u001b[39m get_ipython()\u001b[39m.\u001b[39mrun_line_magic(\u001b[39m'\u001b[39m\u001b[39mtimeit\u001b[39m\u001b[39m'\u001b[39m, \u001b[39m\"\u001b[39m\u001b[39m-n1 -r1 -o loaded = load.read_files(\u001b[39m\u001b[39m'\u001b[39m\u001b[39mrandom_file_paths.txt\u001b[39m\u001b[39m'\u001b[39m\u001b[39m)\u001b[39m\u001b[39m\"\u001b[39m)\n\u001b[0;32m----> <a href='vscode-notebook-cell://ssh-remote%2Bwolf.metabrainz.org/home/snaek/MLHD/csv_parser_tests.ipynb#ch0000002vscode-remote?line=1'>2</a>\u001b[0m \u001b[39mprint\u001b[39m(\u001b[39mf\u001b[39m\u001b[39m\"\u001b[39m\u001b[39mTook \u001b[39m\u001b[39m{\u001b[39;00mt\u001b[39m.\u001b[39maverage\u001b[39m}\u001b[39;00m\u001b[39m seconds to load \u001b[39m\u001b[39m{\u001b[39;00m\u001b[39mlen\u001b[39m(loaded)\u001b[39m}\u001b[39;00m\u001b[39m rows with pd.read_csv.\u001b[39m\u001b[39m\"\u001b[39m)\n",
      "\u001b[0;31mNameError\u001b[0m: name 'loaded' is not defined"
     ]
    }
   ],
   "source": [
    "t = %timeit -n1 -r1 -o loaded = load.read_files('random_file_paths.txt')\n",
    "print(f\"Took {t.average} seconds to load {len(loaded)} rows with pd.read_csv.\")"
   ]
  },
  {
   "cell_type": "markdown",
   "metadata": {},
   "source": [
    "# Prototyping"
   ]
  },
  {
   "cell_type": "code",
   "execution_count": null,
   "metadata": {},
   "outputs": [],
   "source": [
    "def load_tsv_list(paths):\n",
    "    \n",
    "    # If input is not a list, open the string as path.\n",
    "    if not isinstance(paths, list):\n",
    "        # Open a file with MLHD file paths to process\n",
    "        with open(paths, 'r') as f:\n",
    "            file_paths = f.readlines()\n",
    "            file_paths= [item.strip() for item in file_paths]\n",
    "    \n",
    "    # If it's a list, just use it.\n",
    "    else:\n",
    "        file_paths = paths\n",
    "    \n",
    "    final = [['timestamp', 'artist-MBID', 'release-MBID', 'recording-MBID']]\n",
    "    for path in file_paths:\n",
    "        with gzip.open(path) as f:\n",
    "            lines = f.readlines()\n",
    "            lines = [l.strip().decode().split('\\t') for l in lines]\n",
    "            final.extend(lines)\n",
    "\n",
    "    return final"
   ]
  },
  {
   "cell_type": "code",
   "execution_count": null,
   "metadata": {},
   "outputs": [
    {
     "name": "stdout",
     "output_type": "stream",
     "text": [
      "^ time take with custom python list function\n",
      "CPU times: user 11.5 s, sys: 835 ms, total: 12.3 s\n",
      "Wall time: 12.3 s\n"
     ]
    }
   ],
   "source": [
    "%%time\n",
    "\n",
    "loaded = (load_tsv_list('random_file_paths.txt'))\n",
    "\n",
    "print(\"^ time take with custom python list function\")"
   ]
  },
  {
   "cell_type": "code",
   "execution_count": null,
   "metadata": {},
   "outputs": [
    {
     "name": "stdout",
     "output_type": "stream",
     "text": [
      "CPU times: user 9.48 s, sys: 900 ms, total: 10.4 s\n",
      "Wall time: 10.4 s\n"
     ]
    }
   ],
   "source": [
    "%%time\n",
    "df = pd.DataFrame(load_tsv_list('random_file_paths.txt'))"
   ]
  },
  {
   "cell_type": "markdown",
   "metadata": {},
   "source": [
    "It takes ~ 12.3 + 10.4 = 22.7s to load with custom python list based function."
   ]
  },
  {
   "cell_type": "code",
   "execution_count": null,
   "metadata": {},
   "outputs": [
    {
     "name": "stdout",
     "output_type": "stream",
     "text": [
      "3.26 ms ± 0 ns per loop (mean ± std. dev. of 1 run, 1 loop each)\n",
      "73.2 ms ± 0 ns per loop (mean ± std. dev. of 1 run, 1 loop each)\n",
      "96 ms ± 0 ns per loop (mean ± std. dev. of 1 run, 1 loop each)\n",
      "171 ms ± 0 ns per loop (mean ± std. dev. of 1 run, 1 loop each)\n",
      "174 ms ± 0 ns per loop (mean ± std. dev. of 1 run, 1 loop each)\n",
      "510 ms ± 0 ns per loop (mean ± std. dev. of 1 run, 1 loop each)\n",
      "590 ms ± 0 ns per loop (mean ± std. dev. of 1 run, 1 loop each)\n",
      "638 ms ± 0 ns per loop (mean ± std. dev. of 1 run, 1 loop each)\n",
      "670 ms ± 0 ns per loop (mean ± std. dev. of 1 run, 1 loop each)\n",
      "730 ms ± 0 ns per loop (mean ± std. dev. of 1 run, 1 loop each)\n",
      "866 ms ± 0 ns per loop (mean ± std. dev. of 1 run, 1 loop each)\n",
      "901 ms ± 0 ns per loop (mean ± std. dev. of 1 run, 1 loop each)\n",
      "954 ms ± 0 ns per loop (mean ± std. dev. of 1 run, 1 loop each)\n",
      "1.04 s ± 0 ns per loop (mean ± std. dev. of 1 run, 1 loop each)\n",
      "1.08 s ± 0 ns per loop (mean ± std. dev. of 1 run, 1 loop each)\n",
      "1.23 s ± 0 ns per loop (mean ± std. dev. of 1 run, 1 loop each)\n",
      "1.27 s ± 0 ns per loop (mean ± std. dev. of 1 run, 1 loop each)\n",
      "1.33 s ± 0 ns per loop (mean ± std. dev. of 1 run, 1 loop each)\n",
      "1.36 s ± 0 ns per loop (mean ± std. dev. of 1 run, 1 loop each)\n",
      "1.46 s ± 0 ns per loop (mean ± std. dev. of 1 run, 1 loop each)\n",
      "1.49 s ± 0 ns per loop (mean ± std. dev. of 1 run, 1 loop each)\n",
      "1.68 s ± 0 ns per loop (mean ± std. dev. of 1 run, 1 loop each)\n",
      "1.84 s ± 0 ns per loop (mean ± std. dev. of 1 run, 1 loop each)\n",
      "1.89 s ± 0 ns per loop (mean ± std. dev. of 1 run, 1 loop each)\n",
      "1.98 s ± 0 ns per loop (mean ± std. dev. of 1 run, 1 loop each)\n",
      "2.05 s ± 0 ns per loop (mean ± std. dev. of 1 run, 1 loop each)\n",
      "2.1 s ± 0 ns per loop (mean ± std. dev. of 1 run, 1 loop each)\n",
      "2.28 s ± 0 ns per loop (mean ± std. dev. of 1 run, 1 loop each)\n",
      "2.37 s ± 0 ns per loop (mean ± std. dev. of 1 run, 1 loop each)\n",
      "2.48 s ± 0 ns per loop (mean ± std. dev. of 1 run, 1 loop each)\n",
      "2.7 s ± 0 ns per loop (mean ± std. dev. of 1 run, 1 loop each)\n",
      "2.79 s ± 0 ns per loop (mean ± std. dev. of 1 run, 1 loop each)\n",
      "2.89 s ± 0 ns per loop (mean ± std. dev. of 1 run, 1 loop each)\n",
      "3 s ± 0 ns per loop (mean ± std. dev. of 1 run, 1 loop each)\n",
      "3.15 s ± 0 ns per loop (mean ± std. dev. of 1 run, 1 loop each)\n",
      "3.24 s ± 0 ns per loop (mean ± std. dev. of 1 run, 1 loop each)\n",
      "3.41 s ± 0 ns per loop (mean ± std. dev. of 1 run, 1 loop each)\n",
      "3.6 s ± 0 ns per loop (mean ± std. dev. of 1 run, 1 loop each)\n",
      "3.7 s ± 0 ns per loop (mean ± std. dev. of 1 run, 1 loop each)\n",
      "3.82 s ± 0 ns per loop (mean ± std. dev. of 1 run, 1 loop each)\n",
      "3.93 s ± 0 ns per loop (mean ± std. dev. of 1 run, 1 loop each)\n",
      "4.03 s ± 0 ns per loop (mean ± std. dev. of 1 run, 1 loop each)\n",
      "4.24 s ± 0 ns per loop (mean ± std. dev. of 1 run, 1 loop each)\n",
      "4.33 s ± 0 ns per loop (mean ± std. dev. of 1 run, 1 loop each)\n",
      "4.3 s ± 0 ns per loop (mean ± std. dev. of 1 run, 1 loop each)\n",
      "4.42 s ± 0 ns per loop (mean ± std. dev. of 1 run, 1 loop each)\n",
      "4.63 s ± 0 ns per loop (mean ± std. dev. of 1 run, 1 loop each)\n",
      "4.81 s ± 0 ns per loop (mean ± std. dev. of 1 run, 1 loop each)\n",
      "4.89 s ± 0 ns per loop (mean ± std. dev. of 1 run, 1 loop each)\n",
      "5.03 s ± 0 ns per loop (mean ± std. dev. of 1 run, 1 loop each)\n",
      "5.17 s ± 0 ns per loop (mean ± std. dev. of 1 run, 1 loop each)\n",
      "CPU times: user 1min 50s, sys: 6.68 s, total: 1min 57s\n",
      "Wall time: 1min 57s\n"
     ]
    },
    {
     "data": {
      "text/plain": [
       "{0: 0.0032601356506347656,\n",
       " 1: 0.07320570386946201,\n",
       " 2: 0.09600847121328115,\n",
       " 3: 0.17105929553508759,\n",
       " 4: 0.17449340876191854,\n",
       " 5: 0.5098736453801394,\n",
       " 6: 0.5900380257517099,\n",
       " 7: 0.6377436341717839,\n",
       " 8: 0.6696371771395206,\n",
       " 9: 0.7298476714640856,\n",
       " 10: 0.8658907525241375,\n",
       " 11: 0.9012174168601632,\n",
       " 12: 0.9539283607155085,\n",
       " 13: 1.0437240563333035,\n",
       " 14: 1.0770620768889785,\n",
       " 15: 1.2293056678026915,\n",
       " 16: 1.271242999471724,\n",
       " 17: 1.3261178135871887,\n",
       " 18: 1.360446384176612,\n",
       " 19: 1.4577521346509457,\n",
       " 20: 1.4887179946526885,\n",
       " 21: 1.6807096609845757,\n",
       " 22: 1.8390222005546093,\n",
       " 23: 1.8853321950882673,\n",
       " 24: 1.981857780367136,\n",
       " 25: 2.0461628809571266,\n",
       " 26: 2.103713388554752,\n",
       " 27: 2.2771945102140307,\n",
       " 28: 2.372042658738792,\n",
       " 29: 2.477357462979853,\n",
       " 30: 2.6981900734826922,\n",
       " 31: 2.793612760491669,\n",
       " 32: 2.885702785104513,\n",
       " 33: 2.996873059310019,\n",
       " 34: 3.1481933323666453,\n",
       " 35: 3.2399295680224895,\n",
       " 36: 3.4077690429985523,\n",
       " 37: 3.6048339009284973,\n",
       " 38: 3.6998676136136055,\n",
       " 39: 3.8199608977884054,\n",
       " 40: 3.92933979537338,\n",
       " 41: 4.032611455768347,\n",
       " 42: 4.238437325693667,\n",
       " 43: 4.334879267029464,\n",
       " 44: 4.298837292008102,\n",
       " 45: 4.421591021120548,\n",
       " 46: 4.633751355111599,\n",
       " 47: 4.812236046418548,\n",
       " 48: 4.890699350275099,\n",
       " 49: 5.033869469538331,\n",
       " 50: 5.1731874560937285}"
      ]
     },
     "execution_count": 16,
     "metadata": {},
     "output_type": "execute_result"
    }
   ],
   "source": [
    "%%time\n",
    "results = dict()\n",
    "for i in range(25):\n",
    "    t = %timeit -n1 -r1 -o length = len(load.read_files('random_file_paths.txt', i))\n",
    "    results[i] = t.average\n",
    "\n",
    "results"
   ]
  },
  {
   "cell_type": "code",
   "execution_count": null,
   "metadata": {},
   "outputs": [
    {
     "data": {
      "text/plain": [
       "[<matplotlib.lines.Line2D at 0x7f7e56ddb880>]"
      ]
     },
     "execution_count": 17,
     "metadata": {},
     "output_type": "execute_result"
    },
    {
     "data": {
      "image/png": "[encoded data removed]",
      "text/plain": [
       "<Figure size 432x288 with 1 Axes>"
      ]
     },
     "metadata": {
      "needs_background": "light"
     },
     "output_type": "display_data"
    }
   ],
   "source": [
    "plt.plot(results.keys(), results.values())"
   ]
  }
 ],
 "metadata": {
  "kernelspec": {
   "display_name": "Python 3.8.10 ('env_mlhd': venv)",
   "language": "python",
   "name": "python3"
  },
  "language_info": {
   "codemirror_mode": {
    "name": "ipython",
    "version": 3
   },
   "file_extension": ".py",
   "mimetype": "text/x-python",
   "name": "python",
   "nbconvert_exporter": "python",
   "pygments_lexer": "ipython3",
   "version": "3.8.10"
  },
  "orig_nbformat": 4,
  "vscode": {
   "interpreter": {
    "hash": "a2c0c9fb1c567002394a71a6ae02f73ce4bc53d4b82f846c3c881e337285b81f"
   }
  }
 },
 "nbformat": 4,
 "nbformat_minor": 2
}
