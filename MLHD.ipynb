{
 "cells": [
  {
   "cell_type": "code",
   "execution_count": 1,
   "metadata": {},
   "outputs": [],
   "source": [
    "import psycopg2\n",
    "import pandas as pd\n",
    "import numpy as np\n",
    "import matplotlib.pyplot as plt\n",
    "from IPython.display import Markdown as MD"
   ]
  },
  {
   "cell_type": "code",
   "execution_count": 2,
   "metadata": {},
   "outputs": [
    {
     "name": "stdout",
     "output_type": "stream",
     "text": [
      "connection successful\n"
     ]
    }
   ],
   "source": [
    "# Create Connection to postgresql\n",
    "# psql -h localhost -p 25432 -U musicbrainz musicbrainz_db\n",
    "\n",
    "conn = psycopg2.connect(\n",
    "    host=\"localhost\",\n",
    "    database=\"musicbrainz_db\",\n",
    "    user=\"musicbrainz\",\n",
    "    port=5432)\n",
    "\n",
    "cursor = conn.cursor()\n",
    "\n",
    "cursor.execute(\"select * from recording limit 1;\")\n",
    "cursor.fetchone()[0]\n",
    "print(\"connection successful\")"
   ]
  },
  {
   "cell_type": "code",
   "execution_count": 3,
   "metadata": {},
   "outputs": [
    {
     "name": "stderr",
     "output_type": "stream",
     "text": [
      "/home/snaek/MLHD/env_mlhd/lib/python3.8/site-packages/pandas/io/sql.py:761: UserWarning: pandas only support SQLAlchemy connectable(engine/connection) ordatabase string URI or sqlite3 DBAPI2 connectionother DBAPI2 objects are not tested, please consider using SQLAlchemy\n",
      "  warnings.warn(\n"
     ]
    },
    {
     "name": "stdout",
     "output_type": "stream",
     "text": [
      "CPU times: user 6.91 s, sys: 2.68 s, total: 9.59 s\n",
      "Wall time: 18.5 s\n"
     ]
    },
    {
     "data": {
      "text/html": [
       "<div>\n",
       "<style scoped>\n",
       "    .dataframe tbody tr th:only-of-type {\n",
       "        vertical-align: middle;\n",
       "    }\n",
       "\n",
       "    .dataframe tbody tr th {\n",
       "        vertical-align: top;\n",
       "    }\n",
       "\n",
       "    .dataframe thead th {\n",
       "        text-align: right;\n",
       "    }\n",
       "</style>\n",
       "<table border=\"1\" class=\"dataframe\">\n",
       "  <thead>\n",
       "    <tr style=\"text-align: right;\">\n",
       "      <th></th>\n",
       "      <th>gid</th>\n",
       "    </tr>\n",
       "  </thead>\n",
       "  <tbody>\n",
       "    <tr>\n",
       "      <th>0</th>\n",
       "      <td>0f42ab32-22cd-4dcf-927b-a8d9a183d68b</td>\n",
       "    </tr>\n",
       "    <tr>\n",
       "      <th>1</th>\n",
       "      <td>4dce8f93-45ee-4573-8558-8cd321256233</td>\n",
       "    </tr>\n",
       "    <tr>\n",
       "      <th>2</th>\n",
       "      <td>48fabe3f-0fbd-4145-a917-83d164d6386f</td>\n",
       "    </tr>\n",
       "    <tr>\n",
       "      <th>3</th>\n",
       "      <td>b30b9943-9100-4d84-9ad2-69859ea88fbb</td>\n",
       "    </tr>\n",
       "    <tr>\n",
       "      <th>4</th>\n",
       "      <td>b55f1db3-c6d2-4645-b908-03e1017a99c2</td>\n",
       "    </tr>\n",
       "  </tbody>\n",
       "</table>\n",
       "</div>"
      ],
      "text/plain": [
       "                                    gid\n",
       "0  0f42ab32-22cd-4dcf-927b-a8d9a183d68b\n",
       "1  4dce8f93-45ee-4573-8558-8cd321256233\n",
       "2  48fabe3f-0fbd-4145-a917-83d164d6386f\n",
       "3  b30b9943-9100-4d84-9ad2-69859ea88fbb\n",
       "4  b55f1db3-c6d2-4645-b908-03e1017a99c2"
      ]
     },
     "execution_count": 3,
     "metadata": {},
     "output_type": "execute_result"
    }
   ],
   "source": [
    "%%time\n",
    "# Loading recording table SQL tables\n",
    "\n",
    "MB_recording = pd.read_sql('SELECT gid FROM recording', con = conn, columns = ['rec-gid'])\n",
    "# MB_recording.set_index('gid', inplace = True)\n",
    "MB_recording.head()"
   ]
  },
  {
   "cell_type": "code",
   "execution_count": 4,
   "metadata": {},
   "outputs": [
    {
     "name": "stderr",
     "output_type": "stream",
     "text": [
      "/home/snaek/MLHD/env_mlhd/lib/python3.8/site-packages/pandas/io/sql.py:761: UserWarning: pandas only support SQLAlchemy connectable(engine/connection) ordatabase string URI or sqlite3 DBAPI2 connectionother DBAPI2 objects are not tested, please consider using SQLAlchemy\n",
      "  warnings.warn(\n"
     ]
    },
    {
     "name": "stdout",
     "output_type": "stream",
     "text": [
      "CPU times: user 1.38 s, sys: 166 ms, total: 1.55 s\n",
      "Wall time: 7.12 s\n"
     ]
    },
    {
     "data": {
      "text/html": [
       "<div>\n",
       "<style scoped>\n",
       "    .dataframe tbody tr th:only-of-type {\n",
       "        vertical-align: middle;\n",
       "    }\n",
       "\n",
       "    .dataframe tbody tr th {\n",
       "        vertical-align: top;\n",
       "    }\n",
       "\n",
       "    .dataframe thead th {\n",
       "        text-align: right;\n",
       "    }\n",
       "</style>\n",
       "<table border=\"1\" class=\"dataframe\">\n",
       "  <thead>\n",
       "    <tr style=\"text-align: right;\">\n",
       "      <th></th>\n",
       "      <th>new</th>\n",
       "      <th>old</th>\n",
       "    </tr>\n",
       "  </thead>\n",
       "  <tbody>\n",
       "    <tr>\n",
       "      <th>0</th>\n",
       "      <td>d04bb774-5104-4cc2-9c70-1e76bd9917e1</td>\n",
       "      <td>841bdd72-f415-4731-8e37-71b53db18d93</td>\n",
       "    </tr>\n",
       "    <tr>\n",
       "      <th>1</th>\n",
       "      <td>ddda2877-0fbd-495e-a19b-6e9f4e97d711</td>\n",
       "      <td>8edeb408-437d-4e97-93f8-2fb982927fb0</td>\n",
       "    </tr>\n",
       "    <tr>\n",
       "      <th>2</th>\n",
       "      <td>6db0efa0-46e0-4f27-94ce-6803513787be</td>\n",
       "      <td>de4ed46b-a78b-4bd4-94f5-82f5829931e0</td>\n",
       "    </tr>\n",
       "    <tr>\n",
       "      <th>3</th>\n",
       "      <td>8dda3e70-02f3-4032-871c-b16ba184a9f6</td>\n",
       "      <td>89d8fd1e-7372-42cf-8ab0-6d4d46576a86</td>\n",
       "    </tr>\n",
       "    <tr>\n",
       "      <th>4</th>\n",
       "      <td>af42602a-a32f-463a-8283-ea4c8bace06c</td>\n",
       "      <td>0d806561-1121-43c9-a440-5a5c7d3be82d</td>\n",
       "    </tr>\n",
       "  </tbody>\n",
       "</table>\n",
       "</div>"
      ],
      "text/plain": [
       "                                    new                                   old\n",
       "0  d04bb774-5104-4cc2-9c70-1e76bd9917e1  841bdd72-f415-4731-8e37-71b53db18d93\n",
       "1  ddda2877-0fbd-495e-a19b-6e9f4e97d711  8edeb408-437d-4e97-93f8-2fb982927fb0\n",
       "2  6db0efa0-46e0-4f27-94ce-6803513787be  de4ed46b-a78b-4bd4-94f5-82f5829931e0\n",
       "3  8dda3e70-02f3-4032-871c-b16ba184a9f6  89d8fd1e-7372-42cf-8ab0-6d4d46576a86\n",
       "4  af42602a-a32f-463a-8283-ea4c8bace06c  0d806561-1121-43c9-a440-5a5c7d3be82d"
      ]
     },
     "execution_count": 4,
     "metadata": {},
     "output_type": "execute_result"
    }
   ],
   "source": [
    "%%time\n",
    "# Loading redirect table SQL table\n",
    "\n",
    "# MB_redirects = pd.read_sql('select r.gid, rgr.gid from recording r join recording_gid_redirect rgr on rgr.new_id = r.id', con = conn)\n",
    "# MB_redirects.columns = ['old', 'new']\n",
    "\n",
    "MB_redirects = pd.read_sql('select r.gid AS new, rgr.gid AS old from recording r join recording_gid_redirect rgr on rgr.new_id = r.id', con=conn)\n",
    "MB_redirects.head()"
   ]
  },
  {
   "cell_type": "code",
   "execution_count": 5,
   "metadata": {},
   "outputs": [
    {
     "name": "stderr",
     "output_type": "stream",
     "text": [
      "/home/snaek/MLHD/env_mlhd/lib/python3.8/site-packages/pandas/io/sql.py:761: UserWarning: pandas only support SQLAlchemy connectable(engine/connection) ordatabase string URI or sqlite3 DBAPI2 connectionother DBAPI2 objects are not tested, please consider using SQLAlchemy\n",
      "  warnings.warn(\n"
     ]
    },
    {
     "name": "stdout",
     "output_type": "stream",
     "text": [
      "CPU times: user 9.62 s, sys: 3.44 s, total: 13.1 s\n",
      "Wall time: 25.2 s\n"
     ]
    },
    {
     "data": {
      "text/html": [
       "<div>\n",
       "<style scoped>\n",
       "    .dataframe tbody tr th:only-of-type {\n",
       "        vertical-align: middle;\n",
       "    }\n",
       "\n",
       "    .dataframe tbody tr th {\n",
       "        vertical-align: top;\n",
       "    }\n",
       "\n",
       "    .dataframe thead th {\n",
       "        text-align: right;\n",
       "    }\n",
       "</style>\n",
       "<table border=\"1\" class=\"dataframe\">\n",
       "  <thead>\n",
       "    <tr style=\"text-align: right;\">\n",
       "      <th></th>\n",
       "    </tr>\n",
       "    <tr>\n",
       "      <th>track-gid</th>\n",
       "    </tr>\n",
       "  </thead>\n",
       "  <tbody>\n",
       "    <tr>\n",
       "      <th>9b02977e-a03b-4a6b-a9a9-06e722bdcd7a</th>\n",
       "    </tr>\n",
       "    <tr>\n",
       "      <th>43da7544-6283-3159-84f9-537fe823a1a7</th>\n",
       "    </tr>\n",
       "    <tr>\n",
       "      <th>0b6b6283-a5a8-4560-9fa8-f68a430d86ea</th>\n",
       "    </tr>\n",
       "    <tr>\n",
       "      <th>fa124f9a-d8ea-36a3-bed3-c817fdbe13e2</th>\n",
       "    </tr>\n",
       "    <tr>\n",
       "      <th>e56c6d3c-09cf-33a0-81c5-ceade77c35dc</th>\n",
       "    </tr>\n",
       "  </tbody>\n",
       "</table>\n",
       "</div>"
      ],
      "text/plain": [
       "Empty DataFrame\n",
       "Columns: []\n",
       "Index: [9b02977e-a03b-4a6b-a9a9-06e722bdcd7a, 43da7544-6283-3159-84f9-537fe823a1a7, 0b6b6283-a5a8-4560-9fa8-f68a430d86ea, fa124f9a-d8ea-36a3-bed3-c817fdbe13e2, e56c6d3c-09cf-33a0-81c5-ceade77c35dc]"
      ]
     },
     "execution_count": 5,
     "metadata": {},
     "output_type": "execute_result"
    }
   ],
   "source": [
    "%%time\n",
    "# Loading track table\n",
    "\n",
    "MB_track = pd.read_sql('SELECT gid FROM track', con = conn)\n",
    "MB_track.columns = ['track-gid']\n",
    "MB_track.set_index('track-gid', inplace=True)\n",
    "MB_track.head()"
   ]
  },
  {
   "cell_type": "code",
   "execution_count": 6,
   "metadata": {},
   "outputs": [
    {
     "name": "stderr",
     "output_type": "stream",
     "text": [
      "/home/snaek/MLHD/env_mlhd/lib/python3.8/site-packages/pandas/io/sql.py:761: UserWarning: pandas only support SQLAlchemy connectable(engine/connection) ordatabase string URI or sqlite3 DBAPI2 connectionother DBAPI2 objects are not tested, please consider using SQLAlchemy\n",
      "  warnings.warn(\n"
     ]
    },
    {
     "name": "stdout",
     "output_type": "stream",
     "text": [
      "CPU times: user 2.29 s, sys: 769 ms, total: 3.06 s\n",
      "Wall time: 6.12 s\n"
     ]
    },
    {
     "data": {
      "text/html": [
       "<div>\n",
       "<style scoped>\n",
       "    .dataframe tbody tr th:only-of-type {\n",
       "        vertical-align: middle;\n",
       "    }\n",
       "\n",
       "    .dataframe tbody tr th {\n",
       "        vertical-align: top;\n",
       "    }\n",
       "\n",
       "    .dataframe thead th {\n",
       "        text-align: right;\n",
       "    }\n",
       "</style>\n",
       "<table border=\"1\" class=\"dataframe\">\n",
       "  <thead>\n",
       "    <tr style=\"text-align: right;\">\n",
       "      <th></th>\n",
       "      <th>old</th>\n",
       "      <th>new</th>\n",
       "    </tr>\n",
       "  </thead>\n",
       "  <tbody>\n",
       "    <tr>\n",
       "      <th>0</th>\n",
       "      <td>6ac02452-ee12-4f86-b389-bd20ba2fefcf</td>\n",
       "      <td>3e8eebfd-7613-4b3d-acbe-41709be76618</td>\n",
       "    </tr>\n",
       "    <tr>\n",
       "      <th>1</th>\n",
       "      <td>b4c26989-1b9e-4d50-8cde-56d6472e4bc3</td>\n",
       "      <td>3e8eebfd-7613-4b3d-acbe-41709be76618</td>\n",
       "    </tr>\n",
       "    <tr>\n",
       "      <th>2</th>\n",
       "      <td>601e1cf3-ad6c-4e38-9128-ba4d0d4b010f</td>\n",
       "      <td>b1050d12-b8af-409c-9cff-22759d93e240</td>\n",
       "    </tr>\n",
       "    <tr>\n",
       "      <th>3</th>\n",
       "      <td>35c4d840-e51f-4c07-9418-af9335b29642</td>\n",
       "      <td>f4680747-bf28-417a-ab33-af00577d8ac2</td>\n",
       "    </tr>\n",
       "    <tr>\n",
       "      <th>4</th>\n",
       "      <td>9ba7a9b9-a21c-4b12-8771-4c108b08b3e2</td>\n",
       "      <td>13b3875a-c89a-4be5-a6e4-0ca9164bc41d</td>\n",
       "    </tr>\n",
       "  </tbody>\n",
       "</table>\n",
       "</div>"
      ],
      "text/plain": [
       "                                    old                                   new\n",
       "0  6ac02452-ee12-4f86-b389-bd20ba2fefcf  3e8eebfd-7613-4b3d-acbe-41709be76618\n",
       "1  b4c26989-1b9e-4d50-8cde-56d6472e4bc3  3e8eebfd-7613-4b3d-acbe-41709be76618\n",
       "2  601e1cf3-ad6c-4e38-9128-ba4d0d4b010f  b1050d12-b8af-409c-9cff-22759d93e240\n",
       "3  35c4d840-e51f-4c07-9418-af9335b29642  f4680747-bf28-417a-ab33-af00577d8ac2\n",
       "4  9ba7a9b9-a21c-4b12-8771-4c108b08b3e2  13b3875a-c89a-4be5-a6e4-0ca9164bc41d"
      ]
     },
     "execution_count": 6,
     "metadata": {},
     "output_type": "execute_result"
    }
   ],
   "source": [
    "\n",
    "%%time\n",
    "# Loading canonical recording mbid table\n",
    "\n",
    "MB_canonical = pd.read_sql('SELECT recording_mbid, canonical_recording_mbid FROM mapping.canonical_recording_redirect', con = conn)\n",
    "MB_canonical.columns = ['old', 'new']\n",
    "# MB_canonical.set_index('recording-gid', inplace=True)\n",
    "MB_canonical.head()"
   ]
  },
  {
   "cell_type": "code",
   "execution_count": 7,
   "metadata": {},
   "outputs": [
    {
     "name": "stderr",
     "output_type": "stream",
     "text": [
      "/home/snaek/MLHD/env_mlhd/lib/python3.8/site-packages/pandas/io/sql.py:761: UserWarning: pandas only support SQLAlchemy connectable(engine/connection) ordatabase string URI or sqlite3 DBAPI2 connectionother DBAPI2 objects are not tested, please consider using SQLAlchemy\n",
      "  warnings.warn(\n"
     ]
    },
    {
     "name": "stdout",
     "output_type": "stream",
     "text": [
      "CPU times: user 550 ms, sys: 100 ms, total: 650 ms\n",
      "Wall time: 1.34 s\n"
     ]
    },
    {
     "data": {
      "text/html": [
       "<div>\n",
       "<style scoped>\n",
       "    .dataframe tbody tr th:only-of-type {\n",
       "        vertical-align: middle;\n",
       "    }\n",
       "\n",
       "    .dataframe tbody tr th {\n",
       "        vertical-align: top;\n",
       "    }\n",
       "\n",
       "    .dataframe thead th {\n",
       "        text-align: right;\n",
       "    }\n",
       "</style>\n",
       "<table border=\"1\" class=\"dataframe\">\n",
       "  <thead>\n",
       "    <tr style=\"text-align: right;\">\n",
       "      <th></th>\n",
       "      <th>gid</th>\n",
       "    </tr>\n",
       "  </thead>\n",
       "  <tbody>\n",
       "    <tr>\n",
       "      <th>0</th>\n",
       "      <td>fadeb38c-833f-40bc-9d8c-a6383b38b1be</td>\n",
       "    </tr>\n",
       "    <tr>\n",
       "      <th>1</th>\n",
       "      <td>49add228-eac5-4de8-836c-d75cde7369c3</td>\n",
       "    </tr>\n",
       "    <tr>\n",
       "      <th>2</th>\n",
       "      <td>c112a400-af49-4665-8bba-741531d962a1</td>\n",
       "    </tr>\n",
       "    <tr>\n",
       "      <th>3</th>\n",
       "      <td>ca3f3ee1-c4a7-4bac-a16a-0b888a396c6b</td>\n",
       "    </tr>\n",
       "    <tr>\n",
       "      <th>4</th>\n",
       "      <td>7b4a548e-a01a-49b7-82e7-b49efeb9732c</td>\n",
       "    </tr>\n",
       "  </tbody>\n",
       "</table>\n",
       "</div>"
      ],
      "text/plain": [
       "                                    gid\n",
       "0  fadeb38c-833f-40bc-9d8c-a6383b38b1be\n",
       "1  49add228-eac5-4de8-836c-d75cde7369c3\n",
       "2  c112a400-af49-4665-8bba-741531d962a1\n",
       "3  ca3f3ee1-c4a7-4bac-a16a-0b888a396c6b\n",
       "4  7b4a548e-a01a-49b7-82e7-b49efeb9732c"
      ]
     },
     "execution_count": 7,
     "metadata": {},
     "output_type": "execute_result"
    }
   ],
   "source": [
    "%%time\n",
    "# Loading artist-mbid table for artist-conflation.\n",
    "\n",
    "MB_artist = pd.read_sql('SELECT gid FROM artist', con = conn)\n",
    "MB_artist.head()"
   ]
  },
  {
   "cell_type": "markdown",
   "metadata": {},
   "source": [
    "# Loading Data"
   ]
  },
  {
   "cell_type": "code",
   "execution_count": 8,
   "metadata": {},
   "outputs": [
    {
     "name": "stdout",
     "output_type": "stream",
     "text": [
      "(3661057, 4)\n"
     ]
    },
    {
     "data": {
      "text/html": [
       "<div>\n",
       "<style scoped>\n",
       "    .dataframe tbody tr th:only-of-type {\n",
       "        vertical-align: middle;\n",
       "    }\n",
       "\n",
       "    .dataframe tbody tr th {\n",
       "        vertical-align: top;\n",
       "    }\n",
       "\n",
       "    .dataframe thead th {\n",
       "        text-align: right;\n",
       "    }\n",
       "</style>\n",
       "<table border=\"1\" class=\"dataframe\">\n",
       "  <thead>\n",
       "    <tr style=\"text-align: right;\">\n",
       "      <th></th>\n",
       "      <th>timestamp</th>\n",
       "      <th>artist-MBID</th>\n",
       "      <th>release-MBID</th>\n",
       "      <th>recording-MBID</th>\n",
       "    </tr>\n",
       "  </thead>\n",
       "  <tbody>\n",
       "    <tr>\n",
       "      <th>0</th>\n",
       "      <td>1108412731</td>\n",
       "      <td>f4a31f0a-51dd-4fa7-986d-3095c40c5ed9</td>\n",
       "      <td>426c5c82-4472-4f7d-b1d9-9f928d338340</td>\n",
       "      <td>1deb956c-5439-4fbb-b026-5adb4330a934</td>\n",
       "    </tr>\n",
       "    <tr>\n",
       "      <th>1</th>\n",
       "      <td>1108422818</td>\n",
       "      <td>db999c3f-f243-4a5f-88d6-0c25243b6661</td>\n",
       "      <td>6079df6b-2c00-4fd6-b015-0e303eedf4fd</td>\n",
       "      <td>14e9eb4e-155d-46ff-9a83-a8d5e1936c81</td>\n",
       "    </tr>\n",
       "    <tr>\n",
       "      <th>2</th>\n",
       "      <td>1108423325</td>\n",
       "      <td>ce58d854-7430-4231-aa44-97f0144b3372</td>\n",
       "      <td>e427c52c-60f4-3df4-9493-2df0734d85aa</td>\n",
       "      <td>eced9a9b-cd59-40f8-a580-f27094bd8a89</td>\n",
       "    </tr>\n",
       "    <tr>\n",
       "      <th>3</th>\n",
       "      <td>1108428897</td>\n",
       "      <td>ce58d854-7430-4231-aa44-97f0144b3372</td>\n",
       "      <td>e427c52c-60f4-3df4-9493-2df0734d85aa</td>\n",
       "      <td>eced9a9b-cd59-40f8-a580-f27094bd8a89</td>\n",
       "    </tr>\n",
       "    <tr>\n",
       "      <th>4</th>\n",
       "      <td>1108429140</td>\n",
       "      <td>ce58d854-7430-4231-aa44-97f0144b3372</td>\n",
       "      <td>e427c52c-60f4-3df4-9493-2df0734d85aa</td>\n",
       "      <td>eced9a9b-cd59-40f8-a580-f27094bd8a89</td>\n",
       "    </tr>\n",
       "  </tbody>\n",
       "</table>\n",
       "</div>"
      ],
      "text/plain": [
       "    timestamp                           artist-MBID  \\\n",
       "0  1108412731  f4a31f0a-51dd-4fa7-986d-3095c40c5ed9   \n",
       "1  1108422818  db999c3f-f243-4a5f-88d6-0c25243b6661   \n",
       "2  1108423325  ce58d854-7430-4231-aa44-97f0144b3372   \n",
       "3  1108428897  ce58d854-7430-4231-aa44-97f0144b3372   \n",
       "4  1108429140  ce58d854-7430-4231-aa44-97f0144b3372   \n",
       "\n",
       "                           release-MBID                        recording-MBID  \n",
       "0  426c5c82-4472-4f7d-b1d9-9f928d338340  1deb956c-5439-4fbb-b026-5adb4330a934  \n",
       "1  6079df6b-2c00-4fd6-b015-0e303eedf4fd  14e9eb4e-155d-46ff-9a83-a8d5e1936c81  \n",
       "2  e427c52c-60f4-3df4-9493-2df0734d85aa  eced9a9b-cd59-40f8-a580-f27094bd8a89  \n",
       "3  e427c52c-60f4-3df4-9493-2df0734d85aa  eced9a9b-cd59-40f8-a580-f27094bd8a89  \n",
       "4  e427c52c-60f4-3df4-9493-2df0734d85aa  eced9a9b-cd59-40f8-a580-f27094bd8a89  "
      ]
     },
     "execution_count": 8,
     "metadata": {},
     "output_type": "execute_result"
    }
   ],
   "source": [
    "# Reads a list of file paths and reads + compiles data into a single pd.DataFrame\n",
    "def read_files(file_path_repo):\n",
    "    \n",
    "    # init new empty main dataframe\n",
    "    df = pd.DataFrame(columns = ['timestamp', 'artist-MBID', 'release-MBID', 'recording-MBID'])\n",
    "    \n",
    "    # Open a file with MLHD file paths to process\n",
    "    with open(file_path_repo, 'r') as f:\n",
    "        file_paths = f.readlines()\n",
    "        file_paths= [item.strip() for item in file_paths]\n",
    "    \n",
    "    # Read files and compile into single df\n",
    "    for pth in file_paths:\n",
    "        temp = pd.read_csv(pth, sep='\\t', names=['timestamp', 'artist-MBID', 'release-MBID', 'recording-MBID'])\n",
    "        temp = temp[-temp['recording-MBID'].isna()]\n",
    "\n",
    "        df = pd.concat([df, temp])\n",
    "    \n",
    "    return df\n",
    "\n",
    "df = read_files('random_file_paths.txt')\n",
    "print(df.shape)\n",
    "df.head()"
   ]
  },
  {
   "cell_type": "code",
   "execution_count": 9,
   "metadata": {},
   "outputs": [
    {
     "name": "stdout",
     "output_type": "stream",
     "text": [
      "Number of NOT-null rows in artist-MBID = 98.87100911021052\n",
      "Number of NOT-null rows in recording-MBID = 100.0\n",
      "Number of NOT-null rows in release-MBID = 75.44897552810568\n"
     ]
    }
   ],
   "source": [
    "null_count_artist = df['artist-MBID'].isnull().value_counts()\n",
    "null_count_rec = df['recording-MBID'].isnull().value_counts()\n",
    "null_count_rel = df['release-MBID'].isnull().value_counts()\n",
    "\n",
    "def get_null_stats(val_count, attr_name):\n",
    "    print(\"Number of NOT-null rows in {} = {}\".format(attr_name, (val_count[0]/val_count.sum())*100))\n",
    "\n",
    "get_null_stats(null_count_artist, 'artist-MBID')\n",
    "get_null_stats(null_count_rec, 'recording-MBID')\n",
    "get_null_stats(null_count_rel, 'release-MBID')"
   ]
  },
  {
   "cell_type": "markdown",
   "metadata": {},
   "source": [
    "## Architechture:\n",
    "\n",
    "1. Take a chunk of MBIDs (Test optimal chunk sizes too. Current optimal > 253k rows)\n",
    "2. \"Squish\" series\n",
    "    - i.e. Only take unique values from the series.\n",
    "3. Pass squished series thorugh the following:\n",
    "    - Get mbids, and check if they exist in the recording table.\n",
    "    - Get mbids that don't exist in redirect, and pass it through MB_track\n",
    "    - Get mbids that don't exist in recording, and pass it through MB_redirect\n",
    "    - get mbids that don't exist in track.... There's no MBIDs that belong to track.\n",
    "4. \"Unsquish\" the series.\n",
    "    - i.e. Take processed output for squished values, and apply them to unsquished values.\n",
    "    - This process ensures processing only on unique values.\n",
    "    The output for this processing is then applied to duplicate values as well."
   ]
  },
  {
   "cell_type": "code",
   "execution_count": 10,
   "metadata": {},
   "outputs": [],
   "source": [
    "# '''Squish function: \n",
    "# 1. Takes in input series with index number and recording-MBID.\n",
    "# 2. Makes a mapping table with recording-MBIDs as the index, \n",
    "# and a series of row-indices with that MBID as the values.'''\n",
    "\n",
    "# # def squish(input_series):\n",
    "\n",
    "# '''\n",
    "# 1. take inp_series\n",
    "# 2. Generate empty mapping_df where:\n",
    "#     - index = MBID\n",
    "#     - value = series of indices from inp_series\n",
    "# 2. start traversing\n",
    "# 3. if new ID: \n",
    "#     - Add ID to mapping_df.index\n",
    "#     - Set the value in mapping_df as a list of newly updated indices for inp_series\n",
    "# 4. if not new ID:\n",
    "#     - Add ID to list of indices for inp_series.\n",
    "#     - Update this ID in mapping_df.index\n",
    "# '''\n",
    "\n",
    "# # inp = df['recording-MBID'].reset_index(drop=True)\n",
    "# # inp_unique = inp.unique()\n",
    "\n",
    "# # mapping_df = pd.DataFrame(index=inp_unique)\n",
    "# # mapping_df\n",
    "\n",
    "# # Tackle this later. Focus on basic unoptimized code first!"
   ]
  },
  {
   "cell_type": "code",
   "execution_count": 11,
   "metadata": {},
   "outputs": [],
   "source": [
    "# A generic function for queries a series into another series.\n",
    "    # Returns a series of boolean values corresponding to series_of_mbids \n",
    "    # (bool specifies if value exists in recording table or not.)\n",
    "\n",
    "def query_in(series_to_query, series_to_query_in):\n",
    "    # Queries all mbids in the recording table. Returns mbids that are present in recording table.\n",
    "    mbids_in_series = series_to_query_in[series_to_query_in.isin(series_to_query)]\n",
    "    \n",
    "    # Makes a boolean map for all mbids in series_of_mbids\n",
    "    bool_map = series_to_query.isin(mbids_in_series)\n",
    "    \n",
    "    return bool_map\n",
    "\n",
    "# A generic function to get corresponding values to a query.\n",
    "def get_query(series_to_query, df_to_query_in):\n",
    "    mbids_in_series = df_to_query_in[df_to_query_in.index.isin(series_to_query)]\n",
    "    \n",
    "    return mbids_in_series"
   ]
  },
  {
   "cell_type": "markdown",
   "metadata": {},
   "source": [
    "## Testing Track MBIDs"
   ]
  },
  {
   "cell_type": "code",
   "execution_count": 12,
   "metadata": {},
   "outputs": [
    {
     "name": "stdout",
     "output_type": "stream",
     "text": [
      "CPU times: user 16.5 s, sys: 36.1 ms, total: 16.6 s\n",
      "Wall time: 16.6 s\n"
     ]
    },
    {
     "data": {
      "text/plain": [
       "False    381145\n",
       "dtype: int64"
      ]
     },
     "execution_count": 12,
     "metadata": {},
     "output_type": "execute_result"
    }
   ],
   "source": [
    "%%time\n",
    "\n",
    "# Just to prove that absolutely none of the of the 253k unique mbids are track-mbids disguised as rec-mbid.\n",
    "\n",
    "# in_for_tack = in_for_rec[-out_for_rec]\n",
    "in_for_track = pd.Series(df['recording-MBID'].unique())\n",
    "out_for_track = query_in(in_for_track, MB_track)\n",
    "\n",
    "track_mbid_in_r_mbid = out_for_track.value_counts()\n",
    "track_mbid_in_r_mbid"
   ]
  },
  {
   "cell_type": "markdown",
   "metadata": {},
   "source": [
    "## Testing for recording-MBID"
   ]
  },
  {
   "cell_type": "code",
   "execution_count": 13,
   "metadata": {},
   "outputs": [
    {
     "name": "stdout",
     "output_type": "stream",
     "text": [
      "CPU times: user 9.26 s, sys: 0 ns, total: 9.26 s\n",
      "Wall time: 9.27 s\n"
     ]
    },
    {
     "data": {
      "text/plain": [
       "True     295224\n",
       "False     85921\n",
       "dtype: int64"
      ]
     },
     "execution_count": 13,
     "metadata": {},
     "output_type": "execute_result"
    }
   ],
   "source": [
    "%%time\n",
    "# Testing query_in() with recording MBID\n",
    "\n",
    "in_for_rec = pd.Series(df['recording-MBID'].unique())\n",
    "out_for_rec = query_in(in_for_rec, MB_recording.gid)\n",
    "\n",
    "r_mbid_in_r_mbid = out_for_rec.value_counts()\n",
    "r_mbid_in_r_mbid"
   ]
  },
  {
   "cell_type": "markdown",
   "metadata": {},
   "source": [
    "## Testing for redirects"
   ]
  },
  {
   "cell_type": "code",
   "execution_count": 14,
   "metadata": {},
   "outputs": [
    {
     "name": "stdout",
     "output_type": "stream",
     "text": [
      "CPU times: user 804 ms, sys: 0 ns, total: 804 ms\n",
      "Wall time: 800 ms\n"
     ]
    },
    {
     "data": {
      "text/plain": [
       "True     84773\n",
       "False     1148\n",
       "dtype: int64"
      ]
     },
     "execution_count": 14,
     "metadata": {},
     "output_type": "execute_result"
    }
   ],
   "source": [
    "%%time\n",
    "\n",
    "# Testing if MBIDs that DONT exist in MB recording table have any redirects\n",
    "in_for_redir = in_for_rec[-out_for_rec]\n",
    "\n",
    "out_for_redir = query_in(in_for_redir, MB_redirects.old)\n",
    "\n",
    "r_mbid_in_redir = out_for_redir.value_counts()\n",
    "r_mbid_in_redir"
   ]
  },
  {
   "cell_type": "code",
   "execution_count": 15,
   "metadata": {},
   "outputs": [
    {
     "name": "stdout",
     "output_type": "stream",
     "text": [
      "CPU times: user 705 ms, sys: 0 ns, total: 705 ms\n",
      "Wall time: 702 ms\n"
     ]
    },
    {
     "data": {
      "text/plain": [
       "False    295224\n",
       "dtype: int64"
      ]
     },
     "execution_count": 15,
     "metadata": {},
     "output_type": "execute_result"
    }
   ],
   "source": [
    "%%time\n",
    "\n",
    "# Testing if MBIDs that exist in MB recording table have any redirects\n",
    "in_for_redir = in_for_rec[out_for_rec]\n",
    "\n",
    "out_for_redir = query_in(in_for_redir, MB_redirects.old)\n",
    "\n",
    "r_mbid_in_redir = out_for_redir.value_counts()\n",
    "r_mbid_in_redir"
   ]
  },
  {
   "cell_type": "code",
   "execution_count": 16,
   "metadata": {},
   "outputs": [],
   "source": [
    "# # Fetching redirected MBIDs.\n",
    "\n",
    "# # in_for_redir = pd.Series(df['recording-MBID'].unique())\n",
    "# in_for_redir = in_for_rec[out_for_rec]\n",
    "# out_for_redir = MB_redirects.old.isin(in_for_redir)\n",
    "\n",
    "# out_for_redir.value_counts()"
   ]
  },
  {
   "cell_type": "markdown",
   "metadata": {},
   "source": [
    "## Checking if artist-MBIDs belong to artist ID."
   ]
  },
  {
   "cell_type": "code",
   "execution_count": 17,
   "metadata": {},
   "outputs": [
    {
     "data": {
      "text/plain": [
       "True     30839\n",
       "False     2597\n",
       "dtype: int64"
      ]
     },
     "execution_count": 17,
     "metadata": {},
     "output_type": "execute_result"
    }
   ],
   "source": [
    "# Checking if artist-MBIDs belong to artist ID.\n",
    "\n",
    "input_artists = pd.Series(df['artist-MBID'].unique())\n",
    "\n",
    "output = query_in(input_artists, MB_artist.gid)\n",
    "output.value_counts()"
   ]
  },
  {
   "cell_type": "markdown",
   "metadata": {},
   "source": [
    "# Analysis Report\n",
    "\n",
    "- **Total Input**:\n",
    "    - Total Sample Size: 3,661,057 rows\n",
    "    - Unique Rows: 381145\n",
    "    - Number of NOT-null rows in artist-MBID = 98.87100911021052\n",
    "    - Number of NOT-null rows in recording-MBID = 100.0\n",
    "    - Number of NOT-null rows in release-MBID = 75.44897552810568\n",
    "\n",
    "\n",
    "- **Number of rec-MBIDs in track-MBID**:\n",
    "    - Total Input: 381145\n",
    "    - False: 100%\n",
    "    (no rec-MBID was found in the track-MBID)\n",
    "\n",
    "\n",
    "- **Number of rec-MBIDs in recording-MBID**:\n",
    "    - Total Input: 381145\n",
    "    - (True, False) = (295224, 85921)\n",
    "    - i.e. 77.457% rec-MBIDs belong to the recording-MBID table.\n",
    "\n",
    "\n",
    "- **Number of UNKNOWN rec-MBIDs in redirected-MBID**:\n",
    "    - Note: \"UNKNOWN rec-MBIDs\" = rec-MBIDs from the MLHD that were NOT found in the MB recording table.\n",
    "    - Total Input: 85921 rows\n",
    "    - (True, False): (84773, 1148)\n",
    "    - i.e. 98.66% of UNKNOWN rec-MBIDs have corresponding redirects.\n",
    "\n",
    "\n",
    "- **Number of KNOWN rec-MBIDs in redirected-MBID**:\n",
    "    - Note: \"KNOWN rec-MBIDs\" = rec-MBIDs from the MLHD that were found in the MB recording table.\n",
    "    - Total Input = 295224 rows\n",
    "    - False = 295224 rows\n",
    "    - i.e. 100% KNOWN rec-MBIDs don't have any redirects.\n",
    "\n",
    "\n",
    "- **Number of rec-MBIDs in canonical-MBID table**:\n",
    "    - _pending_\n",
    "\n",
    "\n",
    "- **Number of artist-MBIDs in MB artist table**:\n",
    "    - Total Input: 33436\n",
    "    - True, False = (30839, 2597)\n",
    "    - i.e. 92.23% artist-MBIDs exist in the MB artist table."
   ]
  }
 ],
 "metadata": {
  "interpreter": {
   "hash": "a2c0c9fb1c567002394a71a6ae02f73ce4bc53d4b82f846c3c881e337285b81f"
  },
  "kernelspec": {
   "display_name": "Python 3.8.10 ('env_mlhd': venv)",
   "language": "python",
   "name": "python3"
  },
  "language_info": {
   "codemirror_mode": {
    "name": "ipython",
    "version": 3
   },
   "file_extension": ".py",
   "mimetype": "text/x-python",
   "name": "python",
   "nbconvert_exporter": "python",
   "pygments_lexer": "ipython3",
   "version": "3.8.10"
  },
  "orig_nbformat": 4
 },
 "nbformat": 4,
 "nbformat_minor": 2
}
