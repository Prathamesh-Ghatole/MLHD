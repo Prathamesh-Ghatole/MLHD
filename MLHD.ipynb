{
 "cells": [
  {
   "cell_type": "code",
   "execution_count": 36,
   "metadata": {},
   "outputs": [],
   "source": [
    "import psycopg2\n",
    "import pandas as pd\n",
    "import numpy as np\n",
    "import matplotlib.pyplot as plt\n",
    "from IPython.display import Markdown as MD\n",
    "from IPython.display import display\n",
    "from numba import jit, njit, vectorize"
   ]
  },
  {
   "cell_type": "code",
   "execution_count": 2,
   "metadata": {},
   "outputs": [
    {
     "name": "stdout",
     "output_type": "stream",
     "text": [
      "connection successful\n"
     ]
    }
   ],
   "source": [
    "# Create Connection to postgresql\n",
    "# psql -h localhost -p 25432 -U musicbrainz musicbrainz_db\n",
    "\n",
    "conn = psycopg2.connect(\n",
    "    host=\"localhost\",\n",
    "    database=\"musicbrainz_db\",\n",
    "    user=\"musicbrainz\",\n",
    "    port=5432)\n",
    "\n",
    "cursor = conn.cursor()\n",
    "\n",
    "cursor.execute(\"select * from recording limit 1;\")\n",
    "cursor.fetchone()[0]\n",
    "print(\"connection successful\")"
   ]
  },
  {
   "cell_type": "markdown",
   "metadata": {},
   "source": [
    "## Loading Recording Tables"
   ]
  },
  {
   "cell_type": "code",
   "execution_count": 3,
   "metadata": {},
   "outputs": [
    {
     "name": "stderr",
     "output_type": "stream",
     "text": [
      "/home/snaek/MLHD/env_mlhd/lib/python3.8/site-packages/pandas/io/sql.py:761: UserWarning: pandas only support SQLAlchemy connectable(engine/connection) ordatabase string URI or sqlite3 DBAPI2 connectionother DBAPI2 objects are not tested, please consider using SQLAlchemy\n",
      "  warnings.warn(\n"
     ]
    },
    {
     "name": "stdout",
     "output_type": "stream",
     "text": [
      "CPU times: user 6.87 s, sys: 2.56 s, total: 9.43 s\n",
      "Wall time: 18.3 s\n"
     ]
    },
    {
     "data": {
      "text/html": [
       "<div>\n",
       "<style scoped>\n",
       "    .dataframe tbody tr th:only-of-type {\n",
       "        vertical-align: middle;\n",
       "    }\n",
       "\n",
       "    .dataframe tbody tr th {\n",
       "        vertical-align: top;\n",
       "    }\n",
       "\n",
       "    .dataframe thead th {\n",
       "        text-align: right;\n",
       "    }\n",
       "</style>\n",
       "<table border=\"1\" class=\"dataframe\">\n",
       "  <thead>\n",
       "    <tr style=\"text-align: right;\">\n",
       "      <th></th>\n",
       "      <th>gid</th>\n",
       "    </tr>\n",
       "  </thead>\n",
       "  <tbody>\n",
       "    <tr>\n",
       "      <th>0</th>\n",
       "      <td>0f42ab32-22cd-4dcf-927b-a8d9a183d68b</td>\n",
       "    </tr>\n",
       "    <tr>\n",
       "      <th>1</th>\n",
       "      <td>4dce8f93-45ee-4573-8558-8cd321256233</td>\n",
       "    </tr>\n",
       "    <tr>\n",
       "      <th>2</th>\n",
       "      <td>48fabe3f-0fbd-4145-a917-83d164d6386f</td>\n",
       "    </tr>\n",
       "    <tr>\n",
       "      <th>3</th>\n",
       "      <td>b30b9943-9100-4d84-9ad2-69859ea88fbb</td>\n",
       "    </tr>\n",
       "    <tr>\n",
       "      <th>4</th>\n",
       "      <td>b55f1db3-c6d2-4645-b908-03e1017a99c2</td>\n",
       "    </tr>\n",
       "  </tbody>\n",
       "</table>\n",
       "</div>"
      ],
      "text/plain": [
       "                                    gid\n",
       "0  0f42ab32-22cd-4dcf-927b-a8d9a183d68b\n",
       "1  4dce8f93-45ee-4573-8558-8cd321256233\n",
       "2  48fabe3f-0fbd-4145-a917-83d164d6386f\n",
       "3  b30b9943-9100-4d84-9ad2-69859ea88fbb\n",
       "4  b55f1db3-c6d2-4645-b908-03e1017a99c2"
      ]
     },
     "execution_count": 3,
     "metadata": {},
     "output_type": "execute_result"
    }
   ],
   "source": [
    "%%time\n",
    "# Loading recording table SQL tables\n",
    "\n",
    "MB_recording = pd.read_sql('SELECT gid FROM recording', con = conn, columns = ['rec-gid'])\n",
    "# MB_recording.set_index('gid', inplace = True)\n",
    "MB_recording.head()"
   ]
  },
  {
   "cell_type": "code",
   "execution_count": 4,
   "metadata": {},
   "outputs": [
    {
     "name": "stderr",
     "output_type": "stream",
     "text": [
      "/home/snaek/MLHD/env_mlhd/lib/python3.8/site-packages/pandas/io/sql.py:761: UserWarning: pandas only support SQLAlchemy connectable(engine/connection) ordatabase string URI or sqlite3 DBAPI2 connectionother DBAPI2 objects are not tested, please consider using SQLAlchemy\n",
      "  warnings.warn(\n"
     ]
    },
    {
     "name": "stdout",
     "output_type": "stream",
     "text": [
      "CPU times: user 1.26 s, sys: 209 ms, total: 1.47 s\n",
      "Wall time: 7.08 s\n"
     ]
    },
    {
     "data": {
      "text/html": [
       "<div>\n",
       "<style scoped>\n",
       "    .dataframe tbody tr th:only-of-type {\n",
       "        vertical-align: middle;\n",
       "    }\n",
       "\n",
       "    .dataframe tbody tr th {\n",
       "        vertical-align: top;\n",
       "    }\n",
       "\n",
       "    .dataframe thead th {\n",
       "        text-align: right;\n",
       "    }\n",
       "</style>\n",
       "<table border=\"1\" class=\"dataframe\">\n",
       "  <thead>\n",
       "    <tr style=\"text-align: right;\">\n",
       "      <th></th>\n",
       "      <th>new</th>\n",
       "      <th>old</th>\n",
       "    </tr>\n",
       "  </thead>\n",
       "  <tbody>\n",
       "    <tr>\n",
       "      <th>0</th>\n",
       "      <td>597aff67-7326-4609-8ded-4ea45d4beed6</td>\n",
       "      <td>2d752b5a-ae16-4187-b18e-12cfb4113f4c</td>\n",
       "    </tr>\n",
       "    <tr>\n",
       "      <th>1</th>\n",
       "      <td>ddda2877-0fbd-495e-a19b-6e9f4e97d711</td>\n",
       "      <td>8edeb408-437d-4e97-93f8-2fb982927fb0</td>\n",
       "    </tr>\n",
       "    <tr>\n",
       "      <th>2</th>\n",
       "      <td>6db0efa0-46e0-4f27-94ce-6803513787be</td>\n",
       "      <td>de4ed46b-a78b-4bd4-94f5-82f5829931e0</td>\n",
       "    </tr>\n",
       "    <tr>\n",
       "      <th>3</th>\n",
       "      <td>8dda3e70-02f3-4032-871c-b16ba184a9f6</td>\n",
       "      <td>89d8fd1e-7372-42cf-8ab0-6d4d46576a86</td>\n",
       "    </tr>\n",
       "    <tr>\n",
       "      <th>4</th>\n",
       "      <td>00b0148f-5db3-42f9-b266-45fa2fcebb56</td>\n",
       "      <td>2ea53fe1-43ef-4e17-9db1-60156d3dc8ce</td>\n",
       "    </tr>\n",
       "  </tbody>\n",
       "</table>\n",
       "</div>"
      ],
      "text/plain": [
       "                                    new                                   old\n",
       "0  597aff67-7326-4609-8ded-4ea45d4beed6  2d752b5a-ae16-4187-b18e-12cfb4113f4c\n",
       "1  ddda2877-0fbd-495e-a19b-6e9f4e97d711  8edeb408-437d-4e97-93f8-2fb982927fb0\n",
       "2  6db0efa0-46e0-4f27-94ce-6803513787be  de4ed46b-a78b-4bd4-94f5-82f5829931e0\n",
       "3  8dda3e70-02f3-4032-871c-b16ba184a9f6  89d8fd1e-7372-42cf-8ab0-6d4d46576a86\n",
       "4  00b0148f-5db3-42f9-b266-45fa2fcebb56  2ea53fe1-43ef-4e17-9db1-60156d3dc8ce"
      ]
     },
     "execution_count": 4,
     "metadata": {},
     "output_type": "execute_result"
    }
   ],
   "source": [
    "%%time\n",
    "# Loading redirect table SQL table\n",
    "\n",
    "# MB_redirects = pd.read_sql('select r.gid, rgr.gid from recording r join recording_gid_redirect rgr on rgr.new_id = r.id', con = conn)\n",
    "# MB_redirects.columns = ['old', 'new']\n",
    "\n",
    "MB_redirects = pd.read_sql('select r.gid AS new, rgr.gid AS old from recording r join recording_gid_redirect rgr on rgr.new_id = r.id', con=conn)\n",
    "MB_redirects.head()\n",
    "\n",
    "# select t.gid AS new, tgr.gid AS old from track t join track_gid_redirect tgr on tgr.new_id = t.id"
   ]
  },
  {
   "cell_type": "markdown",
   "metadata": {},
   "source": [
    "## Loading track tables"
   ]
  },
  {
   "cell_type": "code",
   "execution_count": 5,
   "metadata": {},
   "outputs": [
    {
     "name": "stderr",
     "output_type": "stream",
     "text": [
      "/home/snaek/MLHD/env_mlhd/lib/python3.8/site-packages/pandas/io/sql.py:761: UserWarning: pandas only support SQLAlchemy connectable(engine/connection) ordatabase string URI or sqlite3 DBAPI2 connectionother DBAPI2 objects are not tested, please consider using SQLAlchemy\n",
      "  warnings.warn(\n"
     ]
    },
    {
     "name": "stdout",
     "output_type": "stream",
     "text": [
      "CPU times: user 9.55 s, sys: 3.06 s, total: 12.6 s\n",
      "Wall time: 25.2 s\n"
     ]
    },
    {
     "data": {
      "text/html": [
       "<div>\n",
       "<style scoped>\n",
       "    .dataframe tbody tr th:only-of-type {\n",
       "        vertical-align: middle;\n",
       "    }\n",
       "\n",
       "    .dataframe tbody tr th {\n",
       "        vertical-align: top;\n",
       "    }\n",
       "\n",
       "    .dataframe thead th {\n",
       "        text-align: right;\n",
       "    }\n",
       "</style>\n",
       "<table border=\"1\" class=\"dataframe\">\n",
       "  <thead>\n",
       "    <tr style=\"text-align: right;\">\n",
       "      <th></th>\n",
       "      <th>gid</th>\n",
       "    </tr>\n",
       "  </thead>\n",
       "  <tbody>\n",
       "    <tr>\n",
       "      <th>0</th>\n",
       "      <td>9b02977e-a03b-4a6b-a9a9-06e722bdcd7a</td>\n",
       "    </tr>\n",
       "    <tr>\n",
       "      <th>1</th>\n",
       "      <td>43da7544-6283-3159-84f9-537fe823a1a7</td>\n",
       "    </tr>\n",
       "    <tr>\n",
       "      <th>2</th>\n",
       "      <td>0b6b6283-a5a8-4560-9fa8-f68a430d86ea</td>\n",
       "    </tr>\n",
       "    <tr>\n",
       "      <th>3</th>\n",
       "      <td>fa124f9a-d8ea-36a3-bed3-c817fdbe13e2</td>\n",
       "    </tr>\n",
       "    <tr>\n",
       "      <th>4</th>\n",
       "      <td>e56c6d3c-09cf-33a0-81c5-ceade77c35dc</td>\n",
       "    </tr>\n",
       "  </tbody>\n",
       "</table>\n",
       "</div>"
      ],
      "text/plain": [
       "                                    gid\n",
       "0  9b02977e-a03b-4a6b-a9a9-06e722bdcd7a\n",
       "1  43da7544-6283-3159-84f9-537fe823a1a7\n",
       "2  0b6b6283-a5a8-4560-9fa8-f68a430d86ea\n",
       "3  fa124f9a-d8ea-36a3-bed3-c817fdbe13e2\n",
       "4  e56c6d3c-09cf-33a0-81c5-ceade77c35dc"
      ]
     },
     "execution_count": 5,
     "metadata": {},
     "output_type": "execute_result"
    }
   ],
   "source": [
    "%%time\n",
    "# Loading track table\n",
    "\n",
    "MB_track = pd.read_sql('SELECT gid FROM track', con = conn)\n",
    "MB_track.head()"
   ]
  },
  {
   "cell_type": "code",
   "execution_count": 6,
   "metadata": {},
   "outputs": [
    {
     "name": "stderr",
     "output_type": "stream",
     "text": [
      "/home/snaek/MLHD/env_mlhd/lib/python3.8/site-packages/pandas/io/sql.py:761: UserWarning: pandas only support SQLAlchemy connectable(engine/connection) ordatabase string URI or sqlite3 DBAPI2 connectionother DBAPI2 objects are not tested, please consider using SQLAlchemy\n",
      "  warnings.warn(\n"
     ]
    },
    {
     "name": "stdout",
     "output_type": "stream",
     "text": [
      "CPU times: user 232 ms, sys: 33.1 ms, total: 265 ms\n",
      "Wall time: 929 ms\n"
     ]
    },
    {
     "data": {
      "text/html": [
       "<div>\n",
       "<style scoped>\n",
       "    .dataframe tbody tr th:only-of-type {\n",
       "        vertical-align: middle;\n",
       "    }\n",
       "\n",
       "    .dataframe tbody tr th {\n",
       "        vertical-align: top;\n",
       "    }\n",
       "\n",
       "    .dataframe thead th {\n",
       "        text-align: right;\n",
       "    }\n",
       "</style>\n",
       "<table border=\"1\" class=\"dataframe\">\n",
       "  <thead>\n",
       "    <tr style=\"text-align: right;\">\n",
       "      <th></th>\n",
       "      <th>new</th>\n",
       "      <th>old</th>\n",
       "    </tr>\n",
       "  </thead>\n",
       "  <tbody>\n",
       "    <tr>\n",
       "      <th>0</th>\n",
       "      <td>5c2e31e6-8ff0-3f80-8e52-d7d6ba642aaf</td>\n",
       "      <td>d8abbf14-5945-3639-a0c9-3e9c70b1c0a4</td>\n",
       "    </tr>\n",
       "    <tr>\n",
       "      <th>1</th>\n",
       "      <td>742af864-28da-3fc3-9d85-ee509d83d1ce</td>\n",
       "      <td>446b27ef-92fd-3ea1-ad0a-fe1055196406</td>\n",
       "    </tr>\n",
       "    <tr>\n",
       "      <th>2</th>\n",
       "      <td>ec67694e-fefb-3374-9f4f-18d12233d055</td>\n",
       "      <td>403b9e19-a135-3acc-ae69-58fb0d735036</td>\n",
       "    </tr>\n",
       "    <tr>\n",
       "      <th>3</th>\n",
       "      <td>2a17c2f4-0e7e-39ea-acad-b88c2a503631</td>\n",
       "      <td>b61dde50-de25-3802-b706-dd0d490879ae</td>\n",
       "    </tr>\n",
       "    <tr>\n",
       "      <th>4</th>\n",
       "      <td>33caee67-b948-361e-bdc5-77fe0d842a88</td>\n",
       "      <td>13bee970-0129-320d-94c8-dfbc7748c692</td>\n",
       "    </tr>\n",
       "  </tbody>\n",
       "</table>\n",
       "</div>"
      ],
      "text/plain": [
       "                                    new                                   old\n",
       "0  5c2e31e6-8ff0-3f80-8e52-d7d6ba642aaf  d8abbf14-5945-3639-a0c9-3e9c70b1c0a4\n",
       "1  742af864-28da-3fc3-9d85-ee509d83d1ce  446b27ef-92fd-3ea1-ad0a-fe1055196406\n",
       "2  ec67694e-fefb-3374-9f4f-18d12233d055  403b9e19-a135-3acc-ae69-58fb0d735036\n",
       "3  2a17c2f4-0e7e-39ea-acad-b88c2a503631  b61dde50-de25-3802-b706-dd0d490879ae\n",
       "4  33caee67-b948-361e-bdc5-77fe0d842a88  13bee970-0129-320d-94c8-dfbc7748c692"
      ]
     },
     "execution_count": 6,
     "metadata": {},
     "output_type": "execute_result"
    }
   ],
   "source": [
    "%%time\n",
    "\n",
    "MB_track_redirects = pd.read_sql('select t.gid AS new, tgr.gid AS old from track t join track_gid_redirect tgr on tgr.new_id = t.id', con=conn)\n",
    "MB_track_redirects.head()"
   ]
  },
  {
   "cell_type": "code",
   "execution_count": 7,
   "metadata": {},
   "outputs": [
    {
     "name": "stderr",
     "output_type": "stream",
     "text": [
      "/home/snaek/MLHD/env_mlhd/lib/python3.8/site-packages/pandas/io/sql.py:761: UserWarning: pandas only support SQLAlchemy connectable(engine/connection) ordatabase string URI or sqlite3 DBAPI2 connectionother DBAPI2 objects are not tested, please consider using SQLAlchemy\n",
      "  warnings.warn(\n"
     ]
    },
    {
     "name": "stdout",
     "output_type": "stream",
     "text": [
      "CPU times: user 2.2 s, sys: 833 ms, total: 3.03 s\n",
      "Wall time: 5.92 s\n"
     ]
    },
    {
     "data": {
      "text/html": [
       "<div>\n",
       "<style scoped>\n",
       "    .dataframe tbody tr th:only-of-type {\n",
       "        vertical-align: middle;\n",
       "    }\n",
       "\n",
       "    .dataframe tbody tr th {\n",
       "        vertical-align: top;\n",
       "    }\n",
       "\n",
       "    .dataframe thead th {\n",
       "        text-align: right;\n",
       "    }\n",
       "</style>\n",
       "<table border=\"1\" class=\"dataframe\">\n",
       "  <thead>\n",
       "    <tr style=\"text-align: right;\">\n",
       "      <th></th>\n",
       "      <th>old</th>\n",
       "      <th>new</th>\n",
       "    </tr>\n",
       "  </thead>\n",
       "  <tbody>\n",
       "    <tr>\n",
       "      <th>0</th>\n",
       "      <td>6ac02452-ee12-4f86-b389-bd20ba2fefcf</td>\n",
       "      <td>3e8eebfd-7613-4b3d-acbe-41709be76618</td>\n",
       "    </tr>\n",
       "    <tr>\n",
       "      <th>1</th>\n",
       "      <td>b4c26989-1b9e-4d50-8cde-56d6472e4bc3</td>\n",
       "      <td>3e8eebfd-7613-4b3d-acbe-41709be76618</td>\n",
       "    </tr>\n",
       "    <tr>\n",
       "      <th>2</th>\n",
       "      <td>601e1cf3-ad6c-4e38-9128-ba4d0d4b010f</td>\n",
       "      <td>b1050d12-b8af-409c-9cff-22759d93e240</td>\n",
       "    </tr>\n",
       "    <tr>\n",
       "      <th>3</th>\n",
       "      <td>35c4d840-e51f-4c07-9418-af9335b29642</td>\n",
       "      <td>f4680747-bf28-417a-ab33-af00577d8ac2</td>\n",
       "    </tr>\n",
       "    <tr>\n",
       "      <th>4</th>\n",
       "      <td>9ba7a9b9-a21c-4b12-8771-4c108b08b3e2</td>\n",
       "      <td>13b3875a-c89a-4be5-a6e4-0ca9164bc41d</td>\n",
       "    </tr>\n",
       "  </tbody>\n",
       "</table>\n",
       "</div>"
      ],
      "text/plain": [
       "                                    old                                   new\n",
       "0  6ac02452-ee12-4f86-b389-bd20ba2fefcf  3e8eebfd-7613-4b3d-acbe-41709be76618\n",
       "1  b4c26989-1b9e-4d50-8cde-56d6472e4bc3  3e8eebfd-7613-4b3d-acbe-41709be76618\n",
       "2  601e1cf3-ad6c-4e38-9128-ba4d0d4b010f  b1050d12-b8af-409c-9cff-22759d93e240\n",
       "3  35c4d840-e51f-4c07-9418-af9335b29642  f4680747-bf28-417a-ab33-af00577d8ac2\n",
       "4  9ba7a9b9-a21c-4b12-8771-4c108b08b3e2  13b3875a-c89a-4be5-a6e4-0ca9164bc41d"
      ]
     },
     "execution_count": 7,
     "metadata": {},
     "output_type": "execute_result"
    }
   ],
   "source": [
    "%%time\n",
    "# Loading canonical recording mbid table\n",
    "\n",
    "MB_canonical = pd.read_sql('SELECT recording_mbid as old, canonical_recording_mbid as new FROM mapping.canonical_recording_redirect', con = conn)\n",
    "# MB_canonical.columns = ['old', 'new']\n",
    "# MB_canonical.set_index('recording-gid', inplace=True)\n",
    "MB_canonical.head()"
   ]
  },
  {
   "cell_type": "markdown",
   "metadata": {},
   "source": [
    "## Loading artist tables"
   ]
  },
  {
   "cell_type": "code",
   "execution_count": 8,
   "metadata": {},
   "outputs": [
    {
     "name": "stderr",
     "output_type": "stream",
     "text": [
      "/home/snaek/MLHD/env_mlhd/lib/python3.8/site-packages/pandas/io/sql.py:761: UserWarning: pandas only support SQLAlchemy connectable(engine/connection) ordatabase string URI or sqlite3 DBAPI2 connectionother DBAPI2 objects are not tested, please consider using SQLAlchemy\n",
      "  warnings.warn(\n"
     ]
    },
    {
     "name": "stdout",
     "output_type": "stream",
     "text": [
      "CPU times: user 553 ms, sys: 62.4 ms, total: 615 ms\n",
      "Wall time: 1.33 s\n"
     ]
    },
    {
     "data": {
      "text/html": [
       "<div>\n",
       "<style scoped>\n",
       "    .dataframe tbody tr th:only-of-type {\n",
       "        vertical-align: middle;\n",
       "    }\n",
       "\n",
       "    .dataframe tbody tr th {\n",
       "        vertical-align: top;\n",
       "    }\n",
       "\n",
       "    .dataframe thead th {\n",
       "        text-align: right;\n",
       "    }\n",
       "</style>\n",
       "<table border=\"1\" class=\"dataframe\">\n",
       "  <thead>\n",
       "    <tr style=\"text-align: right;\">\n",
       "      <th></th>\n",
       "      <th>gid</th>\n",
       "    </tr>\n",
       "  </thead>\n",
       "  <tbody>\n",
       "    <tr>\n",
       "      <th>0</th>\n",
       "      <td>fadeb38c-833f-40bc-9d8c-a6383b38b1be</td>\n",
       "    </tr>\n",
       "    <tr>\n",
       "      <th>1</th>\n",
       "      <td>49add228-eac5-4de8-836c-d75cde7369c3</td>\n",
       "    </tr>\n",
       "    <tr>\n",
       "      <th>2</th>\n",
       "      <td>c112a400-af49-4665-8bba-741531d962a1</td>\n",
       "    </tr>\n",
       "    <tr>\n",
       "      <th>3</th>\n",
       "      <td>ca3f3ee1-c4a7-4bac-a16a-0b888a396c6b</td>\n",
       "    </tr>\n",
       "    <tr>\n",
       "      <th>4</th>\n",
       "      <td>7b4a548e-a01a-49b7-82e7-b49efeb9732c</td>\n",
       "    </tr>\n",
       "  </tbody>\n",
       "</table>\n",
       "</div>"
      ],
      "text/plain": [
       "                                    gid\n",
       "0  fadeb38c-833f-40bc-9d8c-a6383b38b1be\n",
       "1  49add228-eac5-4de8-836c-d75cde7369c3\n",
       "2  c112a400-af49-4665-8bba-741531d962a1\n",
       "3  ca3f3ee1-c4a7-4bac-a16a-0b888a396c6b\n",
       "4  7b4a548e-a01a-49b7-82e7-b49efeb9732c"
      ]
     },
     "execution_count": 8,
     "metadata": {},
     "output_type": "execute_result"
    }
   ],
   "source": [
    "%%time\n",
    "# Loading artist-mbid table for artist-conflation.\n",
    "\n",
    "MB_artist = pd.read_sql('SELECT gid FROM artist', con = conn)\n",
    "MB_artist.head()"
   ]
  },
  {
   "cell_type": "code",
   "execution_count": 9,
   "metadata": {},
   "outputs": [
    {
     "name": "stderr",
     "output_type": "stream",
     "text": [
      "/home/snaek/MLHD/env_mlhd/lib/python3.8/site-packages/pandas/io/sql.py:761: UserWarning: pandas only support SQLAlchemy connectable(engine/connection) ordatabase string URI or sqlite3 DBAPI2 connectionother DBAPI2 objects are not tested, please consider using SQLAlchemy\n",
      "  warnings.warn(\n"
     ]
    },
    {
     "name": "stdout",
     "output_type": "stream",
     "text": [
      "CPU times: user 34.7 ms, sys: 10.2 ms, total: 44.9 ms\n",
      "Wall time: 845 ms\n"
     ]
    },
    {
     "data": {
      "text/html": [
       "<div>\n",
       "<style scoped>\n",
       "    .dataframe tbody tr th:only-of-type {\n",
       "        vertical-align: middle;\n",
       "    }\n",
       "\n",
       "    .dataframe tbody tr th {\n",
       "        vertical-align: top;\n",
       "    }\n",
       "\n",
       "    .dataframe thead th {\n",
       "        text-align: right;\n",
       "    }\n",
       "</style>\n",
       "<table border=\"1\" class=\"dataframe\">\n",
       "  <thead>\n",
       "    <tr style=\"text-align: right;\">\n",
       "      <th></th>\n",
       "      <th>new</th>\n",
       "      <th>old</th>\n",
       "    </tr>\n",
       "  </thead>\n",
       "  <tbody>\n",
       "    <tr>\n",
       "      <th>0</th>\n",
       "      <td>ad8260b2-2767-4e9b-9ece-7977fbcedadf</td>\n",
       "      <td>224efe8c-c070-4e8a-9402-d41d52f5b4f1</td>\n",
       "    </tr>\n",
       "    <tr>\n",
       "      <th>1</th>\n",
       "      <td>c8f70fe2-a3fb-48cd-af02-ce5df49a7875</td>\n",
       "      <td>549de92e-a454-47f3-a26f-900985cf4431</td>\n",
       "    </tr>\n",
       "    <tr>\n",
       "      <th>2</th>\n",
       "      <td>21074eb7-3849-4d0e-bd4d-5447ff175c45</td>\n",
       "      <td>aca98fdf-f1b5-4831-8d58-ab2541c63863</td>\n",
       "    </tr>\n",
       "    <tr>\n",
       "      <th>3</th>\n",
       "      <td>21074eb7-3849-4d0e-bd4d-5447ff175c45</td>\n",
       "      <td>d442c9b0-2052-4fda-ad7b-e254d70cd61e</td>\n",
       "    </tr>\n",
       "    <tr>\n",
       "      <th>4</th>\n",
       "      <td>21074eb7-3849-4d0e-bd4d-5447ff175c45</td>\n",
       "      <td>33da8f6e-4c9c-4a54-903a-d10788ceea77</td>\n",
       "    </tr>\n",
       "  </tbody>\n",
       "</table>\n",
       "</div>"
      ],
      "text/plain": [
       "                                    new                                   old\n",
       "0  ad8260b2-2767-4e9b-9ece-7977fbcedadf  224efe8c-c070-4e8a-9402-d41d52f5b4f1\n",
       "1  c8f70fe2-a3fb-48cd-af02-ce5df49a7875  549de92e-a454-47f3-a26f-900985cf4431\n",
       "2  21074eb7-3849-4d0e-bd4d-5447ff175c45  aca98fdf-f1b5-4831-8d58-ab2541c63863\n",
       "3  21074eb7-3849-4d0e-bd4d-5447ff175c45  d442c9b0-2052-4fda-ad7b-e254d70cd61e\n",
       "4  21074eb7-3849-4d0e-bd4d-5447ff175c45  33da8f6e-4c9c-4a54-903a-d10788ceea77"
      ]
     },
     "execution_count": 9,
     "metadata": {},
     "output_type": "execute_result"
    }
   ],
   "source": [
    "%%time\n",
    "\n",
    "MB_artist_redirects = pd.read_sql('select a.gid AS new, agr.gid AS old from artist a join artist_gid_redirect agr on agr.new_id = a.id', con=conn)\n",
    "MB_artist_redirects.head()"
   ]
  },
  {
   "cell_type": "markdown",
   "metadata": {},
   "source": [
    "# Loading Data"
   ]
  },
  {
   "cell_type": "code",
   "execution_count": 34,
   "metadata": {},
   "outputs": [
    {
     "name": "stdout",
     "output_type": "stream",
     "text": [
      "(3661057, 4)\n",
      "CPU times: user 10.1 s, sys: 1.96 s, total: 12 s\n",
      "Wall time: 12 s\n"
     ]
    },
    {
     "data": {
      "text/html": [
       "<div>\n",
       "<style scoped>\n",
       "    .dataframe tbody tr th:only-of-type {\n",
       "        vertical-align: middle;\n",
       "    }\n",
       "\n",
       "    .dataframe tbody tr th {\n",
       "        vertical-align: top;\n",
       "    }\n",
       "\n",
       "    .dataframe thead th {\n",
       "        text-align: right;\n",
       "    }\n",
       "</style>\n",
       "<table border=\"1\" class=\"dataframe\">\n",
       "  <thead>\n",
       "    <tr style=\"text-align: right;\">\n",
       "      <th></th>\n",
       "      <th>timestamp</th>\n",
       "      <th>artist-MBID</th>\n",
       "      <th>release-MBID</th>\n",
       "      <th>recording-MBID</th>\n",
       "    </tr>\n",
       "  </thead>\n",
       "  <tbody>\n",
       "    <tr>\n",
       "      <th>0</th>\n",
       "      <td>1108412731</td>\n",
       "      <td>f4a31f0a-51dd-4fa7-986d-3095c40c5ed9</td>\n",
       "      <td>426c5c82-4472-4f7d-b1d9-9f928d338340</td>\n",
       "      <td>1deb956c-5439-4fbb-b026-5adb4330a934</td>\n",
       "    </tr>\n",
       "    <tr>\n",
       "      <th>1</th>\n",
       "      <td>1108422818</td>\n",
       "      <td>db999c3f-f243-4a5f-88d6-0c25243b6661</td>\n",
       "      <td>6079df6b-2c00-4fd6-b015-0e303eedf4fd</td>\n",
       "      <td>14e9eb4e-155d-46ff-9a83-a8d5e1936c81</td>\n",
       "    </tr>\n",
       "    <tr>\n",
       "      <th>2</th>\n",
       "      <td>1108423325</td>\n",
       "      <td>ce58d854-7430-4231-aa44-97f0144b3372</td>\n",
       "      <td>e427c52c-60f4-3df4-9493-2df0734d85aa</td>\n",
       "      <td>eced9a9b-cd59-40f8-a580-f27094bd8a89</td>\n",
       "    </tr>\n",
       "    <tr>\n",
       "      <th>3</th>\n",
       "      <td>1108428897</td>\n",
       "      <td>ce58d854-7430-4231-aa44-97f0144b3372</td>\n",
       "      <td>e427c52c-60f4-3df4-9493-2df0734d85aa</td>\n",
       "      <td>eced9a9b-cd59-40f8-a580-f27094bd8a89</td>\n",
       "    </tr>\n",
       "    <tr>\n",
       "      <th>4</th>\n",
       "      <td>1108429140</td>\n",
       "      <td>ce58d854-7430-4231-aa44-97f0144b3372</td>\n",
       "      <td>e427c52c-60f4-3df4-9493-2df0734d85aa</td>\n",
       "      <td>eced9a9b-cd59-40f8-a580-f27094bd8a89</td>\n",
       "    </tr>\n",
       "  </tbody>\n",
       "</table>\n",
       "</div>"
      ],
      "text/plain": [
       "    timestamp                           artist-MBID  \\\n",
       "0  1108412731  f4a31f0a-51dd-4fa7-986d-3095c40c5ed9   \n",
       "1  1108422818  db999c3f-f243-4a5f-88d6-0c25243b6661   \n",
       "2  1108423325  ce58d854-7430-4231-aa44-97f0144b3372   \n",
       "3  1108428897  ce58d854-7430-4231-aa44-97f0144b3372   \n",
       "4  1108429140  ce58d854-7430-4231-aa44-97f0144b3372   \n",
       "\n",
       "                           release-MBID                        recording-MBID  \n",
       "0  426c5c82-4472-4f7d-b1d9-9f928d338340  1deb956c-5439-4fbb-b026-5adb4330a934  \n",
       "1  6079df6b-2c00-4fd6-b015-0e303eedf4fd  14e9eb4e-155d-46ff-9a83-a8d5e1936c81  \n",
       "2  e427c52c-60f4-3df4-9493-2df0734d85aa  eced9a9b-cd59-40f8-a580-f27094bd8a89  \n",
       "3  e427c52c-60f4-3df4-9493-2df0734d85aa  eced9a9b-cd59-40f8-a580-f27094bd8a89  \n",
       "4  e427c52c-60f4-3df4-9493-2df0734d85aa  eced9a9b-cd59-40f8-a580-f27094bd8a89  "
      ]
     },
     "execution_count": 34,
     "metadata": {},
     "output_type": "execute_result"
    }
   ],
   "source": [
    "%%time\n",
    "# Reads a list of file paths and reads + compiles data into a single pd.DataFrame\n",
    "def read_files(file_path_repo):\n",
    "    \n",
    "    # init new empty main dataframe\n",
    "    df = pd.DataFrame(columns = ['timestamp', 'artist-MBID', 'release-MBID', 'recording-MBID'])\n",
    "    \n",
    "    # Open a file with MLHD file paths to process\n",
    "    with open(file_path_repo, 'r') as f:\n",
    "        file_paths = f.readlines()\n",
    "        file_paths= [item.strip() for item in file_paths]\n",
    "    \n",
    "    # Read files and compile into single df\n",
    "    for pth in file_paths:\n",
    "        temp = pd.read_csv(pth, sep='\\t', names=['timestamp', 'artist-MBID', 'release-MBID', 'recording-MBID'])\n",
    "        temp = temp[-temp['recording-MBID'].isna()]\n",
    "\n",
    "        df = pd.concat([df, temp])\n",
    "    \n",
    "    return df\n",
    "\n",
    "df = read_files('random_file_paths.txt')\n",
    "print(df.shape)\n",
    "df.head()"
   ]
  },
  {
   "cell_type": "code",
   "execution_count": 11,
   "metadata": {},
   "outputs": [
    {
     "name": "stdout",
     "output_type": "stream",
     "text": [
      "Number of NOT-null rows in artist-MBID = 98.87100911021052\n",
      "Number of NOT-null rows in recording-MBID = 100.0\n",
      "Number of NOT-null rows in release-MBID = 75.44897552810568\n"
     ]
    }
   ],
   "source": [
    "null_count_artist = df['artist-MBID'].isnull().value_counts()\n",
    "null_count_rec = df['recording-MBID'].isnull().value_counts()\n",
    "null_count_rel = df['release-MBID'].isnull().value_counts()\n",
    "\n",
    "def get_null_stats(val_count, attr_name):\n",
    "    print(\"Number of NOT-null rows in {} = {}\".format(attr_name, (val_count[0]/val_count.sum())*100))\n",
    "\n",
    "get_null_stats(null_count_artist, 'artist-MBID')\n",
    "get_null_stats(null_count_rec, 'recording-MBID')\n",
    "get_null_stats(null_count_rel, 'release-MBID')"
   ]
  },
  {
   "cell_type": "markdown",
   "metadata": {},
   "source": [
    "## Architechture:\n",
    "\n",
    "1. Take a chunk of MBIDs (Test optimal chunk sizes too. Current optimal > 253k rows)\n",
    "2. \"Squish\" series\n",
    "    - i.e. Only take unique values from the series.\n",
    "3. Pass squished series thorugh the following:\n",
    "    - Get rec-mbids, and check if they exist in the track table.\n",
    "    - Get rec-mbids, and check if they exist in the track_gid_redirect table.\n",
    "    - Get rec-mbids, and check if they exist in the recording table.\n",
    "    - Get rec-mbids that don't exist in recording, and pass it through MB_redirect\n",
    "    - Get artist-mbids, and check if they exist in the artist table.\n",
    "    - Get artist-mbids, and check if they exist in the artist_gid_redirect table.\n",
    "\n",
    "4. \"Unsquish\" the series.\n",
    "    - i.e. Take processed output for squished values, and apply them to unsquished values.\n",
    "    - This process ensures processing only on unique values.\n",
    "    The output for this processing is then applied to duplicate values as well."
   ]
  },
  {
   "cell_type": "code",
   "execution_count": 12,
   "metadata": {},
   "outputs": [],
   "source": [
    "# '''Squish function: \n",
    "# 1. Takes in input series with index number and recording-MBID.\n",
    "# 2. Makes a mapping table with recording-MBIDs as the index, \n",
    "# and a series of row-indices with that MBID as the values.'''\n",
    "\n",
    "# # def squish(input_series):\n",
    "\n",
    "# '''\n",
    "# 1. take inp_series\n",
    "# 2. Generate empty mapping_df where:\n",
    "#     - index = MBID\n",
    "#     - value = series of indices from inp_series\n",
    "# 2. start traversing\n",
    "# 3. if new ID: \n",
    "#     - Add ID to mapping_df.index\n",
    "#     - Set the value in mapping_df as a list of newly updated indices for inp_series\n",
    "# 4. if not new ID:\n",
    "#     - Add ID to list of indices for inp_series.\n",
    "#     - Update this ID in mapping_df.index\n",
    "# '''\n",
    "\n",
    "# # inp = df['recording-MBID'].reset_index(drop=True)\n",
    "# # inp_unique = inp.unique()\n",
    "\n",
    "# # mapping_df = pd.DataFrame(index=inp_unique)\n",
    "# # mapping_df\n",
    "\n",
    "# # Tackle this later. Focus on basic unoptimized code first!"
   ]
  },
  {
   "cell_type": "code",
   "execution_count": 49,
   "metadata": {},
   "outputs": [],
   "source": [
    "# A generic function for queries a series into another series.\n",
    "    # Returns a series of boolean values corresponding to series_of_mbids \n",
    "    # (bool specifies if value exists in recording table or not.)\n",
    "\n",
    "def query_in(series_to_query, series_to_query_in):\n",
    "    # Queries all mbids in the recording table. Returns mbids that are present in recording table.\n",
    "    mbids_in_series = series_to_query_in[series_to_query_in.isin(series_to_query)]\n",
    "    \n",
    "    # Makes a boolean map for all mbids in series_of_mbids\n",
    "    bool_map = series_to_query.isin(mbids_in_series)\n",
    "    \n",
    "    return bool_map"
   ]
  },
  {
   "cell_type": "markdown",
   "metadata": {},
   "source": [
    "## Testing Track MBIDs"
   ]
  },
  {
   "cell_type": "code",
   "execution_count": 50,
   "metadata": {},
   "outputs": [
    {
     "name": "stdout",
     "output_type": "stream",
     "text": [
      "CPU times: user 2.61 s, sys: 276 ms, total: 2.89 s\n",
      "Wall time: 2.89 s\n"
     ]
    },
    {
     "data": {
      "text/plain": [
       "False    381145\n",
       "dtype: int64"
      ]
     },
     "execution_count": 50,
     "metadata": {},
     "output_type": "execute_result"
    }
   ],
   "source": [
    "%%time\n",
    "\n",
    "# Just to prove that absolutely none of the of the 381k unique mbids are track-mbids disguised as rec-mbid.\n",
    "\"\"\"\n",
    "Input: all unique recording-MBIDs from the input dataset.\n",
    "Output: Boolmap of all recording-MBIDs that belong to the MB \"track\" table.\n",
    "\"\"\"\n",
    "\n",
    "in_for_track = pd.Series(df['recording-MBID'].unique())\n",
    "out_for_track = query_in(in_for_track, MB_track)\n",
    "\n",
    "out_for_track.value_counts()"
   ]
  },
  {
   "cell_type": "code",
   "execution_count": null,
   "metadata": {},
   "outputs": [],
   "source": [
    "in_for_track = pd.Series(df['recording-MBID'].unique())\n",
    "out_for_track = query_in(in_for_track, MB_track)\n",
    "\n",
    "out_for_track.value_counts()"
   ]
  },
  {
   "cell_type": "code",
   "execution_count": 15,
   "metadata": {},
   "outputs": [
    {
     "name": "stdout",
     "output_type": "stream",
     "text": [
      "CPU times: user 530 ms, sys: 34.6 ms, total: 565 ms\n",
      "Wall time: 562 ms\n"
     ]
    },
    {
     "data": {
      "text/plain": [
       "False    381145\n",
       "dtype: int64"
      ]
     },
     "execution_count": 15,
     "metadata": {},
     "output_type": "execute_result"
    }
   ],
   "source": [
    "%%time\n",
    "\n",
    "\"\"\"\n",
    "Input: all unique recording-MBIDs from the input dataset.\n",
    "Output: Boolmap of all recording-MBIDs that belong to the MB \"track_gid_redirect\" table.\n",
    "\"\"\"\n",
    "\n",
    "in_for_track = pd.Series(df['recording-MBID'].unique())\n",
    "out_for_track_redir = query_in(in_for_track, MB_track_redirects.old)\n",
    "\n",
    "track_mbid_in_r_mbid = out_for_track.value_counts()\n",
    "track_mbid_in_r_mbid"
   ]
  },
  {
   "cell_type": "markdown",
   "metadata": {},
   "source": [
    "## Testing for recording-MBID"
   ]
  },
  {
   "cell_type": "code",
   "execution_count": 16,
   "metadata": {},
   "outputs": [
    {
     "name": "stdout",
     "output_type": "stream",
     "text": [
      "CPU times: user 9 s, sys: 14.7 ms, total: 9.01 s\n",
      "Wall time: 9.02 s\n"
     ]
    },
    {
     "data": {
      "text/plain": [
       "True     295214\n",
       "False     85931\n",
       "dtype: int64"
      ]
     },
     "execution_count": 16,
     "metadata": {},
     "output_type": "execute_result"
    }
   ],
   "source": [
    "%%time\n",
    "\"\"\"\n",
    "Input: all unique recording-MBIDs from the input dataset.\n",
    "Output: Boolmap of all recording-MBIDs that belong to the entity table (MB \"recording\" table.)\n",
    "\"\"\"\n",
    "\n",
    "in_for_rec = pd.Series(df['recording-MBID'].unique())\n",
    "out_for_rec = query_in(in_for_rec, MB_recording.gid)\n",
    "\n",
    "r_mbid_in_r_mbid = out_for_rec.value_counts()\n",
    "r_mbid_in_r_mbid"
   ]
  },
  {
   "cell_type": "markdown",
   "metadata": {},
   "source": [
    "## Testing for rec-MBID redirects"
   ]
  },
  {
   "cell_type": "code",
   "execution_count": 17,
   "metadata": {},
   "outputs": [
    {
     "name": "stdout",
     "output_type": "stream",
     "text": [
      "CPU times: user 761 ms, sys: 2.52 ms, total: 764 ms\n",
      "Wall time: 759 ms\n"
     ]
    },
    {
     "data": {
      "text/plain": [
       "True     84783\n",
       "False     1148\n",
       "dtype: int64"
      ]
     },
     "execution_count": 17,
     "metadata": {},
     "output_type": "execute_result"
    }
   ],
   "source": [
    "%%time\n",
    "\n",
    "# Testing if MBIDs that DONT exist in MB recording table have any redirects\n",
    "\"\"\"\n",
    "Input: all unique recording-MBIDs from the input dataset that DON'T belong the MB \"recording\" table.\n",
    "Output: Boolmap of all recording-MBIDs that have a redirect available.\n",
    "\"\"\"\n",
    "in_for_rec_redir = in_for_rec[-out_for_rec]\n",
    "\n",
    "out_for_rec_redir = query_in(in_for_rec_redir, MB_redirects.old)\n",
    "\n",
    "out_for_rec_redir.value_counts()"
   ]
  },
  {
   "cell_type": "markdown",
   "metadata": {},
   "source": [
    "## Checking if artist-MBIDs belong to artist ID."
   ]
  },
  {
   "cell_type": "code",
   "execution_count": 18,
   "metadata": {},
   "outputs": [
    {
     "data": {
      "text/plain": [
       "True     30839\n",
       "False     2596\n",
       "dtype: int64"
      ]
     },
     "execution_count": 18,
     "metadata": {},
     "output_type": "execute_result"
    }
   ],
   "source": [
    "# Checking if artist-MBIDs belong to artist ID.\n",
    "\"\"\"\n",
    "Input: all unique artist-MBIDs from the dataset.\n",
    "Output: Boolmap of all artist-MBIDs that are present in the MB \"artist\" table.\n",
    "\"\"\"\n",
    "\n",
    "input_artists = pd.Series(df['artist-MBID'].dropna().unique())\n",
    "\n",
    "output_artists = query_in(input_artists, MB_artist.gid)\n",
    "output_artists.value_counts()"
   ]
  },
  {
   "cell_type": "code",
   "execution_count": 19,
   "metadata": {},
   "outputs": [
    {
     "data": {
      "text/plain": [
       "True     2453\n",
       "False     143\n",
       "dtype: int64"
      ]
     },
     "execution_count": 19,
     "metadata": {},
     "output_type": "execute_result"
    }
   ],
   "source": [
    "# Checking if artist-MBIDs belong to artist ID.\n",
    "\"\"\"\n",
    "Input: all unique artist-MBIDs from the dataset that DON'T belong to the MB \"artist\" table.\n",
    "Output: Boolmap of all artist-MBIDs that are NOT present in the MB \"artist\" table and have a redirect available.\n",
    "\"\"\"\n",
    "\n",
    "input_artists_redirect = input_artists[-output_artists]\n",
    "\n",
    "output_artists_redirect = query_in(input_artists_redirect, MB_artist_redirects.old)\n",
    "output_artists_redirect.value_counts()"
   ]
  },
  {
   "cell_type": "markdown",
   "metadata": {},
   "source": [
    "# ANALYSIS REPORTS"
   ]
  },
  {
   "cell_type": "code",
   "execution_count": 20,
   "metadata": {},
   "outputs": [
    {
     "data": {
      "text/markdown": [
       "\n",
       "## Track-MBIDs\n",
       "\n",
       "### Number of rec-MBIDs in track:\n",
       "    - Total Input: 381145\n",
       "    - False: 381145\n",
       "\n",
       "### Number of rec-MBIDs in track_gid_redirect:\n",
       "    - Total Input: 381145\n",
       "    - False: 381145\n"
      ],
      "text/plain": [
       "<IPython.core.display.Markdown object>"
      ]
     },
     "metadata": {},
     "output_type": "display_data"
    }
   ],
   "source": [
    "report_track = \"\"\"\n",
    "## Track-MBIDs\n",
    "\n",
    "### Number of rec-MBIDs in track:\n",
    "    - Total Input: {}\n",
    "    - False: {}\n",
    "\n",
    "### Number of rec-MBIDs in track_gid_redirect:\n",
    "    - Total Input: {}\n",
    "    - False: {}\n",
    "\"\"\".format(len(in_for_track),\n",
    "            out_for_track.value_counts()[0],\n",
    "            len(in_for_track),\n",
    "            out_for_track_redir.value_counts()[0])\n",
    "\n",
    "\n",
    "display(MD(report_track))"
   ]
  },
  {
   "cell_type": "code",
   "execution_count": 21,
   "metadata": {},
   "outputs": [
    {
     "data": {
      "text/markdown": [
       "\n",
       "## recording-MBIDs\n",
       "### Number of rec-MBIDs in recording-MBID:\n",
       "    - Total Input: 381145 rows\n",
       "    - (True, False) = 295214, 85931\n",
       "    - i.e. 77.45% rec-MBIDs belong to the recording-MBID table. \n",
       "    (and 22.54% rec-MBIDs DONT belong to the recording-MBID table.)\n",
       "\n",
       "\n",
       "### Number of UNKNOWN rec-MBIDs in redirected-MBID:\n",
       "    - Note: \"UNKNOWN rec-MBIDs\" = rec-MBIDs from the MLHD that were NOT found in the MB recording table.\n",
       "    - Total Input: 85931 rows\n",
       "    - (True, False): 84783, 1148\n",
       "    - i.e. 1.335% of UNKNOWN rec-MBIDs don't have any corresponding redirects.\n",
       "    (and 98.66% of UNKNOWN rec-MBIDs can be redirected to a valid rec-MBID)\n",
       "\n",
       "i.e. *_0.301% of ALL UNIQUE rec-MBIDs are unknown. (Don't belong to the recording table OR have a valid redirect.)_*\n",
       "\n",
       "### Number of rec-MBIDs in canonical-MBID table:\n",
       "    - _pending_\n"
      ],
      "text/plain": [
       "<IPython.core.display.Markdown object>"
      ]
     },
     "metadata": {},
     "output_type": "display_data"
    }
   ],
   "source": [
    "report_rec = \"\"\"\n",
    "## recording-MBIDs\n",
    "### Number of rec-MBIDs in recording-MBID:\n",
    "    - Total Input: {} rows\n",
    "    - (True, False) = {}, {}\n",
    "    - i.e. {}% rec-MBIDs belong to the recording-MBID table. \n",
    "    (and {}% rec-MBIDs DONT belong to the recording-MBID table.)\n",
    "\n",
    "\n",
    "### Number of UNKNOWN rec-MBIDs in redirected-MBID:\n",
    "    - Note: \"UNKNOWN rec-MBIDs\" = rec-MBIDs from the MLHD that were NOT found in the MB recording table.\n",
    "    - Total Input: {} rows\n",
    "    - (True, False): {}, {}\n",
    "    - i.e. {}% of UNKNOWN rec-MBIDs don't have any corresponding redirects.\n",
    "    (and {}% of UNKNOWN rec-MBIDs can be redirected to a valid rec-MBID)\n",
    "\n",
    "i.e. *_{}% of ALL UNIQUE rec-MBIDs are unknown. (Don't belong to the recording table OR have a valid redirect.)_*\n",
    "\n",
    "### Number of rec-MBIDs in canonical-MBID table:\n",
    "    - _pending_\n",
    "\"\"\".format(len(in_for_rec),\n",
    "            out_for_rec.value_counts()[1],\n",
    "            out_for_rec.value_counts()[0],\n",
    "            str((out_for_rec.value_counts()[1]/len(in_for_rec))*100)[:5],\n",
    "            str((out_for_rec.value_counts()[0]/len(in_for_rec))*100)[:5],\n",
    "\n",
    "            len(in_for_rec_redir),\n",
    "            out_for_rec_redir.value_counts()[1],\n",
    "            out_for_rec_redir.value_counts()[0],\n",
    "            str((out_for_rec_redir.value_counts()[0]/len(in_for_rec_redir))*100)[:5],\n",
    "            str((out_for_rec_redir.value_counts()[1]/len(in_for_rec_redir))*100)[:5],\n",
    "        \n",
    "            str((out_for_rec_redir.value_counts()[0]/len(in_for_rec))*100)[:5]\n",
    "            )\n",
    "\n",
    "display(MD(report_rec))"
   ]
  },
  {
   "cell_type": "code",
   "execution_count": 22,
   "metadata": {},
   "outputs": [
    {
     "data": {
      "text/markdown": [
       "\n",
       "### Number of artist-MBIDs in MB artist table:\n",
       "    - Total Input: 33435\n",
       "    - True, False = 2596, 30839\n",
       "    - i.e. 92.23% artist-MBIDs exist in the MB artist table.\n",
       "\n",
       "### Number of UNKNOWN artist-MBIDs in MB artist_gid_redirect table:\n",
       "    - Total Input: 2596\n",
       "    - True, False = 143, 2453\n",
       "    - i.e. 94.49% artist-MBIDs exist in the MB artist table.\n",
       "\n",
       "i.e. 5.508% of ALL UNIQUE artist-MBIDs are completely unknown. (Don't belong to artist table OR artist_gid_redirect table.)\n"
      ],
      "text/plain": [
       "<IPython.core.display.Markdown object>"
      ]
     },
     "metadata": {},
     "output_type": "display_data"
    }
   ],
   "source": [
    "report_artist = \"\"\"\n",
    "### Number of artist-MBIDs in MB artist table:\n",
    "    - Total Input: {}\n",
    "    - True, False = {}, {}\n",
    "    - i.e. {}% artist-MBIDs exist in the MB artist table.\n",
    "\n",
    "### Number of UNKNOWN artist-MBIDs in MB artist_gid_redirect table:\n",
    "    - Total Input: {}\n",
    "    - True, False = {}, {}\n",
    "    - i.e. {}% artist-MBIDs exist in the MB artist table.\n",
    "\n",
    "i.e. {}% of ALL UNIQUE artist-MBIDs are completely unknown. (Don't belong to artist table OR artist_gid_redirect table.)\n",
    "\"\"\".format(len(input_artists),\n",
    "            output_artists.value_counts()[0],\n",
    "            output_artists.value_counts()[1],\n",
    "            str((output_artists.value_counts()[1]/len(input_artists))*100)[:5],\n",
    "            \n",
    "            len(input_artists_redirect),\n",
    "            output_artists_redirect.value_counts()[0],\n",
    "            output_artists_redirect.value_counts()[1],\n",
    "            str((output_artists_redirect.value_counts()[1]/len(input_artists_redirect))*100)[:5],\n",
    "\n",
    "            str((output_artists_redirect.value_counts()[0]/len(input_artists_redirect))*100)[:5]\n",
    "            )\n",
    "\n",
    "display(MD(report_artist))"
   ]
  },
  {
   "cell_type": "markdown",
   "metadata": {},
   "source": [
    "# Making a list of unknown MBIDs for testing!"
   ]
  },
  {
   "cell_type": "code",
   "execution_count": 23,
   "metadata": {},
   "outputs": [
    {
     "name": "stderr",
     "output_type": "stream",
     "text": [
      "/tmp/ipykernel_1323702/1944256709.py:9: SettingWithCopyWarning: \n",
      "A value is trying to be set on a copy of a slice from a DataFrame\n",
      "\n",
      "See the caveats in the documentation: https://pandas.pydata.org/pandas-docs/stable/user_guide/indexing.html#returning-a-view-versus-a-copy\n",
      "  unk_rec_mbid_timestamp.sort_values(by = 'timestamp', inplace=True)\n"
     ]
    },
    {
     "data": {
      "text/html": [
       "<div>\n",
       "<style scoped>\n",
       "    .dataframe tbody tr th:only-of-type {\n",
       "        vertical-align: middle;\n",
       "    }\n",
       "\n",
       "    .dataframe tbody tr th {\n",
       "        vertical-align: top;\n",
       "    }\n",
       "\n",
       "    .dataframe thead th {\n",
       "        text-align: right;\n",
       "    }\n",
       "</style>\n",
       "<table border=\"1\" class=\"dataframe\">\n",
       "  <thead>\n",
       "    <tr style=\"text-align: right;\">\n",
       "      <th></th>\n",
       "      <th>timestamp</th>\n",
       "      <th>recording-MBID</th>\n",
       "    </tr>\n",
       "  </thead>\n",
       "  <tbody>\n",
       "    <tr>\n",
       "      <th>18</th>\n",
       "      <td>2005-02-14 01:24:47+00:00</td>\n",
       "      <td>f052641b-c2b9-48f4-8d6b-61a4de888ab4</td>\n",
       "    </tr>\n",
       "    <tr>\n",
       "      <th>525</th>\n",
       "      <td>2005-02-22 22:07:08+00:00</td>\n",
       "      <td>c8138848-7ddf-4c03-b6cb-c0d7c1665c65</td>\n",
       "    </tr>\n",
       "    <tr>\n",
       "      <th>937</th>\n",
       "      <td>2005-02-28 01:18:07+00:00</td>\n",
       "      <td>94079821-b54f-4dde-9789-9bbb513ee5c6</td>\n",
       "    </tr>\n",
       "    <tr>\n",
       "      <th>1059</th>\n",
       "      <td>2005-03-02 06:46:52+00:00</td>\n",
       "      <td>3139d467-a5ff-45ae-8546-1688951ed025</td>\n",
       "    </tr>\n",
       "    <tr>\n",
       "      <th>993</th>\n",
       "      <td>2005-03-14 20:49:52+00:00</td>\n",
       "      <td>7c543dbf-1451-4975-aec3-add4c1018e7d</td>\n",
       "    </tr>\n",
       "    <tr>\n",
       "      <th>...</th>\n",
       "      <td>...</td>\n",
       "      <td>...</td>\n",
       "    </tr>\n",
       "    <tr>\n",
       "      <th>40729</th>\n",
       "      <td>2013-08-02 09:11:49+00:00</td>\n",
       "      <td>5d53b863-0061-440f-819f-227478845a5a</td>\n",
       "    </tr>\n",
       "    <tr>\n",
       "      <th>17910</th>\n",
       "      <td>2013-08-04 11:10:14+00:00</td>\n",
       "      <td>9ebd01b2-39a4-4d55-a637-32e84c6e042d</td>\n",
       "    </tr>\n",
       "    <tr>\n",
       "      <th>1389</th>\n",
       "      <td>2013-08-10 16:30:43+00:00</td>\n",
       "      <td>2f7bd8f9-a524-4d4a-9956-d8aa61bace0f</td>\n",
       "    </tr>\n",
       "    <tr>\n",
       "      <th>18945</th>\n",
       "      <td>2013-08-23 14:25:26+00:00</td>\n",
       "      <td>79508a19-fe15-468f-9e6d-3bad397692db</td>\n",
       "    </tr>\n",
       "    <tr>\n",
       "      <th>23354</th>\n",
       "      <td>2013-08-23 17:26:24+00:00</td>\n",
       "      <td>33ae7872-29da-48e2-ac23-2474dce8af94</td>\n",
       "    </tr>\n",
       "  </tbody>\n",
       "</table>\n",
       "<p>1148 rows × 2 columns</p>\n",
       "</div>"
      ],
      "text/plain": [
       "                      timestamp                        recording-MBID\n",
       "18    2005-02-14 01:24:47+00:00  f052641b-c2b9-48f4-8d6b-61a4de888ab4\n",
       "525   2005-02-22 22:07:08+00:00  c8138848-7ddf-4c03-b6cb-c0d7c1665c65\n",
       "937   2005-02-28 01:18:07+00:00  94079821-b54f-4dde-9789-9bbb513ee5c6\n",
       "1059  2005-03-02 06:46:52+00:00  3139d467-a5ff-45ae-8546-1688951ed025\n",
       "993   2005-03-14 20:49:52+00:00  7c543dbf-1451-4975-aec3-add4c1018e7d\n",
       "...                         ...                                   ...\n",
       "40729 2013-08-02 09:11:49+00:00  5d53b863-0061-440f-819f-227478845a5a\n",
       "17910 2013-08-04 11:10:14+00:00  9ebd01b2-39a4-4d55-a637-32e84c6e042d\n",
       "1389  2013-08-10 16:30:43+00:00  2f7bd8f9-a524-4d4a-9956-d8aa61bace0f\n",
       "18945 2013-08-23 14:25:26+00:00  79508a19-fe15-468f-9e6d-3bad397692db\n",
       "23354 2013-08-23 17:26:24+00:00  33ae7872-29da-48e2-ac23-2474dce8af94\n",
       "\n",
       "[1148 rows x 2 columns]"
      ]
     },
     "execution_count": 23,
     "metadata": {},
     "output_type": "execute_result"
    }
   ],
   "source": [
    "# Listing unknown rec-MBIDs with timestamp\n",
    "\n",
    "unk_rec_mbid = in_for_rec_redir[-out_for_rec_redir]\n",
    "\n",
    "main_df_rec_timestamp = df[['timestamp', 'recording-MBID']].drop_duplicates('recording-MBID')\n",
    "main_df_rec_timestamp.timestamp = pd.to_datetime(main_df_rec_timestamp.timestamp, unit='s', utc=True)\n",
    "\n",
    "unk_rec_mbid_timestamp = main_df_rec_timestamp[main_df_rec_timestamp['recording-MBID'].isin(unk_rec_mbid)]\n",
    "unk_rec_mbid_timestamp.sort_values(by = 'timestamp', inplace=True)\n",
    "\n",
    "unk_rec_mbid_timestamp.to_csv('unk_ids/unk_rec_mbids_timestamp.txt', index=False)\n",
    "\n",
    "\n",
    "unk_rec_mbid_timestamp"
   ]
  },
  {
   "cell_type": "code",
   "execution_count": 25,
   "metadata": {},
   "outputs": [
    {
     "name": "stdout",
     "output_type": "stream",
     "text": [
      "CPU times: user 397 ms, sys: 22.4 ms, total: 419 ms\n",
      "Wall time: 457 ms\n"
     ]
    },
    {
     "name": "stderr",
     "output_type": "stream",
     "text": [
      "<timed exec>:9: SettingWithCopyWarning: \n",
      "A value is trying to be set on a copy of a slice from a DataFrame\n",
      "\n",
      "See the caveats in the documentation: https://pandas.pydata.org/pandas-docs/stable/user_guide/indexing.html#returning-a-view-versus-a-copy\n"
     ]
    },
    {
     "data": {
      "text/html": [
       "<div>\n",
       "<style scoped>\n",
       "    .dataframe tbody tr th:only-of-type {\n",
       "        vertical-align: middle;\n",
       "    }\n",
       "\n",
       "    .dataframe tbody tr th {\n",
       "        vertical-align: top;\n",
       "    }\n",
       "\n",
       "    .dataframe thead th {\n",
       "        text-align: right;\n",
       "    }\n",
       "</style>\n",
       "<table border=\"1\" class=\"dataframe\">\n",
       "  <thead>\n",
       "    <tr style=\"text-align: right;\">\n",
       "      <th></th>\n",
       "      <th>timestamp</th>\n",
       "      <th>artist-MBID</th>\n",
       "    </tr>\n",
       "  </thead>\n",
       "  <tbody>\n",
       "    <tr>\n",
       "      <th>5758</th>\n",
       "      <td>2005-05-30 15:20:47+00:00</td>\n",
       "      <td>02e786a4-613b-48de-b496-9205ce38298b</td>\n",
       "    </tr>\n",
       "    <tr>\n",
       "      <th>7462</th>\n",
       "      <td>2005-06-24 01:06:12+00:00</td>\n",
       "      <td>f3d0e228-57d5-49d4-a1e3-094e5c27caf2</td>\n",
       "    </tr>\n",
       "    <tr>\n",
       "      <th>13320</th>\n",
       "      <td>2005-10-12 17:25:31+00:00</td>\n",
       "      <td>3819dcbe-06a9-45bd-bd93-89316f7e1b15</td>\n",
       "    </tr>\n",
       "    <tr>\n",
       "      <th>17866</th>\n",
       "      <td>2006-03-15 17:43:58+00:00</td>\n",
       "      <td>e1df836f-74da-4a61-a6f8-fd2cbf4e594f</td>\n",
       "    </tr>\n",
       "    <tr>\n",
       "      <th>3599</th>\n",
       "      <td>2006-04-21 19:01:45+00:00</td>\n",
       "      <td>d2374cc1-a6f5-42af-bd1d-ecbd3355edce</td>\n",
       "    </tr>\n",
       "    <tr>\n",
       "      <th>...</th>\n",
       "      <td>...</td>\n",
       "      <td>...</td>\n",
       "    </tr>\n",
       "    <tr>\n",
       "      <th>53667</th>\n",
       "      <td>2013-02-05 16:13:08+00:00</td>\n",
       "      <td>b3b07880-f760-4430-beac-e715185d467f</td>\n",
       "    </tr>\n",
       "    <tr>\n",
       "      <th>31085</th>\n",
       "      <td>2013-04-02 20:12:19+00:00</td>\n",
       "      <td>9bafefe7-65af-4194-a16d-958884d7da69</td>\n",
       "    </tr>\n",
       "    <tr>\n",
       "      <th>46514</th>\n",
       "      <td>2013-04-11 23:13:11+00:00</td>\n",
       "      <td>08c31b75-d99a-47ce-bf3f-43cc122832fb</td>\n",
       "    </tr>\n",
       "    <tr>\n",
       "      <th>15868</th>\n",
       "      <td>2013-05-28 14:50:33+00:00</td>\n",
       "      <td>56eebce4-e56c-4b2f-b7fa-0ddc7816d0a8</td>\n",
       "    </tr>\n",
       "    <tr>\n",
       "      <th>30039</th>\n",
       "      <td>2013-06-11 13:09:19+00:00</td>\n",
       "      <td>624594ce-09ef-4a5f-b881-6e6691d920c2</td>\n",
       "    </tr>\n",
       "  </tbody>\n",
       "</table>\n",
       "<p>143 rows × 2 columns</p>\n",
       "</div>"
      ],
      "text/plain": [
       "                      timestamp                           artist-MBID\n",
       "5758  2005-05-30 15:20:47+00:00  02e786a4-613b-48de-b496-9205ce38298b\n",
       "7462  2005-06-24 01:06:12+00:00  f3d0e228-57d5-49d4-a1e3-094e5c27caf2\n",
       "13320 2005-10-12 17:25:31+00:00  3819dcbe-06a9-45bd-bd93-89316f7e1b15\n",
       "17866 2006-03-15 17:43:58+00:00  e1df836f-74da-4a61-a6f8-fd2cbf4e594f\n",
       "3599  2006-04-21 19:01:45+00:00  d2374cc1-a6f5-42af-bd1d-ecbd3355edce\n",
       "...                         ...                                   ...\n",
       "53667 2013-02-05 16:13:08+00:00  b3b07880-f760-4430-beac-e715185d467f\n",
       "31085 2013-04-02 20:12:19+00:00  9bafefe7-65af-4194-a16d-958884d7da69\n",
       "46514 2013-04-11 23:13:11+00:00  08c31b75-d99a-47ce-bf3f-43cc122832fb\n",
       "15868 2013-05-28 14:50:33+00:00  56eebce4-e56c-4b2f-b7fa-0ddc7816d0a8\n",
       "30039 2013-06-11 13:09:19+00:00  624594ce-09ef-4a5f-b881-6e6691d920c2\n",
       "\n",
       "[143 rows x 2 columns]"
      ]
     },
     "execution_count": 25,
     "metadata": {},
     "output_type": "execute_result"
    }
   ],
   "source": [
    "%%time\n",
    "# Listing unknown rec-MBIDs with timestamp\n",
    "\n",
    "unk_artist_mbid = input_artists_redirect[-output_artists_redirect]\n",
    "\n",
    "main_df_artist_timestamp = df[['timestamp', 'artist-MBID']].drop_duplicates('artist-MBID')\n",
    "main_df_artist_timestamp.timestamp = pd.to_datetime(main_df_artist_timestamp.timestamp, unit='s', utc=True)\n",
    "\n",
    "unk_artist_mbid_timestamp = main_df_artist_timestamp[main_df_artist_timestamp['artist-MBID'].isin(unk_artist_mbid)]\n",
    "unk_artist_mbid_timestamp.sort_values(by = 'timestamp', inplace=True)\n",
    "unk_artist_mbid_timestamp.to_csv('unk_ids/unk_artist_mbids_timestamp.txt', index=False)\n",
    "\n",
    "unk_artist_mbid_timestamp"
   ]
  },
  {
   "cell_type": "code",
   "execution_count": null,
   "metadata": {},
   "outputs": [],
   "source": []
  }
 ],
 "metadata": {
  "interpreter": {
   "hash": "a2c0c9fb1c567002394a71a6ae02f73ce4bc53d4b82f846c3c881e337285b81f"
  },
  "kernelspec": {
   "display_name": "Python 3.8.10 ('env_mlhd': venv)",
   "language": "python",
   "name": "python3"
  },
  "language_info": {
   "codemirror_mode": {
    "name": "ipython",
    "version": 3
   },
   "file_extension": ".py",
   "mimetype": "text/x-python",
   "name": "python",
   "nbconvert_exporter": "python",
   "pygments_lexer": "ipython3",
   "version": "3.8.10"
  },
  "orig_nbformat": 4
 },
 "nbformat": 4,
 "nbformat_minor": 2
}
