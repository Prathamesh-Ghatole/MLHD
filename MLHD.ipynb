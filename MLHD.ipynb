{
 "cells": [
  {
   "cell_type": "code",
   "execution_count": 1,
   "metadata": {},
   "outputs": [],
   "source": [
    "import psycopg2\n",
    "import pandas as pd\n",
    "import numpy as np"
   ]
  },
  {
   "cell_type": "code",
   "execution_count": 2,
   "metadata": {},
   "outputs": [
    {
     "name": "stdout",
     "output_type": "stream",
     "text": [
      "connection successful\n"
     ]
    }
   ],
   "source": [
    "# Create Connection to postgresql\n",
    "# psql -h localhost -p 25432 -U musicbrainz musicbrainz_db\n",
    "\n",
    "conn = psycopg2.connect(\n",
    "    host=\"localhost\",\n",
    "    database=\"musicbrainz_db\",\n",
    "    user=\"musicbrainz\",\n",
    "    port=5432)\n",
    "\n",
    "cursor = conn.cursor()\n",
    "\n",
    "cursor.execute(\"select * from recording limit 1;\")\n",
    "cursor.fetchone()[0]\n",
    "print(\"connection successful\")"
   ]
  },
  {
   "cell_type": "code",
   "execution_count": 3,
   "metadata": {},
   "outputs": [],
   "source": [
    "# Reads a list of file paths and reads + compiles data into a single pd.DataFrame\n",
    "def read_files(file_path_repo):\n",
    "    \n",
    "    # init new empty main dataframe\n",
    "    df = pd.DataFrame(columns = ['timestamp', 'artist-MBID', 'release-MBID', 'recording-MBID'])\n",
    "    \n",
    "    # Open a file with MLHD file paths to process\n",
    "    with open(file_path_repo, 'r') as f:\n",
    "        file_paths = f.readlines()\n",
    "        file_paths= [item.strip() for item in file_paths]\n",
    "    \n",
    "    # Read files and compile into single df\n",
    "    for pth in file_paths:\n",
    "        temp = pd.read_csv(pth, sep='\\t', names=['timestamp', 'artist-MBID', 'release-MBID', 'recording-MBID'])\n",
    "        temp = temp[-temp['recording-MBID'].isna()]\n",
    "\n",
    "        df = pd.concat([df, temp])\n",
    "    \n",
    "    return df"
   ]
  },
  {
   "cell_type": "code",
   "execution_count": 5,
   "metadata": {},
   "outputs": [
    {
     "name": "stdout",
     "output_type": "stream",
     "text": [
      "(1985787, 4)\n",
      "CPU times: user 3.78 s, sys: 371 ms, total: 4.15 s\n",
      "Wall time: 4.15 s\n"
     ]
    },
    {
     "data": {
      "text/html": [
       "<div>\n",
       "<style scoped>\n",
       "    .dataframe tbody tr th:only-of-type {\n",
       "        vertical-align: middle;\n",
       "    }\n",
       "\n",
       "    .dataframe tbody tr th {\n",
       "        vertical-align: top;\n",
       "    }\n",
       "\n",
       "    .dataframe thead th {\n",
       "        text-align: right;\n",
       "    }\n",
       "</style>\n",
       "<table border=\"1\" class=\"dataframe\">\n",
       "  <thead>\n",
       "    <tr style=\"text-align: right;\">\n",
       "      <th></th>\n",
       "      <th>timestamp</th>\n",
       "      <th>artist-MBID</th>\n",
       "      <th>release-MBID</th>\n",
       "      <th>recording-MBID</th>\n",
       "    </tr>\n",
       "  </thead>\n",
       "  <tbody>\n",
       "    <tr>\n",
       "      <th>1</th>\n",
       "      <td>1348268938</td>\n",
       "      <td>275d1fca-22e8-46b9-85e6-c3523098a599</td>\n",
       "      <td>NaN</td>\n",
       "      <td>b2fa9a1a-1d71-4256-83b1-8705be6387ce</td>\n",
       "    </tr>\n",
       "    <tr>\n",
       "      <th>4</th>\n",
       "      <td>1348268136</td>\n",
       "      <td>NaN</td>\n",
       "      <td>NaN</td>\n",
       "      <td>c857137c-b09b-4ed5-8006-961624e27854</td>\n",
       "    </tr>\n",
       "    <tr>\n",
       "      <th>6</th>\n",
       "      <td>1348247430</td>\n",
       "      <td>09887aa7-226e-4ecc-9a0c-02d2ae5777e1</td>\n",
       "      <td>4df061b7-db29-4be1-ae26-bdb8c3866925</td>\n",
       "      <td>7460e38b-f28e-4919-a17b-a4f4c19caea2</td>\n",
       "    </tr>\n",
       "    <tr>\n",
       "      <th>7</th>\n",
       "      <td>1348247205</td>\n",
       "      <td>0a832a68-88ec-455f-8b53-d9e14838202f</td>\n",
       "      <td>5157b818-6106-3d12-bc9a-4c2b15e80764</td>\n",
       "      <td>c9f20069-38c3-4988-9ee1-213c0c67b1d4</td>\n",
       "    </tr>\n",
       "    <tr>\n",
       "      <th>10</th>\n",
       "      <td>1348246437</td>\n",
       "      <td>8559df00-6489-4e23-83dd-d43e3ec4745c</td>\n",
       "      <td>20480e5c-369a-442f-b39f-9c14a83a4cdf</td>\n",
       "      <td>150cdcfd-c63f-4aa4-995a-2b3687abf4f8</td>\n",
       "    </tr>\n",
       "  </tbody>\n",
       "</table>\n",
       "</div>"
      ],
      "text/plain": [
       "     timestamp                           artist-MBID  \\\n",
       "1   1348268938  275d1fca-22e8-46b9-85e6-c3523098a599   \n",
       "4   1348268136                                   NaN   \n",
       "6   1348247430  09887aa7-226e-4ecc-9a0c-02d2ae5777e1   \n",
       "7   1348247205  0a832a68-88ec-455f-8b53-d9e14838202f   \n",
       "10  1348246437  8559df00-6489-4e23-83dd-d43e3ec4745c   \n",
       "\n",
       "                            release-MBID                        recording-MBID  \n",
       "1                                    NaN  b2fa9a1a-1d71-4256-83b1-8705be6387ce  \n",
       "4                                    NaN  c857137c-b09b-4ed5-8006-961624e27854  \n",
       "6   4df061b7-db29-4be1-ae26-bdb8c3866925  7460e38b-f28e-4919-a17b-a4f4c19caea2  \n",
       "7   5157b818-6106-3d12-bc9a-4c2b15e80764  c9f20069-38c3-4988-9ee1-213c0c67b1d4  \n",
       "10  20480e5c-369a-442f-b39f-9c14a83a4cdf  150cdcfd-c63f-4aa4-995a-2b3687abf4f8  "
      ]
     },
     "execution_count": 5,
     "metadata": {},
     "output_type": "execute_result"
    }
   ],
   "source": [
    "%%time\n",
    "df = read_files('random_file_paths.txt')\n",
    "print(df.shape)\n",
    "df.head()"
   ]
  },
  {
   "cell_type": "code",
   "execution_count": 6,
   "metadata": {},
   "outputs": [
    {
     "name": "stderr",
     "output_type": "stream",
     "text": [
      "/home/snaek/MLHD/env_mlhd/lib/python3.8/site-packages/pandas/io/sql.py:761: UserWarning: pandas only support SQLAlchemy connectable(engine/connection) ordatabase string URI or sqlite3 DBAPI2 connectionother DBAPI2 objects are not tested, please consider using SQLAlchemy\n",
      "  warnings.warn(\n"
     ]
    },
    {
     "name": "stdout",
     "output_type": "stream",
     "text": [
      "CPU times: user 6.91 s, sys: 2.54 s, total: 9.46 s\n",
      "Wall time: 18.5 s\n"
     ]
    },
    {
     "data": {
      "text/html": [
       "<div>\n",
       "<style scoped>\n",
       "    .dataframe tbody tr th:only-of-type {\n",
       "        vertical-align: middle;\n",
       "    }\n",
       "\n",
       "    .dataframe tbody tr th {\n",
       "        vertical-align: top;\n",
       "    }\n",
       "\n",
       "    .dataframe thead th {\n",
       "        text-align: right;\n",
       "    }\n",
       "</style>\n",
       "<table border=\"1\" class=\"dataframe\">\n",
       "  <thead>\n",
       "    <tr style=\"text-align: right;\">\n",
       "      <th></th>\n",
       "      <th>gid</th>\n",
       "    </tr>\n",
       "  </thead>\n",
       "  <tbody>\n",
       "    <tr>\n",
       "      <th>0</th>\n",
       "      <td>0f42ab32-22cd-4dcf-927b-a8d9a183d68b</td>\n",
       "    </tr>\n",
       "    <tr>\n",
       "      <th>1</th>\n",
       "      <td>4dce8f93-45ee-4573-8558-8cd321256233</td>\n",
       "    </tr>\n",
       "    <tr>\n",
       "      <th>2</th>\n",
       "      <td>48fabe3f-0fbd-4145-a917-83d164d6386f</td>\n",
       "    </tr>\n",
       "    <tr>\n",
       "      <th>3</th>\n",
       "      <td>b30b9943-9100-4d84-9ad2-69859ea88fbb</td>\n",
       "    </tr>\n",
       "    <tr>\n",
       "      <th>4</th>\n",
       "      <td>b55f1db3-c6d2-4645-b908-03e1017a99c2</td>\n",
       "    </tr>\n",
       "  </tbody>\n",
       "</table>\n",
       "</div>"
      ],
      "text/plain": [
       "                                    gid\n",
       "0  0f42ab32-22cd-4dcf-927b-a8d9a183d68b\n",
       "1  4dce8f93-45ee-4573-8558-8cd321256233\n",
       "2  48fabe3f-0fbd-4145-a917-83d164d6386f\n",
       "3  b30b9943-9100-4d84-9ad2-69859ea88fbb\n",
       "4  b55f1db3-c6d2-4645-b908-03e1017a99c2"
      ]
     },
     "execution_count": 6,
     "metadata": {},
     "output_type": "execute_result"
    }
   ],
   "source": [
    "%%time\n",
    "# Loading recording table SQL tables\n",
    "\n",
    "MB_recording = pd.read_sql('SELECT gid FROM recording', con = conn, columns = ['rec-gid'])\n",
    "# MB_recording.set_index('gid', inplace = True)\n",
    "MB_recording.head()"
   ]
  },
  {
   "cell_type": "code",
   "execution_count": 7,
   "metadata": {},
   "outputs": [
    {
     "name": "stderr",
     "output_type": "stream",
     "text": [
      "/home/snaek/MLHD/env_mlhd/lib/python3.8/site-packages/pandas/io/sql.py:761: UserWarning: pandas only support SQLAlchemy connectable(engine/connection) ordatabase string URI or sqlite3 DBAPI2 connectionother DBAPI2 objects are not tested, please consider using SQLAlchemy\n",
      "  warnings.warn(\n"
     ]
    },
    {
     "name": "stdout",
     "output_type": "stream",
     "text": [
      "CPU times: user 1.26 s, sys: 149 ms, total: 1.41 s\n",
      "Wall time: 9.81 s\n"
     ]
    },
    {
     "data": {
      "text/html": [
       "<div>\n",
       "<style scoped>\n",
       "    .dataframe tbody tr th:only-of-type {\n",
       "        vertical-align: middle;\n",
       "    }\n",
       "\n",
       "    .dataframe tbody tr th {\n",
       "        vertical-align: top;\n",
       "    }\n",
       "\n",
       "    .dataframe thead th {\n",
       "        text-align: right;\n",
       "    }\n",
       "</style>\n",
       "<table border=\"1\" class=\"dataframe\">\n",
       "  <thead>\n",
       "    <tr style=\"text-align: right;\">\n",
       "      <th></th>\n",
       "      <th>new-rec-gid</th>\n",
       "    </tr>\n",
       "    <tr>\n",
       "      <th>old-rec-gid</th>\n",
       "      <th></th>\n",
       "    </tr>\n",
       "  </thead>\n",
       "  <tbody>\n",
       "    <tr>\n",
       "      <th>dfbefafa-a7dc-4024-8a28-be15537591e9</th>\n",
       "      <td>c4793e5b-5825-4221-893d-8b3776289127</td>\n",
       "    </tr>\n",
       "    <tr>\n",
       "      <th>6fdc7ef3-19ea-421d-9246-243a3c9b193a</th>\n",
       "      <td>041199ca-09bd-4dfc-90a5-ec12fee79cba</td>\n",
       "    </tr>\n",
       "    <tr>\n",
       "      <th>aceb2a1c-c696-4948-8f98-e1690212f2c3</th>\n",
       "      <td>3455438b-8105-4cff-a08d-a13da4df20f1</td>\n",
       "    </tr>\n",
       "    <tr>\n",
       "      <th>2251ff3f-05ac-4dff-b90f-fefb309026d5</th>\n",
       "      <td>3c79aeca-5747-4c62-b108-059369e0078c</td>\n",
       "    </tr>\n",
       "    <tr>\n",
       "      <th>ea2ac89a-d33a-41a6-982b-9da7eff77147</th>\n",
       "      <td>673a0c86-5af1-4311-b6d6-42d37afd95e5</td>\n",
       "    </tr>\n",
       "  </tbody>\n",
       "</table>\n",
       "</div>"
      ],
      "text/plain": [
       "                                                               new-rec-gid\n",
       "old-rec-gid                                                               \n",
       "dfbefafa-a7dc-4024-8a28-be15537591e9  c4793e5b-5825-4221-893d-8b3776289127\n",
       "6fdc7ef3-19ea-421d-9246-243a3c9b193a  041199ca-09bd-4dfc-90a5-ec12fee79cba\n",
       "aceb2a1c-c696-4948-8f98-e1690212f2c3  3455438b-8105-4cff-a08d-a13da4df20f1\n",
       "2251ff3f-05ac-4dff-b90f-fefb309026d5  3c79aeca-5747-4c62-b108-059369e0078c\n",
       "ea2ac89a-d33a-41a6-982b-9da7eff77147  673a0c86-5af1-4311-b6d6-42d37afd95e5"
      ]
     },
     "execution_count": 7,
     "metadata": {},
     "output_type": "execute_result"
    }
   ],
   "source": [
    "%%time\n",
    "# Loading redirect table SQL table\n",
    "\n",
    "MB_redirects = pd.read_sql('select r.gid, rgr.gid from recording r join recording_gid_redirect rgr on rgr.new_id = r.id', con = conn)\n",
    "MB_redirects.columns = ['old-rec-gid', 'new-rec-gid']\n",
    "MB_redirects.set_index('old-rec-gid', inplace=True)\n",
    "MB_redirects.head()"
   ]
  },
  {
   "cell_type": "code",
   "execution_count": 8,
   "metadata": {},
   "outputs": [
    {
     "name": "stderr",
     "output_type": "stream",
     "text": [
      "/home/snaek/MLHD/env_mlhd/lib/python3.8/site-packages/pandas/io/sql.py:761: UserWarning: pandas only support SQLAlchemy connectable(engine/connection) ordatabase string URI or sqlite3 DBAPI2 connectionother DBAPI2 objects are not tested, please consider using SQLAlchemy\n",
      "  warnings.warn(\n"
     ]
    },
    {
     "name": "stdout",
     "output_type": "stream",
     "text": [
      "CPU times: user 9.52 s, sys: 2.84 s, total: 12.4 s\n",
      "Wall time: 25.2 s\n"
     ]
    },
    {
     "data": {
      "text/html": [
       "<div>\n",
       "<style scoped>\n",
       "    .dataframe tbody tr th:only-of-type {\n",
       "        vertical-align: middle;\n",
       "    }\n",
       "\n",
       "    .dataframe tbody tr th {\n",
       "        vertical-align: top;\n",
       "    }\n",
       "\n",
       "    .dataframe thead th {\n",
       "        text-align: right;\n",
       "    }\n",
       "</style>\n",
       "<table border=\"1\" class=\"dataframe\">\n",
       "  <thead>\n",
       "    <tr style=\"text-align: right;\">\n",
       "      <th></th>\n",
       "    </tr>\n",
       "    <tr>\n",
       "      <th>track-gid</th>\n",
       "    </tr>\n",
       "  </thead>\n",
       "  <tbody>\n",
       "    <tr>\n",
       "      <th>9b02977e-a03b-4a6b-a9a9-06e722bdcd7a</th>\n",
       "    </tr>\n",
       "    <tr>\n",
       "      <th>43da7544-6283-3159-84f9-537fe823a1a7</th>\n",
       "    </tr>\n",
       "    <tr>\n",
       "      <th>0b6b6283-a5a8-4560-9fa8-f68a430d86ea</th>\n",
       "    </tr>\n",
       "    <tr>\n",
       "      <th>fa124f9a-d8ea-36a3-bed3-c817fdbe13e2</th>\n",
       "    </tr>\n",
       "    <tr>\n",
       "      <th>e56c6d3c-09cf-33a0-81c5-ceade77c35dc</th>\n",
       "    </tr>\n",
       "  </tbody>\n",
       "</table>\n",
       "</div>"
      ],
      "text/plain": [
       "Empty DataFrame\n",
       "Columns: []\n",
       "Index: [9b02977e-a03b-4a6b-a9a9-06e722bdcd7a, 43da7544-6283-3159-84f9-537fe823a1a7, 0b6b6283-a5a8-4560-9fa8-f68a430d86ea, fa124f9a-d8ea-36a3-bed3-c817fdbe13e2, e56c6d3c-09cf-33a0-81c5-ceade77c35dc]"
      ]
     },
     "execution_count": 8,
     "metadata": {},
     "output_type": "execute_result"
    }
   ],
   "source": [
    "%%time\n",
    "# Loading track table\n",
    "\n",
    "MB_track = pd.read_sql('SELECT gid FROM track', con = conn)\n",
    "MB_track.columns = ['track-gid']\n",
    "MB_track.set_index('track-gid', inplace=True)\n",
    "MB_track.head()"
   ]
  },
  {
   "cell_type": "code",
   "execution_count": 9,
   "metadata": {},
   "outputs": [
    {
     "name": "stderr",
     "output_type": "stream",
     "text": [
      "/home/snaek/MLHD/env_mlhd/lib/python3.8/site-packages/pandas/io/sql.py:761: UserWarning: pandas only support SQLAlchemy connectable(engine/connection) ordatabase string URI or sqlite3 DBAPI2 connectionother DBAPI2 objects are not tested, please consider using SQLAlchemy\n",
      "  warnings.warn(\n"
     ]
    },
    {
     "name": "stdout",
     "output_type": "stream",
     "text": [
      "CPU times: user 2.22 s, sys: 329 ms, total: 2.55 s\n",
      "Wall time: 5.82 s\n"
     ]
    },
    {
     "data": {
      "text/html": [
       "<div>\n",
       "<style scoped>\n",
       "    .dataframe tbody tr th:only-of-type {\n",
       "        vertical-align: middle;\n",
       "    }\n",
       "\n",
       "    .dataframe tbody tr th {\n",
       "        vertical-align: top;\n",
       "    }\n",
       "\n",
       "    .dataframe thead th {\n",
       "        text-align: right;\n",
       "    }\n",
       "</style>\n",
       "<table border=\"1\" class=\"dataframe\">\n",
       "  <thead>\n",
       "    <tr style=\"text-align: right;\">\n",
       "      <th></th>\n",
       "      <th>canonical-recording-gid</th>\n",
       "    </tr>\n",
       "    <tr>\n",
       "      <th>recording-gid</th>\n",
       "      <th></th>\n",
       "    </tr>\n",
       "  </thead>\n",
       "  <tbody>\n",
       "    <tr>\n",
       "      <th>6ac02452-ee12-4f86-b389-bd20ba2fefcf</th>\n",
       "      <td>3e8eebfd-7613-4b3d-acbe-41709be76618</td>\n",
       "    </tr>\n",
       "    <tr>\n",
       "      <th>b4c26989-1b9e-4d50-8cde-56d6472e4bc3</th>\n",
       "      <td>3e8eebfd-7613-4b3d-acbe-41709be76618</td>\n",
       "    </tr>\n",
       "    <tr>\n",
       "      <th>601e1cf3-ad6c-4e38-9128-ba4d0d4b010f</th>\n",
       "      <td>b1050d12-b8af-409c-9cff-22759d93e240</td>\n",
       "    </tr>\n",
       "    <tr>\n",
       "      <th>35c4d840-e51f-4c07-9418-af9335b29642</th>\n",
       "      <td>f4680747-bf28-417a-ab33-af00577d8ac2</td>\n",
       "    </tr>\n",
       "    <tr>\n",
       "      <th>9ba7a9b9-a21c-4b12-8771-4c108b08b3e2</th>\n",
       "      <td>13b3875a-c89a-4be5-a6e4-0ca9164bc41d</td>\n",
       "    </tr>\n",
       "  </tbody>\n",
       "</table>\n",
       "</div>"
      ],
      "text/plain": [
       "                                                   canonical-recording-gid\n",
       "recording-gid                                                             \n",
       "6ac02452-ee12-4f86-b389-bd20ba2fefcf  3e8eebfd-7613-4b3d-acbe-41709be76618\n",
       "b4c26989-1b9e-4d50-8cde-56d6472e4bc3  3e8eebfd-7613-4b3d-acbe-41709be76618\n",
       "601e1cf3-ad6c-4e38-9128-ba4d0d4b010f  b1050d12-b8af-409c-9cff-22759d93e240\n",
       "35c4d840-e51f-4c07-9418-af9335b29642  f4680747-bf28-417a-ab33-af00577d8ac2\n",
       "9ba7a9b9-a21c-4b12-8771-4c108b08b3e2  13b3875a-c89a-4be5-a6e4-0ca9164bc41d"
      ]
     },
     "execution_count": 9,
     "metadata": {},
     "output_type": "execute_result"
    }
   ],
   "source": [
    "\n",
    "%%time\n",
    "# Loading canonical recording mbid table\n",
    "\n",
    "MB_canonical = pd.read_sql('SELECT recording_mbid, canonical_recording_mbid FROM mapping.canonical_recording_redirect', con = conn)\n",
    "MB_canonical.columns = ['recording-gid', 'canonical-recording-gid']\n",
    "MB_canonical.set_index('recording-gid', inplace=True)\n",
    "MB_canonical.head()"
   ]
  },
  {
   "cell_type": "markdown",
   "metadata": {},
   "source": [
    "## Architechture:\n",
    "\n",
    "1. Take a chunk of MBIDs (Test optimal chunk sizes too. Current optimal > 300k rows)\n",
    "2. Only get unique values from this series\n",
    "3. Pass it thorugh the following:\n",
    "    - check_in_recording()\n",
    "    - Get mbids that don't exist in recording, and pass it through check_in_redirect()\n",
    "    - Get mbids that don't exist in redirect, and pass it through check_in_track()\n",
    "    - get mbids that don't exist in track, and add them to a series of unknown mbids."
   ]
  },
  {
   "cell_type": "code",
   "execution_count": 10,
   "metadata": {},
   "outputs": [],
   "source": [
    "'''\n",
    "# Problem Statement:\n",
    "1. Take in a series of recording-MBIDs\n",
    "2. Mass query the series items in MB_recording table\n",
    "3. Get a boolean map for series_of_mbids to check if each MBID exists in the MB table.\n",
    "'''\n",
    "\n",
    "def check_in_recording(series_of_mbids):\n",
    "    \n",
    "    # Queries all mbids in the recording table. Returns mbids that are present in recording table.\n",
    "    mbids_in_recording = MB_recording.gid[MB_recording.gid.isin(series_of_mbids)]\n",
    "    \n",
    "    # Makes a boolean map for all mbids in series_of_unique_mbids\n",
    "    bool_map_recording = series_of_mbids.isin(mbids_in_recording)\n",
    "    \n",
    "    # Returns a series of boolean values corresponding to series_of_mbids \n",
    "    # (bool specified if value exists in recording table or not.)\n",
    "    return bool_map_recording\n",
    "    # return MB_recording.gid[MB_recording.gid.isin(series_of_mbids)]"
   ]
  },
  {
   "cell_type": "code",
   "execution_count": 11,
   "metadata": {},
   "outputs": [
    {
     "name": "stdout",
     "output_type": "stream",
     "text": [
      "CPU times: user 2.87 s, sys: 0 ns, total: 2.87 s\n",
      "Wall time: 2.86 s\n"
     ]
    },
    {
     "data": {
      "text/plain": [
       "0     True\n",
       "1    False\n",
       "2     True\n",
       "3     True\n",
       "4     True\n",
       "dtype: bool"
      ]
     },
     "execution_count": 11,
     "metadata": {},
     "output_type": "execute_result"
    }
   ],
   "source": [
    "%%time\n",
    "# Testing check_in_recording()\n",
    "\n",
    "input = pd.Series(df['recording-MBID'].unique())\n",
    "output = check_in_recording(input)\n",
    "\n",
    "output.head()"
   ]
  },
  {
   "cell_type": "code",
   "execution_count": 10,
   "metadata": {},
   "outputs": [],
   "source": [
    "# A generic function for queries a series into another series.\n",
    "    # Returns a series of boolean values corresponding to series_of_mbids \n",
    "    # (bool specifies if value exists in recording table or not.)\n",
    "\n",
    "def query_in(series_to_query, series_to_query_in):\n",
    "    # Queries all mbids in the recording table. Returns mbids that are present in recording table.\n",
    "    mbids_in_series = series_to_query_in[series_to_query_in.isin(series_to_query)]\n",
    "    \n",
    "    # Makes a boolean map for all mbids in series_of_unique_mbids\n",
    "    bool_map = series_to_query.isin(mbids_in_series)\n",
    "    \n",
    "    return bool_map\n",
    "    # return MB_recording.gid[MB_recording.gid.isin(series_of_mbids)]"
   ]
  },
  {
   "cell_type": "code",
   "execution_count": 12,
   "metadata": {},
   "outputs": [
    {
     "name": "stdout",
     "output_type": "stream",
     "text": [
      "CPU times: user 3.69 s, sys: 0 ns, total: 3.69 s\n",
      "Wall time: 3.69 s\n"
     ]
    },
    {
     "data": {
      "text/plain": [
       "0     True\n",
       "1     True\n",
       "2    False\n",
       "3    False\n",
       "4     True\n",
       "dtype: bool"
      ]
     },
     "execution_count": 12,
     "metadata": {},
     "output_type": "execute_result"
    }
   ],
   "source": [
    "%%time\n",
    "# Testing query_in() with recording MBID\n",
    "\n",
    "in_for_rec = pd.Series(df['recording-MBID'].unique())\n",
    "out_for_rec = query_in(in_for_rec, MB_recording.gid)\n",
    "\n",
    "out_for_rec.head()"
   ]
  },
  {
   "cell_type": "code",
   "execution_count": 13,
   "metadata": {},
   "outputs": [
    {
     "name": "stdout",
     "output_type": "stream",
     "text": [
      "CPU times: user 7.49 s, sys: 0 ns, total: 7.49 s\n",
      "Wall time: 7.5 s\n"
     ]
    },
    {
     "data": {
      "text/plain": [
       "False    253218\n",
       "dtype: int64"
      ]
     },
     "execution_count": 13,
     "metadata": {},
     "output_type": "execute_result"
    }
   ],
   "source": [
    "%%time\n",
    "\n",
    "in_for_tack = in_for_rec[-out_for_rec]\n",
    "out_for_track = query_in(in_for_rec, MB_track)\n",
    "\n",
    "out_for_track.value_counts()"
   ]
  },
  {
   "cell_type": "code",
   "execution_count": 14,
   "metadata": {},
   "outputs": [
    {
     "name": "stdout",
     "output_type": "stream",
     "text": [
      "CPU times: user 799 ms, sys: 0 ns, total: 799 ms\n",
      "Wall time: 794 ms\n"
     ]
    },
    {
     "data": {
      "text/plain": [
       "False    157985\n",
       "True      39496\n",
       "dtype: int64"
      ]
     },
     "execution_count": 14,
     "metadata": {},
     "output_type": "execute_result"
    }
   ],
   "source": [
    "%%time\n",
    "\n",
    "in_for_redir = in_for_rec[out_for_rec]\n",
    "# in_for_redir = in_for_rec\n",
    "\n",
    "out_for_redir = query_in(in_for_redir, MB_redirects.index)\n",
    "out_for_redir.value_counts()"
   ]
  }
 ],
 "metadata": {
  "interpreter": {
   "hash": "a2c0c9fb1c567002394a71a6ae02f73ce4bc53d4b82f846c3c881e337285b81f"
  },
  "kernelspec": {
   "display_name": "Python 3.8.10 ('env_mlhd': venv)",
   "language": "python",
   "name": "python3"
  },
  "language_info": {
   "codemirror_mode": {
    "name": "ipython",
    "version": 3
   },
   "file_extension": ".py",
   "mimetype": "text/x-python",
   "name": "python",
   "nbconvert_exporter": "python",
   "pygments_lexer": "ipython3",
   "version": "3.8.10"
  },
  "orig_nbformat": 4
 },
 "nbformat": 4,
 "nbformat_minor": 2
}
