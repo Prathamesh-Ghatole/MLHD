{
 "cells": [
  {
   "cell_type": "code",
   "execution_count": 49,
   "metadata": {},
   "outputs": [],
   "source": [
    "import psycopg2\n",
    "import pandas as pd\n",
    "import numpy as np"
   ]
  },
  {
   "cell_type": "code",
   "execution_count": 2,
   "metadata": {},
   "outputs": [
    {
     "name": "stdout",
     "output_type": "stream",
     "text": [
      "connection successful\n"
     ]
    }
   ],
   "source": [
    "# Create Connection to postgresql\n",
    "# psql -h localhost -p 25432 -U musicbrainz musicbrainz_db\n",
    "\n",
    "conn = psycopg2.connect(\n",
    "    host=\"localhost\",\n",
    "    database=\"musicbrainz_db\",\n",
    "    user=\"musicbrainz\",\n",
    "    port=5432)\n",
    "\n",
    "cursor = conn.cursor()\n",
    "\n",
    "cursor.execute(\"select * from recording limit 1;\")\n",
    "cursor.fetchone()[0]\n",
    "print(\"connection successful\")"
   ]
  },
  {
   "cell_type": "code",
   "execution_count": 3,
   "metadata": {},
   "outputs": [],
   "source": [
    "# Reads a list of file paths and reads + compiles data into a single pd.DataFrame\n",
    "def read_files(file_path_repo):\n",
    "    \n",
    "    # init new empty main dataframe\n",
    "    df = pd.DataFrame(columns = ['timestamp', 'artist-MBID', 'release-MBID', 'recording-MBID'])\n",
    "    \n",
    "    # Open a file with MLHD file paths to process\n",
    "    with open(file_path_repo, 'r') as f:\n",
    "        file_paths = f.readlines()\n",
    "        file_paths= [item.strip() for item in file_paths]\n",
    "    \n",
    "    # Read files and compile into single df\n",
    "    for pth in file_paths:\n",
    "        temp = pd.read_csv(pth, sep='\\t', names=['timestamp', 'artist-MBID', 'release-MBID', 'recording-MBID'])\n",
    "        temp = temp[-temp['recording-MBID'].isna()]\n",
    "\n",
    "        df = pd.concat([df, temp])\n",
    "    \n",
    "    return df"
   ]
  },
  {
   "cell_type": "code",
   "execution_count": 4,
   "metadata": {},
   "outputs": [
    {
     "name": "stdout",
     "output_type": "stream",
     "text": [
      "CPU times: user 638 ms, sys: 75.7 ms, total: 713 ms\n",
      "Wall time: 712 ms\n"
     ]
    },
    {
     "data": {
      "text/html": [
       "<div>\n",
       "<style scoped>\n",
       "    .dataframe tbody tr th:only-of-type {\n",
       "        vertical-align: middle;\n",
       "    }\n",
       "\n",
       "    .dataframe tbody tr th {\n",
       "        vertical-align: top;\n",
       "    }\n",
       "\n",
       "    .dataframe thead th {\n",
       "        text-align: right;\n",
       "    }\n",
       "</style>\n",
       "<table border=\"1\" class=\"dataframe\">\n",
       "  <thead>\n",
       "    <tr style=\"text-align: right;\">\n",
       "      <th></th>\n",
       "      <th>timestamp</th>\n",
       "      <th>artist-MBID</th>\n",
       "      <th>release-MBID</th>\n",
       "      <th>recording-MBID</th>\n",
       "    </tr>\n",
       "  </thead>\n",
       "  <tbody>\n",
       "    <tr>\n",
       "      <th>0</th>\n",
       "      <td>1166994688</td>\n",
       "      <td>a49b5d41-7399-49ef-bcb8-a5779a30d2e9</td>\n",
       "      <td>af158d94-eb6f-4f1f-a8a2-f685b60b132e</td>\n",
       "      <td>317bdd0e-8956-4547-b8f0-fd233d10d378</td>\n",
       "    </tr>\n",
       "    <tr>\n",
       "      <th>1</th>\n",
       "      <td>1166995444</td>\n",
       "      <td>bbc5b66b-d037-4f26-aecf-0b129e7f876a</td>\n",
       "      <td>075cef57-9350-41a9-9a53-4391f013e164</td>\n",
       "      <td>279f9f44-abfc-406e-a686-92961577bee9</td>\n",
       "    </tr>\n",
       "    <tr>\n",
       "      <th>2</th>\n",
       "      <td>1167000369</td>\n",
       "      <td>a49b5d41-7399-49ef-bcb8-a5779a30d2e9</td>\n",
       "      <td>58c90879-d279-41c3-9ecc-b686ae75bc78</td>\n",
       "      <td>73eadf15-ebc0-40cd-a71c-30dce9d82d6b</td>\n",
       "    </tr>\n",
       "    <tr>\n",
       "      <th>3</th>\n",
       "      <td>1167000642</td>\n",
       "      <td>34e10b51-b5c6-4bc1-b70e-f05f141eda1e</td>\n",
       "      <td>2988a7b9-0bb1-4eaf-98ee-34eddf2e5740</td>\n",
       "      <td>08c272e6-02fe-4fb0-930c-2f342dd7d092</td>\n",
       "    </tr>\n",
       "    <tr>\n",
       "      <th>4</th>\n",
       "      <td>1167001189</td>\n",
       "      <td>b665b768-0d83-4363-950c-31ed39317c15</td>\n",
       "      <td>0d14ea49-7f2d-4c38-9986-cee6846a5bb5</td>\n",
       "      <td>254a6a58-d097-4307-ba1e-1fc15c8ac70e</td>\n",
       "    </tr>\n",
       "  </tbody>\n",
       "</table>\n",
       "</div>"
      ],
      "text/plain": [
       "    timestamp                           artist-MBID  \\\n",
       "0  1166994688  a49b5d41-7399-49ef-bcb8-a5779a30d2e9   \n",
       "1  1166995444  bbc5b66b-d037-4f26-aecf-0b129e7f876a   \n",
       "2  1167000369  a49b5d41-7399-49ef-bcb8-a5779a30d2e9   \n",
       "3  1167000642  34e10b51-b5c6-4bc1-b70e-f05f141eda1e   \n",
       "4  1167001189  b665b768-0d83-4363-950c-31ed39317c15   \n",
       "\n",
       "                           release-MBID                        recording-MBID  \n",
       "0  af158d94-eb6f-4f1f-a8a2-f685b60b132e  317bdd0e-8956-4547-b8f0-fd233d10d378  \n",
       "1  075cef57-9350-41a9-9a53-4391f013e164  279f9f44-abfc-406e-a686-92961577bee9  \n",
       "2  58c90879-d279-41c3-9ecc-b686ae75bc78  73eadf15-ebc0-40cd-a71c-30dce9d82d6b  \n",
       "3  2988a7b9-0bb1-4eaf-98ee-34eddf2e5740  08c272e6-02fe-4fb0-930c-2f342dd7d092  \n",
       "4  0d14ea49-7f2d-4c38-9986-cee6846a5bb5  254a6a58-d097-4307-ba1e-1fc15c8ac70e  "
      ]
     },
     "execution_count": 4,
     "metadata": {},
     "output_type": "execute_result"
    }
   ],
   "source": [
    "%%time\n",
    "df = read_files('random_file_paths.txt')\n",
    "df.head()"
   ]
  },
  {
   "cell_type": "code",
   "execution_count": 112,
   "metadata": {},
   "outputs": [
    {
     "name": "stderr",
     "output_type": "stream",
     "text": [
      "/home/snaek/MLHD/env_mlhd/lib/python3.8/site-packages/pandas/io/sql.py:761: UserWarning: pandas only support SQLAlchemy connectable(engine/connection) ordatabase string URI or sqlite3 DBAPI2 connectionother DBAPI2 objects are not tested, please consider using SQLAlchemy\n",
      "  warnings.warn(\n"
     ]
    },
    {
     "name": "stdout",
     "output_type": "stream",
     "text": [
      "CPU times: user 6.86 s, sys: 2.32 s, total: 9.18 s\n",
      "Wall time: 17.4 s\n"
     ]
    },
    {
     "data": {
      "text/html": [
       "<div>\n",
       "<style scoped>\n",
       "    .dataframe tbody tr th:only-of-type {\n",
       "        vertical-align: middle;\n",
       "    }\n",
       "\n",
       "    .dataframe tbody tr th {\n",
       "        vertical-align: top;\n",
       "    }\n",
       "\n",
       "    .dataframe thead th {\n",
       "        text-align: right;\n",
       "    }\n",
       "</style>\n",
       "<table border=\"1\" class=\"dataframe\">\n",
       "  <thead>\n",
       "    <tr style=\"text-align: right;\">\n",
       "      <th></th>\n",
       "      <th>gid</th>\n",
       "    </tr>\n",
       "  </thead>\n",
       "  <tbody>\n",
       "    <tr>\n",
       "      <th>0</th>\n",
       "      <td>0f42ab32-22cd-4dcf-927b-a8d9a183d68b</td>\n",
       "    </tr>\n",
       "    <tr>\n",
       "      <th>1</th>\n",
       "      <td>4dce8f93-45ee-4573-8558-8cd321256233</td>\n",
       "    </tr>\n",
       "    <tr>\n",
       "      <th>2</th>\n",
       "      <td>48fabe3f-0fbd-4145-a917-83d164d6386f</td>\n",
       "    </tr>\n",
       "    <tr>\n",
       "      <th>3</th>\n",
       "      <td>b30b9943-9100-4d84-9ad2-69859ea88fbb</td>\n",
       "    </tr>\n",
       "    <tr>\n",
       "      <th>4</th>\n",
       "      <td>b55f1db3-c6d2-4645-b908-03e1017a99c2</td>\n",
       "    </tr>\n",
       "  </tbody>\n",
       "</table>\n",
       "</div>"
      ],
      "text/plain": [
       "                                    gid\n",
       "0  0f42ab32-22cd-4dcf-927b-a8d9a183d68b\n",
       "1  4dce8f93-45ee-4573-8558-8cd321256233\n",
       "2  48fabe3f-0fbd-4145-a917-83d164d6386f\n",
       "3  b30b9943-9100-4d84-9ad2-69859ea88fbb\n",
       "4  b55f1db3-c6d2-4645-b908-03e1017a99c2"
      ]
     },
     "execution_count": 112,
     "metadata": {},
     "output_type": "execute_result"
    }
   ],
   "source": [
    "%%time\n",
    "# Loading Relevant SQL tables\n",
    "\n",
    "MB_recording = pd.read_sql('SELECT gid FROM recording', con = conn, columns = ['rec-gid'])\n",
    "# MB_recording.set_index('gid', inplace = True)\n",
    "MB_recording.head()"
   ]
  },
  {
   "cell_type": "code",
   "execution_count": 6,
   "metadata": {},
   "outputs": [
    {
     "name": "stderr",
     "output_type": "stream",
     "text": [
      "/home/snaek/MLHD/env_mlhd/lib/python3.8/site-packages/pandas/io/sql.py:761: UserWarning: pandas only support SQLAlchemy connectable(engine/connection) ordatabase string URI or sqlite3 DBAPI2 connectionother DBAPI2 objects are not tested, please consider using SQLAlchemy\n",
      "  warnings.warn(\n"
     ]
    },
    {
     "name": "stdout",
     "output_type": "stream",
     "text": [
      "CPU times: user 1.3 s, sys: 116 ms, total: 1.42 s\n",
      "Wall time: 7.9 s\n"
     ]
    },
    {
     "data": {
      "text/html": [
       "<div>\n",
       "<style scoped>\n",
       "    .dataframe tbody tr th:only-of-type {\n",
       "        vertical-align: middle;\n",
       "    }\n",
       "\n",
       "    .dataframe tbody tr th {\n",
       "        vertical-align: top;\n",
       "    }\n",
       "\n",
       "    .dataframe thead th {\n",
       "        text-align: right;\n",
       "    }\n",
       "</style>\n",
       "<table border=\"1\" class=\"dataframe\">\n",
       "  <thead>\n",
       "    <tr style=\"text-align: right;\">\n",
       "      <th></th>\n",
       "      <th>new-rec-gid</th>\n",
       "    </tr>\n",
       "    <tr>\n",
       "      <th>old-rec-gid</th>\n",
       "      <th></th>\n",
       "    </tr>\n",
       "  </thead>\n",
       "  <tbody>\n",
       "    <tr>\n",
       "      <th>dfbefafa-a7dc-4024-8a28-be15537591e9</th>\n",
       "      <td>c4793e5b-5825-4221-893d-8b3776289127</td>\n",
       "    </tr>\n",
       "    <tr>\n",
       "      <th>69102b65-98cd-46aa-a757-b24890c0e030</th>\n",
       "      <td>74324461-d321-4197-82f8-fdb41471ea8b</td>\n",
       "    </tr>\n",
       "    <tr>\n",
       "      <th>c876dbfd-159a-4d83-bfbb-fd5438c9db65</th>\n",
       "      <td>d6f71677-ad41-46a1-87bc-5f00c702eb8a</td>\n",
       "    </tr>\n",
       "    <tr>\n",
       "      <th>2457840d-75d6-4b2b-87de-ea6a0d02e9cf</th>\n",
       "      <td>b1b7370c-f7d8-4614-b41e-89d011e0108c</td>\n",
       "    </tr>\n",
       "    <tr>\n",
       "      <th>49a097f4-3fa5-48b5-ac49-dc3902af0ffe</th>\n",
       "      <td>3532d38e-7853-430f-b9b5-8501378729ce</td>\n",
       "    </tr>\n",
       "  </tbody>\n",
       "</table>\n",
       "</div>"
      ],
      "text/plain": [
       "                                                               new-rec-gid\n",
       "old-rec-gid                                                               \n",
       "dfbefafa-a7dc-4024-8a28-be15537591e9  c4793e5b-5825-4221-893d-8b3776289127\n",
       "69102b65-98cd-46aa-a757-b24890c0e030  74324461-d321-4197-82f8-fdb41471ea8b\n",
       "c876dbfd-159a-4d83-bfbb-fd5438c9db65  d6f71677-ad41-46a1-87bc-5f00c702eb8a\n",
       "2457840d-75d6-4b2b-87de-ea6a0d02e9cf  b1b7370c-f7d8-4614-b41e-89d011e0108c\n",
       "49a097f4-3fa5-48b5-ac49-dc3902af0ffe  3532d38e-7853-430f-b9b5-8501378729ce"
      ]
     },
     "execution_count": 6,
     "metadata": {},
     "output_type": "execute_result"
    }
   ],
   "source": [
    "%%time\n",
    "# Loading Relevant SQL tables\n",
    "\n",
    "MB_redirects = pd.read_sql('select r.gid, rgr.gid from recording r join recording_gid_redirect rgr on rgr.new_id = r.id', con = conn)\n",
    "MB_redirects.columns = ['old-rec-gid', 'new-rec-gid']\n",
    "MB_redirects.set_index('old-rec-gid', inplace=True)\n",
    "MB_redirects.head()"
   ]
  },
  {
   "cell_type": "code",
   "execution_count": 7,
   "metadata": {},
   "outputs": [
    {
     "name": "stderr",
     "output_type": "stream",
     "text": [
      "/home/snaek/MLHD/env_mlhd/lib/python3.8/site-packages/pandas/io/sql.py:761: UserWarning: pandas only support SQLAlchemy connectable(engine/connection) ordatabase string URI or sqlite3 DBAPI2 connectionother DBAPI2 objects are not tested, please consider using SQLAlchemy\n",
      "  warnings.warn(\n"
     ]
    },
    {
     "name": "stdout",
     "output_type": "stream",
     "text": [
      "CPU times: user 9.62 s, sys: 2.89 s, total: 12.5 s\n",
      "Wall time: 25.1 s\n"
     ]
    },
    {
     "data": {
      "text/html": [
       "<div>\n",
       "<style scoped>\n",
       "    .dataframe tbody tr th:only-of-type {\n",
       "        vertical-align: middle;\n",
       "    }\n",
       "\n",
       "    .dataframe tbody tr th {\n",
       "        vertical-align: top;\n",
       "    }\n",
       "\n",
       "    .dataframe thead th {\n",
       "        text-align: right;\n",
       "    }\n",
       "</style>\n",
       "<table border=\"1\" class=\"dataframe\">\n",
       "  <thead>\n",
       "    <tr style=\"text-align: right;\">\n",
       "      <th></th>\n",
       "    </tr>\n",
       "    <tr>\n",
       "      <th>track-gid</th>\n",
       "    </tr>\n",
       "  </thead>\n",
       "  <tbody>\n",
       "    <tr>\n",
       "      <th>9b02977e-a03b-4a6b-a9a9-06e722bdcd7a</th>\n",
       "    </tr>\n",
       "    <tr>\n",
       "      <th>43da7544-6283-3159-84f9-537fe823a1a7</th>\n",
       "    </tr>\n",
       "    <tr>\n",
       "      <th>0b6b6283-a5a8-4560-9fa8-f68a430d86ea</th>\n",
       "    </tr>\n",
       "    <tr>\n",
       "      <th>fa124f9a-d8ea-36a3-bed3-c817fdbe13e2</th>\n",
       "    </tr>\n",
       "    <tr>\n",
       "      <th>e56c6d3c-09cf-33a0-81c5-ceade77c35dc</th>\n",
       "    </tr>\n",
       "  </tbody>\n",
       "</table>\n",
       "</div>"
      ],
      "text/plain": [
       "Empty DataFrame\n",
       "Columns: []\n",
       "Index: [9b02977e-a03b-4a6b-a9a9-06e722bdcd7a, 43da7544-6283-3159-84f9-537fe823a1a7, 0b6b6283-a5a8-4560-9fa8-f68a430d86ea, fa124f9a-d8ea-36a3-bed3-c817fdbe13e2, e56c6d3c-09cf-33a0-81c5-ceade77c35dc]"
      ]
     },
     "execution_count": 7,
     "metadata": {},
     "output_type": "execute_result"
    }
   ],
   "source": [
    "%%time\n",
    "# Loading Relevant SQL tables\n",
    "\n",
    "MB_track = pd.read_sql('SELECT gid FROM track', con = conn)\n",
    "MB_track.columns = ['track-gid']\n",
    "MB_track.set_index('track-gid', inplace=True)\n",
    "MB_track.head()"
   ]
  },
  {
   "cell_type": "code",
   "execution_count": 22,
   "metadata": {},
   "outputs": [
    {
     "name": "stderr",
     "output_type": "stream",
     "text": [
      "/home/snaek/MLHD/env_mlhd/lib/python3.8/site-packages/pandas/io/sql.py:761: UserWarning: pandas only support SQLAlchemy connectable(engine/connection) ordatabase string URI or sqlite3 DBAPI2 connectionother DBAPI2 objects are not tested, please consider using SQLAlchemy\n",
      "  warnings.warn(\n"
     ]
    },
    {
     "name": "stdout",
     "output_type": "stream",
     "text": [
      "CPU times: user 2.38 s, sys: 708 ms, total: 3.09 s\n",
      "Wall time: 6.26 s\n"
     ]
    },
    {
     "data": {
      "text/html": [
       "<div>\n",
       "<style scoped>\n",
       "    .dataframe tbody tr th:only-of-type {\n",
       "        vertical-align: middle;\n",
       "    }\n",
       "\n",
       "    .dataframe tbody tr th {\n",
       "        vertical-align: top;\n",
       "    }\n",
       "\n",
       "    .dataframe thead th {\n",
       "        text-align: right;\n",
       "    }\n",
       "</style>\n",
       "<table border=\"1\" class=\"dataframe\">\n",
       "  <thead>\n",
       "    <tr style=\"text-align: right;\">\n",
       "      <th></th>\n",
       "      <th>canonical-recording-gid</th>\n",
       "    </tr>\n",
       "    <tr>\n",
       "      <th>recording-gid</th>\n",
       "      <th></th>\n",
       "    </tr>\n",
       "  </thead>\n",
       "  <tbody>\n",
       "    <tr>\n",
       "      <th>6ac02452-ee12-4f86-b389-bd20ba2fefcf</th>\n",
       "      <td>3e8eebfd-7613-4b3d-acbe-41709be76618</td>\n",
       "    </tr>\n",
       "    <tr>\n",
       "      <th>b4c26989-1b9e-4d50-8cde-56d6472e4bc3</th>\n",
       "      <td>3e8eebfd-7613-4b3d-acbe-41709be76618</td>\n",
       "    </tr>\n",
       "    <tr>\n",
       "      <th>601e1cf3-ad6c-4e38-9128-ba4d0d4b010f</th>\n",
       "      <td>b1050d12-b8af-409c-9cff-22759d93e240</td>\n",
       "    </tr>\n",
       "    <tr>\n",
       "      <th>35c4d840-e51f-4c07-9418-af9335b29642</th>\n",
       "      <td>f4680747-bf28-417a-ab33-af00577d8ac2</td>\n",
       "    </tr>\n",
       "    <tr>\n",
       "      <th>9ba7a9b9-a21c-4b12-8771-4c108b08b3e2</th>\n",
       "      <td>13b3875a-c89a-4be5-a6e4-0ca9164bc41d</td>\n",
       "    </tr>\n",
       "  </tbody>\n",
       "</table>\n",
       "</div>"
      ],
      "text/plain": [
       "                                                   canonical-recording-gid\n",
       "recording-gid                                                             \n",
       "6ac02452-ee12-4f86-b389-bd20ba2fefcf  3e8eebfd-7613-4b3d-acbe-41709be76618\n",
       "b4c26989-1b9e-4d50-8cde-56d6472e4bc3  3e8eebfd-7613-4b3d-acbe-41709be76618\n",
       "601e1cf3-ad6c-4e38-9128-ba4d0d4b010f  b1050d12-b8af-409c-9cff-22759d93e240\n",
       "35c4d840-e51f-4c07-9418-af9335b29642  f4680747-bf28-417a-ab33-af00577d8ac2\n",
       "9ba7a9b9-a21c-4b12-8771-4c108b08b3e2  13b3875a-c89a-4be5-a6e4-0ca9164bc41d"
      ]
     },
     "execution_count": 22,
     "metadata": {},
     "output_type": "execute_result"
    }
   ],
   "source": [
    "\n",
    "%%time\n",
    "# Loading Relevant SQL tables\n",
    "\n",
    "MB_canonical = pd.read_sql('SELECT recording_mbid, canonical_recording_mbid FROM mapping.canonical_recording_redirect', con = conn)\n",
    "MB_canonical.columns = ['recording-gid', 'canonical-recording-gid']\n",
    "MB_canonical.set_index('recording-gid', inplace=True)\n",
    "MB_canonical.head()"
   ]
  },
  {
   "cell_type": "code",
   "execution_count": 150,
   "metadata": {},
   "outputs": [
    {
     "data": {
      "text/plain": [
       "64019"
      ]
     },
     "execution_count": 150,
     "metadata": {},
     "output_type": "execute_result"
    }
   ],
   "source": [
    "'''\n",
    "# Problem Statement:\n",
    "1. Take in a series of recording-MBIDs\n",
    "2. Mass query the series items in MB_recording table\n",
    "3. Get a boolean map for series_of_mbids to check if each MBID exists in the MB table.\n",
    "'''\n",
    "def check_recording_existance(series_of_mbids):\n",
    "    \n",
    "    return MB_recording.gid[MB_recording.gid.isin(series_of_mbids)]\n",
    "\n",
    "\n",
    "test_chunk = df['recording-MBID']\n",
    "test_chunk.isin((check_recording_existance(test_chunk)))\n",
    "\n",
    "\n",
    "'''\n",
    "1. Takes in all MBIDs\n",
    "2. Checks if all MBIDs are in MB_recording\n",
    "3. Checks if '''"
   ]
  }
 ],
 "metadata": {
  "interpreter": {
   "hash": "a2c0c9fb1c567002394a71a6ae02f73ce4bc53d4b82f846c3c881e337285b81f"
  },
  "kernelspec": {
   "display_name": "Python 3.8.10 ('env_mlhd': venv)",
   "language": "python",
   "name": "python3"
  },
  "language_info": {
   "codemirror_mode": {
    "name": "ipython",
    "version": 3
   },
   "file_extension": ".py",
   "mimetype": "text/x-python",
   "name": "python",
   "nbconvert_exporter": "python",
   "pygments_lexer": "ipython3",
   "version": "3.8.10"
  },
  "orig_nbformat": 4
 },
 "nbformat": 4,
 "nbformat_minor": 2
}
