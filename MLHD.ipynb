{
 "cells": [
  {
   "cell_type": "code",
   "execution_count": 3,
   "metadata": {},
   "outputs": [],
   "source": [
    "import psycopg2\n",
    "import pandas as pd\n",
    "import numpy as np"
   ]
  },
  {
   "cell_type": "code",
   "execution_count": 4,
   "metadata": {},
   "outputs": [
    {
     "name": "stdout",
     "output_type": "stream",
     "text": [
      "connection successful\n"
     ]
    }
   ],
   "source": [
    "# Create Connection to postgresql\n",
    "# psql -h localhost -p 25432 -U musicbrainz musicbrainz_db\n",
    "\n",
    "conn = psycopg2.connect(\n",
    "    host=\"localhost\",\n",
    "    database=\"musicbrainz_db\",\n",
    "    user=\"musicbrainz\",\n",
    "    port=5432)\n",
    "\n",
    "cursor = conn.cursor()\n",
    "\n",
    "cursor.execute(\"select * from recording limit 1;\")\n",
    "cursor.fetchone()[0]\n",
    "print(\"connection successful\")"
   ]
  },
  {
   "cell_type": "code",
   "execution_count": 5,
   "metadata": {},
   "outputs": [
    {
     "name": "stderr",
     "output_type": "stream",
     "text": [
      "/home/snaek/MLHD/env_mlhd/lib/python3.8/site-packages/pandas/io/sql.py:761: UserWarning: pandas only support SQLAlchemy connectable(engine/connection) ordatabase string URI or sqlite3 DBAPI2 connectionother DBAPI2 objects are not tested, please consider using SQLAlchemy\n",
      "  warnings.warn(\n"
     ]
    },
    {
     "name": "stdout",
     "output_type": "stream",
     "text": [
      "CPU times: user 7.06 s, sys: 2.43 s, total: 9.49 s\n",
      "Wall time: 18.8 s\n"
     ]
    },
    {
     "data": {
      "text/html": [
       "<div>\n",
       "<style scoped>\n",
       "    .dataframe tbody tr th:only-of-type {\n",
       "        vertical-align: middle;\n",
       "    }\n",
       "\n",
       "    .dataframe tbody tr th {\n",
       "        vertical-align: top;\n",
       "    }\n",
       "\n",
       "    .dataframe thead th {\n",
       "        text-align: right;\n",
       "    }\n",
       "</style>\n",
       "<table border=\"1\" class=\"dataframe\">\n",
       "  <thead>\n",
       "    <tr style=\"text-align: right;\">\n",
       "      <th></th>\n",
       "      <th>gid</th>\n",
       "    </tr>\n",
       "  </thead>\n",
       "  <tbody>\n",
       "    <tr>\n",
       "      <th>0</th>\n",
       "      <td>0f42ab32-22cd-4dcf-927b-a8d9a183d68b</td>\n",
       "    </tr>\n",
       "    <tr>\n",
       "      <th>1</th>\n",
       "      <td>4dce8f93-45ee-4573-8558-8cd321256233</td>\n",
       "    </tr>\n",
       "    <tr>\n",
       "      <th>2</th>\n",
       "      <td>48fabe3f-0fbd-4145-a917-83d164d6386f</td>\n",
       "    </tr>\n",
       "    <tr>\n",
       "      <th>3</th>\n",
       "      <td>b30b9943-9100-4d84-9ad2-69859ea88fbb</td>\n",
       "    </tr>\n",
       "    <tr>\n",
       "      <th>4</th>\n",
       "      <td>b55f1db3-c6d2-4645-b908-03e1017a99c2</td>\n",
       "    </tr>\n",
       "  </tbody>\n",
       "</table>\n",
       "</div>"
      ],
      "text/plain": [
       "                                    gid\n",
       "0  0f42ab32-22cd-4dcf-927b-a8d9a183d68b\n",
       "1  4dce8f93-45ee-4573-8558-8cd321256233\n",
       "2  48fabe3f-0fbd-4145-a917-83d164d6386f\n",
       "3  b30b9943-9100-4d84-9ad2-69859ea88fbb\n",
       "4  b55f1db3-c6d2-4645-b908-03e1017a99c2"
      ]
     },
     "execution_count": 5,
     "metadata": {},
     "output_type": "execute_result"
    }
   ],
   "source": [
    "%%time\n",
    "# Loading recording table SQL tables\n",
    "\n",
    "MB_recording = pd.read_sql('SELECT gid FROM recording', con = conn, columns = ['rec-gid'])\n",
    "# MB_recording.set_index('gid', inplace = True)\n",
    "MB_recording.head()"
   ]
  },
  {
   "cell_type": "code",
   "execution_count": 6,
   "metadata": {},
   "outputs": [
    {
     "name": "stderr",
     "output_type": "stream",
     "text": [
      "/home/snaek/MLHD/env_mlhd/lib/python3.8/site-packages/pandas/io/sql.py:761: UserWarning: pandas only support SQLAlchemy connectable(engine/connection) ordatabase string URI or sqlite3 DBAPI2 connectionother DBAPI2 objects are not tested, please consider using SQLAlchemy\n",
      "  warnings.warn(\n"
     ]
    },
    {
     "name": "stdout",
     "output_type": "stream",
     "text": [
      "CPU times: user 1.32 s, sys: 150 ms, total: 1.47 s\n",
      "Wall time: 6.93 s\n"
     ]
    },
    {
     "data": {
      "text/html": [
       "<div>\n",
       "<style scoped>\n",
       "    .dataframe tbody tr th:only-of-type {\n",
       "        vertical-align: middle;\n",
       "    }\n",
       "\n",
       "    .dataframe tbody tr th {\n",
       "        vertical-align: top;\n",
       "    }\n",
       "\n",
       "    .dataframe thead th {\n",
       "        text-align: right;\n",
       "    }\n",
       "</style>\n",
       "<table border=\"1\" class=\"dataframe\">\n",
       "  <thead>\n",
       "    <tr style=\"text-align: right;\">\n",
       "      <th></th>\n",
       "      <th>new-rec-gid</th>\n",
       "    </tr>\n",
       "    <tr>\n",
       "      <th>old-rec-gid</th>\n",
       "      <th></th>\n",
       "    </tr>\n",
       "  </thead>\n",
       "  <tbody>\n",
       "    <tr>\n",
       "      <th>ddda2877-0fbd-495e-a19b-6e9f4e97d711</th>\n",
       "      <td>8edeb408-437d-4e97-93f8-2fb982927fb0</td>\n",
       "    </tr>\n",
       "    <tr>\n",
       "      <th>690e5d24-c3ad-4c1f-b8bf-a6e4723d570f</th>\n",
       "      <td>7cc3640b-4939-4b42-9bac-637f90715cf2</td>\n",
       "    </tr>\n",
       "    <tr>\n",
       "      <th>9988c354-37ad-4325-bbeb-2a84c3e9f7de</th>\n",
       "      <td>f941f456-33ba-4f58-8584-07475981fc0b</td>\n",
       "    </tr>\n",
       "    <tr>\n",
       "      <th>6db9ab2f-1bb7-42bb-a1cf-62935e906c2a</th>\n",
       "      <td>f2b7197a-d85b-4d26-ae51-2f0826ac69c7</td>\n",
       "    </tr>\n",
       "    <tr>\n",
       "      <th>3fe033bd-f856-448d-a0dc-cdbf84bcc04d</th>\n",
       "      <td>bf1c5a09-32b9-4e2c-be0f-0cc4b22515ad</td>\n",
       "    </tr>\n",
       "  </tbody>\n",
       "</table>\n",
       "</div>"
      ],
      "text/plain": [
       "                                                               new-rec-gid\n",
       "old-rec-gid                                                               \n",
       "ddda2877-0fbd-495e-a19b-6e9f4e97d711  8edeb408-437d-4e97-93f8-2fb982927fb0\n",
       "690e5d24-c3ad-4c1f-b8bf-a6e4723d570f  7cc3640b-4939-4b42-9bac-637f90715cf2\n",
       "9988c354-37ad-4325-bbeb-2a84c3e9f7de  f941f456-33ba-4f58-8584-07475981fc0b\n",
       "6db9ab2f-1bb7-42bb-a1cf-62935e906c2a  f2b7197a-d85b-4d26-ae51-2f0826ac69c7\n",
       "3fe033bd-f856-448d-a0dc-cdbf84bcc04d  bf1c5a09-32b9-4e2c-be0f-0cc4b22515ad"
      ]
     },
     "execution_count": 6,
     "metadata": {},
     "output_type": "execute_result"
    }
   ],
   "source": [
    "%%time\n",
    "# Loading redirect table SQL table\n",
    "\n",
    "MB_redirects = pd.read_sql('select r.gid, rgr.gid from recording r join recording_gid_redirect rgr on rgr.new_id = r.id', con = conn)\n",
    "MB_redirects.columns = ['old-rec-gid', 'new-rec-gid']\n",
    "MB_redirects.set_index('old-rec-gid', inplace=True)\n",
    "MB_redirects.head()"
   ]
  },
  {
   "cell_type": "code",
   "execution_count": 7,
   "metadata": {},
   "outputs": [
    {
     "name": "stderr",
     "output_type": "stream",
     "text": [
      "/home/snaek/MLHD/env_mlhd/lib/python3.8/site-packages/pandas/io/sql.py:761: UserWarning: pandas only support SQLAlchemy connectable(engine/connection) ordatabase string URI or sqlite3 DBAPI2 connectionother DBAPI2 objects are not tested, please consider using SQLAlchemy\n",
      "  warnings.warn(\n"
     ]
    },
    {
     "name": "stdout",
     "output_type": "stream",
     "text": [
      "CPU times: user 9.59 s, sys: 3.23 s, total: 12.8 s\n",
      "Wall time: 25.6 s\n"
     ]
    },
    {
     "data": {
      "text/html": [
       "<div>\n",
       "<style scoped>\n",
       "    .dataframe tbody tr th:only-of-type {\n",
       "        vertical-align: middle;\n",
       "    }\n",
       "\n",
       "    .dataframe tbody tr th {\n",
       "        vertical-align: top;\n",
       "    }\n",
       "\n",
       "    .dataframe thead th {\n",
       "        text-align: right;\n",
       "    }\n",
       "</style>\n",
       "<table border=\"1\" class=\"dataframe\">\n",
       "  <thead>\n",
       "    <tr style=\"text-align: right;\">\n",
       "      <th></th>\n",
       "    </tr>\n",
       "    <tr>\n",
       "      <th>track-gid</th>\n",
       "    </tr>\n",
       "  </thead>\n",
       "  <tbody>\n",
       "    <tr>\n",
       "      <th>9b02977e-a03b-4a6b-a9a9-06e722bdcd7a</th>\n",
       "    </tr>\n",
       "    <tr>\n",
       "      <th>43da7544-6283-3159-84f9-537fe823a1a7</th>\n",
       "    </tr>\n",
       "    <tr>\n",
       "      <th>0b6b6283-a5a8-4560-9fa8-f68a430d86ea</th>\n",
       "    </tr>\n",
       "    <tr>\n",
       "      <th>fa124f9a-d8ea-36a3-bed3-c817fdbe13e2</th>\n",
       "    </tr>\n",
       "    <tr>\n",
       "      <th>e56c6d3c-09cf-33a0-81c5-ceade77c35dc</th>\n",
       "    </tr>\n",
       "  </tbody>\n",
       "</table>\n",
       "</div>"
      ],
      "text/plain": [
       "Empty DataFrame\n",
       "Columns: []\n",
       "Index: [9b02977e-a03b-4a6b-a9a9-06e722bdcd7a, 43da7544-6283-3159-84f9-537fe823a1a7, 0b6b6283-a5a8-4560-9fa8-f68a430d86ea, fa124f9a-d8ea-36a3-bed3-c817fdbe13e2, e56c6d3c-09cf-33a0-81c5-ceade77c35dc]"
      ]
     },
     "execution_count": 7,
     "metadata": {},
     "output_type": "execute_result"
    }
   ],
   "source": [
    "%%time\n",
    "# Loading track table\n",
    "\n",
    "MB_track = pd.read_sql('SELECT gid FROM track', con = conn)\n",
    "MB_track.columns = ['track-gid']\n",
    "MB_track.set_index('track-gid', inplace=True)\n",
    "MB_track.head()"
   ]
  },
  {
   "cell_type": "code",
   "execution_count": 8,
   "metadata": {},
   "outputs": [
    {
     "name": "stderr",
     "output_type": "stream",
     "text": [
      "/home/snaek/MLHD/env_mlhd/lib/python3.8/site-packages/pandas/io/sql.py:761: UserWarning: pandas only support SQLAlchemy connectable(engine/connection) ordatabase string URI or sqlite3 DBAPI2 connectionother DBAPI2 objects are not tested, please consider using SQLAlchemy\n",
      "  warnings.warn(\n"
     ]
    },
    {
     "name": "stdout",
     "output_type": "stream",
     "text": [
      "CPU times: user 2.29 s, sys: 746 ms, total: 3.03 s\n",
      "Wall time: 6 s\n"
     ]
    },
    {
     "data": {
      "text/html": [
       "<div>\n",
       "<style scoped>\n",
       "    .dataframe tbody tr th:only-of-type {\n",
       "        vertical-align: middle;\n",
       "    }\n",
       "\n",
       "    .dataframe tbody tr th {\n",
       "        vertical-align: top;\n",
       "    }\n",
       "\n",
       "    .dataframe thead th {\n",
       "        text-align: right;\n",
       "    }\n",
       "</style>\n",
       "<table border=\"1\" class=\"dataframe\">\n",
       "  <thead>\n",
       "    <tr style=\"text-align: right;\">\n",
       "      <th></th>\n",
       "      <th>canonical-recording-gid</th>\n",
       "    </tr>\n",
       "    <tr>\n",
       "      <th>recording-gid</th>\n",
       "      <th></th>\n",
       "    </tr>\n",
       "  </thead>\n",
       "  <tbody>\n",
       "    <tr>\n",
       "      <th>6ac02452-ee12-4f86-b389-bd20ba2fefcf</th>\n",
       "      <td>3e8eebfd-7613-4b3d-acbe-41709be76618</td>\n",
       "    </tr>\n",
       "    <tr>\n",
       "      <th>b4c26989-1b9e-4d50-8cde-56d6472e4bc3</th>\n",
       "      <td>3e8eebfd-7613-4b3d-acbe-41709be76618</td>\n",
       "    </tr>\n",
       "    <tr>\n",
       "      <th>601e1cf3-ad6c-4e38-9128-ba4d0d4b010f</th>\n",
       "      <td>b1050d12-b8af-409c-9cff-22759d93e240</td>\n",
       "    </tr>\n",
       "    <tr>\n",
       "      <th>35c4d840-e51f-4c07-9418-af9335b29642</th>\n",
       "      <td>f4680747-bf28-417a-ab33-af00577d8ac2</td>\n",
       "    </tr>\n",
       "    <tr>\n",
       "      <th>9ba7a9b9-a21c-4b12-8771-4c108b08b3e2</th>\n",
       "      <td>13b3875a-c89a-4be5-a6e4-0ca9164bc41d</td>\n",
       "    </tr>\n",
       "  </tbody>\n",
       "</table>\n",
       "</div>"
      ],
      "text/plain": [
       "                                                   canonical-recording-gid\n",
       "recording-gid                                                             \n",
       "6ac02452-ee12-4f86-b389-bd20ba2fefcf  3e8eebfd-7613-4b3d-acbe-41709be76618\n",
       "b4c26989-1b9e-4d50-8cde-56d6472e4bc3  3e8eebfd-7613-4b3d-acbe-41709be76618\n",
       "601e1cf3-ad6c-4e38-9128-ba4d0d4b010f  b1050d12-b8af-409c-9cff-22759d93e240\n",
       "35c4d840-e51f-4c07-9418-af9335b29642  f4680747-bf28-417a-ab33-af00577d8ac2\n",
       "9ba7a9b9-a21c-4b12-8771-4c108b08b3e2  13b3875a-c89a-4be5-a6e4-0ca9164bc41d"
      ]
     },
     "execution_count": 8,
     "metadata": {},
     "output_type": "execute_result"
    }
   ],
   "source": [
    "\n",
    "%%time\n",
    "# Loading canonical recording mbid table\n",
    "\n",
    "MB_canonical = pd.read_sql('SELECT recording_mbid, canonical_recording_mbid FROM mapping.canonical_recording_redirect', con = conn)\n",
    "MB_canonical.columns = ['recording-gid', 'canonical-recording-gid']\n",
    "MB_canonical.set_index('recording-gid', inplace=True)\n",
    "MB_canonical.head()"
   ]
  },
  {
   "cell_type": "markdown",
   "metadata": {},
   "source": [
    "# Loading Data"
   ]
  },
  {
   "cell_type": "code",
   "execution_count": 1,
   "metadata": {},
   "outputs": [],
   "source": [
    "# Reads a list of file paths and reads + compiles data into a single pd.DataFrame\n",
    "def read_files(file_path_repo):\n",
    "    \n",
    "    # init new empty main dataframe\n",
    "    df = pd.DataFrame(columns = ['timestamp', 'artist-MBID', 'release-MBID', 'recording-MBID'])\n",
    "    \n",
    "    # Open a file with MLHD file paths to process\n",
    "    with open(file_path_repo, 'r') as f:\n",
    "        file_paths = f.readlines()\n",
    "        file_paths= [item.strip() for item in file_paths]\n",
    "    \n",
    "    # Read files and compile into single df\n",
    "    for pth in file_paths:\n",
    "        temp = pd.read_csv(pth, sep='\\t', names=['timestamp', 'artist-MBID', 'release-MBID', 'recording-MBID'])\n",
    "        temp = temp[-temp['recording-MBID'].isna()]\n",
    "\n",
    "        df = pd.concat([df, temp])\n",
    "    \n",
    "    return df"
   ]
  },
  {
   "cell_type": "markdown",
   "metadata": {},
   "source": [
    "## Architechture:\n",
    "\n",
    "1. Take a chunk of MBIDs (Test optimal chunk sizes too. Current optimal > 253k rows)\n",
    "2. \"Squish\" series\n",
    "    - i.e. Only take unique values from the series.\n",
    "3. Pass squished series thorugh the following:\n",
    "    - Get mbids, and check if they exist in the recording table.\n",
    "    - Get mbids that don't exist in redirect, and pass it through MB_track\n",
    "    - Get mbids that don't exist in recording, and pass it through MB_redirect\n",
    "    - get mbids that don't exist in track.... There's no MBIDs that belong to track.\n",
    "4. \"Unsquish\" the series.\n",
    "    - i.e. Take processed output for squished values, and apply them to unsquished values.\n",
    "    - This process ensures processing only on unique values.\n",
    "    The output for this processing is then applied to duplicate values as well."
   ]
  },
  {
   "cell_type": "code",
   "execution_count": 34,
   "metadata": {},
   "outputs": [],
   "source": [
    "# A generic function for queries a series into another series.\n",
    "    # Returns a series of boolean values corresponding to series_of_mbids \n",
    "    # (bool specifies if value exists in recording table or not.)\n",
    "\n",
    "def query_in(series_to_query, series_to_query_in):\n",
    "    # Queries all mbids in the recording table. Returns mbids that are present in recording table.\n",
    "    mbids_in_series = series_to_query_in[series_to_query_in.isin(series_to_query)]\n",
    "    \n",
    "    # Makes a boolean map for all mbids in series_of_unique_mbids\n",
    "    bool_map = series_to_query.isin(mbids_in_series)\n",
    "    \n",
    "    return bool_map\n",
    "    # return MB_recording.gid[MB_recording.gid.isin(series_of_mbids)]"
   ]
  },
  {
   "cell_type": "code",
   "execution_count": 54,
   "metadata": {},
   "outputs": [],
   "source": [
    "'''Squish function: \n",
    "1. Takes in input series with index number and recording-MBID.\n",
    "2. Makes a mapping table with recording-MBIDs as the index, \n",
    "and a series of row-indices with that MBID as the values.'''\n",
    "\n",
    "# def squish(input_series):\n",
    "\n",
    "'''\n",
    "1. take inp_series\n",
    "2. Generate empty mapping_df where:\n",
    "    - index = MBID\n",
    "    - value = series of indices from inp_series\n",
    "2. start traversing\n",
    "3. if new ID: \n",
    "    - Add ID to mapping_df.index\n",
    "    - Set the value in mapping_df as a list of newly updated indices for inp_series\n",
    "4. if not new ID:\n",
    "    - Add ID to list of indices for inp_series.\n",
    "    - Update this ID in mapping_df.index\n",
    "'''\n",
    "\n",
    "# inp = df['recording-MBID'].reset_index(drop=True)\n",
    "# inp_unique = inp.unique()\n",
    "\n",
    "# mapping_df = pd.DataFrame(index=inp_unique)\n",
    "# mapping_df\n",
    "\n",
    "# Tackle this shit later. Focus on basic unoptimized code first!"
   ]
  },
  {
   "cell_type": "code",
   "execution_count": 56,
   "metadata": {},
   "outputs": [
    {
     "name": "stdout",
     "output_type": "stream",
     "text": [
      "CPU times: user 6.38 s, sys: 1.4 ms, total: 6.38 s\n",
      "Wall time: 6.36 s\n"
     ]
    },
    {
     "data": {
      "text/plain": [
       "False    253218\n",
       "dtype: int64"
      ]
     },
     "execution_count": 56,
     "metadata": {},
     "output_type": "execute_result"
    }
   ],
   "source": [
    "%%time\n",
    "\n",
    "# Just to prove that absolutely none of the of the 253k unique mbids are track-mbids disguised as rec-mbid.\n",
    "\n",
    "# in_for_tack = in_for_rec[-out_for_rec]\n",
    "in_for_track = pd.Series(df['recording-MBID'].unique())\n",
    "out_for_track = query_in(in_for_track, MB_track)\n",
    "\n",
    "out_for_track.value_counts()"
   ]
  },
  {
   "cell_type": "code",
   "execution_count": 57,
   "metadata": {},
   "outputs": [
    {
     "name": "stdout",
     "output_type": "stream",
     "text": [
      "CPU times: user 4.06 s, sys: 6.45 ms, total: 4.07 s\n",
      "Wall time: 4.05 s\n"
     ]
    },
    {
     "data": {
      "text/plain": [
       "True     197481\n",
       "False     55737\n",
       "dtype: int64"
      ]
     },
     "execution_count": 57,
     "metadata": {},
     "output_type": "execute_result"
    }
   ],
   "source": [
    "%%time\n",
    "# Testing query_in() with recording MBID\n",
    "\n",
    "in_for_rec = pd.Series(df['recording-MBID'].unique())\n",
    "out_for_rec = query_in(in_for_rec, MB_recording.gid)\n",
    "\n",
    "out_for_rec.value_counts()"
   ]
  },
  {
   "cell_type": "code",
   "execution_count": 33,
   "metadata": {},
   "outputs": [
    {
     "name": "stdout",
     "output_type": "stream",
     "text": [
      "CPU times: user 399 ms, sys: 0 ns, total: 399 ms\n",
      "Wall time: 395 ms\n"
     ]
    },
    {
     "data": {
      "text/plain": [
       "False    1091721\n",
       "True      335678\n",
       "dtype: int64"
      ]
     },
     "execution_count": 33,
     "metadata": {},
     "output_type": "execute_result"
    }
   ],
   "source": [
    "%%time\n",
    "\n",
    "in_for_redir = in_for_rec[out_for_rec]\n",
    "# in_for_redir = in_for_rec\n",
    "\n",
    "out_for_redir = query_in(in_for_redir, MB_redirects.index)\n",
    "out_for_redir.value_counts()"
   ]
  },
  {
   "cell_type": "code",
   "execution_count": null,
   "metadata": {},
   "outputs": [],
   "source": [
    "# Replacing MBIDs with their redirected versions. Testing these \"sure shot rec MBIDs\" for canonicality\n",
    "\n",
    "# final_rec_mbids = "
   ]
  }
 ],
 "metadata": {
  "interpreter": {
   "hash": "a2c0c9fb1c567002394a71a6ae02f73ce4bc53d4b82f846c3c881e337285b81f"
  },
  "kernelspec": {
   "display_name": "Python 3.8.10 ('env_mlhd': venv)",
   "language": "python",
   "name": "python3"
  },
  "language_info": {
   "codemirror_mode": {
    "name": "ipython",
    "version": 3
   },
   "file_extension": ".py",
   "mimetype": "text/x-python",
   "name": "python",
   "nbconvert_exporter": "python",
   "pygments_lexer": "ipython3",
   "version": "3.8.10"
  },
  "orig_nbformat": 4
 },
 "nbformat": 4,
 "nbformat_minor": 2
}
