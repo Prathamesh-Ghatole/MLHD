{
 "cells": [
  {
   "cell_type": "markdown",
   "metadata": {},
   "source": [
    "This Notebook benchmarks read/write speeds and file sizes for different file types and compression algorithms.\n",
    "i.e.:\n",
    "- CSV + gzip\n",
    "- CSV + ZStandard\n",
    "- Parquet + Snappy\n",
    "- Parquet + ZStandard.\n",
    "\n",
    "It is run on a ```Intel(R) Xeon(R) CPU E5-1650 v3 @ 3.50GHz``` / ```128GB RAM``` server with ```Ubuntu 22.04.1 LTS```.\n",
    "\n",
    "# **Visualized Results @ end of notebook**"
   ]
  },
  {
   "cell_type": "code",
   "execution_count": 1,
   "metadata": {},
   "outputs": [],
   "source": [
    "import os\n",
    "import pandas as pd\n",
    "import lib.mb as mb\n",
    "import lib.load as load\n",
    "import time\n",
    "import config\n",
    "from pyarrow import parquet as pq, Table as pt\n",
    "\n",
    "TEST_ROOT = os.path.join(config.WRITE_ROOT, \"tests/\")\n",
    "os.makedirs(TEST_ROOT, exist_ok=True)"
   ]
  },
  {
   "cell_type": "code",
   "execution_count": 2,
   "metadata": {},
   "outputs": [],
   "source": [
    "with open(\n",
    "    os.path.join(config.SAMPLE_ROOT, 'random_file_paths.txt'), 'r') as f:\n",
    "    paths = f.readlines()\n",
    "\n",
    "paths = [path.strip() for path in paths]"
   ]
  },
  {
   "cell_type": "markdown",
   "metadata": {},
   "source": [
    "# Write times"
   ]
  },
  {
   "cell_type": "code",
   "execution_count": 3,
   "metadata": {},
   "outputs": [
    {
     "name": "stdout",
     "output_type": "stream",
     "text": [
      "CPU times: user 6.41 s, sys: 784 ms, total: 7.2 s\n",
      "Wall time: 15.1 s\n"
     ]
    },
    {
     "data": {
      "text/plain": [
       "15.12"
      ]
     },
     "execution_count": 3,
     "metadata": {},
     "output_type": "execute_result"
    }
   ],
   "source": [
    "%%time\n",
    "snappy_paths = []\n",
    "os.makedirs(\n",
    "    os.path.join(TEST_ROOT, \"snappy_parquet/\"), \n",
    "    exist_ok=True)\n",
    "\n",
    "# Writing files in parquet w/ snappy\n",
    "\n",
    "snappy_write_start = time.monotonic()\n",
    "\n",
    "for n, file in enumerate(paths):\n",
    "    df = pd.read_csv(file, sep='\\t')\n",
    "    path =  os.path.join(TEST_ROOT, f\"snappy_parquet/{n}_snappy.parquet\")\n",
    "    snappy_paths.append(path)\n",
    "    df.to_parquet(path, compression='snappy')\n",
    "\n",
    "snappy_write_end = time.monotonic()\n",
    "\n",
    "snappy_write_time = round(snappy_write_end - snappy_write_start, 2)\n",
    "snappy_write_time"
   ]
  },
  {
   "cell_type": "code",
   "execution_count": 4,
   "metadata": {},
   "outputs": [
    {
     "name": "stdout",
     "output_type": "stream",
     "text": [
      "CPU times: user 6.2 s, sys: 542 ms, total: 6.74 s\n",
      "Wall time: 6.78 s\n"
     ]
    },
    {
     "data": {
      "text/plain": [
       "6.78"
      ]
     },
     "execution_count": 4,
     "metadata": {},
     "output_type": "execute_result"
    }
   ],
   "source": [
    "%%time\n",
    "zstd_paths = []\n",
    "os.makedirs(\n",
    "    os.path.join(TEST_ROOT, \"zst_parquet/\"), \n",
    "    exist_ok=True)\n",
    "# writing files in parquet w/ zstd\n",
    "\n",
    "zst_parquet_write_start = time.monotonic()\n",
    "for n, file in enumerate(paths):\n",
    "    df = pd.read_csv(file, sep='\\t')\n",
    "    path =  os.path.join(TEST_ROOT, f\"zst_parquet/{n}_zst.parquet\")\n",
    "    zstd_paths.append(path)\n",
    "    \n",
    "    df = pt.from_pandas(df)\n",
    "    pq.write_table(df, path, compression='zstd')\n",
    "\n",
    "zst_parquet_write_end = time.monotonic()\n",
    "zst_parquet_write_time = round(zst_parquet_write_end - zst_parquet_write_start, 2)\n",
    "zst_parquet_write_time"
   ]
  },
  {
   "cell_type": "code",
   "execution_count": 5,
   "metadata": {},
   "outputs": [
    {
     "name": "stdout",
     "output_type": "stream",
     "text": [
      "CPU times: user 19.7 s, sys: 305 ms, total: 20 s\n",
      "Wall time: 22.1 s\n"
     ]
    },
    {
     "data": {
      "text/plain": [
       "22.12"
      ]
     },
     "execution_count": 5,
     "metadata": {},
     "output_type": "execute_result"
    }
   ],
   "source": [
    "%%time\n",
    "zstd_csv_paths = []\n",
    "os.makedirs(\n",
    "    os.path.join(TEST_ROOT, \"zst_csv/\"),\n",
    "    exist_ok=True)\n",
    "\n",
    "zst_txt_write_start = time.monotonic()\n",
    "for n, file in enumerate(paths):\n",
    "    df = pd.read_csv(file, sep='\\t')\n",
    "    path =  os.path.join(TEST_ROOT, f\"zst_csv/{n}_zstd.csv.zst\")\n",
    "    zstd_csv_paths.append(path)\n",
    "    \n",
    "    df.to_csv(path, compression='zstd')\n",
    "\n",
    "zst_txt_write_end = time.monotonic()\n",
    "zst_txt_write_time = round(zst_txt_write_end - zst_txt_write_start, 2)\n",
    "zst_txt_write_time"
   ]
  },
  {
   "cell_type": "markdown",
   "metadata": {},
   "source": [
    "# Read Times"
   ]
  },
  {
   "cell_type": "code",
   "execution_count": 6,
   "metadata": {},
   "outputs": [
    {
     "name": "stdout",
     "output_type": "stream",
     "text": [
      "CPU times: user 2.13 s, sys: 178 ms, total: 2.31 s\n",
      "Wall time: 1.6 s\n"
     ]
    },
    {
     "data": {
      "text/plain": [
       "1.6"
      ]
     },
     "execution_count": 6,
     "metadata": {},
     "output_type": "execute_result"
    }
   ],
   "source": [
    "%%time\n",
    "\n",
    "## Loading parquet files\n",
    "snappy_read_start = time.monotonic()\n",
    "\n",
    "for file in snappy_paths:\n",
    "    df = pd.read_parquet(file)\n",
    "\n",
    "snappy_read_end = time.monotonic()\n",
    "snappy_read_time = round(snappy_read_end - snappy_read_start, 2)\n",
    "snappy_read_time"
   ]
  },
  {
   "cell_type": "code",
   "execution_count": 7,
   "metadata": {},
   "outputs": [
    {
     "name": "stdout",
     "output_type": "stream",
     "text": [
      "CPU times: user 2.23 s, sys: 125 ms, total: 2.36 s\n",
      "Wall time: 1.6 s\n"
     ]
    },
    {
     "data": {
      "text/plain": [
       "1.6"
      ]
     },
     "execution_count": 7,
     "metadata": {},
     "output_type": "execute_result"
    }
   ],
   "source": [
    "%%time\n",
    "\n",
    "# Loading parquet files w/ zstd\n",
    "zstd_parquet_read_start = time.monotonic()\n",
    "for file in zstd_paths:\n",
    "    df = pd.read_parquet(file)\n",
    "\n",
    "zstd_parquet_read_end = time.monotonic()\n",
    "zstd_parquet_read_time = round(zstd_parquet_read_end - zstd_parquet_read_start, 2)\n",
    "zstd_parquet_read_time"
   ]
  },
  {
   "cell_type": "code",
   "execution_count": 8,
   "metadata": {},
   "outputs": [
    {
     "name": "stdout",
     "output_type": "stream",
     "text": [
      "CPU times: user 4.59 s, sys: 232 ms, total: 4.82 s\n",
      "Wall time: 4.83 s\n"
     ]
    },
    {
     "data": {
      "text/plain": [
       "4.83"
      ]
     },
     "execution_count": 8,
     "metadata": {},
     "output_type": "execute_result"
    }
   ],
   "source": [
    "%%time\n",
    "\n",
    "zstd_txt_read_start = time.monotonic()\n",
    "\n",
    "for file in zstd_csv_paths:\n",
    "    df = pd.read_csv(file, sep='\\t', compression='zstd')\n",
    "\n",
    "zstd_txt_read_end = time.monotonic()\n",
    "zstd_txt_read_time = round(zstd_txt_read_end - zstd_txt_read_start, 2)\n",
    "zstd_txt_read_time"
   ]
  },
  {
   "cell_type": "code",
   "execution_count": 9,
   "metadata": {},
   "outputs": [
    {
     "name": "stdout",
     "output_type": "stream",
     "text": [
      "CPU times: user 3.2 s, sys: 264 ms, total: 3.46 s\n",
      "Wall time: 3.46 s\n"
     ]
    },
    {
     "data": {
      "text/plain": [
       "3.46"
      ]
     },
     "execution_count": 9,
     "metadata": {},
     "output_type": "execute_result"
    }
   ],
   "source": [
    "%%time\n",
    "\n",
    "csv_read_start = time.monotonic()\n",
    "for file in paths:\n",
    "    df = pd.read_csv(file, sep='\\t')\n",
    "\n",
    "csv_read_end = time.monotonic()\n",
    "csv_read_time = round(csv_read_end - csv_read_start, 2)\n",
    "csv_read_time"
   ]
  },
  {
   "cell_type": "markdown",
   "metadata": {},
   "source": [
    "# File Sizes"
   ]
  },
  {
   "cell_type": "code",
   "execution_count": 10,
   "metadata": {},
   "outputs": [
    {
     "name": "stdout",
     "output_type": "stream",
     "text": [
      "csv size = 46.45 MB\n"
     ]
    }
   ],
   "source": [
    "# CSV:\n",
    "csv_size = 0\n",
    "for file in paths:\n",
    "    csv_size += os.path.getsize(file)\n",
    "\n",
    "print(f\"csv size = {csv_size/(1024*1024):.2f} MB\")"
   ]
  },
  {
   "cell_type": "code",
   "execution_count": 11,
   "metadata": {},
   "outputs": [
    {
     "name": "stdout",
     "output_type": "stream",
     "text": [
      "zstd text size = 70.09 MB\n"
     ]
    }
   ],
   "source": [
    "# zstd txt:\n",
    "zstd_txt_size = 0\n",
    "for file in zstd_csv_paths:\n",
    "    zstd_txt_size += os.path.getsize(file)\n",
    "\n",
    "print(f\"zstd text size = {zstd_txt_size/(1024*1024):.2f} MB\")"
   ]
  },
  {
   "cell_type": "code",
   "execution_count": 12,
   "metadata": {},
   "outputs": [
    {
     "name": "stdout",
     "output_type": "stream",
     "text": [
      "snappy parquet size = 75.96 MB\n"
     ]
    }
   ],
   "source": [
    "# Snappy Parquet:\n",
    "\n",
    "snappy_parquet_size = 0\n",
    "for file in snappy_paths:\n",
    "    snappy_parquet_size += os.path.getsize(file)\n",
    "\n",
    "print(f\"snappy parquet size = {snappy_parquet_size/(1024*1024):.2f} MB\")"
   ]
  },
  {
   "cell_type": "code",
   "execution_count": 13,
   "metadata": {},
   "outputs": [
    {
     "name": "stdout",
     "output_type": "stream",
     "text": [
      "zstd parquet size = 46.84 MB\n"
     ]
    }
   ],
   "source": [
    "# ZSTD Parquet:\n",
    "zstd_parquet_size = 0\n",
    "for file in zstd_paths:\n",
    "    zstd_parquet_size += os.path.getsize(file)\n",
    "\n",
    "print(f\"zstd parquet size = {zstd_parquet_size/(1024*1024):.2f} MB\")"
   ]
  },
  {
   "cell_type": "markdown",
   "metadata": {},
   "source": [
    "# Visualizations"
   ]
  },
  {
   "cell_type": "code",
   "execution_count": 14,
   "metadata": {},
   "outputs": [],
   "source": [
    "import matplotlib.pyplot as plt\n",
    "import numpy as np"
   ]
  },
  {
   "cell_type": "code",
   "execution_count": 19,
   "metadata": {},
   "outputs": [
    {
     "data": {
      "text/plain": [
       "<Figure size 432x288 with 0 Axes>"
      ]
     },
     "metadata": {},
     "output_type": "display_data"
    },
    {
     "data": {
      "image/png": "[encoded data removed]",
      "text/plain": [
       "<Figure size 432x288 with 1 Axes>"
      ]
     },
     "metadata": {
      "needs_background": "light"
     },
     "output_type": "display_data"
    }
   ],
   "source": [
    "plt.figure()\n",
    "\n",
    "x_labels = ['CSV + GZIP', 'CSV + ZSTD', 'Parquet + Snappy', 'Parquet + ZSTD']\n",
    "y_sizes = [csv_size, zstd_txt_size, snappy_parquet_size, zstd_parquet_size]\n",
    "size_converter = lambda size: round(size/(1024*1024), 2)\n",
    "\n",
    "y_sizes = [size_converter(size) for size in y_sizes]\n",
    "\n",
    "\n",
    "x = np.arange(len(x_labels))  # the label locations\n",
    "width = 0.35  # the width of the bars\n",
    "\n",
    "fig, ax = plt.subplots()\n",
    "rects = ax.bar(x, y_sizes, width+0.45)\n",
    "\n",
    "ax.set_ylabel('Size (MB) - Lower is better')\n",
    "ax.set_title('File + Compression Type')\n",
    "ax.set_xticks(x, x_labels)\n",
    "\n",
    "ax.bar_label(rects, padding=3)\n",
    "\n",
    "fig.tight_layout()\n",
    "\n",
    "plt.title('File Sizes With Various File Types + Compression Algorithms')\n",
    "plt.show()"
   ]
  },
  {
   "cell_type": "code",
   "execution_count": 23,
   "metadata": {},
   "outputs": [
    {
     "data": {
      "image/png": "[encoded data removed]",
      "text/plain": [
       "<Figure size 432x288 with 1 Axes>"
      ]
     },
     "metadata": {
      "needs_background": "light"
     },
     "output_type": "display_data"
    }
   ],
   "source": [
    "fig, ax = plt.subplots()\n",
    "\n",
    "read_time = [csv_read_time, zstd_txt_read_time, snappy_read_time, zstd_parquet_read_time]\n",
    "write_time = [0, zst_txt_write_time, snappy_write_time, zst_parquet_write_time]\n",
    "\n",
    "rects1 = ax.bar(x - width/2, read_time, width, label='READ')\n",
    "rects2 = ax.bar(x + width/2, write_time, width, label='WRITE')\n",
    "\n",
    "ax.set_ylabel('Time (s) - Lower is Better')\n",
    "ax.set_title('Operation')\n",
    "ax.set_xticks(x, x_labels)\n",
    "ax.legend()\n",
    "\n",
    "ax.bar_label(rects1, padding=3)\n",
    "ax.bar_label(rects2, padding=3)\n",
    "\n",
    "fig.tight_layout()\n",
    "\n",
    "plt.title('Read/Write times for Various File Types + Compression Algorithms')\n",
    "plt.show()"
   ]
  },
  {
   "cell_type": "code",
   "execution_count": 21,
   "metadata": {},
   "outputs": [
    {
     "data": {
      "image/png": "[encoded data removed]",
      "text/plain": [
       "<Figure size 432x288 with 1 Axes>"
      ]
     },
     "metadata": {
      "needs_background": "light"
     },
     "output_type": "display_data"
    }
   ],
   "source": [
    "plt.bar(['csv', 'zstd_txt', 'snappy_parquet', 'zstd_parquet'], [csv_read_time, zstd_txt_read_time, snappy_read_time, zstd_parquet_read_time])\n",
    "plt.xlabel('File Type')\n",
    "plt.ylabel('Read Time (s)')\n",
    "\n",
    "plt.show()"
   ]
  },
  {
   "cell_type": "code",
   "execution_count": 22,
   "metadata": {},
   "outputs": [
    {
     "data": {
      "image/png": "[encoded data removed]",
      "text/plain": [
       "<Figure size 432x288 with 1 Axes>"
      ]
     },
     "metadata": {
      "needs_background": "light"
     },
     "output_type": "display_data"
    }
   ],
   "source": [
    "plt.bar(['csv', 'zstd_txt', 'snappy_parquet', 'zstd_parquet'], [0, zst_txt_write_time, snappy_write_time, zst_parquet_write_time])\n",
    "plt.xlabel('File Type')\n",
    "plt.ylabel('Write Time (s)')\n",
    "\n",
    "plt.show()"
   ]
  }
 ],
 "metadata": {
  "kernelspec": {
   "display_name": "Python 3.8.10 ('env': venv)",
   "language": "python",
   "name": "python3"
  },
  "language_info": {
   "codemirror_mode": {
    "name": "ipython",
    "version": 3
   },
   "file_extension": ".py",
   "mimetype": "text/x-python",
   "name": "python",
   "nbconvert_exporter": "python",
   "pygments_lexer": "ipython3",
   "version": "3.8.10"
  },
  "orig_nbformat": 4,
  "vscode": {
   "interpreter": {
    "hash": "99207027a3abb1e120e2013d5a83e642456faefc5cbc1acefa0d682e37a8f4b0"
   }
  }
 },
 "nbformat": 4,
 "nbformat_minor": 2
}
