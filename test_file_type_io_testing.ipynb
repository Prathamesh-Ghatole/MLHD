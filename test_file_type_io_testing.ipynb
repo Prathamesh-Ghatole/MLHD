{
 "cells": [
  {
   "cell_type": "markdown",
   "metadata": {},
   "source": [
    "This Notebook benchmarks read/write speeds and file sizes for different file types and compression algorithms.\n",
    "i.e.:\n",
    "- CSV + GZIP\n",
    "- CSV + ZStandard\n",
    "- CSV + ZStandard (level 10 compression)\n",
    "- Parquet + Snappy\n",
    "- Parquet + ZStandard\n",
    "\n",
    "It is run on a ```Intel(R) Xeon(R) CPU E5-1650 v3 @ 3.50GHz``` / ```128GB RAM``` server with ```Ubuntu 22.04.1 LTS```.\n",
    "\n",
    "NOTE: Here the files are being written to ```/dev/shm``` which is a RAM disk. This is to avoid the disk IO bottleneck. \n",
    "i.e. The results might be significantly slower when writing to HDD/SSD. Regardles, the file sizes and performance differences should be comparable.\n",
    "\n",
    "### Methodology:\n",
    "1. Load 100 random dataframes into a dictionary\n",
    "2. Write each dataframe to a ```Parquet+Snappy```, ```Parquet+ZSTD```, ```CSV+GZIP```, ```CSV+ZSTD```, and ```CSV+ZSTD10``` file.\n",
    "\n",
    "# **Visualized Results @ end of notebook**"
   ]
  },
  {
   "cell_type": "code",
   "execution_count": 2,
   "metadata": {},
   "outputs": [],
   "source": [
    "import os\n",
    "import pandas as pd\n",
    "import lib.mb as mb\n",
    "import lib.load as load\n",
    "import time\n",
    "import config\n",
    "from pyarrow import parquet as pq, Table as pt\n",
    "\n",
    "TEST_ROOT = os.path.join(\"/dev/shm/\", \"tests/\")\n",
    "os.makedirs(TEST_ROOT, exist_ok=True)"
   ]
  },
  {
   "cell_type": "code",
   "execution_count": 3,
   "metadata": {},
   "outputs": [],
   "source": [
    "with open(\n",
    "    os.path.join(config.SAMPLE_ROOT, 'random_file_paths.txt'), 'r') as f:\n",
    "    paths = f.readlines()\n",
    "\n",
    "paths = [path.strip() for path in paths]"
   ]
  },
  {
   "cell_type": "markdown",
   "metadata": {},
   "source": [
    "# Loading Data"
   ]
  },
  {
   "cell_type": "code",
   "execution_count": 4,
   "metadata": {},
   "outputs": [
    {
     "name": "stdout",
     "output_type": "stream",
     "text": [
      "CPU times: user 3.25 s, sys: 305 ms, total: 3.55 s\n",
      "Wall time: 3.55 s\n"
     ]
    },
    {
     "data": {
      "text/plain": [
       "3.55"
      ]
     },
     "execution_count": 4,
     "metadata": {},
     "output_type": "execute_result"
    }
   ],
   "source": [
    "%%time\n",
    "files_dict = {}\n",
    "\n",
    "start_load = time.monotonic()\n",
    "for i, path in enumerate(paths):\n",
    "    files_dict[i] = pd.read_csv(path, sep='\\t')\n",
    "end_load = time.monotonic()\n",
    "\n",
    "load_time = round(end_load - start_load, 2)\n",
    "load_time"
   ]
  },
  {
   "cell_type": "markdown",
   "metadata": {},
   "source": [
    "# Write times"
   ]
  },
  {
   "cell_type": "code",
   "execution_count": 5,
   "metadata": {},
   "outputs": [
    {
     "name": "stdout",
     "output_type": "stream",
     "text": [
      "CPU times: user 2.49 s, sys: 173 ms, total: 2.66 s\n",
      "Wall time: 2.58 s\n"
     ]
    },
    {
     "data": {
      "text/plain": [
       "2.58"
      ]
     },
     "execution_count": 5,
     "metadata": {},
     "output_type": "execute_result"
    }
   ],
   "source": [
    "%%time\n",
    "# Writing files in Parquet w/ snappy commpression\n",
    "\n",
    "parquet_snappy_paths = []\n",
    "os.makedirs(\n",
    "    os.path.join(TEST_ROOT, \"snappy_parquet/\"), \n",
    "    exist_ok=True)\n",
    "\n",
    "\n",
    "parquet_snappy_write_start = time.monotonic()\n",
    "\n",
    "for n, df in files_dict.items():\n",
    "    path =  os.path.join(TEST_ROOT, f\"snappy_parquet/{n}_snappy.parquet\")\n",
    "    parquet_snappy_paths.append(path)\n",
    "    df.to_parquet(path, compression='snappy')\n",
    "\n",
    "parquet_snappy_write_end = time.monotonic()\n",
    "\n",
    "parquet_snappy_write_time = round(parquet_snappy_write_end - parquet_snappy_write_start, 2)\n",
    "parquet_snappy_write_time"
   ]
  },
  {
   "cell_type": "code",
   "execution_count": 6,
   "metadata": {},
   "outputs": [
    {
     "name": "stdout",
     "output_type": "stream",
     "text": [
      "CPU times: user 2.58 s, sys: 178 ms, total: 2.76 s\n",
      "Wall time: 2.67 s\n"
     ]
    },
    {
     "data": {
      "text/plain": [
       "2.67"
      ]
     },
     "execution_count": 6,
     "metadata": {},
     "output_type": "execute_result"
    }
   ],
   "source": [
    "%%time\n",
    "# writing files in parquet w/ zstd compression\n",
    "\n",
    "parquet_zstd_paths = []\n",
    "os.makedirs(\n",
    "    os.path.join(TEST_ROOT, \"zst_parquet/\"), \n",
    "    exist_ok=True)\n",
    "\n",
    "parquet_zstd_write_start = time.monotonic()\n",
    "\n",
    "for n, df in files_dict.items():\n",
    "    path =  os.path.join(TEST_ROOT, f\"zst_parquet/{n}_zst.parquet\")\n",
    "    parquet_zstd_paths.append(path)\n",
    "    \n",
    "    df = pt.from_pandas(df)\n",
    "    pq.write_table(df, path, compression='zstd')\n",
    "\n",
    "parquet_zstd_write_end = time.monotonic()\n",
    "parquet_zstd_write_time = round(parquet_zstd_write_end - parquet_zstd_write_start, 2)\n",
    "parquet_zstd_write_time"
   ]
  },
  {
   "cell_type": "code",
   "execution_count": 7,
   "metadata": {},
   "outputs": [
    {
     "name": "stdout",
     "output_type": "stream",
     "text": [
      "CPU times: user 35.3 s, sys: 264 ms, total: 35.6 s\n",
      "Wall time: 35.6 s\n"
     ]
    },
    {
     "data": {
      "text/plain": [
       "35.59"
      ]
     },
     "execution_count": 7,
     "metadata": {},
     "output_type": "execute_result"
    }
   ],
   "source": [
    "%%time\n",
    "# writing files in CSV w/ GZIP compression\n",
    "\n",
    "csv_gzip_paths = []\n",
    "os.makedirs(\n",
    "    os.path.join(TEST_ROOT, \"gzip_csv/\"),\n",
    "    exist_ok=True)\n",
    "\n",
    "csv_gzip_write_start = time.monotonic()\n",
    "for n, file in enumerate(paths):\n",
    "    df = pd.read_csv(file, sep='\\t')\n",
    "    path =  os.path.join(TEST_ROOT, f\"gzip_csv/{n}_gzip.csv.zst\")\n",
    "    csv_gzip_paths.append(path)\n",
    "    \n",
    "    df.to_csv(path, compression='gzip')\n",
    "\n",
    "csv_gzip_write_end = time.monotonic()\n",
    "csv_gzip_write_time = round(csv_gzip_write_end - csv_gzip_write_start, 2)\n",
    "csv_gzip_write_time"
   ]
  },
  {
   "cell_type": "code",
   "execution_count": 8,
   "metadata": {},
   "outputs": [
    {
     "name": "stdout",
     "output_type": "stream",
     "text": [
      "CPU times: user 19.1 s, sys: 322 ms, total: 19.4 s\n",
      "Wall time: 19.4 s\n"
     ]
    },
    {
     "data": {
      "text/plain": [
       "19.44"
      ]
     },
     "execution_count": 8,
     "metadata": {},
     "output_type": "execute_result"
    }
   ],
   "source": [
    "%%time\n",
    "# writing files in CSV w/ zstd compression\n",
    "\n",
    "csv_zstd_paths = []\n",
    "os.makedirs(\n",
    "    os.path.join(TEST_ROOT, \"zst_csv/\"),\n",
    "    exist_ok=True)\n",
    "\n",
    "csv_zstd_write_start = time.monotonic()\n",
    "for n, file in enumerate(paths):\n",
    "    df = pd.read_csv(file, sep='\\t')\n",
    "    path =  os.path.join(TEST_ROOT, f\"zst_csv/{n}_zstd.csv.zst\")\n",
    "    csv_zstd_paths.append(path)\n",
    "    \n",
    "    df.to_csv(path, compression={'method':'zstd', 'level': 3})\n",
    "\n",
    "csv_zstd_write_end = time.monotonic()\n",
    "csv_zstd_write_time = round(csv_zstd_write_end - csv_zstd_write_start, 2)\n",
    "csv_zstd_write_time"
   ]
  },
  {
   "cell_type": "code",
   "execution_count": 9,
   "metadata": {},
   "outputs": [
    {
     "name": "stdout",
     "output_type": "stream",
     "text": [
      "CPU times: user 30 s, sys: 91.2 ms, total: 30.1 s\n",
      "Wall time: 30.2 s\n"
     ]
    },
    {
     "data": {
      "text/plain": [
       "30.18"
      ]
     },
     "execution_count": 9,
     "metadata": {},
     "output_type": "execute_result"
    }
   ],
   "source": [
    "%%time\n",
    "# writing files in CSV w/ zstd compression\n",
    "\n",
    "csv_zstd10_paths = []\n",
    "os.makedirs(\n",
    "    os.path.join(TEST_ROOT, \"zst_csv/\"),\n",
    "    exist_ok=True)\n",
    "\n",
    "csv_zstd10_write_start = time.monotonic()\n",
    "for n, file in enumerate(paths):\n",
    "    df = pd.read_csv(file, sep='\\t')\n",
    "    path =  os.path.join(TEST_ROOT, f\"zst_csv/{n}_zstd.csv.zst\")\n",
    "    csv_zstd10_paths.append(path)\n",
    "    \n",
    "    df.to_csv(path, compression={'method': 'zstd', 'level':10})\n",
    "\n",
    "csv_zstd10_write_end = time.monotonic()\n",
    "csv_zstd10_write_time = round(csv_zstd10_write_end - csv_zstd10_write_start, 2)\n",
    "csv_zstd10_write_time"
   ]
  },
  {
   "cell_type": "markdown",
   "metadata": {},
   "source": [
    "# Read Times"
   ]
  },
  {
   "cell_type": "code",
   "execution_count": 10,
   "metadata": {},
   "outputs": [
    {
     "name": "stdout",
     "output_type": "stream",
     "text": [
      "CPU times: user 2.27 s, sys: 184 ms, total: 2.46 s\n",
      "Wall time: 1.66 s\n"
     ]
    },
    {
     "data": {
      "text/plain": [
       "1.66"
      ]
     },
     "execution_count": 10,
     "metadata": {},
     "output_type": "execute_result"
    }
   ],
   "source": [
    "%%time\n",
    "\n",
    "## Loading parquet files\n",
    "parquet_snappy_read_start = time.monotonic()\n",
    "\n",
    "for file in parquet_snappy_paths:\n",
    "    df = pd.read_parquet(file)\n",
    "\n",
    "parquet_snappy_read_end = time.monotonic()\n",
    "parquet_snappy_read_time = round(parquet_snappy_read_end - parquet_snappy_read_start, 2)\n",
    "parquet_snappy_read_time"
   ]
  },
  {
   "cell_type": "code",
   "execution_count": 11,
   "metadata": {},
   "outputs": [
    {
     "name": "stdout",
     "output_type": "stream",
     "text": [
      "CPU times: user 2.23 s, sys: 194 ms, total: 2.43 s\n",
      "Wall time: 1.62 s\n"
     ]
    },
    {
     "data": {
      "text/plain": [
       "1.62"
      ]
     },
     "execution_count": 11,
     "metadata": {},
     "output_type": "execute_result"
    }
   ],
   "source": [
    "%%time\n",
    "\n",
    "# Loading parquet files w/ zstd\n",
    "parquet_zstd_read_start = time.monotonic()\n",
    "for file in parquet_zstd_paths:\n",
    "    df = pd.read_parquet(file)\n",
    "\n",
    "parquet_zstd_read_end = time.monotonic()\n",
    "parquet_zstd_read_time = round(parquet_zstd_read_end - parquet_zstd_read_start, 2)\n",
    "parquet_zstd_read_time"
   ]
  },
  {
   "cell_type": "code",
   "execution_count": 12,
   "metadata": {},
   "outputs": [
    {
     "name": "stdout",
     "output_type": "stream",
     "text": [
      "CPU times: user 3.23 s, sys: 20 ms, total: 3.25 s\n",
      "Wall time: 3.25 s\n"
     ]
    },
    {
     "data": {
      "text/plain": [
       "3.25"
      ]
     },
     "execution_count": 12,
     "metadata": {},
     "output_type": "execute_result"
    }
   ],
   "source": [
    "%%time\n",
    "\n",
    "csv_gzip_read_start = time.monotonic()\n",
    "for file in paths:\n",
    "    df = pd.read_csv(file, sep='\\t')\n",
    "\n",
    "csv_gzip_read_end = time.monotonic()\n",
    "csv_gzip_read_time = round(csv_gzip_read_end - csv_gzip_read_start, 2)\n",
    "csv_gzip_read_time"
   ]
  },
  {
   "cell_type": "code",
   "execution_count": 13,
   "metadata": {},
   "outputs": [
    {
     "name": "stdout",
     "output_type": "stream",
     "text": [
      "CPU times: user 4.4 s, sys: 75.8 ms, total: 4.48 s\n",
      "Wall time: 4.48 s\n"
     ]
    },
    {
     "data": {
      "text/plain": [
       "4.48"
      ]
     },
     "execution_count": 13,
     "metadata": {},
     "output_type": "execute_result"
    }
   ],
   "source": [
    "%%time\n",
    "\n",
    "csv_zstd_read_start = time.monotonic()\n",
    "\n",
    "for file in csv_zstd_paths:\n",
    "    df = pd.read_csv(file, sep='\\t', compression='zstd')\n",
    "\n",
    "csv_zstd_read_end = time.monotonic()\n",
    "csv_zstd_read_time = round(csv_zstd_read_end - csv_zstd_read_start, 2)\n",
    "csv_zstd_read_time"
   ]
  },
  {
   "cell_type": "code",
   "execution_count": 14,
   "metadata": {},
   "outputs": [
    {
     "name": "stdout",
     "output_type": "stream",
     "text": [
      "CPU times: user 4.47 s, sys: 67.8 ms, total: 4.54 s\n",
      "Wall time: 4.54 s\n"
     ]
    },
    {
     "data": {
      "text/plain": [
       "4.54"
      ]
     },
     "execution_count": 14,
     "metadata": {},
     "output_type": "execute_result"
    }
   ],
   "source": [
    "%%time\n",
    "\n",
    "csv_zstd10_read_start = time.monotonic()\n",
    "\n",
    "for file in csv_zstd10_paths:\n",
    "    df = pd.read_csv(file, sep='\\t', compression='zstd')\n",
    "\n",
    "csv_zstd10_read_end = time.monotonic()\n",
    "csv_zstd10_read_time = round(csv_zstd10_read_end - csv_zstd10_read_start, 2)\n",
    "csv_zstd10_read_time"
   ]
  },
  {
   "cell_type": "markdown",
   "metadata": {},
   "source": [
    "# File Sizes"
   ]
  },
  {
   "cell_type": "code",
   "execution_count": 15,
   "metadata": {},
   "outputs": [
    {
     "name": "stdout",
     "output_type": "stream",
     "text": [
      "snappy parquet size = 75.96 MB\n"
     ]
    }
   ],
   "source": [
    "# Snappy Parquet:\n",
    "\n",
    "parquet_snappy_size = 0\n",
    "for file in parquet_snappy_paths:\n",
    "    parquet_snappy_size += os.path.getsize(file)\n",
    "\n",
    "print(f\"snappy parquet size = {parquet_snappy_size/(1024*1024):.2f} MB\")"
   ]
  },
  {
   "cell_type": "code",
   "execution_count": 16,
   "metadata": {},
   "outputs": [
    {
     "name": "stdout",
     "output_type": "stream",
     "text": [
      "zstd parquet size = 46.84 MB\n"
     ]
    }
   ],
   "source": [
    "# ZSTD Parquet:\n",
    "parquet_zstd_size = 0\n",
    "for file in parquet_zstd_paths:\n",
    "    parquet_zstd_size += os.path.getsize(file)\n",
    "\n",
    "print(f\"zstd parquet size = {parquet_zstd_size/(1024*1024):.2f} MB\")"
   ]
  },
  {
   "cell_type": "code",
   "execution_count": 17,
   "metadata": {},
   "outputs": [
    {
     "name": "stdout",
     "output_type": "stream",
     "text": [
      "csv+gzip size = 109.43 MB\n"
     ]
    }
   ],
   "source": [
    "# CSV:\n",
    "csv_gzip_size = 0\n",
    "for file in csv_gzip_paths:\n",
    "    csv_gzip_size += os.path.getsize(file)\n",
    "\n",
    "print(f\"csv+gzip size = {csv_gzip_size/(1024*1024):.2f} MB\")"
   ]
  },
  {
   "cell_type": "code",
   "execution_count": 18,
   "metadata": {},
   "outputs": [
    {
     "name": "stdout",
     "output_type": "stream",
     "text": [
      "zstd text size = 58.81 MB\n"
     ]
    }
   ],
   "source": [
    "# zstd txt:\n",
    "csv_zstd_size = 0\n",
    "for file in csv_zstd_paths:\n",
    "    csv_zstd_size += os.path.getsize(file)\n",
    "\n",
    "print(f\"zstd text size = {csv_zstd_size/(1024*1024):.2f} MB\")"
   ]
  },
  {
   "cell_type": "code",
   "execution_count": 19,
   "metadata": {},
   "outputs": [
    {
     "name": "stdout",
     "output_type": "stream",
     "text": [
      "zstd text size = 58.81 MB\n"
     ]
    }
   ],
   "source": [
    "# zstd txt:\n",
    "csv_zstd10_size = 0\n",
    "for file in csv_zstd_paths:\n",
    "    csv_zstd10_size += os.path.getsize(file)\n",
    "\n",
    "print(f\"zstd text size = {csv_zstd10_size/(1024*1024):.2f} MB\")"
   ]
  },
  {
   "cell_type": "markdown",
   "metadata": {},
   "source": [
    "# Visualizations"
   ]
  },
  {
   "cell_type": "code",
   "execution_count": 20,
   "metadata": {},
   "outputs": [],
   "source": [
    "import matplotlib.pyplot as plt\n",
    "import numpy as np"
   ]
  },
  {
   "cell_type": "code",
   "execution_count": 21,
   "metadata": {},
   "outputs": [
    {
     "data": {
      "text/plain": [
       "<Figure size 432x288 with 0 Axes>"
      ]
     },
     "metadata": {},
     "output_type": "display_data"
    },
    {
     "data": {
      "image/png": "[encoded data removed]",
      "text/plain": [
       "<Figure size 432x288 with 1 Axes>"
      ]
     },
     "metadata": {
      "needs_background": "light"
     },
     "output_type": "display_data"
    }
   ],
   "source": [
    "plt.figure()\n",
    "\n",
    "x_labels = ['CSV + GZIP', 'CSV + ZSTD', 'CSV + ZSTD10','Parquet + Snappy', 'Parquet + ZSTD']\n",
    "y_sizes = [csv_gzip_size, csv_zstd_size, csv_zstd10_size, parquet_snappy_size, parquet_zstd_size]\n",
    "size_converter = lambda size: round(size/(1024*1024), 2)\n",
    "\n",
    "y_sizes = [size_converter(size) for size in y_sizes]\n",
    "\n",
    "\n",
    "x = np.arange(len(x_labels))  # the label locations\n",
    "width = 0.45  # the width of the bars\n",
    "\n",
    "fig, ax = plt.subplots()\n",
    "rects = ax.bar(x, y_sizes, width+0.45)\n",
    "\n",
    "ax.set_ylabel('Size (MB) - Lower is better')\n",
    "ax.set_title('File + Compression Type')\n",
    "ax.set_xticks(x, x_labels)\n",
    "\n",
    "ax.bar_label(rects, padding=3)\n",
    "\n",
    "fig.tight_layout()\n",
    "\n",
    "plt.title('File Sizes With Various File Types + Compression Algorithms')\n",
    "plt.show()"
   ]
  },
  {
   "cell_type": "code",
   "execution_count": 23,
   "metadata": {},
   "outputs": [
    {
     "data": {
      "image/png": "[encoded data removed]",
      "text/plain": [
       "<Figure size 432x288 with 1 Axes>"
      ]
     },
     "metadata": {
      "needs_background": "light"
     },
     "output_type": "display_data"
    }
   ],
   "source": [
    "fig, ax = plt.subplots()\n",
    "\n",
    "read_time = [csv_gzip_read_time, csv_zstd_read_time, csv_zstd10_read_time, parquet_snappy_read_time, parquet_zstd_read_time]\n",
    "# write_time = [csv_gzip_write_time, csv_zstd_write_time, snappy_write_time, zst_parquet_write_time]\n",
    "write_time = [csv_gzip_write_time, csv_zstd_write_time, csv_zstd10_write_time, parquet_snappy_write_time, parquet_zstd_write_time]\n",
    "\n",
    "rects1 = ax.bar(x - width/2, read_time, width, label='READ')\n",
    "rects2 = ax.bar(x + width/2, write_time, width, label='WRITE')\n",
    "\n",
    "ax.set_ylabel('Time (s) - Lower is Better')\n",
    "ax.set_title('Operation')\n",
    "ax.set_xticks(x, x_labels)\n",
    "ax.legend()\n",
    "\n",
    "ax.bar_label(rects1, padding=3)\n",
    "ax.bar_label(rects2, padding=3)\n",
    "\n",
    "fig.tight_layout()\n",
    "\n",
    "plt.title('Read/Write times for Various File Types + Compression Algorithms')\n",
    "plt.show()"
   ]
  },
  {
   "cell_type": "code",
   "execution_count": 24,
   "metadata": {},
   "outputs": [
    {
     "data": {
      "image/png": "[encoded data removed]",
      "text/plain": [
       "<Figure size 432x288 with 1 Axes>"
      ]
     },
     "metadata": {
      "needs_background": "light"
     },
     "output_type": "display_data"
    }
   ],
   "source": [
    "plt.bar(x_labels, read_time)\n",
    "plt.xlabel('File Type')\n",
    "plt.ylabel('Read Time (s)')\n",
    "\n",
    "plt.show()"
   ]
  },
  {
   "cell_type": "code",
   "execution_count": 25,
   "metadata": {},
   "outputs": [
    {
     "data": {
      "image/png": "[encoded data removed]",
      "text/plain": [
       "<Figure size 432x288 with 1 Axes>"
      ]
     },
     "metadata": {
      "needs_background": "light"
     },
     "output_type": "display_data"
    }
   ],
   "source": [
    "plt.bar(x_labels, write_time)\n",
    "plt.xlabel('File Type')\n",
    "plt.ylabel('Write Time (s)')\n",
    "\n",
    "plt.show()"
   ]
  }
 ],
 "metadata": {
  "kernelspec": {
   "display_name": "Python 3.8.10 ('env': venv)",
   "language": "python",
   "name": "python3"
  },
  "language_info": {
   "codemirror_mode": {
    "name": "ipython",
    "version": 3
   },
   "file_extension": ".py",
   "mimetype": "text/x-python",
   "name": "python",
   "nbconvert_exporter": "python",
   "pygments_lexer": "ipython3",
   "version": "3.8.10"
  },
  "orig_nbformat": 4,
  "vscode": {
   "interpreter": {
    "hash": "99207027a3abb1e120e2013d5a83e642456faefc5cbc1acefa0d682e37a8f4b0"
   }
  }
 },
 "nbformat": 4,
 "nbformat_minor": 2
}
