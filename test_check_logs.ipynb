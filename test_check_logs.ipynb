{
 "cells": [
  {
   "cell_type": "code",
   "execution_count": 19,
   "metadata": {},
   "outputs": [],
   "source": [
    "import pandas as pd\n",
    "import lib.io_ as io\n",
    "import config"
   ]
  },
  {
   "cell_type": "code",
   "execution_count": 24,
   "metadata": {},
   "outputs": [
    {
     "data": {
      "text/html": [
       "<div>\n",
       "<style scoped>\n",
       "    .dataframe tbody tr th:only-of-type {\n",
       "        vertical-align: middle;\n",
       "    }\n",
       "\n",
       "    .dataframe tbody tr th {\n",
       "        vertical-align: top;\n",
       "    }\n",
       "\n",
       "    .dataframe thead th {\n",
       "        text-align: right;\n",
       "    }\n",
       "</style>\n",
       "<table border=\"1\" class=\"dataframe\">\n",
       "  <thead>\n",
       "    <tr style=\"text-align: right;\">\n",
       "      <th></th>\n",
       "      <th>path</th>\n",
       "      <th>log_value</th>\n",
       "      <th>time_taken</th>\n",
       "      <th>timestamp</th>\n",
       "    </tr>\n",
       "  </thead>\n",
       "  <tbody>\n",
       "    <tr>\n",
       "      <th>0</th>\n",
       "      <td>/data/mlhd-zstd/00/0000119c-0f93-4e28-894b-14d...</td>\n",
       "      <td>75487</td>\n",
       "      <td>26.53</td>\n",
       "      <td>4.453654e+06</td>\n",
       "    </tr>\n",
       "    <tr>\n",
       "      <th>1</th>\n",
       "      <td>/data/mlhd-zstd/00/00003c83-a3a0-4720-821a-1f3...</td>\n",
       "      <td>10954</td>\n",
       "      <td>1.35</td>\n",
       "      <td>4.453656e+06</td>\n",
       "    </tr>\n",
       "    <tr>\n",
       "      <th>2</th>\n",
       "      <td>/data/mlhd-zstd/00/00004b7e-33e5-43d2-a1e3-a08...</td>\n",
       "      <td>35033</td>\n",
       "      <td>4.35</td>\n",
       "      <td>4.453660e+06</td>\n",
       "    </tr>\n",
       "    <tr>\n",
       "      <th>3</th>\n",
       "      <td>/data/mlhd-zstd/00/00006438-6f47-48f6-a41f-09f...</td>\n",
       "      <td>74254</td>\n",
       "      <td>8.10</td>\n",
       "      <td>4.453668e+06</td>\n",
       "    </tr>\n",
       "    <tr>\n",
       "      <th>4</th>\n",
       "      <td>/data/mlhd-zstd/00/000074e8-72eb-48f3-9c8e-ea5...</td>\n",
       "      <td>19572</td>\n",
       "      <td>2.24</td>\n",
       "      <td>4.453670e+06</td>\n",
       "    </tr>\n",
       "  </tbody>\n",
       "</table>\n",
       "</div>"
      ],
      "text/plain": [
       "                                                path  log_value  time_taken  \\\n",
       "0  /data/mlhd-zstd/00/0000119c-0f93-4e28-894b-14d...      75487       26.53   \n",
       "1  /data/mlhd-zstd/00/00003c83-a3a0-4720-821a-1f3...      10954        1.35   \n",
       "2  /data/mlhd-zstd/00/00004b7e-33e5-43d2-a1e3-a08...      35033        4.35   \n",
       "3  /data/mlhd-zstd/00/00006438-6f47-48f6-a41f-09f...      74254        8.10   \n",
       "4  /data/mlhd-zstd/00/000074e8-72eb-48f3-9c8e-ea5...      19572        2.24   \n",
       "\n",
       "      timestamp  \n",
       "0  4.453654e+06  \n",
       "1  4.453656e+06  \n",
       "2  4.453660e+06  \n",
       "3  4.453668e+06  \n",
       "4  4.453670e+06  "
      ]
     },
     "execution_count": 24,
     "metadata": {},
     "output_type": "execute_result"
    }
   ],
   "source": [
    "df = pd.read_csv('warehouse/logs/clean_master_log.csv')\n",
    "df.head()"
   ]
  },
  {
   "cell_type": "code",
   "execution_count": 28,
   "metadata": {},
   "outputs": [
    {
     "data": {
      "text/html": [
       "<div>\n",
       "<style scoped>\n",
       "    .dataframe tbody tr th:only-of-type {\n",
       "        vertical-align: middle;\n",
       "    }\n",
       "\n",
       "    .dataframe tbody tr th {\n",
       "        vertical-align: top;\n",
       "    }\n",
       "\n",
       "    .dataframe thead th {\n",
       "        text-align: right;\n",
       "    }\n",
       "</style>\n",
       "<table border=\"1\" class=\"dataframe\">\n",
       "  <thead>\n",
       "    <tr style=\"text-align: right;\">\n",
       "      <th></th>\n",
       "      <th>path</th>\n",
       "      <th>log_value</th>\n",
       "      <th>time_taken</th>\n",
       "      <th>timestamp</th>\n",
       "      <th>time_per_100000_rows</th>\n",
       "    </tr>\n",
       "  </thead>\n",
       "  <tbody>\n",
       "    <tr>\n",
       "      <th>0</th>\n",
       "      <td>/data/mlhd-zstd/00/0000119c-0f93-4e28-894b-14d...</td>\n",
       "      <td>75487</td>\n",
       "      <td>26.53</td>\n",
       "      <td>4.453654e+06</td>\n",
       "      <td>3.514512</td>\n",
       "    </tr>\n",
       "    <tr>\n",
       "      <th>1</th>\n",
       "      <td>/data/mlhd-zstd/00/00003c83-a3a0-4720-821a-1f3...</td>\n",
       "      <td>10954</td>\n",
       "      <td>1.35</td>\n",
       "      <td>4.453656e+06</td>\n",
       "      <td>1.232427</td>\n",
       "    </tr>\n",
       "    <tr>\n",
       "      <th>2</th>\n",
       "      <td>/data/mlhd-zstd/00/00004b7e-33e5-43d2-a1e3-a08...</td>\n",
       "      <td>35033</td>\n",
       "      <td>4.35</td>\n",
       "      <td>4.453660e+06</td>\n",
       "      <td>1.241686</td>\n",
       "    </tr>\n",
       "    <tr>\n",
       "      <th>3</th>\n",
       "      <td>/data/mlhd-zstd/00/00006438-6f47-48f6-a41f-09f...</td>\n",
       "      <td>74254</td>\n",
       "      <td>8.10</td>\n",
       "      <td>4.453668e+06</td>\n",
       "      <td>1.090850</td>\n",
       "    </tr>\n",
       "    <tr>\n",
       "      <th>4</th>\n",
       "      <td>/data/mlhd-zstd/00/000074e8-72eb-48f3-9c8e-ea5...</td>\n",
       "      <td>19572</td>\n",
       "      <td>2.24</td>\n",
       "      <td>4.453670e+06</td>\n",
       "      <td>1.144492</td>\n",
       "    </tr>\n",
       "    <tr>\n",
       "      <th>5</th>\n",
       "      <td>/data/mlhd-zstd/00/00008118-11c8-4d45-b112-a4c...</td>\n",
       "      <td>30401</td>\n",
       "      <td>3.57</td>\n",
       "      <td>4.453674e+06</td>\n",
       "      <td>1.174303</td>\n",
       "    </tr>\n",
       "    <tr>\n",
       "      <th>6</th>\n",
       "      <td>/data/mlhd-zstd/00/0000a92b-f14b-4f08-b175-3d4...</td>\n",
       "      <td>6339</td>\n",
       "      <td>0.73</td>\n",
       "      <td>4.453675e+06</td>\n",
       "      <td>1.151601</td>\n",
       "    </tr>\n",
       "    <tr>\n",
       "      <th>7</th>\n",
       "      <td>/data/mlhd-zstd/00/0000c6cd-c8c2-4d83-8243-5d0...</td>\n",
       "      <td>28222</td>\n",
       "      <td>3.05</td>\n",
       "      <td>4.453678e+06</td>\n",
       "      <td>1.080717</td>\n",
       "    </tr>\n",
       "    <tr>\n",
       "      <th>8</th>\n",
       "      <td>/data/mlhd-zstd/00/0000c8a0-7f76-4c7a-8602-080...</td>\n",
       "      <td>9669</td>\n",
       "      <td>1.15</td>\n",
       "      <td>4.453679e+06</td>\n",
       "      <td>1.189368</td>\n",
       "    </tr>\n",
       "    <tr>\n",
       "      <th>9</th>\n",
       "      <td>/data/mlhd-zstd/00/0000ef9e-b9ea-4a08-b164-0a6...</td>\n",
       "      <td>14703</td>\n",
       "      <td>1.60</td>\n",
       "      <td>4.453680e+06</td>\n",
       "      <td>1.088213</td>\n",
       "    </tr>\n",
       "    <tr>\n",
       "      <th>10</th>\n",
       "      <td>/data/mlhd-zstd/00/00010029-b8aa-46d8-82cd-5f2...</td>\n",
       "      <td>28947</td>\n",
       "      <td>3.26</td>\n",
       "      <td>4.453684e+06</td>\n",
       "      <td>1.126196</td>\n",
       "    </tr>\n",
       "    <tr>\n",
       "      <th>11</th>\n",
       "      <td>/data/mlhd-zstd/00/00010059-d70f-490b-b4dc-e9d...</td>\n",
       "      <td>24231</td>\n",
       "      <td>2.80</td>\n",
       "      <td>4.453687e+06</td>\n",
       "      <td>1.155545</td>\n",
       "    </tr>\n",
       "    <tr>\n",
       "      <th>12</th>\n",
       "      <td>/data/mlhd-zstd/00/000111bb-c432-42d1-adf6-161...</td>\n",
       "      <td>11026</td>\n",
       "      <td>1.25</td>\n",
       "      <td>4.453688e+06</td>\n",
       "      <td>1.133684</td>\n",
       "    </tr>\n",
       "    <tr>\n",
       "      <th>13</th>\n",
       "      <td>/data/mlhd-zstd/00/000136a6-a047-4ac3-beaa-c0e...</td>\n",
       "      <td>43238</td>\n",
       "      <td>4.54</td>\n",
       "      <td>4.453692e+06</td>\n",
       "      <td>1.050002</td>\n",
       "    </tr>\n",
       "    <tr>\n",
       "      <th>14</th>\n",
       "      <td>/data/mlhd-zstd/00/000141ed-7987-4e69-b3d3-ff5...</td>\n",
       "      <td>24237</td>\n",
       "      <td>2.53</td>\n",
       "      <td>4.453695e+06</td>\n",
       "      <td>1.043859</td>\n",
       "    </tr>\n",
       "    <tr>\n",
       "      <th>15</th>\n",
       "      <td>/data/mlhd-zstd/00/00014733-1924-47ef-8095-951...</td>\n",
       "      <td>21936</td>\n",
       "      <td>2.47</td>\n",
       "      <td>4.453704e+06</td>\n",
       "      <td>1.126003</td>\n",
       "    </tr>\n",
       "    <tr>\n",
       "      <th>16</th>\n",
       "      <td>/data/mlhd-zstd/00/00014b37-d53c-46b5-a59c-352...</td>\n",
       "      <td>34895</td>\n",
       "      <td>4.08</td>\n",
       "      <td>4.453708e+06</td>\n",
       "      <td>1.169222</td>\n",
       "    </tr>\n",
       "    <tr>\n",
       "      <th>17</th>\n",
       "      <td>/data/mlhd-zstd/00/0001506a-555e-4efc-8478-229...</td>\n",
       "      <td>21042</td>\n",
       "      <td>2.39</td>\n",
       "      <td>4.453710e+06</td>\n",
       "      <td>1.135824</td>\n",
       "    </tr>\n",
       "    <tr>\n",
       "      <th>18</th>\n",
       "      <td>/data/mlhd-zstd/00/00015d72-6442-4f87-bed0-3be...</td>\n",
       "      <td>22922</td>\n",
       "      <td>2.56</td>\n",
       "      <td>4.453713e+06</td>\n",
       "      <td>1.116831</td>\n",
       "    </tr>\n",
       "    <tr>\n",
       "      <th>19</th>\n",
       "      <td>/data/mlhd-zstd/00/00015f36-2ea5-4d0d-9677-54e...</td>\n",
       "      <td>17412</td>\n",
       "      <td>2.02</td>\n",
       "      <td>4.453715e+06</td>\n",
       "      <td>1.160119</td>\n",
       "    </tr>\n",
       "  </tbody>\n",
       "</table>\n",
       "</div>"
      ],
      "text/plain": [
       "                                                 path  log_value  time_taken  \\\n",
       "0   /data/mlhd-zstd/00/0000119c-0f93-4e28-894b-14d...      75487       26.53   \n",
       "1   /data/mlhd-zstd/00/00003c83-a3a0-4720-821a-1f3...      10954        1.35   \n",
       "2   /data/mlhd-zstd/00/00004b7e-33e5-43d2-a1e3-a08...      35033        4.35   \n",
       "3   /data/mlhd-zstd/00/00006438-6f47-48f6-a41f-09f...      74254        8.10   \n",
       "4   /data/mlhd-zstd/00/000074e8-72eb-48f3-9c8e-ea5...      19572        2.24   \n",
       "5   /data/mlhd-zstd/00/00008118-11c8-4d45-b112-a4c...      30401        3.57   \n",
       "6   /data/mlhd-zstd/00/0000a92b-f14b-4f08-b175-3d4...       6339        0.73   \n",
       "7   /data/mlhd-zstd/00/0000c6cd-c8c2-4d83-8243-5d0...      28222        3.05   \n",
       "8   /data/mlhd-zstd/00/0000c8a0-7f76-4c7a-8602-080...       9669        1.15   \n",
       "9   /data/mlhd-zstd/00/0000ef9e-b9ea-4a08-b164-0a6...      14703        1.60   \n",
       "10  /data/mlhd-zstd/00/00010029-b8aa-46d8-82cd-5f2...      28947        3.26   \n",
       "11  /data/mlhd-zstd/00/00010059-d70f-490b-b4dc-e9d...      24231        2.80   \n",
       "12  /data/mlhd-zstd/00/000111bb-c432-42d1-adf6-161...      11026        1.25   \n",
       "13  /data/mlhd-zstd/00/000136a6-a047-4ac3-beaa-c0e...      43238        4.54   \n",
       "14  /data/mlhd-zstd/00/000141ed-7987-4e69-b3d3-ff5...      24237        2.53   \n",
       "15  /data/mlhd-zstd/00/00014733-1924-47ef-8095-951...      21936        2.47   \n",
       "16  /data/mlhd-zstd/00/00014b37-d53c-46b5-a59c-352...      34895        4.08   \n",
       "17  /data/mlhd-zstd/00/0001506a-555e-4efc-8478-229...      21042        2.39   \n",
       "18  /data/mlhd-zstd/00/00015d72-6442-4f87-bed0-3be...      22922        2.56   \n",
       "19  /data/mlhd-zstd/00/00015f36-2ea5-4d0d-9677-54e...      17412        2.02   \n",
       "\n",
       "       timestamp  time_per_100000_rows  \n",
       "0   4.453654e+06              3.514512  \n",
       "1   4.453656e+06              1.232427  \n",
       "2   4.453660e+06              1.241686  \n",
       "3   4.453668e+06              1.090850  \n",
       "4   4.453670e+06              1.144492  \n",
       "5   4.453674e+06              1.174303  \n",
       "6   4.453675e+06              1.151601  \n",
       "7   4.453678e+06              1.080717  \n",
       "8   4.453679e+06              1.189368  \n",
       "9   4.453680e+06              1.088213  \n",
       "10  4.453684e+06              1.126196  \n",
       "11  4.453687e+06              1.155545  \n",
       "12  4.453688e+06              1.133684  \n",
       "13  4.453692e+06              1.050002  \n",
       "14  4.453695e+06              1.043859  \n",
       "15  4.453704e+06              1.126003  \n",
       "16  4.453708e+06              1.169222  \n",
       "17  4.453710e+06              1.135824  \n",
       "18  4.453713e+06              1.116831  \n",
       "19  4.453715e+06              1.160119  "
      ]
     },
     "execution_count": 28,
     "metadata": {},
     "output_type": "execute_result"
    }
   ],
   "source": [
    "df['time_per_100000_rows'] = (df['time_taken'] / df['log_value']) * 10000\n",
    "df"
   ]
  },
  {
   "cell_type": "code",
   "execution_count": 29,
   "metadata": {},
   "outputs": [
    {
     "data": {
      "text/plain": [
       "count    19.000000\n",
       "mean      1.137418\n",
       "std       0.053208\n",
       "min       1.043859\n",
       "25%       1.103841\n",
       "50%       1.135824\n",
       "75%       1.164671\n",
       "max       1.241686\n",
       "Name: time_per_100000_rows, dtype: float64"
      ]
     },
     "execution_count": 29,
     "metadata": {},
     "output_type": "execute_result"
    }
   ],
   "source": [
    "df['time_per_100000_rows'][1:].describe()"
   ]
  },
  {
   "cell_type": "code",
   "execution_count": 30,
   "metadata": {},
   "outputs": [
    {
     "name": "stdout",
     "output_type": "stream",
     "text": [
      "Total time taken: 80.57 seconds\n",
      "Total rows: 554520\n"
     ]
    }
   ],
   "source": [
    "num_rows = df.log_value.sum()\n",
    "total_time = df.time_taken.sum()\n",
    "\n",
    "print(f\"Total time taken: {round(total_time, 2)} seconds\")\n",
    "print(f\"Total rows: {num_rows}\")"
   ]
  },
  {
   "cell_type": "code",
   "execution_count": 31,
   "metadata": {},
   "outputs": [
    {
     "data": {
      "text/plain": [
       "6882.462455008068"
      ]
     },
     "execution_count": 31,
     "metadata": {},
     "output_type": "execute_result"
    }
   ],
   "source": [
    "rows_per_second = num_rows / total_time\n",
    "rows_per_second\n"
   ]
  },
  {
   "cell_type": "code",
   "execution_count": 32,
   "metadata": {},
   "outputs": [
    {
     "name": "stdout",
     "output_type": "stream",
     "text": [
      "estimated time = 6.65 days\n"
     ]
    }
   ],
   "source": [
    "eta = 27000000000 / 10000 * 0.2128 / 3600 / 24\n",
    "print(f\"estimated time = {round(eta, 2)} days\")"
   ]
  },
  {
   "cell_type": "markdown",
   "metadata": {},
   "source": [
    "# Comparing differences"
   ]
  },
  {
   "cell_type": "code",
   "execution_count": 46,
   "metadata": {},
   "outputs": [],
   "source": [
    "import os\n",
    "\n",
    "list_og = df.path.to_list()\n",
    "# list_processed = [item.replace('/data/mlhd-zstd', 'warehouse/processed_outputs') for item in list_og]\n",
    "\n",
    "list_processed = [\n",
    "    os.path.join(config.WRITE_ROOT, item.replace(\"csv\", \"txt\").replace(config.MLHD_ROOT, \"\")) for item in df.path.to_list()\n",
    "    ]"
   ]
  },
  {
   "cell_type": "code",
   "execution_count": 66,
   "metadata": {},
   "outputs": [
    {
     "name": "stdout",
     "output_type": "stream",
     "text": [
      "(554520, 4)\n",
      "(554520, 4)\n"
     ]
    },
    {
     "data": {
      "text/html": [
       "<div>\n",
       "<style scoped>\n",
       "    .dataframe tbody tr th:only-of-type {\n",
       "        vertical-align: middle;\n",
       "    }\n",
       "\n",
       "    .dataframe tbody tr th {\n",
       "        vertical-align: top;\n",
       "    }\n",
       "\n",
       "    .dataframe thead tr th {\n",
       "        text-align: left;\n",
       "    }\n",
       "</style>\n",
       "<table border=\"1\" class=\"dataframe\">\n",
       "  <thead>\n",
       "    <tr>\n",
       "      <th></th>\n",
       "      <th colspan=\"2\" halign=\"left\">artist_MBID</th>\n",
       "      <th colspan=\"2\" halign=\"left\">release_MBID</th>\n",
       "      <th colspan=\"2\" halign=\"left\">recording_MBID</th>\n",
       "    </tr>\n",
       "    <tr>\n",
       "      <th></th>\n",
       "      <th>self</th>\n",
       "      <th>other</th>\n",
       "      <th>self</th>\n",
       "      <th>other</th>\n",
       "      <th>self</th>\n",
       "      <th>other</th>\n",
       "    </tr>\n",
       "  </thead>\n",
       "  <tbody>\n",
       "    <tr>\n",
       "      <th>0</th>\n",
       "      <td>053e3289-1cab-4b44-9535-9ab1beb3b207</td>\n",
       "      <td>75167b8b-44e4-407b-9d35-effe87b223cf</td>\n",
       "      <td>03754f6b-bc0e-4ddd-8c78-82287811aa7f</td>\n",
       "      <td>e272a5ce-f1d1-415b-ab4e-fc92ed75605d</td>\n",
       "      <td>89f6f6e8-892d-4270-be69-a3007db87940</td>\n",
       "      <td>39442bc5-989f-4a79-bc68-e3f339f3108d</td>\n",
       "    </tr>\n",
       "    <tr>\n",
       "      <th>1</th>\n",
       "      <td>053e3289-1cab-4b44-9535-9ab1beb3b207</td>\n",
       "      <td>75167b8b-44e4-407b-9d35-effe87b223cf</td>\n",
       "      <td>03754f6b-bc0e-4ddd-8c78-82287811aa7f</td>\n",
       "      <td>859ab15b-4c21-4472-b365-7df42952a844</td>\n",
       "      <td>27b2baf7-d8e2-4ff9-baf5-2424e575ceb3</td>\n",
       "      <td>9554c841-cae9-4bea-b6a4-ad75e8cacefb</td>\n",
       "    </tr>\n",
       "    <tr>\n",
       "      <th>2</th>\n",
       "      <td>053e3289-1cab-4b44-9535-9ab1beb3b207</td>\n",
       "      <td>75167b8b-44e4-407b-9d35-effe87b223cf</td>\n",
       "      <td>03754f6b-bc0e-4ddd-8c78-82287811aa7f</td>\n",
       "      <td>d31d64ec-bd79-4319-81d1-538fed2bf20e</td>\n",
       "      <td>2db03a61-c7d5-48c9-8e6d-eca46751b4d0</td>\n",
       "      <td>1d790640-b175-414d-bbe9-9faf1c068b07</td>\n",
       "    </tr>\n",
       "    <tr>\n",
       "      <th>3</th>\n",
       "      <td>NaN</td>\n",
       "      <td>NaN</td>\n",
       "      <td>NaN</td>\n",
       "      <td>bd797f26-ddc1-43ae-8950-1757e28753cb</td>\n",
       "      <td>04233db6-f991-4fb2-bef9-813f95a0bf30</td>\n",
       "      <td>d4e0a590-e461-499a-8f62-b595b6c65ada</td>\n",
       "    </tr>\n",
       "    <tr>\n",
       "      <th>4</th>\n",
       "      <td>NaN</td>\n",
       "      <td>NaN</td>\n",
       "      <td>NaN</td>\n",
       "      <td>fa2f1224-17c7-4fc2-9dba-75724ff146e7</td>\n",
       "      <td>80005346-d9b5-4912-94eb-cba1b0bd0831</td>\n",
       "      <td>8fc31d34-4b5f-4084-b8c1-78e695b43e67</td>\n",
       "    </tr>\n",
       "    <tr>\n",
       "      <th>...</th>\n",
       "      <td>...</td>\n",
       "      <td>...</td>\n",
       "      <td>...</td>\n",
       "      <td>...</td>\n",
       "      <td>...</td>\n",
       "      <td>...</td>\n",
       "    </tr>\n",
       "    <tr>\n",
       "      <th>554515</th>\n",
       "      <td>17ed0092-b086-4f1c-95bf-32fb79c511c5</td>\n",
       "      <td>8f2422ab-0ec6-4c92-80c4-afe9622fab32</td>\n",
       "      <td>4885f76c-9abf-40cf-b444-f1cc1b5336d3</td>\n",
       "      <td>c318c633-cc26-43f6-9e6b-404e5c4d3114</td>\n",
       "      <td>2aad424b-01fd-43b1-b17b-129431078d76</td>\n",
       "      <td>77f8ffd9-7372-439e-9eaf-7cab9e857086</td>\n",
       "    </tr>\n",
       "    <tr>\n",
       "      <th>554516</th>\n",
       "      <td>NaN</td>\n",
       "      <td>09fd9dc8-9426-41be-84b0-c0319ea5e11e,bf710b71-...</td>\n",
       "      <td>09d74d44-9572-36ab-9c80-f86d375accb6</td>\n",
       "      <td>c2cd9e51-2424-4b97-b460-c9e5cd8dcf7d</td>\n",
       "      <td>659bfc2e-46e0-4a1d-a79b-f88c498e4f24</td>\n",
       "      <td>7c173077-bf35-4c5e-b2d5-d7f1e5d1da31</td>\n",
       "    </tr>\n",
       "    <tr>\n",
       "      <th>554517</th>\n",
       "      <td>867d4d50-0f55-446f-821a-3d13b6d51b80</td>\n",
       "      <td>c7c9ce08-020e-40a6-a213-e6eddf7855c8</td>\n",
       "      <td>07d46c7d-d950-4a28-a2f4-0b77b5aae13f</td>\n",
       "      <td>ecc596ce-ceeb-32ab-bb05-719dfdc906c6</td>\n",
       "      <td>fda73128-baee-4857-8b79-e9a1e40e1118</td>\n",
       "      <td>841a912a-0cf8-43bd-8b81-5fd544facba4</td>\n",
       "    </tr>\n",
       "    <tr>\n",
       "      <th>554518</th>\n",
       "      <td>NaN</td>\n",
       "      <td>NaN</td>\n",
       "      <td>4b9322bf-cb6d-3d24-8f80-5d5d27e36629</td>\n",
       "      <td>95b23aa4-8523-4892-83c6-e2d6a6ab5b81</td>\n",
       "      <td>7646433b-d260-4531-b07d-43f928ed653f</td>\n",
       "      <td>dc5a4332-1270-475f-b39b-aeb05ea5258a</td>\n",
       "    </tr>\n",
       "    <tr>\n",
       "      <th>554519</th>\n",
       "      <td>NaN</td>\n",
       "      <td>NaN</td>\n",
       "      <td>03ed734c-a547-4c89-a45a-4a47b701c026</td>\n",
       "      <td>7b61a0be-2648-4157-8248-135d3c2772d6</td>\n",
       "      <td>NaN</td>\n",
       "      <td>NaN</td>\n",
       "    </tr>\n",
       "  </tbody>\n",
       "</table>\n",
       "<p>475431 rows × 6 columns</p>\n",
       "</div>"
      ],
      "text/plain": [
       "                                 artist_MBID  \\\n",
       "                                        self   \n",
       "0       053e3289-1cab-4b44-9535-9ab1beb3b207   \n",
       "1       053e3289-1cab-4b44-9535-9ab1beb3b207   \n",
       "2       053e3289-1cab-4b44-9535-9ab1beb3b207   \n",
       "3                                        NaN   \n",
       "4                                        NaN   \n",
       "...                                      ...   \n",
       "554515  17ed0092-b086-4f1c-95bf-32fb79c511c5   \n",
       "554516                                   NaN   \n",
       "554517  867d4d50-0f55-446f-821a-3d13b6d51b80   \n",
       "554518                                   NaN   \n",
       "554519                                   NaN   \n",
       "\n",
       "                                                           \\\n",
       "                                                    other   \n",
       "0                    75167b8b-44e4-407b-9d35-effe87b223cf   \n",
       "1                    75167b8b-44e4-407b-9d35-effe87b223cf   \n",
       "2                    75167b8b-44e4-407b-9d35-effe87b223cf   \n",
       "3                                                     NaN   \n",
       "4                                                     NaN   \n",
       "...                                                   ...   \n",
       "554515               8f2422ab-0ec6-4c92-80c4-afe9622fab32   \n",
       "554516  09fd9dc8-9426-41be-84b0-c0319ea5e11e,bf710b71-...   \n",
       "554517               c7c9ce08-020e-40a6-a213-e6eddf7855c8   \n",
       "554518                                                NaN   \n",
       "554519                                                NaN   \n",
       "\n",
       "                                release_MBID  \\\n",
       "                                        self   \n",
       "0       03754f6b-bc0e-4ddd-8c78-82287811aa7f   \n",
       "1       03754f6b-bc0e-4ddd-8c78-82287811aa7f   \n",
       "2       03754f6b-bc0e-4ddd-8c78-82287811aa7f   \n",
       "3                                        NaN   \n",
       "4                                        NaN   \n",
       "...                                      ...   \n",
       "554515  4885f76c-9abf-40cf-b444-f1cc1b5336d3   \n",
       "554516  09d74d44-9572-36ab-9c80-f86d375accb6   \n",
       "554517  07d46c7d-d950-4a28-a2f4-0b77b5aae13f   \n",
       "554518  4b9322bf-cb6d-3d24-8f80-5d5d27e36629   \n",
       "554519  03ed734c-a547-4c89-a45a-4a47b701c026   \n",
       "\n",
       "                                              \\\n",
       "                                       other   \n",
       "0       e272a5ce-f1d1-415b-ab4e-fc92ed75605d   \n",
       "1       859ab15b-4c21-4472-b365-7df42952a844   \n",
       "2       d31d64ec-bd79-4319-81d1-538fed2bf20e   \n",
       "3       bd797f26-ddc1-43ae-8950-1757e28753cb   \n",
       "4       fa2f1224-17c7-4fc2-9dba-75724ff146e7   \n",
       "...                                      ...   \n",
       "554515  c318c633-cc26-43f6-9e6b-404e5c4d3114   \n",
       "554516  c2cd9e51-2424-4b97-b460-c9e5cd8dcf7d   \n",
       "554517  ecc596ce-ceeb-32ab-bb05-719dfdc906c6   \n",
       "554518  95b23aa4-8523-4892-83c6-e2d6a6ab5b81   \n",
       "554519  7b61a0be-2648-4157-8248-135d3c2772d6   \n",
       "\n",
       "                              recording_MBID  \\\n",
       "                                        self   \n",
       "0       89f6f6e8-892d-4270-be69-a3007db87940   \n",
       "1       27b2baf7-d8e2-4ff9-baf5-2424e575ceb3   \n",
       "2       2db03a61-c7d5-48c9-8e6d-eca46751b4d0   \n",
       "3       04233db6-f991-4fb2-bef9-813f95a0bf30   \n",
       "4       80005346-d9b5-4912-94eb-cba1b0bd0831   \n",
       "...                                      ...   \n",
       "554515  2aad424b-01fd-43b1-b17b-129431078d76   \n",
       "554516  659bfc2e-46e0-4a1d-a79b-f88c498e4f24   \n",
       "554517  fda73128-baee-4857-8b79-e9a1e40e1118   \n",
       "554518  7646433b-d260-4531-b07d-43f928ed653f   \n",
       "554519                                   NaN   \n",
       "\n",
       "                                              \n",
       "                                       other  \n",
       "0       39442bc5-989f-4a79-bc68-e3f339f3108d  \n",
       "1       9554c841-cae9-4bea-b6a4-ad75e8cacefb  \n",
       "2       1d790640-b175-414d-bbe9-9faf1c068b07  \n",
       "3       d4e0a590-e461-499a-8f62-b595b6c65ada  \n",
       "4       8fc31d34-4b5f-4084-b8c1-78e695b43e67  \n",
       "...                                      ...  \n",
       "554515  77f8ffd9-7372-439e-9eaf-7cab9e857086  \n",
       "554516  7c173077-bf35-4c5e-b2d5-d7f1e5d1da31  \n",
       "554517  841a912a-0cf8-43bd-8b81-5fd544facba4  \n",
       "554518  dc5a4332-1270-475f-b39b-aeb05ea5258a  \n",
       "554519                                   NaN  \n",
       "\n",
       "[475431 rows x 6 columns]"
      ]
     },
     "execution_count": 66,
     "metadata": {},
     "output_type": "execute_result"
    }
   ],
   "source": [
    "# df_processed = pd.read_csv(\n",
    "#     'warehouse/processed_outputs/8e/8eea1b10-56d2-4834-b07c-e8edf8132442.csv.zst',\n",
    "#     sep='\\t',\n",
    "#     header = None\n",
    "#     )\n",
    "\n",
    "# df_OG = pd.read_csv(\n",
    "#     '/data/mlhd-zstd/8e/8eea1b10-56d2-4834-b07c-e8edf8132442.csv.zst',\n",
    "#     sep='\\t',\n",
    "#     header = None\n",
    "#     )\n",
    "\n",
    "df_OG = io.load_path_file(list_og)\n",
    "print(df_OG.shape)\n",
    "df_processed = io.load_path_file(list_processed)\n",
    "print(df_processed.shape)\n",
    "\n",
    "df_OG.compare(df_processed)"
   ]
  },
  {
   "cell_type": "code",
   "execution_count": 48,
   "metadata": {},
   "outputs": [
    {
     "name": "stdout",
     "output_type": "stream",
     "text": [
      "(434378, 4)\n",
      "(432950, 4)\n",
      "% Difference in rows: 0.33%\n"
     ]
    }
   ],
   "source": [
    "df_OG.dropna(subset = 'recording_MBID', inplace = True)\n",
    "print(df_OG.shape)\n",
    "\n",
    "df_processed.dropna(subset = 'recording_MBID', inplace = True)\n",
    "print(df_processed.shape)\n",
    "\n",
    "percent_change = round(((df_OG.shape[0] - df_processed.shape[0]) / df_OG.shape[0]) * 100, 2)\n",
    "\n",
    "print(f\"% Difference in rows: {percent_change}%\")"
   ]
  },
  {
   "cell_type": "code",
   "execution_count": 49,
   "metadata": {},
   "outputs": [
    {
     "name": "stdout",
     "output_type": "stream",
     "text": [
      "(554520, 4)\n",
      "(432950, 4)\n",
      "% Absolute difference between row counts of original and processed files: 21.92%\n"
     ]
    }
   ],
   "source": [
    "df_OG = io.load_path_file(list_og)\n",
    "print(df_OG.shape)\n",
    "print(df_processed.shape)\n",
    "percent_change_absolute = round(((df_OG.shape[0] - df_processed.shape[0]) / df_OG.shape[0]) * 100, 2)\n",
    "\n",
    "print(f\"% Absolute difference between row counts of original and processed files: {percent_change_absolute}%\")"
   ]
  },
  {
   "cell_type": "code",
   "execution_count": 50,
   "metadata": {},
   "outputs": [
    {
     "name": "stdout",
     "output_type": "stream",
     "text": [
      "(554520, 4)\n",
      "(432950, 4)\n",
      "% Absolute Difference in rows: 21.67%\n"
     ]
    }
   ],
   "source": [
    "df_OG = io.load_path_file(list_og)\n",
    "print(df_OG.shape)\n",
    "print(df_processed.shape)\n",
    "percent_change_absolute = round(((df_OG.shape[0] - df_OG.dropna(subset='recording_MBID').shape[0]) / df_OG.shape[0]) * 100, 2)\n",
    "\n",
    "print(f\"% Absolute Difference in rows: {percent_change_absolute}%\")"
   ]
  },
  {
   "cell_type": "code",
   "execution_count": 51,
   "metadata": {},
   "outputs": [
    {
     "name": "stdout",
     "output_type": "stream",
     "text": [
      "Absolute difference in row counts of artist_MBID: 15.75\n"
     ]
    }
   ],
   "source": [
    "diff_artist = round(((df_OG.artist_MBID.isna().value_counts()[0] - df_processed.artist_MBID.isna().value_counts()[0]) / df_OG.artist_MBID.isna().value_counts()[0]) * 100, 2)\n",
    "print(f\"Absolute difference in row counts of artist_MBID: {diff_artist}\")"
   ]
  },
  {
   "cell_type": "code",
   "execution_count": 52,
   "metadata": {},
   "outputs": [
    {
     "name": "stdout",
     "output_type": "stream",
     "text": [
      "Absolute difference in row counts of release_MBID: -29.61\n"
     ]
    }
   ],
   "source": [
    "diff_release = round(((df_OG.release_MBID.isna().value_counts()[0] - df_processed.release_MBID.isna().value_counts()[0]) / df_OG.release_MBID.isna().value_counts()[0]) * 100, 2)\n",
    "print(f\"Absolute difference in row counts of release_MBID: {diff_release}\")"
   ]
  },
  {
   "cell_type": "code",
   "execution_count": 53,
   "metadata": {},
   "outputs": [
    {
     "name": "stdout",
     "output_type": "stream",
     "text": [
      "Absolute difference in row counts of recording_MBID: 0.33\n"
     ]
    }
   ],
   "source": [
    "diff_recording = round(((df_OG.recording_MBID.isna().value_counts()[0] - df_processed.recording_MBID.isna().value_counts()[0]) / df_OG.recording_MBID.isna().value_counts()[0]) * 100, 2)\n",
    "print(f\"Absolute difference in row counts of recording_MBID: {diff_recording}\")"
   ]
  },
  {
   "cell_type": "code",
   "execution_count": 54,
   "metadata": {},
   "outputs": [
    {
     "data": {
      "text/plain": [
       "[False    434378\n",
       " True     120142\n",
       " Name: recording_MBID, dtype: int64,\n",
       " False    333403\n",
       " True     221117\n",
       " Name: release_MBID, dtype: int64,\n",
       " False    512918\n",
       " True      41602\n",
       " Name: artist_MBID, dtype: int64]"
      ]
     },
     "execution_count": 54,
     "metadata": {},
     "output_type": "execute_result"
    }
   ],
   "source": [
    "ls_counts_og = [df_OG.iloc[:, 3].isna().value_counts(),\n",
    "df_OG.iloc[:, 2].isna().value_counts(),\n",
    "df_OG.iloc[:, 1].isna().value_counts()]\n",
    "\n",
    "ls_counts_og"
   ]
  },
  {
   "cell_type": "code",
   "execution_count": 55,
   "metadata": {},
   "outputs": [
    {
     "data": {
      "text/plain": [
       "[False    432950\n",
       " Name: recording_MBID, dtype: int64,\n",
       " False    432120\n",
       " True        830\n",
       " Name: release_MBID, dtype: int64,\n",
       " False    432120\n",
       " True        830\n",
       " Name: artist_MBID, dtype: int64]"
      ]
     },
     "execution_count": 55,
     "metadata": {},
     "output_type": "execute_result"
    }
   ],
   "source": [
    "ls_counts_processed = [df_processed.iloc[:, 3].isna().value_counts(),\n",
    "df_processed.iloc[:, 2].isna().value_counts(),\n",
    "df_processed.iloc[:, 1].isna().value_counts()]\n",
    "\n",
    "ls_counts_processed"
   ]
  },
  {
   "cell_type": "code",
   "execution_count": 56,
   "metadata": {},
   "outputs": [
    {
     "name": "stdout",
     "output_type": "stream",
     "text": [
      "artist_MBID % change: -0.26\n",
      "release_MBID % change: 17.8\n",
      "recording_MBID % change: -14.57\n"
     ]
    }
   ],
   "source": [
    "for og, processed, name in zip(ls_counts_og, ls_counts_processed, ['artist_MBID', 'release_MBID', 'recording_MBID']):\n",
    "    percent_change = round(-((og[0] - processed[0]) / og.sum())*100, 2)\n",
    "    print(f'{name} % change: {percent_change}')"
   ]
  }
 ],
 "metadata": {
  "kernelspec": {
   "display_name": "Python 3.8.10 ('env': venv)",
   "language": "python",
   "name": "python3"
  },
  "language_info": {
   "codemirror_mode": {
    "name": "ipython",
    "version": 3
   },
   "file_extension": ".py",
   "mimetype": "text/x-python",
   "name": "python",
   "nbconvert_exporter": "python",
   "pygments_lexer": "ipython3",
   "version": "3.8.10"
  },
  "orig_nbformat": 4,
  "vscode": {
   "interpreter": {
    "hash": "99207027a3abb1e120e2013d5a83e642456faefc5cbc1acefa0d682e37a8f4b0"
   }
  }
 },
 "nbformat": 4,
 "nbformat_minor": 2
}
