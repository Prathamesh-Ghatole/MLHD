{
 "cells": [
  {
   "cell_type": "code",
   "execution_count": 4,
   "metadata": {},
   "outputs": [],
   "source": [
    "import lib.io_ as io\n",
    "import pandas as pd"
   ]
  },
  {
   "cell_type": "code",
   "execution_count": 5,
   "metadata": {},
   "outputs": [
    {
     "name": "stdout",
     "output_type": "stream",
     "text": [
      "CPU times: user 5.48 s, sys: 490 ms, total: 5.97 s\n",
      "Wall time: 5.98 s\n"
     ]
    },
    {
     "data": {
      "text/html": [
       "<div>\n",
       "<style scoped>\n",
       "    .dataframe tbody tr th:only-of-type {\n",
       "        vertical-align: middle;\n",
       "    }\n",
       "\n",
       "    .dataframe tbody tr th {\n",
       "        vertical-align: top;\n",
       "    }\n",
       "\n",
       "    .dataframe thead th {\n",
       "        text-align: right;\n",
       "    }\n",
       "</style>\n",
       "<table border=\"1\" class=\"dataframe\">\n",
       "  <thead>\n",
       "    <tr style=\"text-align: right;\">\n",
       "      <th></th>\n",
       "      <th>timestamp</th>\n",
       "      <th>mlhd_artist_mbid</th>\n",
       "      <th>mlhd_recording_mbid</th>\n",
       "    </tr>\n",
       "  </thead>\n",
       "  <tbody>\n",
       "    <tr>\n",
       "      <th>0</th>\n",
       "      <td>1108412731</td>\n",
       "      <td>f4a31f0a-51dd-4fa7-986d-3095c40c5ed9</td>\n",
       "      <td>1deb956c-5439-4fbb-b026-5adb4330a934</td>\n",
       "    </tr>\n",
       "    <tr>\n",
       "      <th>1</th>\n",
       "      <td>1108422818</td>\n",
       "      <td>db999c3f-f243-4a5f-88d6-0c25243b6661</td>\n",
       "      <td>14e9eb4e-155d-46ff-9a83-a8d5e1936c81</td>\n",
       "    </tr>\n",
       "    <tr>\n",
       "      <th>2</th>\n",
       "      <td>1108423325</td>\n",
       "      <td>ce58d854-7430-4231-aa44-97f0144b3372</td>\n",
       "      <td>eced9a9b-cd59-40f8-a580-f27094bd8a89</td>\n",
       "    </tr>\n",
       "    <tr>\n",
       "      <th>3</th>\n",
       "      <td>1108594566</td>\n",
       "      <td>e6e879c0-3d56-4f12-b3c5-3ce459661a8e</td>\n",
       "      <td>0a8e9fce-b54c-45dd-8081-4aaa654ef4ec</td>\n",
       "    </tr>\n",
       "    <tr>\n",
       "      <th>4</th>\n",
       "      <td>1108679759</td>\n",
       "      <td>3c0a0074-4f26-4d3b-b723-a66bf6cc3753</td>\n",
       "      <td>06a5b648-0950-4892-a975-715291a5de6f</td>\n",
       "    </tr>\n",
       "  </tbody>\n",
       "</table>\n",
       "</div>"
      ],
      "text/plain": [
       "    timestamp                      mlhd_artist_mbid  \\\n",
       "0  1108412731  f4a31f0a-51dd-4fa7-986d-3095c40c5ed9   \n",
       "1  1108422818  db999c3f-f243-4a5f-88d6-0c25243b6661   \n",
       "2  1108423325  ce58d854-7430-4231-aa44-97f0144b3372   \n",
       "3  1108594566  e6e879c0-3d56-4f12-b3c5-3ce459661a8e   \n",
       "4  1108679759  3c0a0074-4f26-4d3b-b723-a66bf6cc3753   \n",
       "\n",
       "                    mlhd_recording_mbid  \n",
       "0  1deb956c-5439-4fbb-b026-5adb4330a934  \n",
       "1  14e9eb4e-155d-46ff-9a83-a8d5e1936c81  \n",
       "2  eced9a9b-cd59-40f8-a580-f27094bd8a89  \n",
       "3  0a8e9fce-b54c-45dd-8081-4aaa654ef4ec  \n",
       "4  06a5b648-0950-4892-a975-715291a5de6f  "
      ]
     },
     "execution_count": 5,
     "metadata": {},
     "output_type": "execute_result"
    }
   ],
   "source": [
    "%%time\n",
    "df = io.load_path_file('random_file_paths.txt', drop_subset = ['recording_MBID', 'artist_MBID'])\n",
    "df.drop(['release_MBID'], axis = 1, inplace = True)\n",
    "df.drop_duplicates(['artist_MBID', 'recording_MBID'], inplace = True)\n",
    "df.rename({'artist_MBID': 'mlhd_artist_mbid', 'recording_MBID': 'mlhd_recording_mbid'}, inplace=True, axis=1)\n",
    "df.reset_index(inplace=True, drop=True)\n",
    "\n",
    "df.head()"
   ]
  },
  {
   "cell_type": "code",
   "execution_count": 6,
   "metadata": {},
   "outputs": [
    {
     "name": "stdout",
     "output_type": "stream",
     "text": [
      "CPU times: user 23.6 s, sys: 8.87 s, total: 32.5 s\n",
      "Wall time: 28.2 s\n"
     ]
    }
   ],
   "source": [
    "%%time\n",
    "# MB_rec_names = mb.get_recording_name()\n",
    "# MB_rec_names = pd.read_parquet('warehouse/MB_tables/MB_rec_names.parquet')\n",
    "# MB_rec_names.set_index('gid', inplace=True)\n",
    "\n",
    "# MB_rec_redir = mb.get_recording_redirects()\n",
    "MB_rec_redirects = pd.read_parquet('warehouse/MB_tables/MB_rec_redirects.parquet')\n",
    "MB_rec_redirects.set_index('old', inplace=True)\n",
    "\n",
    "# MB_rec_canonical = mb.get_recording_canonical()\n",
    "MB_rec_canonical = pd.read_parquet('warehouse/MB_tables/MB_rec_canonical.parquet')\n",
    "MB_rec_canonical.set_index('old', inplace=True)\n",
    "\n",
    "MB_artist_credit_list = pd.read_parquet('warehouse/MB_tables/MB_artist_credit.parquet')\n",
    "MB_artist_credit_list.set_index('rec_gid', inplace=True)"
   ]
  },
  {
   "cell_type": "code",
   "execution_count": 8,
   "metadata": {},
   "outputs": [
    {
     "name": "stdout",
     "output_type": "stream",
     "text": [
      "CPU times: user 8.67 s, sys: 11.5 ms, total: 8.68 s\n",
      "Wall time: 8.69 s\n"
     ]
    },
    {
     "data": {
      "text/html": [
       "<div>\n",
       "<style scoped>\n",
       "    .dataframe tbody tr th:only-of-type {\n",
       "        vertical-align: middle;\n",
       "    }\n",
       "\n",
       "    .dataframe tbody tr th {\n",
       "        vertical-align: top;\n",
       "    }\n",
       "\n",
       "    .dataframe thead th {\n",
       "        text-align: right;\n",
       "    }\n",
       "</style>\n",
       "<table border=\"1\" class=\"dataframe\">\n",
       "  <thead>\n",
       "    <tr style=\"text-align: right;\">\n",
       "      <th></th>\n",
       "      <th>timestamp</th>\n",
       "      <th>mlhd_artist_mbid</th>\n",
       "      <th>mlhd_recording_mbid</th>\n",
       "      <th>mlhd_canonical_mbid</th>\n",
       "      <th>rec_name</th>\n",
       "      <th>artist_credit</th>\n",
       "    </tr>\n",
       "  </thead>\n",
       "  <tbody>\n",
       "    <tr>\n",
       "      <th>0</th>\n",
       "      <td>1108412731</td>\n",
       "      <td>f4a31f0a-51dd-4fa7-986d-3095c40c5ed9</td>\n",
       "      <td>1deb956c-5439-4fbb-b026-5adb4330a934</td>\n",
       "      <td>1deb956c-5439-4fbb-b026-5adb4330a934</td>\n",
       "      <td>Anywhere</td>\n",
       "      <td>Evanescence</td>\n",
       "    </tr>\n",
       "    <tr>\n",
       "      <th>1</th>\n",
       "      <td>1108422818</td>\n",
       "      <td>db999c3f-f243-4a5f-88d6-0c25243b6661</td>\n",
       "      <td>14e9eb4e-155d-46ff-9a83-a8d5e1936c81</td>\n",
       "      <td>b0e80c50-6bca-415c-9515-1b4983329b80</td>\n",
       "      <td>Lady Lady</td>\n",
       "      <td>Mark Joseph</td>\n",
       "    </tr>\n",
       "    <tr>\n",
       "      <th>2</th>\n",
       "      <td>1108423325</td>\n",
       "      <td>ce58d854-7430-4231-aa44-97f0144b3372</td>\n",
       "      <td>eced9a9b-cd59-40f8-a580-f27094bd8a89</td>\n",
       "      <td>6ae8e64a-d208-4f4e-8d88-155ed0568344</td>\n",
       "      <td>Building a Mystery</td>\n",
       "      <td>Sarah McLachlan</td>\n",
       "    </tr>\n",
       "    <tr>\n",
       "      <th>3</th>\n",
       "      <td>1108594566</td>\n",
       "      <td>e6e879c0-3d56-4f12-b3c5-3ce459661a8e</td>\n",
       "      <td>0a8e9fce-b54c-45dd-8081-4aaa654ef4ec</td>\n",
       "      <td>da1308d1-6037-4ba1-b6fc-a643a4201140</td>\n",
       "      <td>Hallelujah</td>\n",
       "      <td>Jeff Buckley</td>\n",
       "    </tr>\n",
       "    <tr>\n",
       "      <th>4</th>\n",
       "      <td>1108679759</td>\n",
       "      <td>3c0a0074-4f26-4d3b-b723-a66bf6cc3753</td>\n",
       "      <td>06a5b648-0950-4892-a975-715291a5de6f</td>\n",
       "      <td>a2a800b4-4969-4bc6-88e9-6928b973890c</td>\n",
       "      <td>Penny &amp; Me</td>\n",
       "      <td>Hanson</td>\n",
       "    </tr>\n",
       "  </tbody>\n",
       "</table>\n",
       "</div>"
      ],
      "text/plain": [
       "    timestamp                      mlhd_artist_mbid  \\\n",
       "0  1108412731  f4a31f0a-51dd-4fa7-986d-3095c40c5ed9   \n",
       "1  1108422818  db999c3f-f243-4a5f-88d6-0c25243b6661   \n",
       "2  1108423325  ce58d854-7430-4231-aa44-97f0144b3372   \n",
       "3  1108594566  e6e879c0-3d56-4f12-b3c5-3ce459661a8e   \n",
       "4  1108679759  3c0a0074-4f26-4d3b-b723-a66bf6cc3753   \n",
       "\n",
       "                    mlhd_recording_mbid                   mlhd_canonical_mbid  \\\n",
       "0  1deb956c-5439-4fbb-b026-5adb4330a934  1deb956c-5439-4fbb-b026-5adb4330a934   \n",
       "1  14e9eb4e-155d-46ff-9a83-a8d5e1936c81  b0e80c50-6bca-415c-9515-1b4983329b80   \n",
       "2  eced9a9b-cd59-40f8-a580-f27094bd8a89  6ae8e64a-d208-4f4e-8d88-155ed0568344   \n",
       "3  0a8e9fce-b54c-45dd-8081-4aaa654ef4ec  da1308d1-6037-4ba1-b6fc-a643a4201140   \n",
       "4  06a5b648-0950-4892-a975-715291a5de6f  a2a800b4-4969-4bc6-88e9-6928b973890c   \n",
       "\n",
       "             rec_name    artist_credit  \n",
       "0            Anywhere      Evanescence  \n",
       "1           Lady Lady      Mark Joseph  \n",
       "2  Building a Mystery  Sarah McLachlan  \n",
       "3          Hallelujah     Jeff Buckley  \n",
       "4          Penny & Me           Hanson  "
      ]
     },
     "execution_count": 8,
     "metadata": {},
     "output_type": "execute_result"
    }
   ],
   "source": [
    "%%time\n",
    "### mlhd_recording_mbid ###\n",
    "\n",
    "df['mlhd_canonical_mbid'] = df['mlhd_recording_mbid'].map(lambda x: io.replace(x, MB_rec_redirects, 'new'))\n",
    "df['mlhd_canonical_mbid'] = df['mlhd_canonical_mbid'].map(lambda x: io.replace(x, MB_rec_canonical, 'new'))\n",
    "# df['recording_name'] = df['mlhd_canonical_mbid'].map(lambda x: replace(x, MB_rec_names, 'name'))\n",
    "\n",
    "rec_name_artist_credit = df['mlhd_canonical_mbid'].map(lambda x: io.replace_multi(x, MB_artist_credit_list))\n",
    "df['rec_name'], df['artist_credit'] = zip(*rec_name_artist_credit)\n",
    "\n",
    "df.dropna(subset = ['rec_name', 'artist_credit'], inplace=True)\n",
    "\n",
    "df.head()"
   ]
  },
  {
   "cell_type": "markdown",
   "metadata": {},
   "source": [
    "# Conflation mapping"
   ]
  },
  {
   "cell_type": "markdown",
   "metadata": {},
   "source": []
  }
 ],
 "metadata": {
  "kernelspec": {
   "display_name": "Python 3.8.10 ('env_mlhd': venv)",
   "language": "python",
   "name": "python3"
  },
  "language_info": {
   "codemirror_mode": {
    "name": "ipython",
    "version": 3
   },
   "file_extension": ".py",
   "mimetype": "text/x-python",
   "name": "python",
   "nbconvert_exporter": "python",
   "pygments_lexer": "ipython3",
   "version": "3.8.10"
  },
  "orig_nbformat": 4,
  "vscode": {
   "interpreter": {
    "hash": "a2c0c9fb1c567002394a71a6ae02f73ce4bc53d4b82f846c3c881e337285b81f"
   }
  }
 },
 "nbformat": 4,
 "nbformat_minor": 2
}
