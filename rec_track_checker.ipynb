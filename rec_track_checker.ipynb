{
 "cells": [
  {
   "cell_type": "markdown",
   "metadata": {},
   "source": [
    "# rec_track_checker\n",
    "- **Objectives**:\n",
    "    - Loop through ALL MLHD files.\n",
    "    - Check recording_mbid column for presence of any track_gid or track_gid_redirect\n",
    "    - Re-write recently read chunk in CSV+ZSTD with compression lvl 10"
   ]
  },
  {
   "cell_type": "code",
   "execution_count": 44,
   "metadata": {},
   "outputs": [],
   "source": [
    "import os\n",
    "import time\n",
    "import pandas as pd\n",
    "import lib.mb as mb\n",
    "import lib.load as load\n",
    "import json"
   ]
  },
  {
   "cell_type": "markdown",
   "metadata": {},
   "source": [
    "### Loading Files"
   ]
  },
  {
   "cell_type": "code",
   "execution_count": 2,
   "metadata": {},
   "outputs": [],
   "source": [
    "# Fetching file locations\n",
    "MLHD_ROOT = \"/data/mlhd\"\n",
    "mlhd_files = []\n",
    "\n",
    "for root, dirs, files in os.walk(MLHD_ROOT):\n",
    "    for file in files:\n",
    "        if file.endswith(\".gz\"):\n",
    "            mlhd_files.append(os.path.join(root, file))\n",
    "    \n",
    "total_files = len(mlhd_files)"
   ]
  },
  {
   "cell_type": "code",
   "execution_count": 3,
   "metadata": {},
   "outputs": [
    {
     "name": "stdout",
     "output_type": "stream",
     "text": [
      "MB_track loaded\n",
      "CPU times: user 2min 19s, sys: 5.69 s, total: 2min 25s\n",
      "Wall time: 2min 38s\n"
     ]
    },
    {
     "data": {
      "text/html": [
       "<div>\n",
       "<style scoped>\n",
       "    .dataframe tbody tr th:only-of-type {\n",
       "        vertical-align: middle;\n",
       "    }\n",
       "\n",
       "    .dataframe tbody tr th {\n",
       "        vertical-align: top;\n",
       "    }\n",
       "\n",
       "    .dataframe thead th {\n",
       "        text-align: right;\n",
       "    }\n",
       "</style>\n",
       "<table border=\"1\" class=\"dataframe\">\n",
       "  <thead>\n",
       "    <tr style=\"text-align: right;\">\n",
       "      <th></th>\n",
       "      <th>gid</th>\n",
       "    </tr>\n",
       "  </thead>\n",
       "  <tbody>\n",
       "    <tr>\n",
       "      <th>0</th>\n",
       "      <td>9b02977e-a03b-4a6b-a9a9-06e722bdcd7a</td>\n",
       "    </tr>\n",
       "    <tr>\n",
       "      <th>1</th>\n",
       "      <td>43da7544-6283-3159-84f9-537fe823a1a7</td>\n",
       "    </tr>\n",
       "    <tr>\n",
       "      <th>2</th>\n",
       "      <td>0b6b6283-a5a8-4560-9fa8-f68a430d86ea</td>\n",
       "    </tr>\n",
       "    <tr>\n",
       "      <th>3</th>\n",
       "      <td>fa124f9a-d8ea-36a3-bed3-c817fdbe13e2</td>\n",
       "    </tr>\n",
       "    <tr>\n",
       "      <th>4</th>\n",
       "      <td>e56c6d3c-09cf-33a0-81c5-ceade77c35dc</td>\n",
       "    </tr>\n",
       "  </tbody>\n",
       "</table>\n",
       "</div>"
      ],
      "text/plain": [
       "                                    gid\n",
       "0  9b02977e-a03b-4a6b-a9a9-06e722bdcd7a\n",
       "1  43da7544-6283-3159-84f9-537fe823a1a7\n",
       "2  0b6b6283-a5a8-4560-9fa8-f68a430d86ea\n",
       "3  fa124f9a-d8ea-36a3-bed3-c817fdbe13e2\n",
       "4  e56c6d3c-09cf-33a0-81c5-ceade77c35dc"
      ]
     },
     "execution_count": 3,
     "metadata": {},
     "output_type": "execute_result"
    }
   ],
   "source": [
    "%%time\n",
    "# Fetching relevant tables\n",
    "\n",
    "MB_track = mb.get_tracks()\n",
    "print(\"MB_track loaded\")\n",
    "MB_track.head()"
   ]
  },
  {
   "cell_type": "code",
   "execution_count": 4,
   "metadata": {},
   "outputs": [
    {
     "name": "stdout",
     "output_type": "stream",
     "text": [
      "MB_track_redirects_old loaded\n",
      "CPU times: user 1.12 s, sys: 48.1 ms, total: 1.16 s\n",
      "Wall time: 1.34 s\n"
     ]
    },
    {
     "data": {
      "text/html": [
       "<div>\n",
       "<style scoped>\n",
       "    .dataframe tbody tr th:only-of-type {\n",
       "        vertical-align: middle;\n",
       "    }\n",
       "\n",
       "    .dataframe tbody tr th {\n",
       "        vertical-align: top;\n",
       "    }\n",
       "\n",
       "    .dataframe thead th {\n",
       "        text-align: right;\n",
       "    }\n",
       "</style>\n",
       "<table border=\"1\" class=\"dataframe\">\n",
       "  <thead>\n",
       "    <tr style=\"text-align: right;\">\n",
       "      <th></th>\n",
       "      <th>gid</th>\n",
       "    </tr>\n",
       "  </thead>\n",
       "  <tbody>\n",
       "    <tr>\n",
       "      <th>0</th>\n",
       "      <td>d8abbf14-5945-3639-a0c9-3e9c70b1c0a4</td>\n",
       "    </tr>\n",
       "    <tr>\n",
       "      <th>1</th>\n",
       "      <td>446b27ef-92fd-3ea1-ad0a-fe1055196406</td>\n",
       "    </tr>\n",
       "    <tr>\n",
       "      <th>2</th>\n",
       "      <td>403b9e19-a135-3acc-ae69-58fb0d735036</td>\n",
       "    </tr>\n",
       "    <tr>\n",
       "      <th>3</th>\n",
       "      <td>b61dde50-de25-3802-b706-dd0d490879ae</td>\n",
       "    </tr>\n",
       "    <tr>\n",
       "      <th>4</th>\n",
       "      <td>13bee970-0129-320d-94c8-dfbc7748c692</td>\n",
       "    </tr>\n",
       "  </tbody>\n",
       "</table>\n",
       "</div>"
      ],
      "text/plain": [
       "                                    gid\n",
       "0  d8abbf14-5945-3639-a0c9-3e9c70b1c0a4\n",
       "1  446b27ef-92fd-3ea1-ad0a-fe1055196406\n",
       "2  403b9e19-a135-3acc-ae69-58fb0d735036\n",
       "3  b61dde50-de25-3802-b706-dd0d490879ae\n",
       "4  13bee970-0129-320d-94c8-dfbc7748c692"
      ]
     },
     "execution_count": 4,
     "metadata": {},
     "output_type": "execute_result"
    }
   ],
   "source": [
    "%%time\n",
    "# Fetching relevant tables\n",
    "\n",
    "MB_track_redir = mb.get_track_redirects_old()\n",
    "print(\"MB_track_redirects_old loaded\")\n",
    "MB_track_redir.head()"
   ]
  },
  {
   "cell_type": "code",
   "execution_count": 5,
   "metadata": {},
   "outputs": [],
   "source": [
    "def load_path(file_path):\n",
    "    \"\"\"Function to load a file and return a dataframe\"\"\"\n",
    "\n",
    "    \n",
    "    df = pd.read_csv(\n",
    "        file_path, sep='\\t',\n",
    "        header=None,\n",
    "        names = ['timestamp', 'artist_MBID', 'release_MBID', 'recording_MBID'],\n",
    "        dtype={'artist_MBID': str, 'release_MBID': str, 'recording_MBID': str}\n",
    "        )\n",
    "    df.drop(df[df['recording_MBID'].isna()].index, inplace=True)\n",
    "\n",
    "    return df"
   ]
  },
  {
   "cell_type": "code",
   "execution_count": 6,
   "metadata": {},
   "outputs": [
    {
     "name": "stdout",
     "output_type": "stream",
     "text": [
      "CPU times: user 88.7 ms, sys: 4.21 ms, total: 92.9 ms\n",
      "Wall time: 122 ms\n"
     ]
    },
    {
     "data": {
      "text/html": [
       "<div>\n",
       "<style scoped>\n",
       "    .dataframe tbody tr th:only-of-type {\n",
       "        vertical-align: middle;\n",
       "    }\n",
       "\n",
       "    .dataframe tbody tr th {\n",
       "        vertical-align: top;\n",
       "    }\n",
       "\n",
       "    .dataframe thead th {\n",
       "        text-align: right;\n",
       "    }\n",
       "</style>\n",
       "<table border=\"1\" class=\"dataframe\">\n",
       "  <thead>\n",
       "    <tr style=\"text-align: right;\">\n",
       "      <th></th>\n",
       "      <th>timestamp</th>\n",
       "      <th>artist_MBID</th>\n",
       "      <th>release_MBID</th>\n",
       "      <th>recording_MBID</th>\n",
       "    </tr>\n",
       "  </thead>\n",
       "  <tbody>\n",
       "    <tr>\n",
       "      <th>0</th>\n",
       "      <td>1169940836</td>\n",
       "      <td>18870405-17e8-42a7-8a4c-7c79b432019c</td>\n",
       "      <td>df0f8865-3770-4b65-b3f8-007c4d624e8c</td>\n",
       "      <td>c010d736-58c4-4860-be74-b2a231ce4830</td>\n",
       "    </tr>\n",
       "    <tr>\n",
       "      <th>1</th>\n",
       "      <td>1169941232</td>\n",
       "      <td>3132dae9-9eff-4805-ae2e-fada1af87b76</td>\n",
       "      <td>755f05f7-b994-4d15-8aa7-46c2461fcae8</td>\n",
       "      <td>250762b8-9037-41e4-8371-15002da794f1</td>\n",
       "    </tr>\n",
       "    <tr>\n",
       "      <th>2</th>\n",
       "      <td>1169941456</td>\n",
       "      <td>0a3dda11-e89e-42f1-8356-b7a6e5f68424</td>\n",
       "      <td>b0dd105a-e38f-366a-91e2-9b9b776d8c13</td>\n",
       "      <td>772e9d19-dd5c-4594-9c65-5588fe40223a</td>\n",
       "    </tr>\n",
       "    <tr>\n",
       "      <th>3</th>\n",
       "      <td>1169941664</td>\n",
       "      <td>20883363-1ea4-4d72-ad72-c0e767038f3e</td>\n",
       "      <td>a6c76014-bf81-3b15-adf5-c4175ea42c0b</td>\n",
       "      <td>2611cee8-7ebb-4bb4-8771-5172e88fa87e</td>\n",
       "    </tr>\n",
       "    <tr>\n",
       "      <th>4</th>\n",
       "      <td>1169942224</td>\n",
       "      <td>20883363-1ea4-4d72-ad72-c0e767038f3e</td>\n",
       "      <td>a6c76014-bf81-3b15-adf5-c4175ea42c0b</td>\n",
       "      <td>0af519f0-8326-490c-a57d-96114ed7a0fc</td>\n",
       "    </tr>\n",
       "    <tr>\n",
       "      <th>...</th>\n",
       "      <td>...</td>\n",
       "      <td>...</td>\n",
       "      <td>...</td>\n",
       "      <td>...</td>\n",
       "    </tr>\n",
       "    <tr>\n",
       "      <th>66115</th>\n",
       "      <td>1367236434</td>\n",
       "      <td>850a90fe-ea6a-4527-be57-5f440c88c1ef</td>\n",
       "      <td>c040773a-9768-4328-8095-e5c08bec91d2</td>\n",
       "      <td>82c98140-7d13-4787-b90b-71d08aac7792</td>\n",
       "    </tr>\n",
       "    <tr>\n",
       "      <th>66116</th>\n",
       "      <td>1367236527</td>\n",
       "      <td>850a90fe-ea6a-4527-be57-5f440c88c1ef</td>\n",
       "      <td>c040773a-9768-4328-8095-e5c08bec91d2</td>\n",
       "      <td>c3777740-483f-4e55-9562-9a191d55f30a</td>\n",
       "    </tr>\n",
       "    <tr>\n",
       "      <th>66119</th>\n",
       "      <td>1367242923</td>\n",
       "      <td>c1e98e4a-4628-4c89-a7a6-0e0171600b05</td>\n",
       "      <td>f0056c90-c5d7-488d-8377-dfb00a30591f</td>\n",
       "      <td>afbfad99-dd2e-40e2-84f6-205db42b8fae</td>\n",
       "    </tr>\n",
       "    <tr>\n",
       "      <th>66122</th>\n",
       "      <td>1367622661</td>\n",
       "      <td>429f9fbf-0a0b-4a9e-a88c-94d48aa466ed</td>\n",
       "      <td>c8207f15-25b4-4b6e-b4b6-2912725a1fb1</td>\n",
       "      <td>2c33a77a-86df-4f24-b9de-a4b127edd375</td>\n",
       "    </tr>\n",
       "    <tr>\n",
       "      <th>66124</th>\n",
       "      <td>1367623357</td>\n",
       "      <td>df1f3ceb-8050-4510-b9d4-8483379bea84</td>\n",
       "      <td>1822f7ab-d3c4-4ab0-9cb5-08c5af290755</td>\n",
       "      <td>07306177-fd08-4b0c-8cb9-06df41973bfd</td>\n",
       "    </tr>\n",
       "  </tbody>\n",
       "</table>\n",
       "<p>53441 rows × 4 columns</p>\n",
       "</div>"
      ],
      "text/plain": [
       "        timestamp                           artist_MBID  \\\n",
       "0      1169940836  18870405-17e8-42a7-8a4c-7c79b432019c   \n",
       "1      1169941232  3132dae9-9eff-4805-ae2e-fada1af87b76   \n",
       "2      1169941456  0a3dda11-e89e-42f1-8356-b7a6e5f68424   \n",
       "3      1169941664  20883363-1ea4-4d72-ad72-c0e767038f3e   \n",
       "4      1169942224  20883363-1ea4-4d72-ad72-c0e767038f3e   \n",
       "...           ...                                   ...   \n",
       "66115  1367236434  850a90fe-ea6a-4527-be57-5f440c88c1ef   \n",
       "66116  1367236527  850a90fe-ea6a-4527-be57-5f440c88c1ef   \n",
       "66119  1367242923  c1e98e4a-4628-4c89-a7a6-0e0171600b05   \n",
       "66122  1367622661  429f9fbf-0a0b-4a9e-a88c-94d48aa466ed   \n",
       "66124  1367623357  df1f3ceb-8050-4510-b9d4-8483379bea84   \n",
       "\n",
       "                               release_MBID  \\\n",
       "0      df0f8865-3770-4b65-b3f8-007c4d624e8c   \n",
       "1      755f05f7-b994-4d15-8aa7-46c2461fcae8   \n",
       "2      b0dd105a-e38f-366a-91e2-9b9b776d8c13   \n",
       "3      a6c76014-bf81-3b15-adf5-c4175ea42c0b   \n",
       "4      a6c76014-bf81-3b15-adf5-c4175ea42c0b   \n",
       "...                                     ...   \n",
       "66115  c040773a-9768-4328-8095-e5c08bec91d2   \n",
       "66116  c040773a-9768-4328-8095-e5c08bec91d2   \n",
       "66119  f0056c90-c5d7-488d-8377-dfb00a30591f   \n",
       "66122  c8207f15-25b4-4b6e-b4b6-2912725a1fb1   \n",
       "66124  1822f7ab-d3c4-4ab0-9cb5-08c5af290755   \n",
       "\n",
       "                             recording_MBID  \n",
       "0      c010d736-58c4-4860-be74-b2a231ce4830  \n",
       "1      250762b8-9037-41e4-8371-15002da794f1  \n",
       "2      772e9d19-dd5c-4594-9c65-5588fe40223a  \n",
       "3      2611cee8-7ebb-4bb4-8771-5172e88fa87e  \n",
       "4      0af519f0-8326-490c-a57d-96114ed7a0fc  \n",
       "...                                     ...  \n",
       "66115  82c98140-7d13-4787-b90b-71d08aac7792  \n",
       "66116  c3777740-483f-4e55-9562-9a191d55f30a  \n",
       "66119  afbfad99-dd2e-40e2-84f6-205db42b8fae  \n",
       "66122  2c33a77a-86df-4f24-b9de-a4b127edd375  \n",
       "66124  07306177-fd08-4b0c-8cb9-06df41973bfd  \n",
       "\n",
       "[53441 rows x 4 columns]"
      ]
     },
     "execution_count": 6,
     "metadata": {},
     "output_type": "execute_result"
    }
   ],
   "source": [
    "%%time\n",
    "df_test = load_path(mlhd_files[50])\n",
    "df_test"
   ]
  },
  {
   "cell_type": "code",
   "execution_count": 7,
   "metadata": {},
   "outputs": [
    {
     "name": "stdout",
     "output_type": "stream",
     "text": [
      "Before:\n",
      " ['c010d736-58c4-4860-be74-b2a231ce4830'\n",
      " '250762b8-9037-41e4-8371-15002da794f1'\n",
      " '772e9d19-dd5c-4594-9c65-5588fe40223a'\n",
      " '2611cee8-7ebb-4bb4-8771-5172e88fa87e'\n",
      " '0af519f0-8326-490c-a57d-96114ed7a0fc'\n",
      " '42b91da5-1508-4d64-a40a-83597177c7e2']\n"
     ]
    },
    {
     "data": {
      "text/html": [
       "<div>\n",
       "<style scoped>\n",
       "    .dataframe tbody tr th:only-of-type {\n",
       "        vertical-align: middle;\n",
       "    }\n",
       "\n",
       "    .dataframe tbody tr th {\n",
       "        vertical-align: top;\n",
       "    }\n",
       "\n",
       "    .dataframe thead th {\n",
       "        text-align: right;\n",
       "    }\n",
       "</style>\n",
       "<table border=\"1\" class=\"dataframe\">\n",
       "  <thead>\n",
       "    <tr style=\"text-align: right;\">\n",
       "      <th></th>\n",
       "      <th>timestamp</th>\n",
       "      <th>artist_MBID</th>\n",
       "      <th>release_MBID</th>\n",
       "      <th>recording_MBID</th>\n",
       "    </tr>\n",
       "  </thead>\n",
       "  <tbody>\n",
       "    <tr>\n",
       "      <th>0</th>\n",
       "      <td>1169940836</td>\n",
       "      <td>18870405-17e8-42a7-8a4c-7c79b432019c</td>\n",
       "      <td>df0f8865-3770-4b65-b3f8-007c4d624e8c</td>\n",
       "      <td>9b02977e-a03b-4a6b-a9a9-06e722bdcd7a</td>\n",
       "    </tr>\n",
       "    <tr>\n",
       "      <th>1</th>\n",
       "      <td>1169941232</td>\n",
       "      <td>3132dae9-9eff-4805-ae2e-fada1af87b76</td>\n",
       "      <td>755f05f7-b994-4d15-8aa7-46c2461fcae8</td>\n",
       "      <td>43da7544-6283-3159-84f9-537fe823a1a7</td>\n",
       "    </tr>\n",
       "    <tr>\n",
       "      <th>2</th>\n",
       "      <td>1169941456</td>\n",
       "      <td>0a3dda11-e89e-42f1-8356-b7a6e5f68424</td>\n",
       "      <td>b0dd105a-e38f-366a-91e2-9b9b776d8c13</td>\n",
       "      <td>d8abbf14-5945-3639-a0c9-3e9c70b1c0a4</td>\n",
       "    </tr>\n",
       "    <tr>\n",
       "      <th>3</th>\n",
       "      <td>1169941664</td>\n",
       "      <td>20883363-1ea4-4d72-ad72-c0e767038f3e</td>\n",
       "      <td>a6c76014-bf81-3b15-adf5-c4175ea42c0b</td>\n",
       "      <td>446b27ef-92fd-3ea1-ad0a-fe1055196406</td>\n",
       "    </tr>\n",
       "    <tr>\n",
       "      <th>4</th>\n",
       "      <td>1169942224</td>\n",
       "      <td>20883363-1ea4-4d72-ad72-c0e767038f3e</td>\n",
       "      <td>a6c76014-bf81-3b15-adf5-c4175ea42c0b</td>\n",
       "      <td>0af519f0-8326-490c-a57d-96114ed7a0fc</td>\n",
       "    </tr>\n",
       "    <tr>\n",
       "      <th>5</th>\n",
       "      <td>1169942482</td>\n",
       "      <td>20883363-1ea4-4d72-ad72-c0e767038f3e</td>\n",
       "      <td>a6c76014-bf81-3b15-adf5-c4175ea42c0b</td>\n",
       "      <td>42b91da5-1508-4d64-a40a-83597177c7e2</td>\n",
       "    </tr>\n",
       "  </tbody>\n",
       "</table>\n",
       "</div>"
      ],
      "text/plain": [
       "    timestamp                           artist_MBID  \\\n",
       "0  1169940836  18870405-17e8-42a7-8a4c-7c79b432019c   \n",
       "1  1169941232  3132dae9-9eff-4805-ae2e-fada1af87b76   \n",
       "2  1169941456  0a3dda11-e89e-42f1-8356-b7a6e5f68424   \n",
       "3  1169941664  20883363-1ea4-4d72-ad72-c0e767038f3e   \n",
       "4  1169942224  20883363-1ea4-4d72-ad72-c0e767038f3e   \n",
       "5  1169942482  20883363-1ea4-4d72-ad72-c0e767038f3e   \n",
       "\n",
       "                           release_MBID                        recording_MBID  \n",
       "0  df0f8865-3770-4b65-b3f8-007c4d624e8c  9b02977e-a03b-4a6b-a9a9-06e722bdcd7a  \n",
       "1  755f05f7-b994-4d15-8aa7-46c2461fcae8  43da7544-6283-3159-84f9-537fe823a1a7  \n",
       "2  b0dd105a-e38f-366a-91e2-9b9b776d8c13  d8abbf14-5945-3639-a0c9-3e9c70b1c0a4  \n",
       "3  a6c76014-bf81-3b15-adf5-c4175ea42c0b  446b27ef-92fd-3ea1-ad0a-fe1055196406  \n",
       "4  a6c76014-bf81-3b15-adf5-c4175ea42c0b  0af519f0-8326-490c-a57d-96114ed7a0fc  \n",
       "5  a6c76014-bf81-3b15-adf5-c4175ea42c0b  42b91da5-1508-4d64-a40a-83597177c7e2  "
      ]
     },
     "execution_count": 7,
     "metadata": {},
     "output_type": "execute_result"
    }
   ],
   "source": [
    "# df_test_positive = pd.DataFrame({\n",
    "#     'timestamp': [None, None, None, None, None],\n",
    "#     'artist_MBID': [None, None, None, None, None],\n",
    "#     'release_MBID': [None, None, None, None, None], \n",
    "#     'recording_MBID': [None, None, None, None, None]})\n",
    "\n",
    "# Taking a slice from original dataframe\n",
    "df_test_positive = df_test.dropna().iloc[:6, :]\n",
    "print(\"Before:\\n\", df_test_positive.recording_MBID.values)\n",
    "\n",
    "df_test_positive.iloc[:4, 3] = pd.concat([MB_track.gid.iloc[:2 ], MB_track_redir.gid.iloc[:2]])\n",
    "\n",
    "# In this data:\n",
    "# First 2 rows are from MB_track\n",
    "# Next 2 rows are from MB_track_redirects_old\n",
    "# Last 2 rows are from MB_track\n",
    "\n",
    "df_test_positive"
   ]
  },
  {
   "cell_type": "markdown",
   "metadata": {},
   "source": [
    "## Testing Files"
   ]
  },
  {
   "cell_type": "code",
   "execution_count": 43,
   "metadata": {},
   "outputs": [
    {
     "name": "stdout",
     "output_type": "stream",
     "text": [
      "CPU times: user 18.2 s, sys: 176 ms, total: 18.3 s\n",
      "Wall time: 18.3 s\n"
     ]
    },
    {
     "data": {
      "text/html": [
       "<div>\n",
       "<style scoped>\n",
       "    .dataframe tbody tr th:only-of-type {\n",
       "        vertical-align: middle;\n",
       "    }\n",
       "\n",
       "    .dataframe tbody tr th {\n",
       "        vertical-align: top;\n",
       "    }\n",
       "\n",
       "    .dataframe thead th {\n",
       "        text-align: right;\n",
       "    }\n",
       "</style>\n",
       "<table border=\"1\" class=\"dataframe\">\n",
       "  <thead>\n",
       "    <tr style=\"text-align: right;\">\n",
       "      <th></th>\n",
       "      <th>timestamp</th>\n",
       "      <th>artist_MBID</th>\n",
       "      <th>release_MBID</th>\n",
       "      <th>recording_MBID</th>\n",
       "    </tr>\n",
       "  </thead>\n",
       "  <tbody>\n",
       "    <tr>\n",
       "      <th>0</th>\n",
       "      <td>1169940836</td>\n",
       "      <td>18870405-17e8-42a7-8a4c-7c79b432019c</td>\n",
       "      <td>df0f8865-3770-4b65-b3f8-007c4d624e8c</td>\n",
       "      <td>9b02977e-a03b-4a6b-a9a9-06e722bdcd7a</td>\n",
       "    </tr>\n",
       "    <tr>\n",
       "      <th>1</th>\n",
       "      <td>1169941232</td>\n",
       "      <td>3132dae9-9eff-4805-ae2e-fada1af87b76</td>\n",
       "      <td>755f05f7-b994-4d15-8aa7-46c2461fcae8</td>\n",
       "      <td>43da7544-6283-3159-84f9-537fe823a1a7</td>\n",
       "    </tr>\n",
       "    <tr>\n",
       "      <th>2</th>\n",
       "      <td>1169941456</td>\n",
       "      <td>0a3dda11-e89e-42f1-8356-b7a6e5f68424</td>\n",
       "      <td>b0dd105a-e38f-366a-91e2-9b9b776d8c13</td>\n",
       "      <td>d8abbf14-5945-3639-a0c9-3e9c70b1c0a4</td>\n",
       "    </tr>\n",
       "    <tr>\n",
       "      <th>3</th>\n",
       "      <td>1169941664</td>\n",
       "      <td>20883363-1ea4-4d72-ad72-c0e767038f3e</td>\n",
       "      <td>a6c76014-bf81-3b15-adf5-c4175ea42c0b</td>\n",
       "      <td>446b27ef-92fd-3ea1-ad0a-fe1055196406</td>\n",
       "    </tr>\n",
       "  </tbody>\n",
       "</table>\n",
       "</div>"
      ],
      "text/plain": [
       "    timestamp                           artist_MBID  \\\n",
       "0  1169940836  18870405-17e8-42a7-8a4c-7c79b432019c   \n",
       "1  1169941232  3132dae9-9eff-4805-ae2e-fada1af87b76   \n",
       "2  1169941456  0a3dda11-e89e-42f1-8356-b7a6e5f68424   \n",
       "3  1169941664  20883363-1ea4-4d72-ad72-c0e767038f3e   \n",
       "\n",
       "                           release_MBID                        recording_MBID  \n",
       "0  df0f8865-3770-4b65-b3f8-007c4d624e8c  9b02977e-a03b-4a6b-a9a9-06e722bdcd7a  \n",
       "1  755f05f7-b994-4d15-8aa7-46c2461fcae8  43da7544-6283-3159-84f9-537fe823a1a7  \n",
       "2  b0dd105a-e38f-366a-91e2-9b9b776d8c13  d8abbf14-5945-3639-a0c9-3e9c70b1c0a4  \n",
       "3  a6c76014-bf81-3b15-adf5-c4175ea42c0b  446b27ef-92fd-3ea1-ad0a-fe1055196406  "
      ]
     },
     "execution_count": 43,
     "metadata": {},
     "output_type": "execute_result"
    }
   ],
   "source": [
    "%%time\n",
    "def check_rec(df):\n",
    "    \"\"\"\n",
    "    Function to check if a track is in the recording table\n",
    "    Returns a dataframe with tracks that are in recording table.\n",
    "    \"\"\"    \n",
    "    \n",
    "    in_track = df.recording_MBID.isin(MB_track.gid)\n",
    "    in_redir = df.recording_MBID.isin(MB_track_redir.gid)\n",
    "    \n",
    "    if True in in_track.values or True in in_redir.values:\n",
    "        return df[in_track | in_redir]\n",
    "    else:\n",
    "        return None\n",
    "\n",
    "    # return (in_track | in_redir)\n",
    "\n",
    "test_output = check_rec(df_test_positive)\n",
    "test_output"
   ]
  },
  {
   "cell_type": "code",
   "execution_count": 41,
   "metadata": {},
   "outputs": [],
   "source": [
    "# output_log = {\n",
    "#     'path': [], \n",
    "#     'logs': []\n",
    "#     }\n",
    "\n",
    "def log_output(output_df, path, master_log_dict):\n",
    "    \"\"\"\n",
    "    Function to log output dataframe and path\n",
    "    \"\"\"\n",
    "    \n",
    "    # Converts df to dictionary for ease of access.\n",
    "    output_df = output_df.to_dict()\n",
    "    try:\n",
    "        master_log_dict['path'].append(path)\n",
    "        master_log_dict['logs'].append(output_df)\n",
    "    except:\n",
    "        raise Exception(\"Provide a valid dictionary for logging\")\n",
    "    \n",
    "    return master_log_dict"
   ]
  },
  {
   "cell_type": "code",
   "execution_count": 40,
   "metadata": {},
   "outputs": [
    {
     "data": {
      "text/plain": [
       "{'path': ['/data/mlhd/8e/8e8c1165-2767-4b4e-864b-2410ea136897.txt.gz'],\n",
       " 'logs': [{'timestamp': {0: 1169940836,\n",
       "    1: 1169941232,\n",
       "    2: 1169941456,\n",
       "    3: 1169941664},\n",
       "   'artist_MBID': {0: '18870405-17e8-42a7-8a4c-7c79b432019c',\n",
       "    1: '3132dae9-9eff-4805-ae2e-fada1af87b76',\n",
       "    2: '0a3dda11-e89e-42f1-8356-b7a6e5f68424',\n",
       "    3: '20883363-1ea4-4d72-ad72-c0e767038f3e'},\n",
       "   'release_MBID': {0: 'df0f8865-3770-4b65-b3f8-007c4d624e8c',\n",
       "    1: '755f05f7-b994-4d15-8aa7-46c2461fcae8',\n",
       "    2: 'b0dd105a-e38f-366a-91e2-9b9b776d8c13',\n",
       "    3: 'a6c76014-bf81-3b15-adf5-c4175ea42c0b'},\n",
       "   'recording_MBID': {0: UUID('9b02977e-a03b-4a6b-a9a9-06e722bdcd7a'),\n",
       "    1: UUID('43da7544-6283-3159-84f9-537fe823a1a7'),\n",
       "    2: UUID('d8abbf14-5945-3639-a0c9-3e9c70b1c0a4'),\n",
       "    3: UUID('446b27ef-92fd-3ea1-ad0a-fe1055196406')}}]}"
      ]
     },
     "execution_count": 40,
     "metadata": {},
     "output_type": "execute_result"
    }
   ],
   "source": [
    "# Test for log_output\n",
    "output_log = {\n",
    "    'path': [], \n",
    "    'logs': []\n",
    "    }\n",
    "\n",
    "log_output(test_output, mlhd_files[50], output_log)"
   ]
  },
  {
   "cell_type": "markdown",
   "metadata": {},
   "source": [
    "## Re-Writing"
   ]
  },
  {
   "cell_type": "code",
   "execution_count": 13,
   "metadata": {},
   "outputs": [
    {
     "name": "stdout",
     "output_type": "stream",
     "text": [
      "CPU times: user 313 ms, sys: 23.9 ms, total: 337 ms\n",
      "Wall time: 335 ms\n"
     ]
    }
   ],
   "source": [
    "%%time\n",
    "df_test.to_csv('unk_ids/test.csv.zstd', index=False, compression={'method': 'zstd', 'level': 10})"
   ]
  },
  {
   "cell_type": "markdown",
   "metadata": {},
   "source": [
    "# Trying in loop"
   ]
  },
  {
   "cell_type": "markdown",
   "metadata": {},
   "source": [
    "### Algorithm\n",
    "\n",
    "define output_log_dict\n",
    "\n",
    "for path in mlhd_files:\n",
    "    1) Start time log\n",
    "    1) Read into dataframe df\n",
    "    2) output = check_rec(df)\n",
    "    3) log_output(output, path, output_log_dict)\n",
    "    4) Write original df to txt+zstd\n",
    "    5) Stop time log\n",
    "    6) \n",
    "\n",
    "\n",
    "### To-Do\n",
    "Define Global variables for storage paths, etc."
   ]
  },
  {
   "cell_type": "code",
   "execution_count": 14,
   "metadata": {},
   "outputs": [],
   "source": [
    "check_rec"
   ]
  },
  {
   "cell_type": "code",
   "execution_count": 15,
   "metadata": {},
   "outputs": [
    {
     "data": {
      "text/plain": [
       "'/data/mlhd/8e/8eddc7ca-2be9-4096-9efd-153497990e21.txt.gz'"
      ]
     },
     "execution_count": 15,
     "metadata": {},
     "output_type": "execute_result"
    }
   ],
   "source": [
    "mlhd_files[0]\n",
    "# .split('/')[-1]"
   ]
  }
 ],
 "metadata": {
  "kernelspec": {
   "display_name": "Python 3.8.10 ('env_mlhd': venv)",
   "language": "python",
   "name": "python3"
  },
  "language_info": {
   "codemirror_mode": {
    "name": "ipython",
    "version": 3
   },
   "file_extension": ".py",
   "mimetype": "text/x-python",
   "name": "python",
   "nbconvert_exporter": "python",
   "pygments_lexer": "ipython3",
   "version": "3.8.10"
  },
  "orig_nbformat": 4,
  "vscode": {
   "interpreter": {
    "hash": "a2c0c9fb1c567002394a71a6ae02f73ce4bc53d4b82f846c3c881e337285b81f"
   }
  }
 },
 "nbformat": 4,
 "nbformat_minor": 2
}
