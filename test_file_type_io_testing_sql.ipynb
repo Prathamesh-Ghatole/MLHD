{
 "cells": [
  {
   "cell_type": "code",
   "execution_count": 1,
   "metadata": {},
   "outputs": [],
   "source": [
    "import lib.mb as mb\n",
    "import pandas as pd\n",
    "import os\n",
    "import time\n",
    "import matplotlib.pyplot as plt\n",
    "from pyarrow import parquet as pq, Table as pt"
   ]
  },
  {
   "cell_type": "code",
   "execution_count": 2,
   "metadata": {},
   "outputs": [
    {
     "name": "stderr",
     "output_type": "stream",
     "text": [
      "/home/snaek/MLHD/env_mlhd/lib/python3.8/site-packages/pandas/io/sql.py:761: UserWarning: pandas only support SQLAlchemy connectable(engine/connection) ordatabase string URI or sqlite3 DBAPI2 connectionother DBAPI2 objects are not tested, please consider using SQLAlchemy\n",
      "  warnings.warn(\n"
     ]
    },
    {
     "name": "stdout",
     "output_type": "stream",
     "text": [
      "CPU times: user 9.8 s, sys: 4.14 s, total: 13.9 s\n",
      "Wall time: 26.6 s\n"
     ]
    }
   ],
   "source": [
    "%%time\n",
    "MB_track = mb.get_tracks()"
   ]
  },
  {
   "cell_type": "code",
   "execution_count": 3,
   "metadata": {},
   "outputs": [],
   "source": [
    "# stat_table = {'snap': None, 'zstd': None, 'zstd10': None}\n",
    "stat_table = {'start_r': [], 'end_r': [], 'start_w': [], 'end_w': [], 'size': []}"
   ]
  },
  {
   "cell_type": "markdown",
   "metadata": {},
   "source": [
    "### 1. Snappy"
   ]
  },
  {
   "cell_type": "code",
   "execution_count": 4,
   "metadata": {},
   "outputs": [
    {
     "name": "stdout",
     "output_type": "stream",
     "text": [
      "CPU times: user 6.84 s, sys: 2.37 s, total: 9.21 s\n",
      "Wall time: 16.1 s\n"
     ]
    }
   ],
   "source": [
    "%%time\n",
    "# write to snappy parquet\n",
    "stat_table['start_w'].append(time.monotonic())\n",
    "\n",
    "path_snap = \"unk_ids/MB_tables/MB_track.snappy.parquet\"\n",
    "MB_track.to_parquet(path_snap, compression='snappy')\n",
    "\n",
    "stat_table['end_w'].append(time.monotonic())"
   ]
  },
  {
   "cell_type": "code",
   "execution_count": 5,
   "metadata": {},
   "outputs": [
    {
     "name": "stdout",
     "output_type": "stream",
     "text": [
      "CPU times: user 11.9 s, sys: 4.26 s, total: 16.2 s\n",
      "Wall time: 15.9 s\n"
     ]
    }
   ],
   "source": [
    "%%time \n",
    "# read from snappy parquet\n",
    "stat_table['start_r'].append(time.monotonic())\n",
    "\n",
    "_ = pd.read_parquet(path_snap)\n",
    "\n",
    "stat_table['end_r'].append(time.monotonic())"
   ]
  },
  {
   "cell_type": "code",
   "execution_count": 6,
   "metadata": {},
   "outputs": [],
   "source": [
    "stat_table['size'].append(os.path.getsize(path_snap)/(1024*1024))"
   ]
  },
  {
   "cell_type": "markdown",
   "metadata": {},
   "source": [
    "### 2. ZSTD"
   ]
  },
  {
   "cell_type": "code",
   "execution_count": 7,
   "metadata": {},
   "outputs": [
    {
     "name": "stdout",
     "output_type": "stream",
     "text": [
      "CPU times: user 7.05 s, sys: 999 ms, total: 8.05 s\n",
      "Wall time: 11.4 s\n"
     ]
    }
   ],
   "source": [
    "%%time\n",
    "# to snappy parquet\n",
    "\n",
    "stat_table['start_w'].append(time.monotonic())\n",
    "\n",
    "path_zstd = \"unk_ids/MB_tables/MB_track.zstd.parquet\"\n",
    "MB_track_pt = pt.from_pandas(MB_track)\n",
    "pq.write_table(MB_track_pt, path_zstd, compression='zstd')\n",
    "\n",
    "stat_table['end_w'].append(time.monotonic())"
   ]
  },
  {
   "cell_type": "code",
   "execution_count": 8,
   "metadata": {},
   "outputs": [
    {
     "name": "stdout",
     "output_type": "stream",
     "text": [
      "CPU times: user 12 s, sys: 5.26 s, total: 17.3 s\n",
      "Wall time: 16.9 s\n"
     ]
    }
   ],
   "source": [
    "%%time \n",
    "stat_table['start_r'].append(time.monotonic())\n",
    "\n",
    "_ = pd.read_parquet(path_zstd)\n",
    "\n",
    "stat_table['end_r'].append(time.monotonic())"
   ]
  },
  {
   "cell_type": "code",
   "execution_count": 9,
   "metadata": {},
   "outputs": [],
   "source": [
    "stat_table['size'].append(os.path.getsize(path_zstd)/(1024*1024))"
   ]
  },
  {
   "cell_type": "markdown",
   "metadata": {},
   "source": [
    "### 3. zstd10"
   ]
  },
  {
   "cell_type": "code",
   "execution_count": 10,
   "metadata": {},
   "outputs": [
    {
     "name": "stdout",
     "output_type": "stream",
     "text": [
      "CPU times: user 53.7 s, sys: 1.12 s, total: 54.8 s\n",
      "Wall time: 55.8 s\n"
     ]
    }
   ],
   "source": [
    "%%time\n",
    "# to snappy parquet\n",
    "\n",
    "stat_table['start_w'].append(time.monotonic())\n",
    "\n",
    "path_zstd10 = \"unk_ids/MB_tables/MB_track.zstd10.parquet\"\n",
    "MB_track_pt = pt.from_pandas(MB_track)\n",
    "pq.write_table(MB_track_pt, path_zstd10, compression='zstd', compression_level=10)\n",
    "\n",
    "stat_table['end_w'].append(time.monotonic())"
   ]
  },
  {
   "cell_type": "code",
   "execution_count": 11,
   "metadata": {},
   "outputs": [
    {
     "name": "stdout",
     "output_type": "stream",
     "text": [
      "CPU times: user 12.9 s, sys: 4.23 s, total: 17.1 s\n",
      "Wall time: 16.9 s\n"
     ]
    }
   ],
   "source": [
    "%%time\n",
    "\n",
    "stat_table['start_r'].append(time.monotonic())\n",
    "\n",
    "_ = pd.read_parquet(path_zstd10)\n",
    "\n",
    "stat_table['end_r'].append(time.monotonic())"
   ]
  },
  {
   "cell_type": "code",
   "execution_count": 12,
   "metadata": {},
   "outputs": [],
   "source": [
    "stat_table['size'].append(os.path.getsize(path_zstd10)/(1024*1024))"
   ]
  },
  {
   "cell_type": "markdown",
   "metadata": {},
   "source": [
    "# Matplotlib"
   ]
  },
  {
   "cell_type": "code",
   "execution_count": 21,
   "metadata": {},
   "outputs": [
    {
     "data": {
      "image/png": "[encoded data removed]",
      "text/plain": [
       "<Figure size 432x288 with 1 Axes>"
      ]
     },
     "metadata": {
      "needs_background": "light"
     },
     "output_type": "display_data"
    }
   ],
   "source": [
    "# fig, sizex = plt.subplots()\n",
    "plt.bar(['snappy', 'zstd', 'zstd10'], [stat_table['size'][0], stat_table['size'][1], stat_table['size'][2]])\n",
    "plt.xlabel('Compression')\n",
    "plt.ylabel('Size (MB)')\n",
    "\n",
    "plt.show()"
   ]
  },
  {
   "cell_type": "code",
   "execution_count": 15,
   "metadata": {},
   "outputs": [
    {
     "data": {
      "image/png": "[encoded data removed]",
      "text/plain": [
       "<Figure size 432x288 with 1 Axes>"
      ]
     },
     "metadata": {
      "needs_background": "light"
     },
     "output_type": "display_data"
    }
   ],
   "source": [
    "plt.bar(['snappy', 'zstd', 'zstd10'], [stat_table['end_w'][0]-stat_table['start_w'][0], stat_table['end_w'][1]-stat_table['start_w'][1], stat_table['end_w'][2]-stat_table['start_w'][2]])\n",
    "plt.xlabel('Compression')\n",
    "plt.ylabel('Write time (s)')\n",
    "plt.show()"
   ]
  },
  {
   "cell_type": "code",
   "execution_count": 16,
   "metadata": {},
   "outputs": [
    {
     "data": {
      "image/png": "[encoded data removed]",
      "text/plain": [
       "<Figure size 432x288 with 1 Axes>"
      ]
     },
     "metadata": {
      "needs_background": "light"
     },
     "output_type": "display_data"
    }
   ],
   "source": [
    "plt.bar(['snappy', 'zstd', 'zstd10'], [stat_table['end_r'][0]-stat_table['start_r'][0], stat_table['end_r'][1]-stat_table['start_r'][1], stat_table['end_r'][2]-stat_table['start_r'][2]])\n",
    "plt.xlabel('Compression')\n",
    "plt.ylabel('Read time (s)')\n",
    "plt.show()"
   ]
  }
 ],
 "metadata": {
  "kernelspec": {
   "display_name": "Python 3.8.10 ('env_mlhd': venv)",
   "language": "python",
   "name": "python3"
  },
  "language_info": {
   "codemirror_mode": {
    "name": "ipython",
    "version": 3
   },
   "file_extension": ".py",
   "mimetype": "text/x-python",
   "name": "python",
   "nbconvert_exporter": "python",
   "pygments_lexer": "ipython3",
   "version": "3.8.10"
  },
  "orig_nbformat": 4,
  "vscode": {
   "interpreter": {
    "hash": "a2c0c9fb1c567002394a71a6ae02f73ce4bc53d4b82f846c3c881e337285b81f"
   }
  }
 },
 "nbformat": 4,
 "nbformat_minor": 2
}
