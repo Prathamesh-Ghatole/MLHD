{
 "cells": [
  {
   "cell_type": "code",
   "execution_count": 5,
   "metadata": {},
   "outputs": [
    {
     "data": {
      "text/plain": [
       "'/data/mlhd-zstd/8e/8e6492e2-b4aa-44b0-9573-37a9aad9b8c0.csv.zst'"
      ]
     },
     "execution_count": 5,
     "metadata": {},
     "output_type": "execute_result"
    }
   ],
   "source": [
    "import lib.io_ as io\n",
    "import pandas as pd\n",
    "import os\n",
    "from pyarrow import CompressedOutputStream as COS\n",
    "from pyarrow import Table as Table\n",
    "from pyarrow import _csv as csv\n",
    "from pyarrow import dataset as dataset\n",
    "from time import monotonic\n",
    "\n",
    "import config\n",
    "ENV = {name: values for name, values in vars(config).items() if not name.startswith(\"__\")}\n",
    "\n",
    "paths = io.generate_paths(ENV['MLHD_ROOT'])\n",
    "paths[50]"
   ]
  },
  {
   "cell_type": "code",
   "execution_count": 6,
   "metadata": {},
   "outputs": [
    {
     "name": "stdout",
     "output_type": "stream",
     "text": [
      "CPU times: user 96.4 ms, sys: 32.1 ms, total: 129 ms\n",
      "Wall time: 66.8 ms\n"
     ]
    },
    {
     "data": {
      "text/html": [
       "<div>\n",
       "<style scoped>\n",
       "    .dataframe tbody tr th:only-of-type {\n",
       "        vertical-align: middle;\n",
       "    }\n",
       "\n",
       "    .dataframe tbody tr th {\n",
       "        vertical-align: top;\n",
       "    }\n",
       "\n",
       "    .dataframe thead th {\n",
       "        text-align: right;\n",
       "    }\n",
       "</style>\n",
       "<table border=\"1\" class=\"dataframe\">\n",
       "  <thead>\n",
       "    <tr style=\"text-align: right;\">\n",
       "      <th></th>\n",
       "      <th>timestamp</th>\n",
       "      <th>artist_MBID</th>\n",
       "      <th>release_MBID</th>\n",
       "      <th>recording_MBID</th>\n",
       "    </tr>\n",
       "  </thead>\n",
       "  <tbody>\n",
       "    <tr>\n",
       "      <th>0</th>\n",
       "      <td>1242583679</td>\n",
       "      <td>ba85753c-671a-409e-b813-1e3be41e2a2e</td>\n",
       "      <td>0a2d7193-fc4b-418c-8581-08d2695f884a</td>\n",
       "      <td>0d7960f0-ee33-4868-8e9e-7c705558b6e5</td>\n",
       "    </tr>\n",
       "    <tr>\n",
       "      <th>1</th>\n",
       "      <td>1242583969</td>\n",
       "      <td>f660d7e2-a3bd-4456-a7be-86ec139c1016</td>\n",
       "      <td>6ecac165-0267-3822-b995-cda1282ea5b5</td>\n",
       "      <td>6afc8617-d545-4629-8151-9ee9d71c4742</td>\n",
       "    </tr>\n",
       "    <tr>\n",
       "      <th>2</th>\n",
       "      <td>1242584191</td>\n",
       "      <td>371f152d-1643-4b54-b32b-dd13d4c23442</td>\n",
       "      <td>59c844ca-4c11-452d-8330-c107892319eb</td>\n",
       "      <td>e2477990-d9b1-43b6-b8db-be03e43559c4</td>\n",
       "    </tr>\n",
       "    <tr>\n",
       "      <th>3</th>\n",
       "      <td>1242584530</td>\n",
       "      <td>98fb7792-01fa-4ed1-a15d-20077a47210f</td>\n",
       "      <td>NaN</td>\n",
       "      <td>1fdcf214-b4d5-4490-8626-5afeda04b73d</td>\n",
       "    </tr>\n",
       "    <tr>\n",
       "      <th>4</th>\n",
       "      <td>1242584820</td>\n",
       "      <td>d50a4b89-ff1f-4659-9fde-f76f8d5b3c89</td>\n",
       "      <td>NaN</td>\n",
       "      <td>657cf27c-8f4a-4758-aaaa-bd5686d7e103</td>\n",
       "    </tr>\n",
       "  </tbody>\n",
       "</table>\n",
       "</div>"
      ],
      "text/plain": [
       "    timestamp                           artist_MBID  \\\n",
       "0  1242583679  ba85753c-671a-409e-b813-1e3be41e2a2e   \n",
       "1  1242583969  f660d7e2-a3bd-4456-a7be-86ec139c1016   \n",
       "2  1242584191  371f152d-1643-4b54-b32b-dd13d4c23442   \n",
       "3  1242584530  98fb7792-01fa-4ed1-a15d-20077a47210f   \n",
       "4  1242584820  d50a4b89-ff1f-4659-9fde-f76f8d5b3c89   \n",
       "\n",
       "                           release_MBID                        recording_MBID  \n",
       "0  0a2d7193-fc4b-418c-8581-08d2695f884a  0d7960f0-ee33-4868-8e9e-7c705558b6e5  \n",
       "1  6ecac165-0267-3822-b995-cda1282ea5b5  6afc8617-d545-4629-8151-9ee9d71c4742  \n",
       "2  59c844ca-4c11-452d-8330-c107892319eb  e2477990-d9b1-43b6-b8db-be03e43559c4  \n",
       "3                                   NaN  1fdcf214-b4d5-4490-8626-5afeda04b73d  \n",
       "4                                   NaN  657cf27c-8f4a-4758-aaaa-bd5686d7e103  "
      ]
     },
     "execution_count": 6,
     "metadata": {},
     "output_type": "execute_result"
    }
   ],
   "source": [
    "%%time\n",
    "df = io.load_path(paths[50])\n",
    "df.head()"
   ]
  },
  {
   "cell_type": "code",
   "execution_count": 7,
   "metadata": {},
   "outputs": [
    {
     "name": "stdout",
     "output_type": "stream",
     "text": [
      "CPU times: user 553 ms, sys: 16.3 ms, total: 569 ms\n",
      "Wall time: 581 ms\n"
     ]
    }
   ],
   "source": [
    "%%time\n",
    "# Writing to CSV using pandas\n",
    "\n",
    "def write_frame(df_input, original_path):\n",
    "    \"\"\"\n",
    "    Function to write a dataframe to a csv file\n",
    "    \"\"\"\n",
    "    # Replace MLHD_ROOT with path to new MLHD folder.\n",
    "    write_path = original_path.replace(ENV[\"MLHD_ROOT\"], ENV[\"WRITE_ROOT\"])\n",
    "    write_path = write_path.replace('txt.gz', 'csv.zst')\n",
    "    \n",
    "    # print(write_path)\n",
    "    # Make directory inside WRITE_ROOT if it doesn't exist\n",
    "    os.makedirs(os.path.dirname(write_path), exist_ok=True)\n",
    "\n",
    "    df_input.to_csv(\n",
    "        write_path,\n",
    "        index=False, \n",
    "        sep='\\t',\n",
    "        header=False, \n",
    "        compression={'method': 'zstd', 'level': 10},\n",
    "        )\n",
    "\n",
    "    return write_path\n",
    "\n",
    "start_pandas = monotonic()\n",
    "write_frame(df, original_path = paths[50]+'_pandas')\n",
    "end_pandas = monotonic()"
   ]
  },
  {
   "cell_type": "code",
   "execution_count": 8,
   "metadata": {},
   "outputs": [
    {
     "name": "stdout",
     "output_type": "stream",
     "text": [
      "CPU times: user 60.6 ms, sys: 12.4 ms, total: 73 ms\n",
      "Wall time: 71.2 ms\n"
     ]
    }
   ],
   "source": [
    "%%time\n",
    "# Writing to CSV using pyarrow._csv.write_csv\n",
    "\n",
    "write_options  = csv.WriteOptions(\n",
    "    include_header = False,\n",
    "    delimiter = '\\t',\n",
    ")\n",
    "\n",
    "def write_frame_arrow(df_input, original_path):\n",
    "    \"\"\"\n",
    "    Function to write a dataframe to a csv file using pyarrow\n",
    "    \"\"\"\n",
    "    # Replace MLHD_ROOT with path to new MLHD folder.\n",
    "    write_path = original_path.replace(ENV[\"MLHD_ROOT\"], ENV[\"WRITE_ROOT\"])\n",
    "    write_path = write_path.replace('txt.gz', 'csv.zst')\n",
    "    \n",
    "    # print(write_path)\n",
    "    # Make directory inside WRITE_ROOT if it doesn't exist\n",
    "    os.makedirs(os.path.dirname(write_path), exist_ok=True)\n",
    "    \n",
    "    df_input = Table.from_pandas(df_input)\n",
    "    # csv.write_csv(df_input, output_file = write_path, write_options = )\n",
    "    with COS(write_path, \"zstd\") as out:\n",
    "        csv.write_csv(df_input, out, write_options = write_options)\n",
    "\n",
    "    df_input\n",
    "\n",
    "start_arrow = monotonic()\n",
    "write_frame_arrow(df, original_path = paths[50]+'_arrow') \n",
    "end_arrow = monotonic() "
   ]
  },
  {
   "cell_type": "code",
   "execution_count": 9,
   "metadata": {},
   "outputs": [
    {
     "data": {
      "text/html": [
       "<div>\n",
       "<style scoped>\n",
       "    .dataframe tbody tr th:only-of-type {\n",
       "        vertical-align: middle;\n",
       "    }\n",
       "\n",
       "    .dataframe tbody tr th {\n",
       "        vertical-align: top;\n",
       "    }\n",
       "\n",
       "    .dataframe thead tr th {\n",
       "        text-align: left;\n",
       "    }\n",
       "</style>\n",
       "<table border=\"1\" class=\"dataframe\">\n",
       "  <thead>\n",
       "  </thead>\n",
       "  <tbody>\n",
       "  </tbody>\n",
       "</table>\n",
       "</div>"
      ],
      "text/plain": [
       "Empty DataFrame\n",
       "Columns: []\n",
       "Index: []"
      ]
     },
     "execution_count": 9,
     "metadata": {},
     "output_type": "execute_result"
    }
   ],
   "source": [
    "csv_pandas = pd.read_csv('warehouse/processed_outputs/8e/8e6492e2-b4aa-44b0-9573-37a9aad9b8c0.csv.zst_pandas', sep='\\t', header=None, compression='zstd')\n",
    "csv_arrow = pd.read_csv('warehouse/processed_outputs/8e/8e6492e2-b4aa-44b0-9573-37a9aad9b8c0.csv.zst_arrow', sep='\\t', header=None, compression='zstd')\n",
    "\n",
    "csv_arrow.compare(csv_pandas)"
   ]
  },
  {
   "cell_type": "code",
   "execution_count": 10,
   "metadata": {},
   "outputs": [
    {
     "name": "stdout",
     "output_type": "stream",
     "text": [
      "Time Taken by pandas.to_csv(): 0.58s\n",
      "Time Taken by arrow.: 0.07s\n",
      "Time Improvement: 87.93%\n"
     ]
    }
   ],
   "source": [
    "time_pandas = round(end_pandas - start_pandas, 2)\n",
    "time_arrow = round(end_arrow - start_arrow, 2)\n",
    "print(f'Time Taken by pandas.to_csv(): {time_pandas}s')\n",
    "print(f'Time Taken by arrow.: {time_arrow}s')\n",
    "print(f'Time Improvement: {round(((time_pandas - time_arrow)/(time_pandas))*100, 2)}%')"
   ]
  }
 ],
 "metadata": {
  "kernelspec": {
   "display_name": "Python 3.8.10 ('env': venv)",
   "language": "python",
   "name": "python3"
  },
  "language_info": {
   "codemirror_mode": {
    "name": "ipython",
    "version": 3
   },
   "file_extension": ".py",
   "mimetype": "text/x-python",
   "name": "python",
   "nbconvert_exporter": "python",
   "pygments_lexer": "ipython3",
   "version": "3.8.10"
  },
  "orig_nbformat": 4,
  "vscode": {
   "interpreter": {
    "hash": "99207027a3abb1e120e2013d5a83e642456faefc5cbc1acefa0d682e37a8f4b0"
   }
  }
 },
 "nbformat": 4,
 "nbformat_minor": 2
}
